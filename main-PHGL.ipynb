{
 "cells": [
  {
   "cell_type": "markdown",
   "metadata": {},
   "source": [
    "# DATATHON"
   ]
  },
  {
   "cell_type": "markdown",
   "metadata": {},
   "source": [
    "## Evironment"
   ]
  },
  {
   "cell_type": "code",
<<<<<<< HEAD
   "execution_count": 2,
=======
   "execution_count": 142,
>>>>>>> 4550529a8c6c9bdc88d2bce033d2dc7c74a462c3
   "metadata": {},
   "outputs": [],
   "source": [
    "\n",
    "import pandas as pd\n",
    "import numpy as np\n",
    "\n",
    "import matplotlib as mpl\n",
    "import matplotlib.pyplot as plt\n",
    "import seaborn as sns\n",
    "%matplotlib inline"
   ]
  },
  {
   "cell_type": "code",
   "execution_count": 140,
   "metadata": {},
   "outputs": [],
   "source": [
    "def description(x):\n",
    "    '''\n",
    "    Describe numerical vars\n",
    "    '''\n",
    "    null = data[x].isnull().sum()\n",
    "    print(\"Numbers of Nulls: \", null)\n",
    "    descript = data[x].describe()\n",
    "    print(\"The description of this variable is: \", descript)\n",
    "    dist = data[x].hist()\n",
    "    plt.show()\n",
    "    print(dist)\n",
    "    box = sns.boxplot(x=data[x])\n",
    "    plt.show()"
   ]
  },
  {
   "cell_type": "markdown",
   "metadata": {},
   "source": [
    "## Import DATA"
   ]
  },
  {
   "cell_type": "code",
<<<<<<< HEAD
   "execution_count": 3,
=======
   "execution_count": 106,
>>>>>>> 4550529a8c6c9bdc88d2bce033d2dc7c74a462c3
   "metadata": {},
   "outputs": [],
   "source": [
    "data = pd.read_csv('data/cookies.csv')"
   ]
  },
  {
   "cell_type": "markdown",
   "metadata": {},
   "source": [
    "## Preprocessing"
   ]
  },
  {
   "cell_type": "code",
<<<<<<< HEAD
   "execution_count": 4,
=======
   "execution_count": 107,
>>>>>>> 4550529a8c6c9bdc88d2bce033d2dc7c74a462c3
   "metadata": {},
   "outputs": [
    {
     "data": {
      "text/html": [
       "<div>\n",
       "<style scoped>\n",
       "    .dataframe tbody tr th:only-of-type {\n",
       "        vertical-align: middle;\n",
       "    }\n",
       "\n",
       "    .dataframe tbody tr th {\n",
       "        vertical-align: top;\n",
       "    }\n",
       "\n",
       "    .dataframe thead th {\n",
       "        text-align: right;\n",
       "    }\n",
       "</style>\n",
       "<table border=\"1\" class=\"dataframe\">\n",
       "  <thead>\n",
       "    <tr style=\"text-align: right;\">\n",
       "      <th></th>\n",
       "      <th>sugar to flour ratio</th>\n",
       "      <th>sugar index</th>\n",
       "      <th>bake temp</th>\n",
       "      <th>chill time</th>\n",
       "      <th>calories</th>\n",
       "      <th>density</th>\n",
       "      <th>pH</th>\n",
       "      <th>grams baking soda</th>\n",
       "      <th>bake time</th>\n",
       "      <th>quality</th>\n",
       "      <th>butter type</th>\n",
       "      <th>weight</th>\n",
       "      <th>diameter</th>\n",
       "      <th>mixins</th>\n",
       "      <th>crunch factor</th>\n",
       "      <th>aesthetic appeal</th>\n",
       "    </tr>\n",
       "  </thead>\n",
       "  <tbody>\n",
       "    <tr>\n",
       "      <th>0</th>\n",
       "      <td>0.25</td>\n",
       "      <td>9.5</td>\n",
       "      <td>300</td>\n",
       "      <td>15.0</td>\n",
       "      <td>136.0</td>\n",
       "      <td>0.99367</td>\n",
       "      <td>8.10</td>\n",
       "      <td>0.44</td>\n",
       "      <td>12.1</td>\n",
       "      <td>8</td>\n",
       "      <td>melted</td>\n",
       "      <td>15.2</td>\n",
       "      <td>7</td>\n",
       "      <td>raisins</td>\n",
       "      <td>1.30</td>\n",
       "      <td>3</td>\n",
       "    </tr>\n",
       "    <tr>\n",
       "      <th>1</th>\n",
       "      <td>0.23</td>\n",
       "      <td>3.3</td>\n",
       "      <td>520</td>\n",
       "      <td>34.0</td>\n",
       "      <td>113.0</td>\n",
       "      <td>0.99429</td>\n",
       "      <td>8.16</td>\n",
       "      <td>0.48</td>\n",
       "      <td>8.4</td>\n",
       "      <td>7</td>\n",
       "      <td>melted</td>\n",
       "      <td>12.4</td>\n",
       "      <td>7</td>\n",
       "      <td>raisins</td>\n",
       "      <td>1.71</td>\n",
       "      <td>3</td>\n",
       "    </tr>\n",
       "    <tr>\n",
       "      <th>2</th>\n",
       "      <td>0.18</td>\n",
       "      <td>1.9</td>\n",
       "      <td>360</td>\n",
       "      <td>33.0</td>\n",
       "      <td>106.0</td>\n",
       "      <td>0.98746</td>\n",
       "      <td>8.21</td>\n",
       "      <td>0.83</td>\n",
       "      <td>14.0</td>\n",
       "      <td>9</td>\n",
       "      <td>melted</td>\n",
       "      <td>9.4</td>\n",
       "      <td>7</td>\n",
       "      <td>nuts, chocolate</td>\n",
       "      <td>1.78</td>\n",
       "      <td>3</td>\n",
       "    </tr>\n",
       "    <tr>\n",
       "      <th>3</th>\n",
       "      <td>0.18</td>\n",
       "      <td>10.5</td>\n",
       "      <td>490</td>\n",
       "      <td>41.0</td>\n",
       "      <td>124.0</td>\n",
       "      <td>0.99630</td>\n",
       "      <td>8.14</td>\n",
       "      <td>0.35</td>\n",
       "      <td>10.5</td>\n",
       "      <td>7</td>\n",
       "      <td>melted</td>\n",
       "      <td>12.2</td>\n",
       "      <td>7</td>\n",
       "      <td>chocolate</td>\n",
       "      <td>1.59</td>\n",
       "      <td>3</td>\n",
       "    </tr>\n",
       "    <tr>\n",
       "      <th>4</th>\n",
       "      <td>0.24</td>\n",
       "      <td>2.4</td>\n",
       "      <td>770</td>\n",
       "      <td>6.0</td>\n",
       "      <td>33.0</td>\n",
       "      <td>0.99740</td>\n",
       "      <td>8.09</td>\n",
       "      <td>0.57</td>\n",
       "      <td>9.4</td>\n",
       "      <td>5</td>\n",
       "      <td>cubed</td>\n",
       "      <td>19.8</td>\n",
       "      <td>7</td>\n",
       "      <td>nuts, oats, chocolate</td>\n",
       "      <td>1.30</td>\n",
       "      <td>3</td>\n",
       "    </tr>\n",
       "  </tbody>\n",
       "</table>\n",
       "</div>"
      ],
      "text/plain": [
       "   sugar to flour ratio  sugar index  bake temp  chill time  calories  \\\n",
       "0                  0.25          9.5        300        15.0     136.0   \n",
       "1                  0.23          3.3        520        34.0     113.0   \n",
       "2                  0.18          1.9        360        33.0     106.0   \n",
       "3                  0.18         10.5        490        41.0     124.0   \n",
       "4                  0.24          2.4        770         6.0      33.0   \n",
       "\n",
       "   density    pH  grams baking soda  bake time  quality butter type  weight  \\\n",
       "0  0.99367  8.10               0.44       12.1        8      melted    15.2   \n",
       "1  0.99429  8.16               0.48        8.4        7      melted    12.4   \n",
       "2  0.98746  8.21               0.83       14.0        9      melted     9.4   \n",
       "3  0.99630  8.14               0.35       10.5        7      melted    12.2   \n",
       "4  0.99740  8.09               0.57        9.4        5       cubed    19.8   \n",
       "\n",
       "   diameter                 mixins  crunch factor  aesthetic appeal  \n",
       "0         7                raisins           1.30                 3  \n",
       "1         7                raisins           1.71                 3  \n",
       "2         7        nuts, chocolate           1.78                 3  \n",
       "3         7              chocolate           1.59                 3  \n",
       "4         7  nuts, oats, chocolate           1.30                 3  "
      ]
     },
<<<<<<< HEAD
     "execution_count": 4,
=======
     "execution_count": 107,
>>>>>>> 4550529a8c6c9bdc88d2bce033d2dc7c74a462c3
     "metadata": {},
     "output_type": "execute_result"
    }
   ],
   "source": [
    "data.head()"
   ]
  },
  {
   "cell_type": "code",
<<<<<<< HEAD
   "execution_count": 5,
   "metadata": {},
   "outputs": [
    {
     "data": {
      "text/html": [
       "<div>\n",
       "<style scoped>\n",
       "    .dataframe tbody tr th:only-of-type {\n",
       "        vertical-align: middle;\n",
       "    }\n",
       "\n",
       "    .dataframe tbody tr th {\n",
       "        vertical-align: top;\n",
       "    }\n",
       "\n",
       "    .dataframe thead th {\n",
       "        text-align: right;\n",
       "    }\n",
       "</style>\n",
       "<table border=\"1\" class=\"dataframe\">\n",
       "  <thead>\n",
       "    <tr style=\"text-align: right;\">\n",
       "      <th></th>\n",
       "      <th>sugar to flour ratio</th>\n",
       "      <th>sugar index</th>\n",
       "      <th>bake temp</th>\n",
       "      <th>chill time</th>\n",
       "      <th>calories</th>\n",
       "      <th>density</th>\n",
       "      <th>pH</th>\n",
       "      <th>grams baking soda</th>\n",
       "      <th>bake time</th>\n",
       "      <th>quality</th>\n",
       "      <th>weight</th>\n",
       "      <th>diameter</th>\n",
       "      <th>crunch factor</th>\n",
       "      <th>aesthetic appeal</th>\n",
       "    </tr>\n",
       "  </thead>\n",
       "  <tbody>\n",
       "    <tr>\n",
       "      <th>count</th>\n",
       "      <td>5198.000000</td>\n",
       "      <td>5193.000000</td>\n",
       "      <td>5198.000000</td>\n",
       "      <td>5198.000000</td>\n",
       "      <td>5198.000000</td>\n",
       "      <td>5198.000000</td>\n",
       "      <td>5198.000000</td>\n",
       "      <td>5198.000000</td>\n",
       "      <td>5188.000000</td>\n",
       "      <td>5198.000000</td>\n",
       "      <td>5198.000000</td>\n",
       "      <td>5198.0</td>\n",
       "      <td>5198.000000</td>\n",
       "      <td>5198.000000</td>\n",
       "    </tr>\n",
       "    <tr>\n",
       "      <th>mean</th>\n",
       "      <td>0.318049</td>\n",
       "      <td>5.402465</td>\n",
       "      <td>559.638322</td>\n",
       "      <td>30.390246</td>\n",
       "      <td>115.015294</td>\n",
       "      <td>0.995819</td>\n",
       "      <td>8.222020</td>\n",
       "      <td>0.530864</td>\n",
       "      <td>10.494758</td>\n",
       "      <td>7.325125</td>\n",
       "      <td>14.381935</td>\n",
       "      <td>7.0</td>\n",
       "      <td>1.499367</td>\n",
       "      <td>3.000577</td>\n",
       "    </tr>\n",
       "    <tr>\n",
       "      <th>std</th>\n",
       "      <td>0.150036</td>\n",
       "      <td>4.668342</td>\n",
       "      <td>353.274062</td>\n",
       "      <td>17.268403</td>\n",
       "      <td>56.506171</td>\n",
       "      <td>0.062193</td>\n",
       "      <td>0.283323</td>\n",
       "      <td>0.150886</td>\n",
       "      <td>1.194584</td>\n",
       "      <td>1.302780</td>\n",
       "      <td>3.023740</td>\n",
       "      <td>0.0</td>\n",
       "      <td>0.289205</td>\n",
       "      <td>0.024019</td>\n",
       "    </tr>\n",
       "    <tr>\n",
       "      <th>min</th>\n",
       "      <td>0.000000</td>\n",
       "      <td>0.600000</td>\n",
       "      <td>90.000000</td>\n",
       "      <td>0.000000</td>\n",
       "      <td>-99.000000</td>\n",
       "      <td>0.987110</td>\n",
       "      <td>7.720000</td>\n",
       "      <td>0.220000</td>\n",
       "      <td>8.000000</td>\n",
       "      <td>3.000000</td>\n",
       "      <td>-99.000000</td>\n",
       "      <td>7.0</td>\n",
       "      <td>1.000000</td>\n",
       "      <td>3.000000</td>\n",
       "    </tr>\n",
       "    <tr>\n",
       "      <th>25%</th>\n",
       "      <td>0.240000</td>\n",
       "      <td>1.800000</td>\n",
       "      <td>380.000000</td>\n",
       "      <td>17.000000</td>\n",
       "      <td>76.000000</td>\n",
       "      <td>0.992300</td>\n",
       "      <td>8.110000</td>\n",
       "      <td>0.430000</td>\n",
       "      <td>9.500000</td>\n",
       "      <td>7.000000</td>\n",
       "      <td>12.800000</td>\n",
       "      <td>7.0</td>\n",
       "      <td>1.250000</td>\n",
       "      <td>3.000000</td>\n",
       "    </tr>\n",
       "    <tr>\n",
       "      <th>50%</th>\n",
       "      <td>0.310000</td>\n",
       "      <td>3.000000</td>\n",
       "      <td>470.000000</td>\n",
       "      <td>29.000000</td>\n",
       "      <td>118.000000</td>\n",
       "      <td>0.994800</td>\n",
       "      <td>8.210000</td>\n",
       "      <td>0.505000</td>\n",
       "      <td>10.300000</td>\n",
       "      <td>8.000000</td>\n",
       "      <td>14.000000</td>\n",
       "      <td>7.0</td>\n",
       "      <td>1.500000</td>\n",
       "      <td>3.000000</td>\n",
       "    </tr>\n",
       "    <tr>\n",
       "      <th>75%</th>\n",
       "      <td>0.390000</td>\n",
       "      <td>8.000000</td>\n",
       "      <td>640.000000</td>\n",
       "      <td>41.000000</td>\n",
       "      <td>155.000000</td>\n",
       "      <td>0.996908</td>\n",
       "      <td>8.320000</td>\n",
       "      <td>0.600000</td>\n",
       "      <td>11.300000</td>\n",
       "      <td>8.000000</td>\n",
       "      <td>15.400000</td>\n",
       "      <td>7.0</td>\n",
       "      <td>1.750000</td>\n",
       "      <td>3.000000</td>\n",
       "    </tr>\n",
       "    <tr>\n",
       "      <th>max</th>\n",
       "      <td>3.000000</td>\n",
       "      <td>31.600000</td>\n",
       "      <td>6110.000000</td>\n",
       "      <td>146.500000</td>\n",
       "      <td>366.500000</td>\n",
       "      <td>5.000000</td>\n",
       "      <td>25.000000</td>\n",
       "      <td>2.000000</td>\n",
       "      <td>14.900000</td>\n",
       "      <td>11.000000</td>\n",
       "      <td>31.800000</td>\n",
       "      <td>7.0</td>\n",
       "      <td>2.000000</td>\n",
       "      <td>4.000000</td>\n",
       "    </tr>\n",
       "  </tbody>\n",
       "</table>\n",
       "</div>"
      ],
      "text/plain": [
       "       sugar to flour ratio  sugar index    bake temp   chill time  \\\n",
       "count           5198.000000  5193.000000  5198.000000  5198.000000   \n",
       "mean               0.318049     5.402465   559.638322    30.390246   \n",
       "std                0.150036     4.668342   353.274062    17.268403   \n",
       "min                0.000000     0.600000    90.000000     0.000000   \n",
       "25%                0.240000     1.800000   380.000000    17.000000   \n",
       "50%                0.310000     3.000000   470.000000    29.000000   \n",
       "75%                0.390000     8.000000   640.000000    41.000000   \n",
       "max                3.000000    31.600000  6110.000000   146.500000   \n",
       "\n",
       "          calories      density           pH  grams baking soda    bake time  \\\n",
       "count  5198.000000  5198.000000  5198.000000        5198.000000  5188.000000   \n",
       "mean    115.015294     0.995819     8.222020           0.530864    10.494758   \n",
       "std      56.506171     0.062193     0.283323           0.150886     1.194584   \n",
       "min     -99.000000     0.987110     7.720000           0.220000     8.000000   \n",
       "25%      76.000000     0.992300     8.110000           0.430000     9.500000   \n",
       "50%     118.000000     0.994800     8.210000           0.505000    10.300000   \n",
       "75%     155.000000     0.996908     8.320000           0.600000    11.300000   \n",
       "max     366.500000     5.000000    25.000000           2.000000    14.900000   \n",
       "\n",
       "           quality       weight  diameter  crunch factor  aesthetic appeal  \n",
       "count  5198.000000  5198.000000    5198.0    5198.000000       5198.000000  \n",
       "mean      7.325125    14.381935       7.0       1.499367          3.000577  \n",
       "std       1.302780     3.023740       0.0       0.289205          0.024019  \n",
       "min       3.000000   -99.000000       7.0       1.000000          3.000000  \n",
       "25%       7.000000    12.800000       7.0       1.250000          3.000000  \n",
       "50%       8.000000    14.000000       7.0       1.500000          3.000000  \n",
       "75%       8.000000    15.400000       7.0       1.750000          3.000000  \n",
       "max      11.000000    31.800000       7.0       2.000000          4.000000  "
      ]
     },
     "execution_count": 5,
     "metadata": {},
     "output_type": "execute_result"
    }
   ],
   "source": [
    "data.describe()"
   ]
  },
  {
   "cell_type": "code",
   "execution_count": 7,
   "metadata": {},
   "outputs": [
    {
     "name": "stdout",
     "output_type": "stream",
     "text": [
      "<class 'pandas.core.frame.DataFrame'>\n",
      "RangeIndex: 5198 entries, 0 to 5197\n",
      "Data columns (total 16 columns):\n",
      "sugar to flour ratio    5198 non-null float64\n",
      "sugar index             5193 non-null float64\n",
      "bake temp               5198 non-null int64\n",
      "chill time              5198 non-null float64\n",
      "calories                5198 non-null float64\n",
      "density                 5198 non-null float64\n",
      "pH                      5198 non-null float64\n",
      "grams baking soda       5198 non-null float64\n",
      "bake time               5188 non-null float64\n",
      "quality                 5198 non-null int64\n",
      "butter type             5198 non-null object\n",
      "weight                  5198 non-null float64\n",
      "diameter                5198 non-null int64\n",
      "mixins                  5196 non-null object\n",
      "crunch factor           5198 non-null float64\n",
      "aesthetic appeal        5198 non-null int64\n",
      "dtypes: float64(10), int64(4), object(2)\n",
      "memory usage: 609.2+ KB\n"
     ]
    }
   ],
   "source": [
    "data.info()"
   ]
  },
  {
   "cell_type": "code",
   "execution_count": null,
=======
   "execution_count": 109,
>>>>>>> 4550529a8c6c9bdc88d2bce033d2dc7c74a462c3
   "metadata": {},
   "outputs": [
    {
     "data": {
      "text/plain": [
       "(5198, 16)"
      ]
     },
     "execution_count": 109,
     "metadata": {},
     "output_type": "execute_result"
    }
   ],
   "source": [
    "data.shape"
   ]
  },
  {
   "cell_type": "code",
   "execution_count": 137,
   "metadata": {},
   "outputs": [
    {
     "data": {
      "text/plain": [
       "sugar to flour ratio    float64\n",
       "sugar index             float64\n",
       "bake temp                 int64\n",
       "chill time              float64\n",
       "calories                float64\n",
       "density                 float64\n",
       "pH                      float64\n",
       "grams baking soda       float64\n",
       "bake time               float64\n",
       "quality                   int64\n",
       "butter type              object\n",
       "weight                  float64\n",
       "diameter                  int64\n",
       "mixins                   object\n",
       "crunch factor           float64\n",
       "aesthetic appeal          int64\n",
       "dtype: object"
      ]
     },
     "execution_count": 137,
     "metadata": {},
     "output_type": "execute_result"
    }
   ],
   "source": [
    "data.dtypes"
   ]
  },
  {
   "cell_type": "code",
   "execution_count": 110,
   "metadata": {},
   "outputs": [
    {
     "name": "stdout",
     "output_type": "stream",
     "text": [
      "<class 'pandas.core.frame.DataFrame'>\n",
      "RangeIndex: 5198 entries, 0 to 5197\n",
      "Data columns (total 16 columns):\n",
      "sugar to flour ratio    5198 non-null float64\n",
      "sugar index             5193 non-null float64\n",
      "bake temp               5198 non-null int64\n",
      "chill time              5198 non-null float64\n",
      "calories                5198 non-null float64\n",
      "density                 5198 non-null float64\n",
      "pH                      5198 non-null float64\n",
      "grams baking soda       5198 non-null float64\n",
      "bake time               5188 non-null float64\n",
      "quality                 5198 non-null int64\n",
      "butter type             5198 non-null object\n",
      "weight                  5198 non-null float64\n",
      "diameter                5198 non-null int64\n",
      "mixins                  5196 non-null object\n",
      "crunch factor           5198 non-null float64\n",
      "aesthetic appeal        5198 non-null int64\n",
      "dtypes: float64(10), int64(4), object(2)\n",
      "memory usage: 649.8+ KB\n"
     ]
    }
   ],
   "source": [
    "data.info()"
   ]
  },
  {
   "cell_type": "code",
   "execution_count": 112,
   "metadata": {},
   "outputs": [
    {
     "data": {
      "text/plain": [
       "sugar to flour ratio     0\n",
       "sugar index              5\n",
       "bake temp                0\n",
       "chill time               0\n",
       "calories                 0\n",
       "density                  0\n",
       "pH                       0\n",
       "grams baking soda        0\n",
       "bake time               10\n",
       "quality                  0\n",
       "butter type              0\n",
       "weight                   0\n",
       "diameter                 0\n",
       "mixins                   2\n",
       "crunch factor            0\n",
       "aesthetic appeal         0\n",
       "dtype: int64"
      ]
     },
     "execution_count": 112,
     "metadata": {},
     "output_type": "execute_result"
    }
   ],
   "source": [
    "data.isnull().sum()"
   ]
  },
  {
   "cell_type": "markdown",
   "metadata": {},
   "source": [
    "We have a little amount of Nans that we will decide later on wath to do with them"
   ]
  },
  {
   "cell_type": "code",
   "execution_count": 114,
   "metadata": {
    "collapsed": true
   },
   "outputs": [
    {
     "data": {
      "text/html": [
       "<div>\n",
       "<style scoped>\n",
       "    .dataframe tbody tr th:only-of-type {\n",
       "        vertical-align: middle;\n",
       "    }\n",
       "\n",
       "    .dataframe tbody tr th {\n",
       "        vertical-align: top;\n",
       "    }\n",
       "\n",
       "    .dataframe thead th {\n",
       "        text-align: right;\n",
       "    }\n",
       "</style>\n",
       "<table border=\"1\" class=\"dataframe\">\n",
       "  <thead>\n",
       "    <tr style=\"text-align: right;\">\n",
       "      <th></th>\n",
       "      <th>count</th>\n",
       "      <th>mean</th>\n",
       "      <th>std</th>\n",
       "      <th>min</th>\n",
       "      <th>25%</th>\n",
       "      <th>50%</th>\n",
       "      <th>75%</th>\n",
       "      <th>max</th>\n",
       "    </tr>\n",
       "  </thead>\n",
       "  <tbody>\n",
       "    <tr>\n",
       "      <th>sugar to flour ratio</th>\n",
       "      <td>5198.0</td>\n",
       "      <td>0.318049</td>\n",
       "      <td>0.150036</td>\n",
       "      <td>0.00000</td>\n",
       "      <td>0.2400</td>\n",
       "      <td>0.3100</td>\n",
       "      <td>0.390000</td>\n",
       "      <td>3.0</td>\n",
       "    </tr>\n",
       "    <tr>\n",
       "      <th>sugar index</th>\n",
       "      <td>5193.0</td>\n",
       "      <td>5.402465</td>\n",
       "      <td>4.668342</td>\n",
       "      <td>0.60000</td>\n",
       "      <td>1.8000</td>\n",
       "      <td>3.0000</td>\n",
       "      <td>8.000000</td>\n",
       "      <td>31.6</td>\n",
       "    </tr>\n",
       "    <tr>\n",
       "      <th>bake temp</th>\n",
       "      <td>5198.0</td>\n",
       "      <td>559.638322</td>\n",
       "      <td>353.274062</td>\n",
       "      <td>90.00000</td>\n",
       "      <td>380.0000</td>\n",
       "      <td>470.0000</td>\n",
       "      <td>640.000000</td>\n",
       "      <td>6110.0</td>\n",
       "    </tr>\n",
       "    <tr>\n",
       "      <th>chill time</th>\n",
       "      <td>5198.0</td>\n",
       "      <td>30.390246</td>\n",
       "      <td>17.268403</td>\n",
       "      <td>0.00000</td>\n",
       "      <td>17.0000</td>\n",
       "      <td>29.0000</td>\n",
       "      <td>41.000000</td>\n",
       "      <td>146.5</td>\n",
       "    </tr>\n",
       "    <tr>\n",
       "      <th>calories</th>\n",
       "      <td>5198.0</td>\n",
       "      <td>115.015294</td>\n",
       "      <td>56.506171</td>\n",
       "      <td>-99.00000</td>\n",
       "      <td>76.0000</td>\n",
       "      <td>118.0000</td>\n",
       "      <td>155.000000</td>\n",
       "      <td>366.5</td>\n",
       "    </tr>\n",
       "    <tr>\n",
       "      <th>density</th>\n",
       "      <td>5198.0</td>\n",
       "      <td>0.995819</td>\n",
       "      <td>0.062193</td>\n",
       "      <td>0.98711</td>\n",
       "      <td>0.9923</td>\n",
       "      <td>0.9948</td>\n",
       "      <td>0.996908</td>\n",
       "      <td>5.0</td>\n",
       "    </tr>\n",
       "    <tr>\n",
       "      <th>pH</th>\n",
       "      <td>5198.0</td>\n",
       "      <td>8.222020</td>\n",
       "      <td>0.283323</td>\n",
       "      <td>7.72000</td>\n",
       "      <td>8.1100</td>\n",
       "      <td>8.2100</td>\n",
       "      <td>8.320000</td>\n",
       "      <td>25.0</td>\n",
       "    </tr>\n",
       "    <tr>\n",
       "      <th>grams baking soda</th>\n",
       "      <td>5198.0</td>\n",
       "      <td>0.530864</td>\n",
       "      <td>0.150886</td>\n",
       "      <td>0.22000</td>\n",
       "      <td>0.4300</td>\n",
       "      <td>0.5050</td>\n",
       "      <td>0.600000</td>\n",
       "      <td>2.0</td>\n",
       "    </tr>\n",
       "    <tr>\n",
       "      <th>bake time</th>\n",
       "      <td>5188.0</td>\n",
       "      <td>10.494758</td>\n",
       "      <td>1.194584</td>\n",
       "      <td>8.00000</td>\n",
       "      <td>9.5000</td>\n",
       "      <td>10.3000</td>\n",
       "      <td>11.300000</td>\n",
       "      <td>14.9</td>\n",
       "    </tr>\n",
       "    <tr>\n",
       "      <th>quality</th>\n",
       "      <td>5198.0</td>\n",
       "      <td>7.325125</td>\n",
       "      <td>1.302780</td>\n",
       "      <td>3.00000</td>\n",
       "      <td>7.0000</td>\n",
       "      <td>8.0000</td>\n",
       "      <td>8.000000</td>\n",
       "      <td>11.0</td>\n",
       "    </tr>\n",
       "    <tr>\n",
       "      <th>weight</th>\n",
       "      <td>5198.0</td>\n",
       "      <td>14.381935</td>\n",
       "      <td>3.023740</td>\n",
       "      <td>-99.00000</td>\n",
       "      <td>12.8000</td>\n",
       "      <td>14.0000</td>\n",
       "      <td>15.400000</td>\n",
       "      <td>31.8</td>\n",
       "    </tr>\n",
       "    <tr>\n",
       "      <th>diameter</th>\n",
       "      <td>5198.0</td>\n",
       "      <td>7.000000</td>\n",
       "      <td>0.000000</td>\n",
       "      <td>7.00000</td>\n",
       "      <td>7.0000</td>\n",
       "      <td>7.0000</td>\n",
       "      <td>7.000000</td>\n",
       "      <td>7.0</td>\n",
       "    </tr>\n",
       "    <tr>\n",
       "      <th>crunch factor</th>\n",
       "      <td>5198.0</td>\n",
       "      <td>1.499367</td>\n",
       "      <td>0.289205</td>\n",
       "      <td>1.00000</td>\n",
       "      <td>1.2500</td>\n",
       "      <td>1.5000</td>\n",
       "      <td>1.750000</td>\n",
       "      <td>2.0</td>\n",
       "    </tr>\n",
       "    <tr>\n",
       "      <th>aesthetic appeal</th>\n",
       "      <td>5198.0</td>\n",
       "      <td>3.000577</td>\n",
       "      <td>0.024019</td>\n",
       "      <td>3.00000</td>\n",
       "      <td>3.0000</td>\n",
       "      <td>3.0000</td>\n",
       "      <td>3.000000</td>\n",
       "      <td>4.0</td>\n",
       "    </tr>\n",
       "  </tbody>\n",
       "</table>\n",
       "</div>"
      ],
      "text/plain": [
       "                       count        mean         std       min       25%  \\\n",
       "sugar to flour ratio  5198.0    0.318049    0.150036   0.00000    0.2400   \n",
       "sugar index           5193.0    5.402465    4.668342   0.60000    1.8000   \n",
       "bake temp             5198.0  559.638322  353.274062  90.00000  380.0000   \n",
       "chill time            5198.0   30.390246   17.268403   0.00000   17.0000   \n",
       "calories              5198.0  115.015294   56.506171 -99.00000   76.0000   \n",
       "density               5198.0    0.995819    0.062193   0.98711    0.9923   \n",
       "pH                    5198.0    8.222020    0.283323   7.72000    8.1100   \n",
       "grams baking soda     5198.0    0.530864    0.150886   0.22000    0.4300   \n",
       "bake time             5188.0   10.494758    1.194584   8.00000    9.5000   \n",
       "quality               5198.0    7.325125    1.302780   3.00000    7.0000   \n",
       "weight                5198.0   14.381935    3.023740 -99.00000   12.8000   \n",
       "diameter              5198.0    7.000000    0.000000   7.00000    7.0000   \n",
       "crunch factor         5198.0    1.499367    0.289205   1.00000    1.2500   \n",
       "aesthetic appeal      5198.0    3.000577    0.024019   3.00000    3.0000   \n",
       "\n",
       "                           50%         75%     max  \n",
       "sugar to flour ratio    0.3100    0.390000     3.0  \n",
       "sugar index             3.0000    8.000000    31.6  \n",
       "bake temp             470.0000  640.000000  6110.0  \n",
       "chill time             29.0000   41.000000   146.5  \n",
       "calories              118.0000  155.000000   366.5  \n",
       "density                 0.9948    0.996908     5.0  \n",
       "pH                      8.2100    8.320000    25.0  \n",
       "grams baking soda       0.5050    0.600000     2.0  \n",
       "bake time              10.3000   11.300000    14.9  \n",
       "quality                 8.0000    8.000000    11.0  \n",
       "weight                 14.0000   15.400000    31.8  \n",
       "diameter                7.0000    7.000000     7.0  \n",
       "crunch factor           1.5000    1.750000     2.0  \n",
       "aesthetic appeal        3.0000    3.000000     4.0  "
      ]
     },
     "execution_count": 114,
     "metadata": {},
     "output_type": "execute_result"
    }
   ],
   "source": [
    "data.describe().T"
   ]
  },
  {
   "cell_type": "markdown",
   "metadata": {},
   "source": [
    "## EDA"
   ]
  },
  {
   "cell_type": "markdown",
   "metadata": {},
   "source": [
    "### Numerical Ordinal"
   ]
  },
  {
   "cell_type": "markdown",
   "metadata": {},
   "source": [
    "#### TARGET"
   ]
  },
  {
   "cell_type": "markdown",
   "metadata": {},
   "source": [
    "The target variable is QUALITY, a Numeric Ordinal var."
   ]
  },
  {
   "cell_type": "code",
   "execution_count": 116,
   "metadata": {},
   "outputs": [
    {
     "data": {
      "text/plain": [
       "0"
      ]
     },
     "execution_count": 116,
     "metadata": {},
     "output_type": "execute_result"
    }
   ],
   "source": [
    "data.quality.isnull().sum()"
   ]
  },
  {
   "cell_type": "markdown",
   "metadata": {},
   "source": [
    "There is no nulls"
   ]
  },
  {
   "cell_type": "code",
   "execution_count": 117,
   "metadata": {},
   "outputs": [
    {
     "data": {
      "text/plain": [
       "count    5198.000000\n",
       "mean        7.325125\n",
       "std         1.302780\n",
       "min         3.000000\n",
       "25%         7.000000\n",
       "50%         8.000000\n",
       "75%         8.000000\n",
       "max        11.000000\n",
       "Name: quality, dtype: float64"
      ]
     },
     "execution_count": 117,
     "metadata": {},
     "output_type": "execute_result"
    }
   ],
   "source": [
    "data.quality.describe()"
   ]
  },
  {
   "cell_type": "code",
   "execution_count": 118,
   "metadata": {},
   "outputs": [
    {
     "data": {
      "text/plain": [
       "8     1780\n",
       "7     1323\n",
       "9      707\n",
       "6      617\n",
       "5      577\n",
       "10     137\n",
       "4       44\n",
       "3        8\n",
       "11       5\n",
       "Name: quality, dtype: int64"
      ]
     },
     "execution_count": 118,
     "metadata": {},
     "output_type": "execute_result"
    }
   ],
   "source": [
    "data.quality.value_counts().sort_values(ascending=False)"
   ]
  },
  {
   "cell_type": "markdown",
   "metadata": {},
   "source": [
    "The target is unbalanced"
   ]
  },
  {
   "cell_type": "code",
   "execution_count": 119,
   "metadata": {},
   "outputs": [
    {
     "data": {
      "text/html": [
       "<div>\n",
       "<style scoped>\n",
       "    .dataframe tbody tr th:only-of-type {\n",
       "        vertical-align: middle;\n",
       "    }\n",
       "\n",
       "    .dataframe tbody tr th {\n",
       "        vertical-align: top;\n",
       "    }\n",
       "\n",
       "    .dataframe thead th {\n",
       "        text-align: right;\n",
       "    }\n",
       "</style>\n",
       "<table border=\"1\" class=\"dataframe\">\n",
       "  <thead>\n",
       "    <tr style=\"text-align: right;\">\n",
       "      <th></th>\n",
       "      <th>quality</th>\n",
       "      <th>count</th>\n",
       "    </tr>\n",
       "  </thead>\n",
       "  <tbody>\n",
       "    <tr>\n",
       "      <th>0</th>\n",
       "      <td>8</td>\n",
       "      <td>1780</td>\n",
       "    </tr>\n",
       "    <tr>\n",
       "      <th>1</th>\n",
       "      <td>7</td>\n",
       "      <td>1323</td>\n",
       "    </tr>\n",
       "    <tr>\n",
       "      <th>2</th>\n",
       "      <td>9</td>\n",
       "      <td>707</td>\n",
       "    </tr>\n",
       "    <tr>\n",
       "      <th>3</th>\n",
       "      <td>6</td>\n",
       "      <td>617</td>\n",
       "    </tr>\n",
       "    <tr>\n",
       "      <th>4</th>\n",
       "      <td>5</td>\n",
       "      <td>577</td>\n",
       "    </tr>\n",
       "  </tbody>\n",
       "</table>\n",
       "</div>"
      ],
      "text/plain": [
       "   quality  count\n",
       "0        8   1780\n",
       "1        7   1323\n",
       "2        9    707\n",
       "3        6    617\n",
       "4        5    577"
      ]
     },
     "execution_count": 119,
     "metadata": {},
     "output_type": "execute_result"
    }
   ],
   "source": [
    "target = data.quality.value_counts().reset_index()\n",
    "\n",
    "target.columns = ['quality', 'count']\n",
    "\n",
    "target.head()"
   ]
  },
  {
   "cell_type": "code",
   "execution_count": 120,
   "metadata": {},
   "outputs": [
    {
     "data": {
      "image/png": "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\n",
      "text/plain": [
       "<Figure size 432x288 with 1 Axes>"
      ]
     },
     "metadata": {
      "needs_background": "light"
     },
     "output_type": "display_data"
    }
   ],
   "source": [
    "plt.bar(target['quality'], target['count'])\n",
    "plt.xlabel(r\"Quality\")\n",
    "plt.ylabel(r\"Number\")\n",
    "plt.title(r\"Bar chart TARGET quality\")\n",
    "plt.show()"
   ]
  },
  {
   "cell_type": "markdown",
   "metadata": {},
   "source": [
    "#### Aestetic appeal"
   ]
  },
  {
   "cell_type": "markdown",
   "metadata": {},
   "source": [
    "Aesthetic appeal is a numeric ordinal variable\n"
   ]
  },
  {
   "cell_type": "code",
   "execution_count": 121,
   "metadata": {},
   "outputs": [
    {
     "data": {
      "text/plain": [
       "0"
      ]
     },
     "execution_count": 121,
     "metadata": {},
     "output_type": "execute_result"
    }
   ],
   "source": [
    "data['aesthetic appeal'].isnull().sum()"
   ]
  },
  {
   "cell_type": "markdown",
   "metadata": {},
   "source": [
    "There is no nulls"
   ]
  },
  {
   "cell_type": "code",
   "execution_count": 122,
   "metadata": {},
   "outputs": [
    {
     "data": {
      "text/plain": [
       "count    5198.000000\n",
       "mean        3.000577\n",
       "std         0.024019\n",
       "min         3.000000\n",
       "25%         3.000000\n",
       "50%         3.000000\n",
       "75%         3.000000\n",
       "max         4.000000\n",
       "Name: aesthetic appeal, dtype: float64"
      ]
     },
     "execution_count": 122,
     "metadata": {},
     "output_type": "execute_result"
    }
   ],
   "source": [
    "data['aesthetic appeal'].describe()"
   ]
  },
  {
   "cell_type": "code",
   "execution_count": 123,
   "metadata": {},
   "outputs": [
    {
     "data": {
      "text/plain": [
       "3    5195\n",
       "4       3\n",
       "Name: aesthetic appeal, dtype: int64"
      ]
     },
     "execution_count": 123,
     "metadata": {},
     "output_type": "execute_result"
    }
   ],
   "source": [
    "data['aesthetic appeal'].value_counts().sort_values(ascending=False)\n"
   ]
  },
  {
   "cell_type": "markdown",
   "metadata": {},
   "source": [
    "The aestetic appeal is only 3 or 4. And 4 is very unsignificat. We will check if the 4 is related to any of the target labels.\n"
   ]
  },
  {
   "cell_type": "code",
   "execution_count": 124,
   "metadata": {},
   "outputs": [
    {
     "data": {
      "text/html": [
       "<div>\n",
       "<style scoped>\n",
       "    .dataframe tbody tr th:only-of-type {\n",
       "        vertical-align: middle;\n",
       "    }\n",
       "\n",
       "    .dataframe tbody tr th {\n",
       "        vertical-align: top;\n",
       "    }\n",
       "\n",
       "    .dataframe thead th {\n",
       "        text-align: right;\n",
       "    }\n",
       "</style>\n",
       "<table border=\"1\" class=\"dataframe\">\n",
       "  <thead>\n",
       "    <tr style=\"text-align: right;\">\n",
       "      <th></th>\n",
       "      <th>aestetic</th>\n",
       "      <th>count</th>\n",
       "    </tr>\n",
       "  </thead>\n",
       "  <tbody>\n",
       "    <tr>\n",
       "      <th>0</th>\n",
       "      <td>3</td>\n",
       "      <td>5195</td>\n",
       "    </tr>\n",
       "    <tr>\n",
       "      <th>1</th>\n",
       "      <td>4</td>\n",
       "      <td>3</td>\n",
       "    </tr>\n",
       "  </tbody>\n",
       "</table>\n",
       "</div>"
      ],
      "text/plain": [
       "   aestetic  count\n",
       "0         3   5195\n",
       "1         4      3"
      ]
     },
     "execution_count": 124,
     "metadata": {},
     "output_type": "execute_result"
    }
   ],
   "source": [
    "aestetic = data['aesthetic appeal'].value_counts().reset_index()\n",
    "\n",
    "aestetic.columns = ['aestetic', 'count']\n",
    "\n",
    "aestetic.head()"
   ]
  },
  {
   "cell_type": "code",
   "execution_count": 125,
   "metadata": {},
   "outputs": [
    {
     "data": {
      "image/png": "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\n",
      "text/plain": [
       "<Figure size 432x288 with 1 Axes>"
      ]
     },
     "metadata": {
      "needs_background": "light"
     },
     "output_type": "display_data"
    }
   ],
   "source": [
    "plt.bar(aestetic['aestetic'], aestetic['count'])\n",
    "plt.xlabel(r\"Aestetic\")\n",
    "plt.ylabel(r\"Number\")\n",
    "plt.title(r\"Bar chart Aestetic\")\n",
    "plt.show()"
   ]
  },
  {
   "cell_type": "code",
   "execution_count": 126,
   "metadata": {},
   "outputs": [
    {
     "data": {
      "text/plain": [
       "aesthetic appeal  quality\n",
       "3                 3             8\n",
       "                  4            44\n",
       "                  5           577\n",
       "                  6           616\n",
       "                  7          1322\n",
       "                  8          1780\n",
       "                  9           706\n",
       "                  10          137\n",
       "                  11            5\n",
       "4                 6             1\n",
       "                  7             1\n",
       "                  9             1\n",
       "Name: diameter, dtype: int64"
      ]
     },
     "execution_count": 126,
     "metadata": {},
     "output_type": "execute_result"
    }
   ],
   "source": [
    "data.groupby(['aesthetic appeal','quality'])['diameter'].count()\n"
   ]
  },
  {
   "cell_type": "markdown",
   "metadata": {},
   "source": [
    "### Categorical"
   ]
  },
  {
   "cell_type": "markdown",
   "metadata": {},
   "source": [
    "#### Butter type"
   ]
  },
  {
   "cell_type": "code",
   "execution_count": 128,
   "metadata": {},
   "outputs": [],
   "source": [
    "data['butter type'].describe(include=['O'])\n",
    "\n",
    "butter = data['butter type'].value_counts().reset_index()\n",
    "\n",
    "butter.columns = ['butter', 'count']"
   ]
  },
  {
   "cell_type": "code",
   "execution_count": 129,
   "metadata": {},
   "outputs": [
    {
     "data": {
      "text/html": [
       "<div>\n",
       "<style scoped>\n",
       "    .dataframe tbody tr th:only-of-type {\n",
       "        vertical-align: middle;\n",
       "    }\n",
       "\n",
       "    .dataframe tbody tr th {\n",
       "        vertical-align: top;\n",
       "    }\n",
       "\n",
       "    .dataframe thead th {\n",
       "        text-align: right;\n",
       "    }\n",
       "</style>\n",
       "<table border=\"1\" class=\"dataframe\">\n",
       "  <thead>\n",
       "    <tr style=\"text-align: right;\">\n",
       "      <th></th>\n",
       "      <th>butter</th>\n",
       "      <th>count</th>\n",
       "    </tr>\n",
       "  </thead>\n",
       "  <tbody>\n",
       "    <tr>\n",
       "      <th>0</th>\n",
       "      <td>melted</td>\n",
       "      <td>3920</td>\n",
       "    </tr>\n",
       "    <tr>\n",
       "      <th>1</th>\n",
       "      <td>cubed</td>\n",
       "      <td>1278</td>\n",
       "    </tr>\n",
       "  </tbody>\n",
       "</table>\n",
       "</div>"
      ],
      "text/plain": [
       "   butter  count\n",
       "0  melted   3920\n",
       "1   cubed   1278"
      ]
     },
     "execution_count": 129,
     "metadata": {},
     "output_type": "execute_result"
    }
   ],
   "source": [
    "butter.head()"
   ]
  },
  {
   "cell_type": "code",
   "execution_count": 130,
   "metadata": {},
   "outputs": [
    {
     "data": {
      "image/png": "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\n",
      "text/plain": [
       "<Figure size 432x288 with 1 Axes>"
      ]
     },
     "metadata": {
      "needs_background": "light"
     },
     "output_type": "display_data"
    }
   ],
   "source": [
    "plt.bar(butter['butter'], butter['count'])\n",
    "plt.xlabel(r\"Butter Type\")\n",
    "plt.ylabel(r\"Number\")\n",
    "plt.title(r\"Bar chart Butter Type\")\n",
    "plt.show()"
   ]
  },
  {
   "cell_type": "markdown",
   "metadata": {},
   "source": [
    "Relation with target"
   ]
  },
  {
   "cell_type": "code",
   "execution_count": 131,
   "metadata": {},
   "outputs": [
    {
     "data": {
      "text/plain": [
       "butter type  quality\n",
       "cubed        3             8\n",
       "             4            44\n",
       "             5           561\n",
       "             6           492\n",
       "             7           158\n",
       "             8            15\n",
       "melted       5            16\n",
       "             6           125\n",
       "             7          1165\n",
       "             8          1765\n",
       "             9           707\n",
       "             10          137\n",
       "             11            5\n",
       "Name: diameter, dtype: int64"
      ]
     },
     "execution_count": 131,
     "metadata": {},
     "output_type": "execute_result"
    }
   ],
   "source": [
    "data.groupby(['butter type','quality'])['diameter'].count()\n"
   ]
  },
  {
   "cell_type": "markdown",
   "metadata": {},
   "source": [
    "We can observe that a higher quality is related with Melted Butter\n"
   ]
  },
  {
   "cell_type": "markdown",
   "metadata": {},
   "source": [
    "#### Mixins\n"
   ]
  },
  {
   "cell_type": "code",
   "execution_count": 132,
   "metadata": {},
   "outputs": [],
   "source": [
    "data['mixins'].describe(include=['O'])\n",
    "\n",
    "mixins = data['mixins'].value_counts().reset_index()\n",
    "\n",
    "mixins.columns = ['mixins', 'count']"
   ]
  },
  {
   "cell_type": "code",
   "execution_count": 133,
   "metadata": {},
   "outputs": [
    {
     "data": {
      "image/png": "iVBORw0KGgoAAAANSUhEUgAAA4UAAAJYCAYAAADVB0PlAAAABHNCSVQICAgIfAhkiAAAAAlwSFlzAAALEgAACxIB0t1+/AAAADl0RVh0U29mdHdhcmUAbWF0cGxvdGxpYiB2ZXJzaW9uIDMuMC4zLCBodHRwOi8vbWF0cGxvdGxpYi5vcmcvnQurowAAIABJREFUeJzs3Xm8dWVZN/DfJTiLQ4KGAqKFllqhEfqWY2oOpDgLDqgRaEqvpr2KZjmnZUivmRYlipniPIIplvOMxotDDqiYICI5gQMOcL1/3OuR7eMDPMBzzj7nrO/38zmfs/faa+9zrbOn9bvve92rujsAAADM06WWXQAAAADLIxQCAADMmFAIAAAwY0IhAADAjAmFAAAAMyYUAgAAzJhQCACbqap3VdUfLruOLamqt1bVg7divVtW1WdXoyYA1jehEIA1qapOrqofVNV3q+pbVXVMVe267Loujqp6SVU940LW6ar6elVtv7Ds0tOyn55UuLvv3N1HXdjf7O73dvcNLlnlAMyBUAjAWnbX7r5Skp2TnJ7k7y7OgywGrdVWVdtdhNW/leTOC9fvPC0DgBUjFAKw5nX32Ulek+SGm5ZV1T5V9Z9VdWZVfaWqnrJw2+5Tz9uBVfXfSf5jS49bVftW1QnTY3yhqu60cPN1qur9VXVWVb29qnZcuN+rq+prVfWdqnpPVd1o4baXVNULq+rYqvpekgOTPCDJ46ZezzdfwKb+S5IDFq4fkOSlm9X806Gt09957cJtf1VV/17DbarqlIXbTq6qP62qE6e6X1lVl5tu27Gq3lJV366qb1bVe6vKPgLATPjAB2DNq6orJLlfkg8tLP5eRmi6apJ9kvxRVd19s7veOsmvJrnjFh5z74zA9X+mx7hVkpMXVrl/kocmuUaSyyT504Xb3ppkj+m2jyf5180e/v5Jnplkh+lv/GuSv+7uK3X3XS9gU9+Q5FZVddWqulqSWyZ54wWs/9gkv1ZVD6mqW2YE0Ad3d5/P+vdNcqck103y60kesvA4pyTZKck1kzwxyfk9BgAbzNKG0wDAVnhDVf0kyRWTnJGFcNfd71pY78SqekVGCHzDwvKndPf3zuexD0xyZHcfN10/dbPbX9zdn0uSqnpVkrst/O0jN12eeii/VVVX6e7vTIvf2N3vny6fXVUXuqGb1k3y5owAXEneNC3bou7+flU9KCOknpXkj7v7lPNbP8nzuvurU91vTrLntPzHGUN0r9PdJyV579YWDMD6p6cQgLXs7t191SSXS3JIkndX1S8mSVXdrKreWVVnVNV3kjw8yY6b3f8rF/DYuyb5wgXc/rWFy99PcqXp725XVc+ehpuemfN6Fxf/9gX93Qvz0owe0J8bOrol3f3hJF/MCJGvupDVt7hNSZ6T5KQkb6+qL1bVoRe1aADWL6EQgDWvu8/p7tclOSfJLabFL8/oSdu1u6+S5B8ygtHP3PUCHvYrSX7pYpRz/yT7Jrl9kqsk2X1avvi3N/+7F2Uo5nszeu2umeR9F7ZyVT0yyWWTfDXJ4y7C3zmvuO6zuvux3X29jB7Rx1TV7S7OYwGw/hg+CsCaV2P85d2SXC3Jf02Ld0jyze4+ezo+8P5J3n4RHvZFGT1jb0nyzowgtkN3f+ZC7rdDkh8m+UaSKyT5y634W6cnud7WFNXdXVV3Xbh8vutW1fWTPCPJbTJ6/j5SVW/t7hO25m8tPM7vJ/lMRs/pdzLC97kX5TEAWL/0FAKwlr25qr6b5MyMiVse3N2fmm57RJKnVdVZSf4iFz508md090cyJpI5PCMIvTvJdbbiri9N8uWMYxA/nZ+d/Ob8vCjJDafZPd9wYSt396cWtnOLptNsvCzJX3X3/+vuz2dMEPMvVXXZrahp0R5J3pHku0k+mOQF3f3Oi/gYAKxTdf4TlAEAALDR6SkEAACYMaEQAABgxoRCAACAGRMKAQAAZkwoBAAAmLENe57CHXfcsXffffdllwEAALAUH/vYx/6nu3e6sPU2bCjcfffdc/zxxy+7DAAAgKWoqi9vzXqGjwIAAMyYUAgAADBjQiEAAMCMCYUAAAAzJhQCAADMmFAIAAAwY0IhAADAjAmFAAAAMyYUAgAAzJhQCAAAMGNCIQAAwIwJhQAAADMmFAIAAMyYUAgAADBjQiEAAMCMCYUAAAAzJhQCAADMmFAIAAAwY0IhAADAjG2/7ALmZvdDj1l2CRfbyc/eZ9klAAAA25ieQgAAgBkTCgEAAGZMKAQAAJgxoRAAAGDGhEIAAIAZEwoBAABmTCgEAACYMaEQAABgxoRCAACAGRMKAQAAZkwoBAAAmDGhEAAAYMaEQgAAgBkTCgEAAGZMKAQAAJgxoRAAAGDGhEIAAIAZEwoBAABmTCgEAACYMaEQAABgxoRCAACAGRMKAQAAZkwoBAAAmDGhEAAAYMaEQgAAgBkTCgEAAGZsxUJhVR1ZVV+vqk8uLHtlVZ0w/ZxcVSdMy3evqh8s3PYPC/f5zar6RFWdVFXPq6paqZoBAADmZvsVfOyXJHl+kpduWtDd99t0uaoOS/KdhfW/0N17buFxXpjkoCQfTnJskjsleesK1AsAADA7K9ZT2N3vSfLNLd029fbdN8krLugxqmrnJFfu7g91d2cEzLtv61oBAADmalnHFN4yyend/fmFZdetqv+sqndX1S2nZddOcsrCOqdMywAAANgGVnL46AXZPz/bS3hakt26+xtV9ZtJ3lBVN7qoD1pVByc5OEl22223bVIoAADARrbqPYVVtX2SeyZ55aZl3f3D7v7GdPljSb6Q5PpJTk2yy8Ldd5mWbVF3H9Hde3X3XjvttNNKlA8AALChLGP46O2TfKa7fzostKp2qqrtpsvXS7JHki9292lJzqyqm0/HIR6Q5I1LqBkAAGBDWslTUrwiyQeT3KCqTqmqA6eb9svPTzBzqyQnTqeoeE2Sh3f3pklqHpHkn5OclNGDaOZRAACAbWTFjins7v3PZ/lDtrDstUleez7rH5/kxtu0OAAAAJIsb/ZRAAAA1gChEAAAYMaEQgAAgBkTCgEAAGZMKAQAAJgxoRAAAGDGhEIAAIAZEwoBAABmTCgEAACYMaEQAABgxoRCAACAGRMKAQAAZkwoBAAAmDGhEAAAYMaEQgAAgBkTCgEAAGZMKAQAAJgxoRAAAGDGhEIAAIAZEwoBAABmTCgEAACYMaEQAABgxoRCAACAGRMKAQAAZkwoBAAAmDGhEAAAYMaEQgAAgBkTCgEAAGZMKAQAAJgxoRAAAGDGhEIAAIAZEwoBAABmTCgEAACYMaEQAABgxoRCAACAGRMKAQAAZkwoBAAAmDGhEAAAYMaEQgAAgBkTCgEAAGZMKAQAAJgxoRAAAGDGhEIAAIAZEwoBAABmTCgEAACYMaEQAABgxlYsFFbVkVX19ar65MKyp1TVqVV1wvRzl4XbnlBVJ1XVZ6vqjgvL7zQtO6mqDl2pegEAAOZoJXsKX5LkTltYfnh37zn9HJskVXXDJPsludF0nxdU1XZVtV2Sv09y5yQ3TLL/tC4AAADbwPYr9cDd/Z6q2n0rV983ydHd/cMkX6qqk5LsPd12Und/MUmq6uhp3U9v43IBAABmaRnHFB5SVSdOw0uvNi27dpKvLKxzyrTs/JYDAACwDax2KHxhkl9KsmeS05Icti0fvKoOrqrjq+r4M844Y1s+NAAAwIa0qqGwu0/v7nO6+9wk/5TzhoiemmTXhVV3mZad3/Lze/wjunuv7t5rp5122rbFAwAAbECrGgqraueFq/dIsmlm0jcl2a+qLltV102yR5KPJPlokj2q6rpVdZmMyWjetJo1AwAAbGQrNtFMVb0iyW2S7FhVpyR5cpLbVNWeSTrJyUkeliTd/amqelXGBDI/SfLI7j5nepxDkrwtyXZJjuzuT61UzQAAAHOzkrOP7r+FxS+6gPWfmeSZW1h+bJJjt2FpAAAATJYx+ygAAABrhFAIAAAwY0IhAADAjAmFAAAAMyYUAgAAzJhQCAAAMGNCIQAAwIwJhQAAADMmFAIAAMyYUAgAADBjQiEAAMCMCYUAAAAzJhQCAADMmFAIAAAwY0IhAADAjAmFAAAAMyYUAgAAzJhQCAAAMGNCIQAAwIwJhQAAADMmFAIAAMyYUAgAADBjQiEAAMCMCYUAAAAzJhQCAADMmFAIAAAwY0IhAADAjAmFAAAAMyYUAgAAzJhQCAAAMGNCIQAAwIwJhQAAADMmFAIAAMyYUAgAADBjQiEAAMCMCYUAAAAzJhQCAADMmFAIAAAwY0IhAADAjAmFAAAAMyYUAgAAzJhQCAAAMGNCIQAAwIwJhQAAADMmFAIAAMyYUAgAADBjKxYKq+rIqvp6VX1yYdlzquozVXViVb2+qq46Ld+9qn5QVSdMP/+wcJ/frKpPVNVJVfW8qqqVqhkAAGBuVrKn8CVJ7rTZsuOS3Li7fz3J55I8YeG2L3T3ntPPwxeWvzDJQUn2mH42f0wAAAAuphULhd39niTf3GzZ27v7J9PVDyXZ5YIeo6p2TnLl7v5Qd3eSlya5+0rUCwAAMEfLPKbwD5K8deH6davqP6vq3VV1y2nZtZOcsrDOKdOyLaqqg6vq+Ko6/owzztj2FQMAAGwwSwmFVfVnSX6S5F+nRacl2a27b5LkMUleXlVXvqiP291HdPde3b3XTjvttO0KBgAA2KC2X+0/WFUPSfL7SW43DQlNd/8wyQ+nyx+rqi8kuX6SU/OzQ0x3mZYBAACwDaxqT2FV3SnJ45Lcrbu/v7B8p6rabrp8vYwJZb7Y3aclObOqbj7NOnpAkjeuZs0AAAAb2Yr1FFbVK5LcJsmOVXVKkidnzDZ62STHTWeW+NA00+itkjytqn6c5NwkD+/uTZPUPCJjJtPLZxyDuHgcIgAAAJfAioXC7t5/C4tfdD7rvjbJa8/ntuOT3HgblgYAAMBkmbOPAgAAsGRCIQAAwIwJhQAAADMmFAIAAMyYUAgAADBjq37yeuZj90OPWXYJl8jJz95n2SUAAMCK01MIAAAwY0IhAADAjAmFAAAAMyYUAgAAzJhQCAAAMGNCIQAAwIwJhQAAADMmFAIAAMyYUAgAADBjQiEAAMCMCYUAAAAzJhQCAADMmFAIAAAwY0IhAADAjAmFAAAAMyYUAgAAzJhQCAAAMGNCIQAAwIwJhQAAADMmFAIAAMyYUAgAADBjQiEAAMCMCYUAAAAzJhQCAADMmFAIAAAwY0IhAADAjAmFAAAAM3ahobCqtquqz6xGMQAAAKyuCw2F3X1Oks9W1W6rUA8AAACraPutXO9qST5VVR9J8r1NC7v7bitSFQAAAKtia0Phn69oFQAAACzFVoXC7n53VV0nyR7d/Y6qukKS7Va2NAAAAFbaVs0+WlUHJXlNkn+cFl07yRtWqigAAABWx9aekuKRSX4nyZlJ0t2fT3KNlSoKAACA1bG1ofCH3f2jTVeqavskvTIlAQAAsFq2NhS+u6qemOTyVXWHJK9O8uaVKwsAAIDVsLWh8NAkZyT5RJKHJTk2yZNWqigAAABWx9bOPnpuVR2V5MMZw0Y/292GjwIAAKxzWxUKq2qfJP+Q5AtJKsl1q+ph3f3WlSwOAACAlbW1w0cPS3Lb7r5Nd986yW2THH5hd6qqI6vq61X1yYVlv1BVx1XV56ffV5uWV1U9r6pOqqoTq+qmC/d58LT+56vqwRdtEwEAADg/WxsKz+rukxaufzHJWVtxv5ckudNmyw5N8u/dvUeSf5+uJ8mdk+wx/Ryc5IXJCJFJnpzkZkn2TvLkTUESAACAS+YCh49W1T2ni8dX1bFJXpVxTOF9knz0wh68u99TVbtvtnjfJLeZLh+V5F1JHj8tf+l0rOKHquqqVbXztO5x3f3NqabjMoLmKy7s7wMAAHDBLuyYwrsuXD49ya2ny2ckufzF/JvX7O7TpstfS3LN6fK1k3xlYb1TpmXntxwAAIBL6AJDYXc/dCX/eHd3VW2zWUyr6uCMoafZbbfdttXDAgAAbFhbO/vodZP8cZLdF+/T3Xe7GH/z9KraubtPm4aHfn1afmqSXRfW22VadmrOG266afm7tvTA3X1EkiOSZK+99nLKDAAAgAuxVaEwyRuSvCjJm5Ocewn/5puSPDjJs6ffb1xYfkhVHZ0xqcx3puD4tiR/uTC5zO8lecIlrAEAAIBsfSg8u7ufd1EfvKpekdHLt2NVnZIxi+izk7yqqg5M8uUk951WPzbJXZKclOT7SR6aJN39zap6es6b2OZpmyadAQAA4JLZ2lD4f6vqyUnenuSHmxZ298cv6E7dvf/53HS7LazbSR55Po9zZJIjt7JWAAAAttLWhsJfS/KgJL+b84aP9nQdAACAdWprQ+F9klyvu3+0ksUAAACwui61let9MslVV7IQAAAAVt/W9hReNclnquqj+dljCi/OKSkAAABYI7Y2FD55RasAAABgKbYqFHb3u1e6EAAAAFbfVoXCqjorY7bRJLlMkksn+V53X3mlCgMAAGDlbW1P4Q6bLldVJdk3yc1XqigAAABWx9bOPvpTPbwhyR1XoB4AAABW0dYOH73nwtVLJdkrydkrUhEAAACrZmtnH73rwuWfJDk5YwgpAAAA69jWHlP40JUuBAAAgNV3gaGwqv7iAm7u7n76Nq4HAACAVXRhPYXf28KyKyY5MMnVkwiFAAAA69gFhsLuPmzT5araIcmjkjw0ydFJDju/+wEAALA+XOgxhVX1C0kek+QBSY5KctPu/tZKFwYAAMDKu7BjCp+T5J5Jjkjya9393VWpCgAAgFVxYSevf2ySayV5UpKvVtWZ089ZVXXmypcHAADASrqwYwovLDQCAACwjgl9AAAAMyYUAgAAzJhQCAAAMGNCIQAAwIwJhQAAADMmFAIAAMyYUAgAADBjQiEAAMCMCYUAAAAzJhQCAADMmFAIAAAwY0IhAADAjAmFAAAAMyYUAgAAzJhQCAAAMGNCIQAAwIwJhQAAADMmFAIAAMyYUAgAADBjQiEAAMCMCYUAAAAzJhQCAADMmFAIAAAwY0IhAADAjAmFAAAAMyYUAgAAzJhQCAAAMGOrHgqr6gZVdcLCz5lV9eiqekpVnbqw/C4L93lCVZ1UVZ+tqjuuds0AAAAb1far/Qe7+7NJ9kySqtouyalJXp/koUkO7+6/WVy/qm6YZL8kN0pyrSTvqKrrd/c5q1o4AADABrTs4aO3S/KF7v7yBayzb5Kju/uH3f2lJCcl2XtVqgMAANjglh0K90vyioXrh1TViVV1ZFVdbVp27SRfWVjnlGkZAAAAl9CqDx/dpKouk+RuSZ4wLXphkqcn6en3YUn+4CI+5sFJDk6S3XbbbZvVCltj90OPWXYJF9vJz95n2SUAALAky+wpvHOSj3f36UnS3ad39zndfW6Sf8p5Q0RPTbLrwv12mZb9nO4+orv36u69dtpppxUsHQAAYGNYZijcPwtDR6tq54Xb7pHkk9PlNyXZr6ouW1XXTbJHko+sWpUAAAAb2FKGj1bVFZPcIcnDFhb/dVXtmTF89ORNt3X3p6rqVUk+neQnSR5p5lEAAIBtYymhsLu/l+Tqmy170AWs/8wkz1zpugAAAOZm2bOPAgAAsERCIQAAwIwJhQAAADMmFAIAAMyYUAgAADBjQiEAAMCMCYUAAAAzJhQCAADMmFAIAAAwY0IhAADAjAmFAAAAMyYUAgAAzJhQCAAAMGNCIQAAwIwJhQAAADMmFAIAAMyYUAgAADBjQiEAAMCMCYUAAAAzJhQCAADMmFAIAAAwY0IhAADAjAmFAAAAMyYUAgAAzJhQCAAAMGNCIQAAwIwJhQAAADMmFAIAAMyYUAgAADBjQiEAAMCMCYUAAAAzJhQCAADMmFAIAAAwY0IhAADAjAmFAAAAMyYUAgAAzJhQCAAAMGNCIQAAwIwJhQAAADMmFAIAAMyYUAgAADBjQiEAAMCMCYUAAAAzJhQCAADMmFAIAAAwY9svuwBg/dn90GOWXcIlcvKz91l2CQAAa8bSegqr6uSq+kRVnVBVx0/LfqGqjquqz0+/rzYtr6p6XlWdVFUnVtVNl1U3AADARrLs4aO37e49u3uv6fqhSf69u/dI8u/T9SS5c5I9pp+Dk7xw1SsFAADYgJYdCje3b5KjpstHJbn7wvKX9vChJFetqp2XUSAAAMBGssxQ2EneXlUfq6qDp2XX7O7TpstfS3LN6fK1k3xl4b6nTMsAAAC4BJY50cwtuvvUqrpGkuOq6jOLN3Z3V1VflAecwuXBSbLbbrttu0oBAAA2qKX1FHb3qdPvryd5fZK9k5y+aVjo9Pvr0+qnJtl14e67TMs2f8wjunuv7t5rp512WsnyAQAANoSlhMKqumJV7bDpcpLfS/LJJG9K8uBptQcneeN0+U1JDphmIb15ku8sDDMFAADgYlrW8NFrJnl9VW2q4eXd/W9V9dEkr6qqA5N8Ocl9p/WPTXKXJCcl+X6Sh65+yQAAABvPUkJhd38xyW9sYfk3ktxuC8s7ySNXoTQAAIBZWWunpAAAAGAVCYUAAAAzJhQCAADMmFAIAAAwY0IhAADAjAmFAAAAMyYUAgAAzJhQCAAAMGNCIQAAwIwJhQAAADMmFAIAAMyYUAgAADBjQiEAAMCMCYUAAAAzJhQCAADMmFAIAAAwY0IhAADAjAmFAAAAMyYUAgAAzJhQCAAAMGNCIQAAwIwJhQAAADMmFAIAAMyYUAgAADBjQiEAAMCMCYUAAAAzJhQCAADMmFAIAAAwY0IhAADAjAmFAAAAMyYUAgAAzNj2yy4AYC3b/dBjll3CJXLys/dZdgkAwBqnpxAAAGDGhEIAAIAZEwoBAABmTCgEAACYMaEQAABgxoRCAACAGRMKAQAAZsx5CgH4qfV8XkbnZASAi0dPIQAAwIwJhQAAADMmFAIAAMyYUAgAADBjQiEAAMCMrXoorKpdq+qdVfXpqvpUVT1qWv6Uqjq1qk6Yfu6ycJ8nVNVJVfXZqrrjatcMAACwUS3jlBQ/SfLY7v54Ve2Q5GNVddx02+Hd/TeLK1fVDZPsl+RGSa6V5B1Vdf3uPmdVqwYAANiAVr2nsLtP6+6PT5fPSvJfSa59AXfZN8nR3f3D7v5SkpOS7L3ylQIAAGx8Sz2msKp2T3KTJB+eFh1SVSdW1ZFVdbVp2bWTfGXhbqfkgkMkAAAAW2lpobCqrpTktUke3d1nJnlhkl9KsmeS05IcdjEe8+CqOr6qjj/jjDO2ab0AAAAb0VJCYVVdOiMQ/mt3vy5Juvv07j6nu89N8k85b4joqUl2Xbj7LtOyn9PdR3T3Xt2910477bRyGwAAALBBLGP20UryoiT/1d3PXVi+88Jq90jyyenym5LsV1WXrarrJtkjyUdWq14AAICNbBmzj/5Okgcl+URVnTAte2KS/atqzySd5OQkD0uS7v5UVb0qyaczZi59pJlHAQAAto1VD4Xd/b4ktYWbjr2A+zwzyTNXrCgAAICZWursowAAACyXUAgAADBjQiEAAMCMCYUAAAAzJhQCAADMmFAIAAAwY0IhAADAjAmFAAAAMyYUAgAAzJhQCAAAMGNCIQAAwIwJhQAAADMmFAIAAMyYUAgAADBjQiEAAMCMCYUAAAAzJhQCAADMmFAIAAAwY0IhAADAjAmFAAAAMyYUAgAAzJhQCAAAMGNCIQAAwIwJhQAAADMmFAIAAMyYUAgAADBjQiEAAMCMbb/sAgBgGXY/9Jhll3CJnPzsfZZdAgAbhJ5CAACAGRMKAQAAZkwoBAAAmDGhEAAAYMaEQgAAgBkTCgEAAGZMKAQAAJgxoRAAAGDGhEIAAIAZEwoBAABmTCgEAACYse2XXQAAsPJ2P/SYZZdwsZ387H2WXQLAhqanEAAAYMaEQgAAgBkTCgEAAGZMKAQAAJgxoRAAAGDGzD4KAGwo63mm1cRsq8DqWzc9hVV1p6r6bFWdVFWHLrseAACAjWBd9BRW1XZJ/j7JHZKckuSjVfWm7v70cisDAFiu9dwzqlcU1ob10lO4d5KTuvuL3f2jJEcn2XfJNQEAAKx766KnMMm1k3xl4fopSW62pFoAAFiC9dwrmugZZe2q7l52DReqqu6d5E7d/YfT9QcluVl3H7LZegcnOXi6eoMkn13VQpdvxyT/s+wiVtGctndO25rMa3vntK3JvLZ3TtuazGt7bevGNaftndO2JvPb3k2u0907XdhK66Wn8NQkuy5c32Va9jO6+4gkR6xWUWtNVR3f3Xstu47VMqftndO2JvPa3jltazKv7Z3Ttibz2l7bunHNaXvntK3J/Lb3olovxxR+NMkeVXXdqrpMkv2SvGnJNQEAAKx766KnsLt/UlWHJHlbku2SHNndn1pyWQAAAOveugiFSdLdxyY5dtl1rHFzGzo7p+2d07Ym89reOW1rMq/tndO2JvPaXtu6cc1pe+e0rcn8tvciWRcTzQAAALAy1ssxhQAAAKwAoRAAAFiXqqqWXcNGIBTCTFXVdsuugUtm8YvQl+KFW8v/o6ryfbyCqupWVbXvsutIfPZueh9W1RWWXQvr28Jn+uWXWsgG4Utopra0c7SWd5i21kbYhtVQVdt19zlVdamqOmjZ9ayGjbYjNj2HXcOl2gHiF2jT/2u6vKZ2Rqfn79zp/fhXVfXby65pI6mqX0nyrCSfWQO1LH72Pryqrr3smlbb9Ll15yRHV5WdeS6WqqqF19J/VNXl1nrj2kKDyBWXXcuWrOl/Hitj0xtpunzjqtqpqq60aQdz2fVdXJtt1yFVdY9l17RWbdopyTjf597LrmelbbYj9pCquldVXWPZdV1cU4jY9By+M8lB6/m9u9IW/19VdVSSw6vqsVV1o2XXliRTIKwkx03XP7DkkjaMqrphkucn+X/d/dll17PZ+/Y63X3qsmtabVV14yR/kuQp3f2DZddzQarqjlV1k2XXwc+b9llvmuSQJH/S3Wd397nLruv8LITYuyV5UVVdfdk1bU4onKGF4PTIJC9I8ugkL6+qK67n3oaF7XpUkgclWfoOwBr3hCSf7+6DquoqVXX/qrruRutRS35mR+yNSa6f5I5Jjqmqyy63sotn4Yvv35K8p7v/cfqy0eq+BQv/r1clOT6gJQshAAAgAElEQVTJm5M8JslVllbUz7trkm939+Oraq+qekJVHb7sotajxQaS7v50kk8kuWFV3WCJNS3ub/15khO6+wlVdZ2qesDU27HhVdWVktwzya8nuey0bE02aE37En+Z5DubLV+T9c5NVW2f5LeT3C7TZ/la7imcvqN/L8lTkzyvu79RVduvpZrXTCGsrqq6fZJ7J/n9jDfTj5N8f6lFbQNVtWOSOyW5T5KvVtV9q+oxVbXHkktbuqraY2Howl5JfpDk21X1siRPy9hR+bMkV1pelSvq4CTvTfKMJNdLclR3/3D6Yll3quoXknwxyVHTTuVLkrxl+tKx47KZqVX2K0lenfFaeG53f6CqrllVl1lCPderqstNlw9K8vEkO1TVCRmNWpdLsnNV3Wu1a1vPFlrjb1NVD6qqu3T3nyQ5Icnjq+p6S6jplzc1TFTVLyf5UJJfq6oXJ3lSkjsnedY0zHXDWfjeuXR3fzfJPyZ5WZKHVNWN11Jj9EKtN0vykCS36O4vVtXNpx6erKV652bh+dlhWvTPSZ6S5NFV9VsLoy7Wqj0zOmPOqKr9k7w2ySOmfdelEwpnoqouvdmi7yd5aZIHZPSc3H/6Iv3dLay7Zm2hheXHSb6X8SHxz0lumxF891ndytaWqrpqkt9I8pyqeldGKHrDdPMHMsLgjZJcJ8kvLaPGba2qdlq4fNkkZya5TJLXJXlbdz9/Wuch6+E1v4Ue3LMytuefkvxWkn9J8q4kt0rsuFTV3pt6hqZREdtPPx/O6F09bPqfPi/JjZdQ4t5JPlhV70hyg+4+JSOsPr27H9XdT05SSdbscKi1aPoe+/0kf5Oxj/OXVXVwdz86ydkZ4WvVPuOmz54/qnGs6Jszgsb7MnqtT0zy+O5+YJL/Wq2aVtv0nOyb5J+q6pVJds/Y//hKkoOr6jeWWV+SVNVlptC6aUjil5J8NMnzquqwjMbEA6vqD5da6MwtvJaOzHgN3SnjvXRMkidW1c3X0nffFgLqV5LcPsnRSX4xyUeS3DDjs37p1mULORfNFAh+t6qOS/KHSb6RsWP07CSndfee03oHJvndjA/CHy+p3ItkofV1nyTfTvK5jGGRv53kg939uar6gyS3m3oDfryWPjBWS3d/u6q+luQPknw+ybHd/d2qevbUW3aljFDx5e7++FKL3Qaq6jpJbl9VpyX5PxmTTJyY5PAk7+ju50yrHpHk0929pl/v9bPHEL484zn8ZHf/QVXt1N1nTOs9MMlXl1nrGvLjJK+tqh8leWV3n15VJybZMcmXp57DFyb57mq+5jf1ZHX30VX18IzGmvsmSXefnOTkqRX86CRf6+7Xr1Zt6930/rh0kv2T3CXJbTIaQN+aJN39iKr6h6ziaIjp8/WwjCGsX+ruu043/cNU82WmoPTD7l76RDgroapumfG9fI8kL85ohNw3yU8yGqYfXlX/Z+pFXJY7JHlcVb1xuvzHGcPM9834bvyzJI/MeH2xJFMP7p9lvL+PSHJgxqi3ozOGI//F1AN35lrY15tC7J0yGgG/1t1HVNV7k1y6u79UVb+a5BVJrp7kjGXWmiS1Bv5nrIKqemrGOP5zkty7u0+qqvtnHKB7ZMaX5AOTPLS7P7G8Si+6qnpwxrj/N2b0cj2tu98/tdAcmHHM5H2nY0tmpaYJVhauPyFj6uZLJ/nH7j55asl+XJKrdfdjpvVqLXygXhJVdWjGdr2zu+81LbtNRuvi65P8apKTu/vg6bY1v81V9YwkuyR5W8aO70e7++nT0JMXJDm7uw+Y1l3z27PSpl64GyfZr7vfVVVXSbJfRqPRDhmNYo+c1l3x/1edN8vopomPbpSxQ3O3JPtPjVjbZfTa37m7/2rxfitZ23o1DcHdfmrk2rm7T6sxlPr0JDdLclB3f77GxGNf6u4TVqmuTc/xdhlDge+T8X379u5+4rTOFTOOh7prdx80LVv379vNX69VdUDGyIZzkhya5AHTDvGlk+yc5LLd/fnlVHueqvqPJL+T5Cbd/enF52Lahkdn1L5he3XXmi28lu6W5JoZjZ9Pyhjl9qXpO/DsJDtOjWtLtem1U2OSoldkjFy7dZIfdPd9p3XumuSvkzyuu9+8vGrPIxRuYJt9oF0/o4fhlIzeorMyWunukPFl9a0kL1kPwamqdujus6bL90xyk4wWo69mHIvzkIzhox/IGBr2vPWwXdvawk7JpTIaBL6a5IMZw4UfluSHSf5vRkvop7r7fdP91u0O6GIIrjHD3aEZkwS8Lsl/dvc3p5a562TsiLxxWndNbnNV/XqSz069Da/KGAL7sOl5vUmSv0jyse5+RlXdvbvfMN1vTW7PSttCI8ivJLlBkqdnNBa9Zlp+tSTf6+4fTddX/P+1EAgvleTJGa3Cb5kaZp6S8T68f5K/SvLq7v6X1aptPZtGiVw3433+hIxA/bCM0QH37e7jquoWGTtlB3T3R1ahpsXP3v2TfK67Pzq97o7LGL7+Z1V1ZJK/7+6PTfdb98/11Mi4d3e/d2r0uErGcNH7J7lykof0OEbv/hk9uX+0+J5dhoUd+AdnDO3bK8nvdPc3p9v3ynhtPbW7T1xiqbMyvZZul9EI+qsZh72cldHYe/Uk95sC4X0yPj//sLvPXla9yU+P9b9Md3+tqvZO8tAk7+/ul03bc3SSc7r73lV1h4yG3PeulcYgoXCD2iwQXq27v1VjZsKnJNktyZOnVulf7O6vLbPWi2L6krltkn+adpTfltE7eMfu/sLU8nrvjBa9h2YMsfvJ8ipermmn5C0Zww13TPKjjN7TG2SE53sk+XB3P2haf018MF0cCztileSmSU7pMWTwERnH3L00Y9j0Pklev+l1sVZ3xKrqdkmutRAOHpPkUUkeOH2JbJcx9PD5GcehvXVab90+h5fEZjviT8to9HhVd3+2qu6X8dn3hIyZZ9/f3S+b7rdq/6+ptn/LOPbzBhlh5q+7+y1Tz/ZvJvlGdz98NepZzxZ25CvjGL0bZvQKvmb6rntEkodnNAjdJckTuvstq1jfpZL8R8YENzfPmOTqbzIaY1+X0avxre7eb7VqWg1Vda2Mz9i7Zjwnt8g4LvbVSd6TMWz2ehlDtx/f3ccsqdSfqqrfSfKT7v7wdP0FSW7f3devMfTvV5P886bGaFZHVV05o0H7EUmulrHvd1bGqJiTkxybZLskf59Vfn9vSY3z3z48yWu6+79rDJt+QcZn/lO6+3s1DmM6Jsl3uvveSyx3i4TCDa7GBAt3yJjZ7q1Ta+VhSXbK6DV8QEar2P+shx3JGscBVcaQkx/0GAb72ozjMe4/rXOljFaj93X3l5dX7fJV1d8m+XpGcHhrxgfoNzKGK51bVb+50Eq9bsPEwg7ipnMvfjtjdtX3dfdRVXVIxhToe2X0vO2/xHIvkqp6bMYw19dW1f/O6AXZr7s/UWPm1F3WwnCZtWDh+X9/Rq/EARn/q/fWmJzgT5Oc2NOQ0VWsa9Pr81FJrtDdz6qqd2a8Fytjh/OtVXXl7j5z07asxcaKtWAKfbv0GBa6R8YxmbfOGAlxRMaw4HOnnbJzM1rjP7bKDQB/m+TU7n5OjWNZT8s4rvAZGcc5Xq+nYwjX82fvJjUmafnxdPnhGT3ex2b0DP5wGqHx5xnH+u6cMYLnLcve9qp6dMZoqVOSXDXJ/54ako5I8r8yhrzu34aMrpqquszCKI57JjksIwTu093fn0aAPCjJrhmHAbxoLbyWkp/uo142yYMzRqrtmXF40wuSvKm7fzAFw1/v7uOXV+mWCYUbzGYfzAdm9AYdkNFKd0rGENE31Jh85boZEzB8cln1bq3Nej63y5hx8awkh0/Dr45N8s0es7htiC/Zi2NxR3IKDL+SMYvaqzNaq/4+yaczdkZvsbDuut0Braprdvfp0+UXZ+x4vSLJuzO29d3dfXiNIdS/3N3HTuuuyddI/fwQyMdlPI+v6e5jp52Yg5I8qBcmSFmr27PSquqA7n7pdPkRGTucz8o4bvS7Gb3GB3X3O6rqKt39nWndVTuGcOH6FTN2Mg9P8l/d/byqenvGpG+P27STMNfncmvVOCH9vZJccfr9uxmh65VJ/jtj2PjNklyuu9++SjVt/lz/epIvZ5x64c0ZAekjGbM+/2WP2WY3xHM9fdfcJeMwlG9nzAj59Yz34jUyhsh+oap2S/K1JFfqMZR/2YHwrkn+tLtvXVWPz5hc5gNJntRjJNVNMxoYTltWjXMz7d/dN2M4+H9nhL93ZfQ6/68kT5yem92n26/Q43jiZb+WFg8PuHnGYVqfyWiQ/+2MyXGOyjg04AfLqvPCOCXFBlJVv5bk/jXOu3W5jA/ke2WckuHMjDfWw6vqPt19ZJK/WIeB8I4ZE20cmtHCfkhV7d7dd0mye1X9czLP6finMHFuDbsm2XV6fi+b8UX8kilsHJsx++hPd2DWcSC8X5I/qarr15i04LUZPQX/mnEM0YuTPKiqntrdn1sIhJdai6+RWhgCWVXPqzG99l8n+X9J9quqO3f332Ycl3Dfxfuuxe1ZaTWO0XhejRkl090vyOih+NucN8HQh5McXVV7LCMQTu/HB9Y4N+wv9jjm5fIZQ7mT8d5802Kr8Ryfy4uixzHi52T0/L60u7/SYzj4QRnHC/9dxmfB5Vajns0+e29WY9KLz2f0il0u47P3lIwROydsCoTTtmyU5/qrGTvA78gYnn9UxrDes5M8rMYxhE9KskNPx+qt9rZXnXd6gGnn/d0Z3w/3z2hY2C1jhMG/VtWvdffHBcLVNe2jfCTjXJbvSnJEj0MjXpfR4PusqnpAxuf8L/Y0Y+2SA2FN7//bJnlsd38go4Fq14xDPj6Q0VB5cEZv9JolFG4sv5Ixjv/3MgLTX2acx+xO3f27087kNZLsPbWYr4svo4VA+NiMiTUu391fT/LMjFk0D6mqX+ruWyR56vIqXa4+73iqtyV5TpK3T71K3884H86jqur9GQc5PyP52S/JdeqMjF6W+2Qcf/eWjB7wL0xh6v0ZrYlfWbzTWg3Bfd4xkW9L8v3u/tC0/P9m7Gw9oKru2d1P7+5Dl1nrsk2h64cZjUS3qap/TJJpJ+F7Gb2EyRgh8dxemN1wNT77FlqN35NxcvLHJvnTGrNgviTJQVX1wamcv522ab2/H1dFjRPAvzPjWKNdqup+04iBb2YEw5cmuV13v2k1/qcLn71vzfgOeklGw+XVMxp0jquqt2Yc53zEtA0b4rmedoh/kuTUjAD8hYzjZdNj8rI3ZIxMeVKSY7r7G8uqdWFf4uEZz9GzM44X/J0kr52+F47J6OU8fUllztbCe+J/knx2+n2zJOnuL2UExfdkfJb+S3evidMvdf/03KgvzGj4SXcflzFK4NoZE+O8L8nd1nojg+GjG8BmPWn3zpg85O0ZE4xcJsnx07JrZJxn56G9DiaXqapfzDjW8Sc1DgT/m+7+X9MHx14Z2/bhjAPXT8uYGWy2k8okSVU9N2PI1COqas+M1qqnZnwg3T7JNbv7WdO663bYUv3sLKO3zHh9fzNje3+cMWz0DzJOP/DZ7n78tO6a3OaqunvG+RO/W2M2xYO6++5VdfOMYVlXz2hx/OOMWTN/umO5FrdnpS30qG4/fT7skHF+1fd394E1ztd4x4yJeD7cS5ruf9pRuMdU07UyhhXdNuMYme2T3LjPmzF2ls/lRVXjtCJPymgcPKSq7pXx/j86yRUynvOnTQ0Gq1nXoUl27u5H1Zgk6rcyjuF+ScZx/Vfr7sOndTfUcz31gv+gx6mgbpfkMRmTPB01jVo5O8mPuvs7y9726fXylIxhiQfkvHPD3T7Jf2UMN39gd39xKQXOXFX9dkZv2n8k+eWMBp4ju/v5NQ4B+Z+MOSS+t8zXUlVdM8m1MiaSumLG0NCn9DjW//YZQ6ifm9Egf2CSw9bDa8rJ69e5zd8UPWZe+27Gh11190uq6kkZB7memzFl75oOhFPou2bGDIKPzpit7etJvlVVf5XRO7hHRo/Q4zNaZLefeyCcnJZxXEe6+4Rp5/jFSW7dY8hwknV/DOHiLJPdYxKR0zN6De6f0fq7b8bwypPWQSC8SkYv53en4ZDHJ/nDqvpczmu1vlySu2/aqdxkLW7PSqufnWV2n6r6cY9jLW+S5KNV9dzufkxVvSvJb/V08vclPf+XTXLTqrp8d3+1qj6c5I8yhj19KMlJU23r9v24GjZ77s7MOCft3avqrzMC4qUyGk9unXFYxKoGwsnVcl7v9Dsz3rMHJ/nb7n7JppU26HN9lYyRKfv0mDDpFzJ6wn8jI2Q9srs/layJz6wbJDlq+n7c1Hh414zvyZtl7COt+Z33DWzHjFNlPaG7j64xOdc/15ioaO8kD+9pcrwlv5bulTF653LTd/fJSV5eVSdkHA951SRHd/etqurLy+whvyj0FG4Q087/r2S0er0841x0f5xx/NjRGTM0ndvd31pakRdRjel9b5pxjMibM1ry7pfR+vKxjKl/v9fdL15akWvM9AF6q4wT7J49LXtDRs/TGRd453Vg087hFAhfnTHZ0DUyWqa/P/3+VsZsZKcs3G9N7oht1sv/5xmtik/NaMD5rT7vNBNHZwy9+pfN7zdH0/P/3oyhajfKODbolUlOzGi5/VhPsxFvWn8Zz3+N41wPyxiK9pzu/lFVvSXJC3sNTMW/nkw9UDfs7r+bGgT2zvg+OCvjUIlzklxjCt+r/v6ocS67J2bMJLvp2OW3J3lMr4Nj9y+OGudd/H6P2UX3zRgut193H1NVt8r4jn7Zpv/HWjCNynhoRuj49LTsbUkOXPzOYHVNIym+2d1nV9WdM07q/qzufnmNiaUeluTN3f2OpRa6YBrN9pSM1/0HMkbiva+7/7PGRDjPzdgXW7MTy2zOMYUbQI0Z9w7JmLBgl4wgeHLG+Ob7JLlXd39jPQTC6cs+SdLd38/oDXxkxjmDXtfd9+txLqEHZLTCfnA5la5NPY49OzujxepRVfW6jPPhrPtAmPxMy+ArMmb2e2LGcTzvz5i844UZkwX85qb7TDuIazEQbrfZjutRGccf/EnGENh/q6orVdUxSb67KRAmS28hXQvuk3FC8AMyWvk/n7Ez+oOMYXunLq68xOd/0znprpXkI1X1xoyGLIHwQix+F0zOSnJ4VT1yev1/LGPiibtlTOKQno4xWtL7Y1PP/h9X1d9Mn72nbuBAuEfGcf23rHEKgTcmeWCS11bVXbv7PRnDMI/dwnO5TO/KeN08oKruMIXZq2ec15QlqKpdMr7LH1hVl5saQx+X5O+q6qApvD+6xwzSa+m19K2M0QH7Z3zvPH8KhPfIOJb2ZespECZ6CtelzVtBq+rvMw66/dB0/bFJfqO7D5haxT7Sa+SA3AuyWa/JrhlTQf+kqu6W0QP0/CTHZZys/vCMISkb8gv34qj/3955h9tVFW/4/RKS0KsEEKQqvffeFelFqtKjAlKl/AgoHQUEqVKkBBCQ3lsgNGlSpCpNWgQNHYJ0QvL9/ph1kp1rQhKS3H3OufM+T5579j7r3My5u61ZM/PNyHV2PyPqWaZzm9UQlu2ziBz9F8v2vsBytreSNJ/tF+qydWzokAK7BfAv2w9J6k2op/6DaB8yHdGb6fjyuaaMeE5sRnH8NyTSxjew/UFZZb6ZmDj8pTKuac55RZ3JF7bvK9tNY1uz0eFZMDcwxPbriv5k9xO1O39Q1JrvQPS8q/1ZoGg5MjdRTzTY9jllf8sf68ZkvHJcehDCbzMAVxDzjE8lXUU0r5+diPwMHc2vrI1yv9iMWFD4mNAjeKpeq7oWHa7xSYjreDGifOJqR83gucAqwKoubafqpJKptAhRxvQMsfB3CJGxdBmRrbIP8LiL0FUrXfvpFLYYHS6keRy9f64g1BYPKvsXJHpe7VijqeNEh++1H7A6oSD4p7LSuD4RQTmPENCRS5PnZAQdJ8+V/S3rTHRwoDYoN9qrGblecAGi31Sfyuea+mZcvs/dRLrj8sSCxylE6uh5hGrqr2x/1BjfqsdwfOhw/E8lepS+RywUPUP0b/ywROFOrDqFnWDb1x6T0Z2DXfVYjg1lYWQ/2wdKWo045h8SkcELiefCg0QEdgNCOG2i9yLUyD1gx/re0g7HWlET+1l5vQbh+L7n6Hm8f9nuT6Twb0S04Hh8tL+wSVCUqMj2J3Xb0lWQNCWxyPOFpB8Q/QeH2D5d0vZEydC/iHv7jkRN7iO1GdyBElk+lFAVHgr0IwQPDyYy284HHioBjaaeg4yKTB9tMSqO027AYWWidDCwsaLJNcDiwByKfP+mp4NDuBXxUNmYSIU9SNKOJd3qTEJIhK7oECqaun7t/srkeSRaeVJS+U7XASuX3XsA25Q0raWBw4i02ernmu5m3DhWZdX9FOAm23sT6mXLEI7OEKJ+4pWGQwitfQzHB48Qlbk6Nv2Uo/bnr8DCwG3FIfyyDodQ0VOymq48/Porq8ptdT12AtMDs0s6DziAUBD+OZHytwfRHH0Z4AZgs05yCKt9CHtWnlfVvnejvD+3+rGWNDVwr6QVyoJzP8IJ3EvStbZPIKIj6xOCdgMaDmH179OM2P40HcLOoziEFwM/lLQCMacbRvTgvZS4xw8gVEePBy5tModwUSIKuA6xSLUGUZ+6EpHC/h8iQ+AraM45yJjISGELopBUPoToefJa2bcAcBVxoi4G/NhF7auZ6eAQ7kGIBxwMbE5ceNcSNYVn2j5L0hRd8SbeIVpyGCGd/V+PEDSYFZjL0Req7ZB0NNH0eO/KvlmIG/GHAI33mnV1ruJEdAcWKbtfIYShbiAkuO8nBHQOdakBbtbv05mUNMH9bW/aYf+MhNBML9u3lX2d9vcq12N/4Hnbe1X2LwT8wB3UYpMxUxyJhYCfEguEC5SowuzECv19jsbonWXPcOefuEavJmqHGs+tRYAPbP+7HaKCo0LSnsRz+F7gFo9oo9IfGGh71/L3mdk1Cf0krYGkHYh2IC8T7YL6lf3XEW1NtinbM9p+p1nOJUVv1FmI2uYZCCGcXQk16TkJUZwBtRk4gchIYQtRWXWbj0irfE1Sj+IwPEeIa+xFNO1teocQRop8bgqsSDi7HwOr217X0Y/tQ2BBSdN0RYcQRoqW3Uz0Z5wT+J2k2RS1HRsCGyraG7Q8HVbgRdTWNZTiegHYfsP2jrb3rjiE3ZrhATIqGpEGomZwG9tPEqrAPWyfbfsl4AngaVdEoZr1+0xMRhF1+RTQKMbMbvueOhzCwvmE0uleJWK4pKSeRBuRfRWq0MlYUjl+zxJRhBeB0xX9KF8jWngsXiJ2nRKFqjh5twL32j6tRICnKvtXBP4qqXe7OYSNv7Ht04CjiHTdhSpDdgamVKSXDnO9Qj9JE1M5ly4k6uWXBBaTNG0ZsjkwtSJ9HKIfYa3nUsNmRc/nq4AXy3N7SeAU248CjxARwrZQrk2nsMnpmIpUXg4EFpI0q+0hxWHYCljZ9mDb79Zh6zelRLlOBb6y/S+KtLikX0vaAviSkHP/sE4766BD6tk6wN2O2tH1gNNLGl03ItI0L9GWpKVRRZWzkqp1FzEZXNilB5mk8yStWflcU6qMduAc4DsutZC2/wO8KWmApFuIVffh4hQ12lkblai4JC0vaVHbTwCTSjqnOF/diIjN+tXPTuwJhKL/WuP1nMDrRG/EY4jUuRuBvg613z7AFAoRhWQ0VM/zxvErDsYLRB05wB3lWbA5EalyJxzr6sLUtERU/xJJO0o6H7hV0nq2/0jpBTsx7amLxjPI9iVEX+CdJK1R9s9PZCZNWaOJSYtQOZeuJZRrFwXWUgj/LEmICHYvY2pfWCiLP6sCpwFHeUSP7w+AP0j6KbA3cE4JzLQ8mT7axFRXvRVqezMTstdfErV1LxB1FjMB+wNb2h5Yj7Xjh6TNiJXhvR0NS1cgHkDTAXvY/nutBtaApJkbN6ESAVyCqDmbklDnOr1EJXa3fZKkZYE3y4p6S9IhVetUopHt3UQd0dxEUfpjxATsHds/r83Yb4Ck7QjHcFvbV5V9vYka2mkc9TldPmW0HP8biAWiXsDbDjXlm4j739SEuNYunWjTNIRiYS+iZ+oZRN3zGoQo0DmEAt1hhEDCZET7iS63mDW2SJqUUBa8XVGv9p1G1Le8L+B7wB+J+96+LuqtE9mujmq33Qj163kJZeBriEbnM9veT1FT+rLtwRPbtolNicp+VV73dPTWrIrs9CFKPB4nsnqub6STJkmVksWE7SGKVhOfdziXtiLqhD8jIoNXNNu5JGkeQvTmIts/q+zfhVgQudGln3A7kE5hCyBpV+LCuYJI3ziTSKWahShwHQIcYvvp2oycAEjagGhCfGRlwjxtOzxox5XiKPyCqB3cg7hZnlaiSVPYXq2Mu5bohbVHfdZOeBQ9vl4mali+T/TgbJzfyxPKdyeVsS3lQEnaGvg1EVG6aRTvt2Vd0rgg6RBgHhcF5XLev2l7Z0WLgqlLGk+n/b2KA7MZ4Qw+Znutsn9qF+ErSRcQzbx/MbHtaQdKBO4nRBP6GYANbb8yinGLAJ+7tKCZyDZVF6auIFJWn7d9gaTpPKLWtx+xWNF3YtvUWZSo9raEsuLUhODVDoTsfrXcY3vgOKJ/8DOtdg9OJj6K9P5NCGdvRmB7ItI/BP6ndOhAQkX4uWY6lypZK/MCjwK/tX1c5f3GoknT2Dy+ZFpLE1NWSacjeh5taftZSbcTha032O4naTKgm9ug1s72TZKGAmeXi+zKrugQAth+W9LfCQn2uxw1HQD7AcdI+gtR8Dyo4RC2y42ppJJMSrRj+FLSP4lGtm/YPp9oSdIY25QO1CgiDcOPTYmEfwX8tqyeXlX9bDN+n4nNKI7j20QUosEmwFWS5qo6DeXv2il/r7LKfRdwO/B2iZj0s/1fSTMQ9dBfNBzCdrkeJya2B0saSKSO3ds4ttVoVRnXaZkilQ2BM+wAACAASURBVPPpUKKe/VGi0fm8tg8uKcRnEk5q32JvWxxrh4z+C0SD9w+AzW0Pabzf+J62/yTpDmcNYTIaijM1kOjd1wvYxfaXoxh3raQHXfoQNtO5VL5Dd9v/LJlYd5Zn9hHl/S/Lz6axeXzJmsImoziCQJxott8nbs5rlpPxIaJupY9K76B2cAgblDD8zkSKYJdDIwts3A+cCEwmaVNJU9p+zvYmRBrpES7pk2pigZUx0eE7UyYag4G9JU3uqC26DVhOHeqzmtGBqqwudpN0VLlO3bi2JfUqjuBJxGS4y+MRcv+TlV0vAPsrVJUbD98p6FC71JnnvKSLiNXsLYE7gBWI1W+IVik3uqSztvL12JlIWsTRbmht4AlJF0qaoTgnvcf0+QlsyxKN80/SlUR90y9sX004iN+V9JvyTL7Q9g5lbFsc68rc4zEiQtqTuOaG36PLfaxHGfdGpxuZtASVc+kZwil8D+ihaElRHdd4nr/dieaNlur8u0HFMXyByFraW9LcoxrbDqRT2EQUp68RUl9cI3pf3UaoTa5atocRjuJX//NL2gDbA0aVQtTuaGSBjQ0Jmf1DCenjfYC1JU0t6XDgnw7lq1YRWBklkmavOFB7S2q0nLiEqCc8oKzMb0FERZv+nPcIpdgbgN4uTZ/LhOpbwP0l6nC+7YNrNbZmFHUZDe4ELpN0LJEqvD9wu6SDFOmjr3RmxGgUD/0TiN6Y+zrqXm4D1pD0CtF+4s7G51r1euwsKn/bMyXdUxY7TyMicydIWg84VtLMnWTPasCijWuV6JW2GiPEY54l1DdXlrSxR7QCaptjXe5PCxH1sIcS99wLJG1W7mmLSJq+ETlsB0c4mTiUc+l7RJnERcQ5tR+RPoqkRSXN4ibp51e5H002qvcrjuFzwGy2X6nb5olF1hQ2CYqaieWJxp47E4pGbwKv2d5W0j7EyvSUhLBMH9tP1WVvMnEozsTthMTxlITc8WlEJGIfoAfRy2ej2oycQCjUBJclHhpHEgsdCxIy9P9H9PLbikihfqOV0vIk7QQsaXtPRTrsVsADth+R9CtgcSLq9PHX/qI2pjyI3yCibncDswO3AD8gojT7A3OVf9+yfUbjc511/IuN8xIiIl8pxFCuAM62fWo5tqvavqyzbWtlygLo5+X1AGCY7XUUabgHEurKo6y5nch27U/cay6RtDPQF9je9kMlWjaLQ/G5LVEIvm0GPGj7DEk/IER++hFlK1vYfqBOG5PWQKHauQnwCZEVMy9Rh/oAoZOwke17ajOwA5LWJc7xrYAvPXL5R1V8qa3v8ekUNgkKkZWdgb8Qzt+ujnqLR4Fnbe+g6Iu0GLFiPqhGc5MJiKTZGhMNSX8AXrX9e0mNvnXPEPLN0xPqfH8rY1v65iRpZaK/4iSEcMjPyv4riAfJL8s1MH1J2WrmGsL5gXdtvytpLUIpdWlCMfhVwgl8j3Ds3wO2Bi5vp9TvcUFSD4ciXXdGOISr2x5YUkY3AhYgekE9UfncRD/+1euqOPc/I/q/PlFWjNcC/gScZfuozrStHSgLoKsRrSUaNYR/IRa7fli2Z7L91sS+x+l/a3/3IK7b6x21Tn0IJ7WPK6qnrX7v7YikeWy/XF5vSFx/TzoUrpclspQes313nXYmzY+kBUpEDUkrEuKIJkQEvwMsQ7RemugqwmOLpIWJUp2+th9vXN+SdgcuKfOQLnF/z/TRmtGIvi03ESsoixGRkW+V/csA80kaYPsj2/enQ9g+KFTcDpC0aNl1BXBuWT3/A9Hk9cdECulX7eAQqtQR2L4fOJeIfi5aJh84aramAK5U1OM1HMKmTNWSNAURzfqNpIeJKNd5wJNEPcX/2V6diPzOb/tT4LIu7BB2Lw5hT2AaYHXgv8RqMmVCcR3RA3CZ6mc7wSEcqT7MIWx0NXA4cW8G+BvQH5i2+tlmPDeblJmANYEfSpqr7NsSWE3RcgTgHZi4aWUaufb3DEmr2v4D8BDwI0mb2D6PuAePlJnRqvfeUaFotXKMIm0b2zcCNwPbSzoAeMn2CekQJmNCUi/gNEUfT2w/CNwKLEU4hV/avqjhEFbSNmtDUee4GdEzsVeHt+cDbiqZDV3i/p5OYc14RL+WXQnRiTuICdIqkr5TxiwfQ2I7aSv+QjhFW5UVtnuJifIntk8u6RWvAo/afq/xoVadlJSJ2FeSJpF0NvA+cDZwH/B9SYvDcMfweo+o8WnK71y+zyfAvxjRw+7ecl2fbftSYCpJlxFpaQMAimPY5SiOfbXmcuvyt1qCEPK4GMBR1H+G7bM72bZhxUn4s6STJf3Q9u+JescjJP0MuIpoUbBf43OdZWMr0vj7SFpQ0Xv1DiJdfCVgXUXd4EzAycRqfac42OU8FDFp/bDce7F9FrEosaWkH9s+xfYBE9uezqR6zjr6aJ4CzCHpsLLvOiJDZSmK2EySjIrK9d3d9hfATsBMks4AKA7gM8QiWkehuFqe6RWbezhKOP5IlG7tKGnhhl229wLuIlJfuwSZPtoESNqISA9c3/ZrJZV0KyKt6m7br9ZqYDLB0cgNXGcnalc+JARWnicaJD9E3EjfsL1bGduyEcIGxSG4hajT2r3sW5Zwqj4DbrX9SGV8039nhRjO4uXf3ETKyV/Le3sTgjO/KttN/30mNooeb+/b3l8j+sJ1J6JwbzXSCMvYzq4hPI4QHHgL+DaRRne2pM2JKHDvqkPY1Y/l11FJw1qLqB2+j1AaPJboS7gX0Q9vZWBb23d1QsroFsBtjlYi3wf2sr2hpJWIWsZZiJqn7WG4k9h2x7ock4WI/p9XSFqe0DJ4l5ggHwccaPvhGs1MWoByHa0G/Mv2OZJmIxZ7PwTOIjKd9nARx2sGJG0MbErc608k5h4bAb2B82w/VeYq89t+tj5LO5eMFDYH3wYuLQ7hJCWV9M/AusDyJaqSq9FtQllRa0jwz0yIyvQl0gt3ICYlKxPRp4fbySEsrEw4ug2HUMUJvBKYtfwbTrN/Z0nbES0UXgHOIVLftpO0jKSDgccrDmFbyNePD+VB2x24vOzqCRG5ISITj1THd/Lf60xgadt72j6a6Ne2cMnkuNn2cRWHsMsfyzFRHMIViZq0jYg03EHA0USWwF5l34a272p8ZmLZI2lyYPriEE5BtF/4VNKrxKLUYOBTYDPbZzUcwoltV2cjaQXiXjUZcIqkQxwKsIcAsxGR3JPSIUzGRDmXTiEW0Q6VdKhDI2ELQIR4yzFN5hCuAhxU/k0D/Ar4O3AN0f95V0lT2R7WcAi7yhw8I4VNgEL1aG9g75I2haT1CRGOw22/Wad9yYSnTIwbvaCGEA3ZLwGOBz4HLnAp1m6Mb5ecdoXc/HHAco00ypLXPymA7XdrNG+MjOpYSDoQ2I64Zj8gxEm2Bl6w/eMypl2c+m9MebBOStTL3mX7ksp7BwF/9Mg1pJ3695K0KSEis5ft88t1ugWxQPdn27d3pj2tTGUS9Tdi9X3OkrK5ALAxEVU/xp2kot0hO+Mg4HvEZPATYNmS1ooi1XuAo56w7VAI/fwcuK9ECOcgslLOcBFOUhH3yntW8nVImhc4GLjH9gWKGuFLgf62Dy9jJrf9aZ3nUsdntkLL4SNgKLEg/xPbryp6cM5CtAN7sQ5b62aSMQ9JOoEHgBWJfOYHiJTBvYh6m3QI25PziAjhkcD8RA+0oUR/qDOBhYHhTmG7OIQAtm+R9ENgX0knFsfwIuAZ27+G5nagGlFewvG7wfabto+TZKIWaUPbx0u63PZr0NzfpzMpf4PPJF0H/FbRLPxVYBeijvb9DmM7275rJW1DiAZ9bvtSSVcRankZNRkLKud6t+IErkRE5PoBO9h+rqQKdyNUCTvDppFURoko2RlE65ujgTvLwtTlRD/UtnMIKxPjFYiI/MeS7rL9L0nLAc9ImsJ238Z1mPesZFRUrvEFgRmBtSTdURyrrYEbFfV6v2os/NboEPYiWl/dp+jDOQ3R47sPkbq+bbH7x4To2W4d7hVdiowUNgmSZiFWTzci8rCPsf10vVYlE4qOkxJJpwB/sv1Y2V4L2NH2dpJmcEVUph1R9DDaiqhDeBn4wPaOtRo1BqrHsKSh3UFEePsRKaMmVCkXAZZoLOikQzhqSsR4HULI4l3bfcv+2v9eJXvjWODUqoPQDLY1M42/j6Q1CbXWN4tj3YtwDB+xvXMZO4U7QYFXFZVRQsn5ddt/kTQ14Ry+TojcTA6sa/uU8rm2yM6oHJOZbL9V9m1G1FNdTQhjva+obf+e7TvrtDdpXirnUrWN1grAT4B/AlfZHiRpTuDbDvXRWlH0km1k3i1IlK8MI8pV7iVqHucmFuMPtH1zTaY2BekUNhkKmXZsf1m3LcmEocOkZAfgAqLwemXbK5QxcxJN6neoM32us1H0KvzU9uNluyknYhohhtKNSI/5G1GYvhmhXvgnR1+1IwkH59QazW0qvu48HsViSdMc/zJxXsqlHjQZO0oWwElEWlY/YtJ1OBEZfB54wPa2nWxTN0JF8HEiK+d+whEcTGRt/BfY36HE2VTn4YSgLMD0JYR+/m37zBLR+SEh+nVnYyGyKzx3km9OWTA7EhhA1AweQigJb0ZkP11i+z/1WRiUSOWQ8npXomTlFmLx/YuSxn4IUb4zC7EAeFNXP//TKUySTqBMSm4jGgA3IiLnEr1xDgD2JFbV96jPygnDKFK1Or4/yptus9+MS8rocUREoREZnJKojXqKiHr91fYuZXxbTSzHljEd/zKm4WRXG8U39fFPvp5yj5uBSAXfj2gzcSrwJvCs7b0aqVzuhMbVlcU4EeqCb9j+naSnik3/AI4BvgS2d/QobDsUohpnEL0g9yOeObcTpQrbEo7hLxtRxCQZHQrRqD8SddbbE47gw8BPCTGpzYHjbA+sy0YARS/k9Yj6/sHEOf424fz1Bk63/XKJjr8JTOmsoQXSKUySTkHSvsBctvfssP9wYrWtp+2Dyr6WvTF1iIouUUmP7Vjo3XIOk6SzgHltr1m2fwzMRfQmfBCY1NHfq6WP4fjQ4fgfQ/SafLCSdjQj8JmjN1TShkj6FuEQng8sR7TxeJaILvy242LARLKh2uZkKUJM5jWi1cLNRNr3o+Xnr22/Uz7XNtetRqj8bgU8DcxMXJO/BXYGngAOI1qsvFGXnUnzUxZWugFrE9HAWYhzaXci2vYeUWM/pSt14XVRnMLFiSyAmYGVbL9UMpPWI/RUniRqCA9q93KdcSFbUiTJRKDcRKv0qrw3SfnZC/iN7cMqDmFLy9xXHIL+RKpsY/8wSQtJ2q+xXZeN48FtwDKSdirblxEiKTMDQyoOYUsfw/GhEpkZULYfLD9dzovdgc1VqNHUZALQOIaSlpW0naSFgY+Jha6PynXQg4hM9W9c9xP7+vAIMagzgK1sP0NE+CcFLrI9iEglfazhEHaGXZ1B5bqaxPYQ2xcTabs7AD+2fTXhJH8PmCcdwmR0VM6lXraH2r6NOJe2ItKtHyaegTMR/fyawSGU7a8I53VSQrNgPgDb9xNicO8BvybaDKVDWCGdwiSZwJRoSSMlbuqy+yHgS0lLlBsWwOmEsNBwWtRZ6sj5xGRrL0ndJC1ZamXfBvaR1Kn1RBMK29cC2xDfYZtyrC4H+rkiztAmx3B82BAYbPtASUtLOkjS78vf5WUifdDtMAHv6hRnfwOidnBOIhK3OXGtPy/pVuBGol7nb51s3lnERLWxEPUW0Uu0v6T+hMro2dA+PcgqEfkfApdIOlLSTg6NgjmA1SUtSvRGPsL2P2s1OGlqyrm0PnCFpLMk7VvmL1MCSygEpZYA9nGTCCMWm9cG5rY9HxHJ/IWkxiL1G8T9agXb17fLtT+hSKcwSSYg5aE8tDhDVwHnSzqbSOPpAfSRdK6ka4mU0atrNXgCIGm2yus5CTW/RyUdQ6zU3wj0LSvyfYApGtHSVsP2TYRgQ19Jfcrq6UPQPhPLcUXSMpImLa9/RkRgppL0JNG7cVJgdknr276IaBY+Q1f9e7UTkqYnogZrESImAm6z/TbRZuckol6vjv6O/YGlK5F9iL6E5xJRy0btb9ukjJYJ8VpEiujJRJrfluXtvkTt1+nAKS5NuZNkdEhaDTiC6EX4EaEyCtGsflWi+fsptp+vx8LRMg3RgmLdsmB7AfATSScSNc+9XUSl2uXan1BkTWGSTAQk9QPeJfLufwMMAu4hRA2WJhQ3LyhjW3ZSImlmorF3L6Le4AxgNmANoobnHKKw+zBgR2Ayoh/dh3XYO6FQKlMOR6FieCCRkvOk7f3L4sBSjUUPSZcTcuVX1mZoMsEpjv3RhPOxALCN7YElUvVK3ZEoSRsSDtJvbF82ivdbrrZ5TEj6CZHiNy3x3bd09CJslDBMbvuDVn7uJJ2DpI2Jecy0RLpl4/qe1vZglbYyzXIuSZqOmFt9UWy/mOj3fbOiDdauwMW2b6nV0CYmncIkmcAoGnJfChxr+6ESRTmTuFnt3mFsS09KynfbjHAGH7O9Vtk/te3/ltcXEN/9F7UZmkxwqhMBSfcACwHzVetKJE1F1F6+abtPx88lrUUlPXEmos7oNUm7ExHhw233V/Qtu5CIED5Uq8GM1HPyZNvn123PhKbj9SRpZ2IRbhCwge33JK0DLA/8zvZnNZmaNDmjOJe2IRa2Xwc2KosJPyBKBH7VeMY3A5K+B/wSuIbovfllcQwvB7awfaNGoXqdjEymjybJeFJNgyv1hJ8RcucrS5rF9ufEKtsUxWEcTis7hADlu91FCEk8J6lPueH+t6QIngx80XAIM2WwPSjnuRXqjhACMn8ABkiatzGGUGe9t+IQdlkRnnagHPONCAXPGyX9mmjP8giwXVkAOg/YtxkcQgDbtxIpcN+t25aJQTkmK0naSdEy4DrgBqIFx3ul7utk4JF0CJOvo5xLa0ras2TDXF3+9QQ+K/WFJwO31u0QqlDZNZDIVtkMWFHS5LavJxSGr1AoXwsyZfTryEhhkowHkuay/Wp5fRzwFTEpmozoCTUQeADYBXjbbdCHsIqki4geZMdI2gTYALjP9oVlle7jktPf8lHRJNDIbScOI5yCm0pa0eHAxsCPiZ6OV5Y6wjz+bYCkBYneg3sCnwH7EuqDtxDqnrMD/7L9ZK7GT1wqUdsViWfOI8SkV8TEvQ8wL1HL/jvbN9dmbNLUVM6lxYksp1uJnqOzEOJqhwDfAaYiIu61pl9KmqyxwCFpDWBu4D3b10nav2z3Bz4lxPwusP14bQa3EOkUJsk3RNGnbmVCyWo/4HMizWIXYFlCYGMLYEFiotQOfQg79htcjCjcvsD2iZK2ANYnitBvbaTLtvJ3Tv4XjWg7cg8h9z0XMfG8SVJfojfce7Z3rc/KZEJSUkaPINIQf2D7bUnfISIJZ7ZjamazI2lZYvHloFKqMBewE/CV7SNLjZVL/Vfeg5PRUpyrg4ETbN9WMj1+C0xn++elJrWn7Y9qtnNq4E5gL+BDImvhz8AKwIe2N5W0K6GKugawn+0by2fzGhgDLakAmCRNwl3EBGlnIiL2MwBJ/wX+Cqxh+2hJk5Y0y5aPlnhE/695gZdtP6UQGrlC0le2T5X0ALBqQ9ghb8TtQ+VY7gncXSLEdxMtCHaSNNT2sR1qSlv6nE8C228pWkxMTyj5XWb79ZIt0DuPcy1MQyzArUm0PXodeJhYjMT2B42BeQ9OxsAnhIrw00RPXoj2UgdJ6mH7C+CLuoxrUEpT/kTYdi/wS4/oEdxf0lm2dy0LlzPbHtR4buU1MGaypjBJxpFGHZXtNwmZ74+B+SStVVLrTgBOJGrsvkO5kZYbU0tOmjrk7u9I3JAXL9/3WWBv4EBJh9geVHEIs4asDaic841jeS5wkqQzgWttb06kFh0gaemKQ9iy53wygsb1X2p0riAiwydL2o5YsX8ij3PnY3sAUUO1s6J36lfE82hBSb2zhjsZG8pz+hEi82kPRW/LoYRy+DLAjLUaWKjch04DjiLKVRaqDNkZmLKklw6zPaiMzznIWJKRwiQZB8rNs1FP1Y/o13MMcDixWvsRUdB/gqRnbL/e+Gyr3pgaNWSNbdvnK/qTHQ4cSvSl+xuRTjht9bM5UWx9KjWEIvpUvQm8avtlhXDSl2Xom8DjrjQpb9VzPhmZUm/UWG2/StLnRJr8OoSozO0ZKawHRwPuYUSz+h8Bw4CjHb0ik2SMlAygbrYflPR94A6F8ug/iR7Dg2o2cTiN+4ztSxp17ZIeBP4CzA8sBkxJ1Dwn40jWFCbJOFImx3cATwL/VybMMxKNkb8AbrR9f2V8y06WNELCuRvR8+dtovFzf0m/JBzhG4gGybfbPr58LlNG24hy/P9C9J6cnhBQuh34APg94Rj+0/YOZXwe/zakelyLA7ICkbJ4se33ajWui6NQhT0SuMT28ZWoSl6HyVhRWQBcjhCPOr6UA3QjTqVOP5ckTVIi4Ejq6Wg1MXxOJakPUQv5OBElv76RTpqMOxkpTJJxZ1HgHdv7AUjqZfsdSUcBxxMqXcNpVYcQRqohPJaQe34X2EjS7LZPkvQ6MA/wdDqEbc16hNPXR9K3iVraNQmHcCtg4UpdRx7/NqKaKVAiht1tD7V9dYkUL0REp5IasX1DieD2k/Sy7WvqtilpXkZ1ny4OYXfbDyvaTzwo6XXbl9Rk4yTAtpKeAqYGdpG0A/BVJXPhPElDCMGltW0/k8+gb05GCpNkHJE0H9EL6icuMscKRaz5gCdtD6nTvgmNpLOAeW2vWba3JGoPngUudKX3VStHRZPRU6JCvwZWtP2ZpFmBC4BDXOlHl8e/dWlMpCQtQSgp97T9VOX9uW2/Ul5XV+qncs2KhMkISvrfy41jlSQw0vU9v+3nq/sqYyax/VUlQ2g5YLDtF2q0ewWiNOUDYPNqeUKHzIVvN1Oaa6uSQjNJMu68BFwCrKWQBAf4I/CjhkPYZgX+twHLSNqpbF9F9F5cHlilOjAdgrblBuA+YN+SwvMfIlV6huqgPP6tS5kwrk/USq8HXChpVQBJywO7SVqkjG1kEJAOYXNhe0A6hElHyvW9LnCLpEUb+wAk/axsVx3CbrYfrsshrMyhHiPErXoCU5T3hgufSepRxr3R6Ua2IekUJsk4UlKpLiTSr/8k6XpgmO2+lTFtE4K3fS3RwHYfhcLdMMIxPNP27fVal3QSXwHXAN8GHinn/CfOhthtgaRukmYh1JTXI/p/fQo8V4a8SkzK5m98pp3ucUnS7hRH8FQi2va0pJklTVneXlXRbmb4wl7dC3zF4VuIUDs/lGizcoGkzUqa6yKSpm8sxOf9aMKQ6aNJMh5Imp1Is3qpbLdt+lxZZTwWONX2eZX9mb/fhZC0NvCF7fvKdh7/FqSssLtEB3oQi8THAY8AuwM72n5R0npElHghYGVHy50kSZoYRbP5HrY/LkJ43yXUgh8hdBG2Bl4BDizX+e+ACxwtppoCSZsRLVcetH2GpB8QWVn9gN2ALWw/UKeN7UY6hUkygegKk+Nyk17K9q/qtiWZcKhD25FRvD/Kc7udF0HamSLgsDGhHPodYnK1taQbgdWA79p+W9LKhJjQDo06pCRJmpuSXrkC4fx9BCxL9BY+AJicSMe8n8gMeMj2hZIWq9YQ14mkeWy/XF5vCGxE6DWcXkp2VgUes313nXa2I+kUJkmSdGE0Qoa8G7CE7cfK/pEcvnQA24vi8J1PpMHvYftmSd8FfgsIGEBEDA91NK1PkqRFKNfyqcCSwJ62r5Q0DfC57S8kLQD8GdirkfVRPlfr4nax8RzglUZJjqRNgIOIspXzbL9fl33tTtYUJkmSdGEqDmF/YIfK/mGSFpK0X2O7LhuTCUdFIOZ+4F5gMPCFpMlKGvz2wN+J+cG+jubo7SSclSRtS+X6fgl4k4gILqhoI/VhcQjXIdIwj6g6hOVzdfQiHH5/sf0hcAowh6TDyr7rgGeApShiM8nEISOFSZIkXRxJFwKDbB9UHMTFgX8A0xBNgQ+yfXGdNibjT0WWfjagId++KnAEIRx1maS5gfdtD67N0CRJxpnK9T0H8B9gKJEevg8hFnYgoRi9GvBiEZxpirIXSWsRdctv2r6iKB7vTfRGvpiodz7Q9sM1mtn2ZKQwSZKki1GcgsbrOYnaskclHQOcAdwI9LX9DtAHmKLUoSUtSkn/danRuRT4A/Bzor3MUUTLiSOBp4BF6rM0SZJvQrm+1yP6KB8LnEvc288h0sRvAP4GDLT9dOMzNZk7nNKL8BxgMuAUSY3+t4cAswFHAielQzjxyUhhkiRJF0LSzMC6QC9gbcIJnA1YA3iNeDj3Bg4j5MAnI9pPfFiHvcn4UfpKfller0KkZm1ARAeXBG4CjgYWJtKzXrJ9Tz3WJknyTZG0InA28CNgfeD/iEyPDYCpys83bN9Vm5EdKL1Pfw7cVyKEcwAPAWfYPqqMmd72+80S1WxncuU3SZKkazGYaDx/EqHgdheApOts/7e8Phr4j+0PgA9qszQZLyT1Bn4q6bYiIDQz8DNgMWAJQll0R8IpPNX2uZXP5gQsSVqEUpc3jGg1MTvRW3g54DzgFmB925c0xtZ9bVeEy1YgFqM+lnSX7X9JWg54RtIUtvs2hGXqtrkrkOmjSZIkXQjbnwN3AbcDz0nqUyYJ/5U0g6STiT6Ev4CRRQCSlmMSYAFgY0nz2b4SeBLYHNjW9p+Bt4CZCKn64eQELEmam8a9WVJPgJJy+RzR2+93tv9FiEl9i3C8KOPqVBdtPE9mLLacDZxAZKusXKKCrxH1hQPqsbLrkpHCJEmSLoSki4BnbW9ZpL43IEQILgRWBm60fWcZm20oWpRy7AZJOgj4FbCjpEuLuMSMQF9JpwHzAbvZfrFWg5MkGSdKDeH6RPTfkgaUJu+fA9+TtAWwOvBj2/+s09YGlbrHvpLuA/5t+8zi2G4C9JR0Z3EMX2uGqGZXImsKkyRJRNvdWwAADtlJREFU2phR9BtcDLgIuMD2iWXisD6hQnmr7d3LuHwYtygVFcJeRYL+W0SN6KfAmURD637AlMDptq+p0dwkSb4BpZH72cD+ZdeZRJ/R+4F9gbmAc21fVY+F/0upaz4D2BLYD1iUyFo5FNgW+CHwS9tv1WZkFyadwiRJkjanpOzMC7xs+ytJCwJXAGfbPlXSt4FVbV/WGJ8OYWtScQjXBnYCBhKKg7cQaVofA/1svyhpOtsf5PFOktaj9Bvc1PauZXt+4E4i++NpoIftz5vh+i6tjroDWxXbZgaOIZzYnYEniIWr3rbfqMvOrk7WFCZJkrQhHWoBdwTOBxaX1N32s0QPqAOL/PegikPYre4JRPLNKQ7hqkTLiduAF4EDiInXgUT94E+LiMMHjc/UZW+SJN+Yr4CZJU1bHL/niTKAqW0PLfXjzVJDOIntIaXf7fPADkRa69XAJ8D3gHnSIayXrClMkiRpM4rjN7Sxbft8SdMDhxNpOo8T0aP+wLTVz2YNYVswK3Ce7T8BSHoIOJVoP3EYMI3tT2q0L0mS8cT2nZK2J1JIz5LUixCRur5ey4JK1sIPgT6SngNeLc+jOYDVi83fBn7eLHWPXZlMH02SJGkjGjWEJV3nYuBtoL/t/pJ+CaxJNDHeErjd9vHlc7WnGCXfjMrka15gELApUWe0ZGNxQNIFwCm2n6jP0iRJJgTVWnFJvyHqg+cjrvFbazWugqS1gOOBPYmMldlsrytpZaIt0udEO5wr67MyaZCRwiRJkjaiOIQCjgXeA94FNpI0u+2TJL0OzAM8nQ5he1Acwg2AfYB9bF8kaTXgTklbA3MQvQnzGCdJG1Du891LmuivACRNZfujum3rQKM36rSEqMyWZf+jhNr15FnX3DxkpDBJkqTNkHQWMK/tNcv2lsQD+FngQtufVcZm24kWR9ICwOXAT20/Utl/FpFKOh3Rt+yGmkxMkmQC0LE0oLrdDI5VRxsk7UykrA8CNrD9XhHIWZ64J302ml+V1EBGCpMkSdqP24CfSNrJ9vnAVYCAdYFXCAlwIGsI24SZCWXZRwAk9SiiDruWqPE0tgc3w6QxSZIxU0kJX4JIsexp+6mKAzi37Vc61I7Xfm0Xm1ci1K5fAK4DlgBmLQ7hmsDJwL7pEDYfqT6aJEnSZti+FtgG2EfSNsXxuwo40/btX//ppNlpKPpVlP1eBr6QtGKZTA6RtIakfYnF3w+hOSaNSZKMmeJcrU/0E10PuLCoCiNpeWA3SYvUaWOVyj1pReBcYHVgV+AU4ALgTUl3EFHD/Zup7jEZQUYKkyRJ2hDbN0kaChwraXLb5wEPQ3OkGSXfjA59CJeW1AO4FHgdWBtYSdLjwOnAL2wPqdHcJEnGkSISNhPQl3AI1wc+BZ4rQ14FegLzA3+vw8aOlHvSssBvgJ1sPyRpLqJX6vq2fyFpujI0sxaalIwUJkmStCllNfYIYO4O+/Nh3KJU+hCeDbwGrAJsSzj8rxATxW2J1fi7ajM0SZKxRlIPSY1ATXfgfeAxYA3CsdrB9juS1iMcxEsJAalmYhpgVULhGmKh6mHK88f2B7YHl9f5DGpCUmgmSZIkSVqASpTwaGCw7RMkTQocDPS2vWsZN5ntz3I1Pkman+IMbkw4Ud8BtrC9taQbgdWA79p+u7Rx+D3hID5fn8WjR9LGhI2H2L60qCAfD2wAvJP3o+Ym00eTJEmSpIlpKMRWJlQvA6tImtX2f4BDJT0oad7SAPpzyNX4JGkFbH8l6S3gEmJevkd565fAb4HTJQ0AdgcObVaHEMD29ZKGAZdI+hEwDDja9ts1m5aMBZk+miRJkiRNiKReJdo3TNLSktaRNCtwKzHZWkvSd0vT+l7AJ5DOYJK0Cg2BFtv3A/cCgwnRqMlsvwRsT9QNdiMUO6+vCEw1JbZvJFLYvws8avsGFWo2LRkDmT6aJEmSJE2GpN7AbsDVhOjERUB/QnhiOaA3MfFamBCdONn21fVYmyTJuFJJB5+N6OMHUZN3BKEUfZmkuYH3G7V4rYSkHxDqqXvZvqZue5Ixk05hkiRJkjQZkmYATgDeAaYCLrF9v6T9gQOAFWy/Iml2oJvtgVlDmCStQSMlXNKGwP8R0cCngfOIOsJDgL8QKaTr2b6vNmPHA0nfJ3qovlK3LcmYSacwSZIkSZoISd1tD5U0LfBrYHngj4RjOEzSfkSt0bK2n6rT1iRJxh5JPW1/WV6vQvTx24CIDi4J3AQcTWQALAW8ZPueeqxNuhrpFCZJkiRJk1BJKVuTkKZ/iJgwDgGusv1oGXcA8KTtAfVZmyTJ2FJSwn8K3Gb7MUlbEG1kegNHAScCOwJPAKcWEanGZzMLIJnopNBMkiRJkjQJxSHcgJB17277I+AYYDJgU0krlHHH2x6Q4g1J0jJMAiwAbCxpPttXAk8CmwPb2v4z8BZRQzx59YPpECadQTqFSZIkSdIkSJoS6APsZru/pB623yEiCTMAW0iapjE+J4tJ0vyUGsJBwEHAjMCOkha1PbRs95W0FDAfcJrtF2s0N+mipFOYJEmSJM2DiUni1GV7WPk5hBCdOMf2h3UYliTJuFNpK9PL9r8JEZkpgZ9ImhPYCZgO+B1wrO3HajM26dJkTWGSJEmSNBGS9iSigpfbfk7SSsBhwHa236rXuiRJxpZKjfDahPM3EPgbcAuhLvwx0M/2i5Kms/1B1g8mdZGRwiRJkiRpLq4hns9nSzoGuBA4JR3CJGktikO4KvAH4DbgRaKlzM7AgUT94E8lTWH7g8Zn6rI36dpkpDBJkiRJmgxJUwDLEJPGgbYfrtmkJEm+AZK2AWazfXzZnh84lagdBpjG9j/qsi9JGkxStwFJkiRJkoyM7U+Ae+q2I0mScaOSMjovMIiYa28r6UTbQ20/L2kQ8C3bTwCv12pwkhQyfTRJkiRJkiRJJgCVtjJnAHPavgh4FLhT0sySlgMWI0SlkqRpyPTRJEmSJEmSJJkASFoAuBz4qe1HKvvPAmalKI3avqEmE5NklGT6aJIkSZIkSZJMGGYGXm44hKXX6BDbu0oSUUM4OFVGk2Yj00eTJEmSJEmS5BtQHL3hP4GXgS8krVgcvyGS1pC0LxGM+RBSZTRpPjJSmCRJkiRJkiTjSIc+hEtL6gFcSojHrA2sJOlx4HTgF7aH1GhuknwtWVOYJEmSJEmSJN+A0ofwAuDXwI7Ag8A/gEmBNYisvKtt31STiUkyVqRTmCRJkiRJkiTjQCVKeDQw2PYJkiYFDgZ62961jJvM9mdZQ5g0O1lTmCRJkiRJkiRjgaRuMFJN4MvAgpJmtf257UOBRUufQoDPO4xPkqYkncIkSZIkSZIk+Rok9SrRvmGSlpa0jqRZgVuBYcBakr5bnMFewCeQzmDSOmT6aJIkSZIkSZKMBkm9gd2Aq4GZgIuA/sB6wHJAb2BbYGGgJ3Cy7avrsTZJvhmpPpokSZIkSZIko2coMCewPTAVsKXt+yXtDzwCrGB7b0mzA91sD8wawqTVyPTRJEmSJEmSJBkFkrrbfg/4JTFvXgSYS1I32ycAvwOek7SY7ddsD4RMG01aj4wUJkmSJEmSJEkHSrRvqKQ1ge7AEeXfwsBSwKO2f1/EZ3rXaGqSjDcZKUySJEmSJEmSDpSWExsAvwe62/4IOAaYDNhU0gpl3PG2B0hSjeYmyXiRTmGSJEmSJEmSdEDSlEAfYDfb/SX1sP0OcBQwA7CFpGka4zNlNGllMn00SZIkSZIkSf4XAzMCU5ftYeXnEKLGcA7bH9ZhWJJMaDJSmCRJkiRJkiQdsP0JcDmwoqQFSn3hSsAVwFS2n6vXwiSZcGSfwiRJkiRJkiQZBaVB/S7AGsD9wBbA3rZvrtWwJJnApFOYJEmSJEmSJKNB0hTAMkTj+oG2H67ZpCSZ4KRTmCRJkiRJkiRJ0oXJmsIkSZIkSZIkSZIuTDqFSZIkSZIkSZIkXZh0CpMkSZIkSZIkSbow6RQmSZIkSZIkSZJ0YdIpTJIkSZIkSZIk6cKkU5gkSZK0PZIs6eLK9iSS3pF0U9neSFLfMfyOIyWtPR42zCDpyfLvTUn/qWz3/Ka/N0mSJEnGl2xJkSRJkrQ9kj4GXgJWsP2ZpHWBY4B/296gBnsOBz62fUJn/99JkiRJ0pGMFCZJkiRdhVuA9cvrbYBLG29I2lHSH8rr6yVtX17vIumS8voCSZuX1wMlHSHpcUl/lzR/2b9aJfr3hKSpxsYwSb+VtEdl+zhJu0taW9Ldkm6V9IKk0yWpjFlX0l+LDZeXBttJkiRJMs6kU5gkSZJ0FS4DtpY0KbAo8PBoxv0cOFTSKsB+wJ6jGfeu7SWBM4H9y779gd1tLw6sAnw2lrb1A3YAkNQd2AL4c3lvOWA3YEFgAWBjSb2BvsBaxYangb3H8v9KkiRJkpGYpG4DkiRJkqQzsP20pDmJKOEtXzPuLUmHAncDm9p+fzRDryk/HwM2K68fAE4s0cVrbP97LG17SdJHkhYB5gAesf1BCQo+ZHsggKTLgJXLxxYEHixjegL3j83/lSRJkiQdSacwSZIk6UrcAJwArA7M8DXjFgHeA779NWO+KD+HUp6nto+VdDOwHvCApHVsPz+Wtp0H7AjMCfyxsr9j8b8BAf1tbzeWvztJkiRJRkumjyZJkiRdiX7AEbb/ProBkpYF1gWWAPaXNNfY/nJJ89j+u+3jgEeB+cfBtquBDYHFgTsq+5eXNHtJK92SiAg+CKwmae7y/04h6Xvj8H8lSZIkyXDSKUySJEm6DLb/bfvU0b0vqRdwDrCz7UFETWG/hrjLWLCPpH9IehoYAtw6DrZ9DtwLXGp7WOWtR4CzgGeBF4AbbL8F9AEul/QU4STOO7b/V5IkSZJUyZYUSZIkSdIESOoGPAlsYvuVsm9tYA/bm9RqXJIkSdLWZKQwSZIkSWqmCMy8TNQJvlK3PUmSJEnXIiOFSZIkSZIkSZIkXZiMFCZJkiRJkiRJknRh0ilMkiRJkiRJkiTpwqRTmCRJkiRJkiRJ0oVJpzBJkiRJkiRJkqQLk05hkiRJkiRJkiRJFyadwiRJkiRJkiRJki7M/wN1IkQFENFUXwAAAABJRU5ErkJggg==\n",
      "text/plain": [
       "<Figure size 1080x576 with 1 Axes>"
      ]
     },
     "metadata": {
      "needs_background": "light"
     },
     "output_type": "display_data"
    }
   ],
   "source": [
    "plt.figure(figsize=(15,8))\n",
    "plt.bar(mixins['mixins'], mixins['count'])\n",
    "plt.xticks(rotation=45)\n",
    "plt.xlabel(r\"Mixins Type\")\n",
    "plt.ylabel(r\"Number\")\n",
    "plt.title(r\"Bar chart Mixins\")\n",
    "plt.show()"
   ]
  },
  {
   "cell_type": "markdown",
   "metadata": {},
   "source": [
    "Relation with target"
   ]
  },
  {
   "cell_type": "code",
   "execution_count": 134,
   "metadata": {},
   "outputs": [
    {
     "data": {
      "text/plain": [
       "mixins                          quality\n",
       "chocolate                       4            1\n",
       "                                5           21\n",
       "                                6           77\n",
       "                                7          552\n",
       "                                8          901\n",
       "                                9          284\n",
       "                                10          54\n",
       "                                11           3\n",
       "chocolate, oats                 5            4\n",
       "                                6           17\n",
       "                                7          120\n",
       "                                8          390\n",
       "                                9          186\n",
       "                                10          32\n",
       "chocolate, oats, peanut butter  4            1\n",
       "                                5            1\n",
       "chocolate, peanut butter        3            1\n",
       "                                4            6\n",
       "                                5           25\n",
       "                                6           13\n",
       "                                7            6\n",
       "                                8            1\n",
       "nuts, chocolate                 3            1\n",
       "                                4            5\n",
       "                                5           98\n",
       "                                6          119\n",
       "                                7          137\n",
       "                                8           94\n",
       "                                9           54\n",
       "                                10          13\n",
       "                                          ... \n",
       "nuts, oats, chocolate           9            1\n",
       "                                10           2\n",
       "nuts,raisins                    3            1\n",
       "                                4            7\n",
       "                                5          121\n",
       "                                6          124\n",
       "                                7           46\n",
       "                                8           23\n",
       "                                9            7\n",
       "                                10           4\n",
       "oats                            8            2\n",
       "                                9            2\n",
       "peanut butter                   3            1\n",
       "                                4            3\n",
       "                                5            6\n",
       "                                6            5\n",
       "peanut butter, raisins          3            1\n",
       "raisins                         4            3\n",
       "                                5           69\n",
       "                                6          139\n",
       "                                7          426\n",
       "                                8          356\n",
       "                                9          173\n",
       "                                10          32\n",
       "                                11           2\n",
       "raisins, oats                   3            1\n",
       "                                4            5\n",
       "                                5           13\n",
       "                                6            3\n",
       "                                7            2\n",
       "Name: diameter, Length: 72, dtype: int64"
      ]
     },
     "execution_count": 134,
     "metadata": {},
     "output_type": "execute_result"
    }
   ],
   "source": [
    "data.groupby(['mixins','quality'])['diameter'].count()"
   ]
  },
  {
   "cell_type": "markdown",
   "metadata": {},
   "source": [
    "In the next step we need to separate the mixins by columns"
   ]
  },
  {
   "cell_type": "markdown",
   "metadata": {},
   "source": [
    "### Numerical"
   ]
  },
  {
   "cell_type": "markdown",
   "metadata": {},
   "source": [
    "#### Describing 'Calories'"
   ]
  },
  {
   "cell_type": "code",
   "execution_count": 143,
   "metadata": {},
   "outputs": [
    {
     "name": "stdout",
     "output_type": "stream",
     "text": [
      "Numbers of Nulls:  0\n",
      "The description of this variable is:  count    5198.000000\n",
      "mean      115.015294\n",
      "std        56.506171\n",
      "min       -99.000000\n",
      "25%        76.000000\n",
      "50%       118.000000\n",
      "75%       155.000000\n",
      "max       366.500000\n",
      "Name: calories, dtype: float64\n"
     ]
    },
    {
     "data": {
      "image/png": "iVBORw0KGgoAAAANSUhEUgAAAYAAAAD8CAYAAAB+UHOxAAAABHNCSVQICAgIfAhkiAAAAAlwSFlzAAALEgAACxIB0t1+/AAAADl0RVh0U29mdHdhcmUAbWF0cGxvdGxpYiB2ZXJzaW9uIDMuMC4zLCBodHRwOi8vbWF0cGxvdGxpYi5vcmcvnQurowAAFiVJREFUeJzt3X+QXWV9x/H3pwmESFoSiN6mSaYbatRGV9u4DXFsnYtRCOAYOoM2TCqJTWenChbLdjToTJnqMBPtRCpTi7OVlDDDECJiyUgsxsAdpjNN+CWQhIgsEMzuBCIGoisIrn77x3mCd7eb7O65N3uz+3xeM3dyzvc859znPLm7nz3n3nuOIgIzM8vP77S6A2Zm1hoOADOzTDkAzMwy5QAwM8uUA8DMLFMOADOzTDkAzMwy5QAwM8uUA8DMLFNTW92B45k9e3a0tbWVWvcXv/gFp59+enM7NMF4DAoeB4/BUbmMw0MPPfRCRLxxpHYndQC0tbXx4IMPllq3VqtRrVab26EJxmNQ8Dh4DI7KZRwkPTuadj4FZGaWKQeAmVmmHABmZplyAJiZZcoBYGaWKQeAmVmmHABmZplyAJiZZcoBYGaWqZP6m8BmI2lbd9eIbbraB1gzinZjtX/9RU3fptl48hGAmVmmHABmZplyAJiZZcoBYGaWKQeAmVmmHABmZpkaMQAkbZR0SNKeIfVPSfqhpL2SvlxXv1pSj6QnJJ1fV1+eaj2S1jV3N8zMbKxG8z2Am4B/A24+WpB0LrACeFdEvCrpTam+CFgJvB34A+D7kt6SVvsa8EGgF3hA0taIeLxZO2JmZmMzYgBExH2S2oaUPwGsj4hXU5tDqb4C2Jzqz0jqAZakZT0R8TSApM2prQPAzKxFyn4T+C3AX0i6Fvgl8I8R8QAwF9hZ16431QAODKmfM9yGJXUCnQCVSoVarVaqg/39/aXXnSxyGIOu9oER21Smj67dWE2ksc3htTAaHofBygbAVOBMYCnwZ8AWSWc3o0MR0Q10A3R0dETZGzjncvPn48lhDEZziYeu9gE27G7+VU/2r6o2fZsnSg6vhdHwOAxW9qeiF7gjIgK4X9JvgNlAHzC/rt28VOM4dTMza4GyHwP9L+BcgPQm76nAC8BWYKWkaZIWAAuB+4EHgIWSFkg6leKN4q2Ndt7MzMob8QhA0q1AFZgtqRe4BtgIbEwfDX0NWJ2OBvZK2kLx5u4AcHlE/Dpt5wrgbmAKsDEi9p6A/TEzs1EazaeALj3Gor8+RvtrgWuHqW8Dto2pd2ZmdsL4m8BmZplyAJiZZcoBYGaWKQeAmVmmHABmZplyAJiZZcoBYGaWKQeAmVmmHABmZplyAJiZZcoBYGaWKQeAmVmmHABmZplyAJiZZcoBYGaWqREDQNJGSYfSzV+GLuuSFJJmp3lJul5Sj6THJC2ua7ta0pPpsbq5u2FmZmM1miOAm4DlQ4uS5gPnAT+uK19AcRvIhUAncENqeybFncTOAZYA10ia1UjHzcysMSMGQETcBxweZtF1wGeAqKutAG6Owk5gpqQ5wPnA9og4HBEvAtsZJlTMzGz8lHoPQNIKoC8iHh2yaC5woG6+N9WOVTczsxYZ8Z7AQ0l6A/A5itM/TSepk+L0EZVKhVqtVmo7/f39pdedLHIYg672gRHbVKaPrt1YTaSxzeG1MBoeh8HGHADAHwELgEclAcwDHpa0BOgD5te1nZdqfUB1SL023MYjohvoBujo6IhqtTpcsxHVajXKrjtZ5DAGa9bdNWKbrvYBNuwu81I/vv2rqk3f5omSw2thNDwOg435FFBE7I6IN0VEW0S0UZzOWRwRzwFbgcvSp4GWAkci4iBwN3CepFnpzd/zUs3MzFpkNB8DvRX4X+CtknolrT1O823A00AP8B/AJwEi4jDwReCB9PhCqpmZWYuMeFwcEZeOsLytbjqAy4/RbiOwcYz9MzOzE8TfBDYzy5QDwMwsUw4AM7NMOQDMzDLV/A9Hm2WibRTfQTgR9q+/qCXPa5OPjwDMzDLlADAzy5QDwMwsUw4AM7NMOQDMzDLlADAzy5QDwMwsUw4AM7NMOQDMzDLlADAzy5QDwMwsU6O5I9hGSYck7amr/YukH0p6TNK3Jc2sW3a1pB5JT0g6v66+PNV6JK1r/q6YmdlYjOYI4CZg+ZDaduAdEfFO4EfA1QCSFgErgbendf5d0hRJU4CvARcAi4BLU1szM2uREQMgIu4DDg+pfS8iBtLsTmBeml4BbI6IVyPiGYp7Ay9Jj56IeDoiXgM2p7ZmZtYizbgc9N8At6XpuRSBcFRvqgEcGFI/Z7iNSeoEOgEqlQq1Wq1Up/r7+0uvO1nkMAZd7QMjtqlMH127iaLM/2kOr4XR8DgM1lAASPo8MADc0pzuQER0A90AHR0dUa1WS22nVqtRdt3JIocxWDOKa/J3tQ+wYffkufXF/lXVMa+Tw2thNDwOg5X+qZC0BvgQsCwiIpX7gPl1zealGsepm5lZC5T6GKik5cBngA9HxMt1i7YCKyVNk7QAWAjcDzwALJS0QNKpFG8Ub22s62Zm1ogRjwAk3QpUgdmSeoFrKD71Mw3YLglgZ0T8XUTslbQFeJzi1NDlEfHrtJ0rgLuBKcDGiNh7AvbHzMxGacQAiIhLhynfeJz21wLXDlPfBmwbU+/MzOyE8TeBzcwy5QAwM8uUA8DMLFMOADOzTDkAzMwy5QAwM8uUA8DMLFMOADOzTDkAzMwy5QAwM8uUA8DMLFMOADOzTDkAzMwy5QAwM8uUA8DMLFMjBoCkjZIOSdpTVztT0nZJT6Z/Z6W6JF0vqUfSY5IW162zOrV/UtLqE7M7ZmY2WqM5ArgJWD6ktg7YERELgR1pHuACittALgQ6gRugCAyKO4mdAywBrjkaGmZm1hojBkBE3AccHlJeAWxK05uAi+vqN0dhJzBT0hzgfGB7RByOiBeB7fz/UDEzs3FU9j2ASkQcTNPPAZU0PRc4UNeuN9WOVTczsxYZ8Z7AI4mIkBTN6AyApE6K00dUKhVqtVqp7fT395ded7LIYQy62gdGbFOZPrp2E0WZ/9McXguj4XEYrGwAPC9pTkQcTKd4DqV6HzC/rt28VOsDqkPqteE2HBHdQDdAR0dHVKvV4ZqNqFarUXbdySKHMViz7q4R23S1D7Bhd8N/65w09q+qjnmdHF4Lo+FxGKzsKaCtwNFP8qwG7qyrX5Y+DbQUOJJOFd0NnCdpVnrz97xUMzOzFhnxzyJJt1L89T5bUi/Fp3nWA1skrQWeBT6amm8DLgR6gJeBjwNExGFJXwQeSO2+EBFD31g2M7NxNGIARMSlx1i0bJi2AVx+jO1sBDaOqXdmZnbC+JvAZmaZcgCYmWXKAWBmlikHgJlZphwAZmaZcgCYmWXKAWBmlikHgJlZphwAZmaZcgCYmWXKAWBmlikHgJlZphwAZmaZcgCYmWXKAWBmlikHgJlZphoKAEn/IGmvpD2SbpV0mqQFknZJ6pF0m6RTU9tpab4nLW9rxg6YmVk5pe+ULWku8PfAooh4RdIWYCXFLSGvi4jNkr4OrAVuSP++GBFvlrQS+BLwVw3vgZ0U2kZxc3YzO7k0egpoKjBd0lTgDcBB4P3A7Wn5JuDiNL0izZOWL5OkBp/fzMxKUnEb35IrS1cC1wKvAN8DrgR2RsSb0/L5wHcj4h2S9gDLI6I3LXsKOCciXhiyzU6gE6BSqbx78+bNpfrW39/PjBkzyu3YJDGeY7C778i4PE8Zlenw/Cut7kXztM89Y8zr+OehkMs4nHvuuQ9FRMdI7Ro5BTSL4q/6BcBLwDeB5WW3d1REdAPdAB0dHVGtVkttp1arUXbdyWI8x2DNSXwKqKt9gA27S7/UTzr7V1XHvI5/Hgoeh8EaOQX0AeCZiPhJRPwKuAN4LzAznRICmAf0pek+YD5AWn4G8NMGnt/MzBrQSAD8GFgq6Q3pXP4y4HHgXuCS1GY1cGea3prmScvviUbOP5mZWUNKB0BE7KJ4M/dhYHfaVjfwWeAqST3AWcCNaZUbgbNS/SpgXQP9NjOzBjV0YjQirgGuGVJ+GlgyTNtfAh9p5PnMzKx5/E1gM7NMOQDMzDLlADAzy5QDwMwsUw4AM7NMOQDMzDI1eb4fb8Dgq3J2tQ+c1JdoMLPW8hGAmVmmHABmZplyAJiZZcoBYGaWKQeAmVmmHABmZplyAJiZZcoBYGaWqYYCQNJMSbdL+qGkfZLeI+lMSdslPZn+nZXaStL1knokPSZpcXN2wczMymj0COCrwH9HxNuAdwH7KO70tSMiFgI7+O2dvy4AFqZHJ3BDg89tZmYNKB0Aks4A3ke65WNEvBYRLwErgE2p2Sbg4jS9Arg5Cjspbh4/p3TPzcysIY0cASwAfgL8p6QfSPqGpNOBSkQcTG2eAyppei5woG793lQzM7MWaORicFOBxcCnImKXpK8y5EbvERGSYiwbldRJcYqISqVCrVYr1bn+/v7S605kXe0Dr09Xpg+ez9VkG4cyr+tcfx6G8jgM1kgA9AK9EbErzd9OEQDPS5oTEQfTKZ5DaXkfML9u/XmpNkhEdAPdAB0dHVGtVkt1rlarUXbdiWzNkKuBbtjtC75OtnHYv6o65nVy/XkYyuMwWOlTQBHxHHBA0ltTaRnwOLAVWJ1qq4E70/RW4LL0aaClwJG6U0VmZjbOGv2z6FPALZJOBZ4GPk4RKlskrQWeBT6a2m4DLgR6gJdTWzMza5GGAiAiHgE6hlm0bJi2AVzeyPOZmVnzTJ4To2aZaCtxl7dm3R1u//qLGt6GnTx8KQgzs0w5AMzMMuUAMDPLlAPAzCxTDgAzs0w5AMzMMuUAMDPLlAPAzCxTDgAzs0w5AMzMMuUAMDPLlAPAzCxTDgAzs0w5AMzMMuUAMDPLVMMBIGmKpB9I+k6aXyBpl6QeSbelu4UhaVqa70nL2xp9bjMzK68ZRwBXAvvq5r8EXBcRbwZeBNam+lrgxVS/LrUzM7MWaSgAJM0DLgK+keYFvB+4PTXZBFycplekedLyZam9mZm1QKNHAP8KfAb4TZo/C3gpIgbSfC8wN03PBQ4ApOVHUnszM2uB0vcElvQh4FBEPCSp2qwOSeoEOgEqlQq1Wq3Udvr7+0uvO5F1tQ+8Pl2ZPng+Vx6H5o3BRP+ZyvX3wrE0clP49wIflnQhcBrwe8BXgZmSpqa/8ucBfal9HzAf6JU0FTgD+OnQjUZEN9AN0NHREdVqtVTnarUaZdedyOpv/N3VPsCG3Y38F08OHofmjcH+VdXGO9NCuf5eOJbSp4Ai4uqImBcRbcBK4J6IWAXcC1ySmq0G7kzTW9M8afk9ERFln9/MzBpzIr4H8FngKkk9FOf4b0z1G4GzUv0qYN0JeG4zMxulphwXR0QNqKXpp4Elw7T5JfCRZjyfmZk1zt8ENjPLlAPAzCxTDgAzs0w5AMzMMuUAMDPLlAPAzCxTDgAzs0w5AMzMMuUAMDPLlAPAzCxTDgAzs0w5AMzMMuUAMDPLlAPAzCxTDgAzs0w5AMzMMlU6ACTNl3SvpMcl7ZV0ZaqfKWm7pCfTv7NSXZKul9Qj6TFJi5u1E2ZmNnaNHAEMAF0RsQhYClwuaRHFrR53RMRCYAe/vfXjBcDC9OgEbmjguc3MrEGN3BT+YEQ8nKZ/DuwD5gIrgE2p2Sbg4jS9Arg5CjuBmZLmlO65mZk1RBHR+EakNuA+4B3AjyNiZqoLeDEiZkr6DrA+Iv4nLdsBfDYiHhyyrU6KIwQqlcq7N2/eXKpP/f39zJgxo9wOTWC7+468Pl2ZDs+/0sLOnCQ8Ds0bg/a5ZzS+kRbK5ffCueee+1BEdIzUruGbwkuaAXwL+HRE/Kz4nV+IiJA0poSJiG6gG6CjoyOq1WqpftVqNcquO5GtWXfX69Nd7QNs2N3wf/GE53Fo3hjsX1VtvDMtlOvvhWNp6FNAkk6h+OV/S0TckcrPHz21k/49lOp9wPy61eelmpmZtUAjnwIScCOwLyK+UrdoK7A6Ta8G7qyrX5Y+DbQUOBIRB8s+v5mZNaaRY8L3Ah8Ddkt6JNU+B6wHtkhaCzwLfDQt2wZcCPQALwMfb+C5zcysQaUDIL2Zq2MsXjZM+wAuL/t8ZmbWXP4msJlZphwAZmaZcgCYmWXKAWBmlikHgJlZphwAZmaZcgCYmWXKAWBmlqm8r5BlZmPSVnexwfG0f/1FLXneyc5HAGZmmXIAmJllygFgZpYpB4CZWaYcAGZmmXIAmJllatwDQNJySU9I6pG0bryf38zMCuMaAJKmAF8DLgAWAZdKWjSefTAzs8J4HwEsAXoi4umIeA3YDKwY5z6YmRnj/03gucCBuvle4JwT9WT+1qLZ5NCsn+Wu9gHWjHFbk/nnWcWtesfpyaRLgOUR8bdp/mPAORFxRV2bTqAzzb4VeKLk080GXmigu5OBx6DgcfAYHJXLOPxhRLxxpEbjfQTQB8yvm5+Xaq+LiG6gu9EnkvRgRHQ0up2JzGNQ8Dh4DI7yOAw23u8BPAAslLRA0qnASmDrOPfBzMwY5yOAiBiQdAVwNzAF2BgRe8ezD2ZmVhj3y0FHxDZg2zg8VcOnkSYBj0HB4+AxOMrjUGdc3wQ2M7OThy8FYWaWqQkfAJI+ImmvpN9I6hiy7Op0yYknJJ1fV5/0l6PIYR8BJG2UdEjSnrramZK2S3oy/Tsr1SXp+jQmj0la3LqeN4+k+ZLulfR4+lm4MtVzG4fTJN0v6dE0Dv+c6gsk7Ur7e1v6AAqSpqX5nrS8rZX9b4mImNAP4I8pvi9QAzrq6ouAR4FpwALgKYo3nqek6bOBU1ObRa3ejyaPyaTfx7p9fR+wGNhTV/sysC5NrwO+lKYvBL4LCFgK7Gp1/5s0BnOAxWn6d4Efpdd/buMgYEaaPgXYlfZvC7Ay1b8OfCJNfxL4eppeCdzW6n0Y78eEPwKIiH0RMdyXxVYAmyPi1Yh4BuihuBRFDpejyGEfAYiI+4DDQ8orgE1pehNwcV395ijsBGZKmjM+PT1xIuJgRDycpn8O7KP41n1u4xAR0Z9mT0mPAN4P3J7qQ8fh6PjcDiyTpHHq7klhwgfAcQx32Ym5x6lPJjns4/FUIuJgmn4OqKTpST8u6TTGn1L89ZvdOEiaIukR4BCwneJI+KWIGEhN6vf19XFIy48AZ41vj1tr3D8GWoak7wO/P8yiz0fEnePdH5s4IiIkZfFRN0kzgG8Bn46In9X/MZvLOETEr4E/kTQT+DbwthZ36aQ2IQIgIj5QYrXjXXbiuJejmARGvOTGJPe8pDkRcTCd2jiU6pN2XCSdQvHL/5aIuCOVsxuHoyLiJUn3Au+hOMU1Nf2VX7+vR8ehV9JU4Azgpy3pcItM5lNAW4GV6Z3+BcBC4H7yuBxFDvt4PFuB1Wl6NXBnXf2y9CmYpcCRulMkE1Y6b30jsC8ivlK3KLdxeGP6yx9J04EPUrwfci9wSWo2dByOjs8lwD2R3hHORqvfhW70AfwlxXm9V4Hngbvrln2e4hzgE8AFdfULKT4p8RTFaaSW78cJGJdJv49pP28FDgK/Sq+DtRTncXcATwLfB85MbUVxQ6KngN3UfWpsIj+AP6d4s/Mx4JH0uDDDcXgn8IM0DnuAf0r1syn++OsBvglMS/XT0nxPWn52q/dhvB/+JrCZWaYm8ykgMzM7DgeAmVmmHABmZplyAJiZZcoBYGaWKQeAmVmmHABmZplyAJiZZer/ADHAbwg3RdzCAAAAAElFTkSuQmCC\n",
      "text/plain": [
       "<Figure size 432x288 with 1 Axes>"
      ]
     },
     "metadata": {
      "needs_background": "light"
     },
     "output_type": "display_data"
    },
    {
     "name": "stdout",
     "output_type": "stream",
     "text": [
      "AxesSubplot(0.125,0.125;0.775x0.755)\n"
     ]
    },
    {
     "data": {
      "image/png": "iVBORw0KGgoAAAANSUhEUgAAAWQAAAEKCAYAAAAl5S8KAAAABHNCSVQICAgIfAhkiAAAAAlwSFlzAAALEgAACxIB0t1+/AAAADl0RVh0U29mdHdhcmUAbWF0cGxvdGxpYiB2ZXJzaW9uIDMuMC4zLCBodHRwOi8vbWF0cGxvdGxpYi5vcmcvnQurowAADUpJREFUeJzt3X1sXXUdx/HPd+0GI4i4bpmkgGWWiBgMksWAMUhwi9sSqBpISIgrKPG560BiMBijf5iIf3RsxYSQSNwMERhiOpJtuAk+YQQ3BTYYyOVJacbYuvDkBqzb1z/Or+OutLT39N57vr33/UpuuPfc8/A7Z92b03PXU3N3AQCKN6PoAQAAMgQZAIIgyAAQBEEGgCAIMgAEQZABIAiCDABBEGQACIIgA0AQrZXMPHfuXO/o6KjRUACgMW3fvn2fu8+baL6KgtzR0aFt27blHxUANCEze3Ey83HJAgCCIMgAEARBBoAgCDIABEGQASAIggwAQRBkAAiCIANAEAQZAIIgyAAQBEEGgCAIMgAEQZABIAiCDABBEGQACIIgA0AQBBkAgiDIABAEQQaAICr6nXpobv39/SqVSnXb3uDgoCSpvb29Ztvo7OxUT09PzdYPVIIgY9JKpZIe3blLh0+YU5fttRx4TZL08tu1+TJtObC/JusF8iLIqMjhE+bo4FnL6rKt2U9tlKSabW9k/UAUXEMGgCAIMgAEQZABIAiCDABBEGQACIIgA0AQBBkAgiDIABAEQQaAIAgyAARBkAEgCIIMAEEQZAAIgiADQBAEGQCCIMgAEARBBoAgCDIABEGQASAIggwAQRBkAAiCIANAEAQZAIIgyAAQBEEGgCAIMgAEQZABIAiCDABBEGQACIIgA0AQBBkAgiDIABAEQQaAIAgyAARBkAEgCIIMAEEQZAAIgiADQBAEGQCCIMgAEARBBoAgCHKd9Pf3q7+/v+hhALnxNVx7rUUPoFmUSqWihwBMCV/DtccZMgAEQZABIAiCDABBEGQACIIgA0AQBBkAgiDIABAEQQaAIAgyAARBkAEgCIIMAEEQZAAIgiADQBAEGQCCIMgAEARBBoAgCDIABEGQASAIggwAQRBkAAiCIANAEAQZAIIgyAAQBEEGgCAIMgAEQZABIAiCDABBEGQACIIgA0AQBBkAgiDIABAEQQaAIAgyAARBkAEgCIIMAEEQZAAIgiADQBAEGQCCqEuQBwYGdNFFF+m+++6rx+YA1MHQ0JBWrFihoaGhY55PNG811jfV8dZjuTzqEuSbb75ZktTX11ePzQGog7Vr12rHjh1at27dMc8nmrca65vqeOuxXB41D/LAwIDcXZLk7pwlAw1gaGhImzdvlrtr06ZN2rRpk9xdmzdvfs+ZZPm8Y71f6fqmOt5K1pl3ubxaa7p2vXt2PKKvr0+XXHJJrTcbzuDgoA4ePKje3t6ih5JbqVTSjHe86GFUzYy3Xlep9Ma0/jOpp1KppNmzZ0vKzhqPHDkiSTp06NDReQ4fPqx169bp2muvPTqtfN6x3q90fXlMZgzVXC6vCc+QzezrZrbNzLbt3bu34g2MnB2P9xrA9LN161YNDw9Lyv5Oj/y9Hh4e1pYtW8add6z3K13fVMdbyTrzLpfXhGfI7n6bpNskaeHChRXX1MyOibCZVbqKhtDe3i5JWr16dcEjya+3t1fbn9tT9DCq5sjxJ6lzwfxp/WdST+XfSSxatEgbN27U8PDw0b/T7q7W1lYtXrz4mOXK5x3r/UrXl8dkxlDN5fKq+TXklStXHvP6uuuuq/UmAdRYd3e3ZszI8jFz5ky1tmbndi0tLVq+fPm48471fqXrm+p4K1ln3uXyqnmQu7q6jv4fz8ya8vox0Gja2tq0ZMkSmZmWLl2qpUuXysy0ZMkStbW1jTvvWO9Xur6pjreSdeZdLq+af6gnZWfJq1at4uwYaCDd3d164YUXjp41lj+faN6prq8a4631cnnUJchdXV3q6uqqx6YA1ElbW5vWrFlz9HX584nmner68pjMGKq5XB786DQABEGQASAIggwAQRBkAAiCIANAEAQZAIIgyAAQBEEGgCAIMgAEQZABIAiCDABBEGQACIIgA0AQBBkAgiDIABAEQQaAIAgyAARBkAEgCIIMAEEQZAAIgiADQBAEGQCCIMgAEARBBoAgCDIABEGQASAIggwAQRBkAAiCIANAEAQZAIIgyAAQBEEGgCAIMgAEQZABIAiCDABBEGQACIIgA0AQBBkAgmgtegDNorOzs+ghAFPC13DtEeQ66enpKXoIwJTwNVx7XLIAgCAIMgAEQZABIAiCDABBEGQACIIgA0AQBBkAgiDIABAEQQaAIAgyAARBkAEgCIIMAEEQZAAIgiADQBAEGQCCIMgAEARBBoAgCDIABEGQASAIggwAQRBkAAiCIANAEAQZAIIgyAAQBEEGgCAIMgAEQZABIAiCDABBEGQACIIgA0AQBBkAgiDIABAEQQaAIAgyAARBkAEgCIIMAEEQZAAIgiADQBAEGQCCIMgAEERr0QPA9NJyYL9mP7WxTtsakqSaba/lwH5J82uybiAPgoxJ6+zsrOv2BgeHJUnt7bWK5vy67xPwfggyJq2np6foIQANjWvIABAEQQaAIAgyAARBkAEgCIIMAEEQZAAIgiADQBAEGQCCIMgAEARBBoAgCDIABEGQASAIggwAQRBkAAiCIANAEAQZAIIgyAAQBEEGgCAIMgAEQZABIAhz98nPbLZX0os5tjNX0r4cyzUajgPHQOIYjGim4/ARd5830UwVBTkvM9vm7gtrvqHgOA4cA4ljMILj8F5csgCAIAgyAARRryDfVqftRMdx4BhIHIMRHIdR6nINGQAwMS5ZAEAQVQ+ymV1uZk+Y2REzWzjqvR+YWcnMnjazL5RNX5KmlczshmqPqWiNvn/lzOx2M3vFzHaWTZtjZlvM7Jn03w+l6WZma9JxedzMzitu5NVjZqeZ2YNm9mT6u9CbpjfNcTCz483sETN7LB2Dn6TpZ5jZw2lf7zKzWWn6cel1Kb3fUeT4C+PuVX1I+rikj0n6o6SFZdPPlvSYpOMknSHpWUkt6fGspAWSZqV5zq72uIp6NPr+jbG/F0o6T9LOsmk/l3RDen6DpJvS82WSNkkySedLerjo8VfpGJwi6bz0/AOS/p2+/pvmOKR9OTE9nynp4bRvd0u6Ik2/VdK30vNvS7o1Pb9C0l1F70MRj6qfIbv7Lnd/eoy3uiTd6e5vu/vzkkqSPp0eJXd/zt3fkXRnmrdRNPr+HcPd/yxp/6jJXZLWpudrJX2xbPo6z/xd0slmdkp9Rlo77r7b3f+Znr8haZekdjXRcUj78mZ6OTM9XNLFku5J00cfg5Fjc4+kz5uZ1Wm4YdTzGnK7pP+WvX4pTRtveqNo9P2bjPnuvjs9f1nS/PS84Y9N+tb7U8rOEJvqOJhZi5k9KukVSVuUfaf4qrsPp1nK9/PoMUjvvyaprb4jLl5rnoXMbKukD4/x1o3uPjC1IaGRububWVP80x4zO1HSbyWtdPfXy0/4muE4uPthSeea2cmSfifprIKHFF6uILv7ohyLDUo6rez1qWma3md6I3i//W4We8zsFHffnb4VfyVNb9hjY2YzlcX4Dne/N01uuuMgSe7+qpk9KOkCZZdjWtNZcPl+jhyDl8ysVdIHJQ0VMuAC1fOSxQZJV6RPU8+QdKakRyT9Q9KZ6dPXWcou6G+o47hqrdH3bzI2SOpOz7slDZRNX57+lcH5kl4r+5Z+2krXPn8paZe795W91TTHwczmpTNjmdlsSYuVXUt/UNJlabbRx2Dk2Fwm6QFPn/A1lWp/SijpS8quDb0taY+k+8veu1HZdaSnJS0tm75M2SfRzyq77FH4p51VPiYNvX+j9vU3knZLOpS+Dr6m7FrgHyQ9I2mrpDlpXpP0i3RcdqjsX+VM54ekzyr7AOtxSY+mx7JmOg6SPinpX+kY7JT0ozR9gbITsZKk9ZKOS9OPT69L6f0FRe9DEQ9+Ug8AguAn9QAgCIIMAEEQZAAIgiADQBAEGQCCIMiYFszsKjO7pcJlLm30u+uhseT6ST0guvTTYBvUfD+Eg2mMIKNQZrZc0vV69wcp7pb0Q2W3Kh2SdKW77xm1TIek25X9Gvm9kq529/+Y2a8kvaXsZj4Pmdnjyn7I4rtmNk/Z7R5PT6tZ6e4PmdnnJK1O01zShZ7doQ2oO4KMwpjZJ5TF9zPuvs/M5iiL4vnu7mZ2jaTvS/reqEX7Ja1197Vm9lVJa/TubRxPTes7bGZXlS2zWtIqd/+rmZ0u6X5l9+6+XtJ3UpxPVBZ0oBAEGUW6WNJ6d98nSe6+38zOkXRXuvnOLEnPj7HcBZK+nJ7/WtmN30es9+wuY6MtknR22R3XTkoBfkhSn5ndIeled39pqjsF5MWHeoimX9It7n6OpG8ou8dBJf43zvQZys68z02Pdnd/091/JukaSbOVXebgFpEoDEFGkR6QdLmZtUnZ75xTdtvFkVsydo+z3N+U3TVPkq6U9JdJbOv3knpGXpjZuem/H3X3He5+k7I78xFkFIYgozDu/oSkn0r6k5k9JqlP0o8lrTez7ZL2jbNoj6Sr04d2X5HUO4nNrZC0MP0S0SclfTNNX2lmO9O6Din73XZAIbjbGwAEwRkyAARBkAEgCIIMAEEQZAAIgiADQBAEGQCCIMgAEARBBoAg/g9VdB5WH+FkZQAAAABJRU5ErkJggg==\n",
      "text/plain": [
       "<Figure size 432x288 with 1 Axes>"
      ]
     },
     "metadata": {
      "needs_background": "light"
     },
     "output_type": "display_data"
    }
   ],
   "source": [
    "description('calories')"
   ]
  },
  {
   "cell_type": "markdown",
   "metadata": {},
   "source": [
    "Vemos que el valor mínimo es -99, por lo que deducimos que estos serán nuestros valores nulos. Si los dejamos así, la media de calorías deja de ser real."
   ]
  },
  {
   "cell_type": "markdown",
   "metadata": {},
   "source": [
    "#### Describing 'Density'"
   ]
  },
  {
   "cell_type": "code",
   "execution_count": 145,
   "metadata": {},
   "outputs": [
    {
     "name": "stdout",
     "output_type": "stream",
     "text": [
      "Numbers of Nulls:  0\n",
      "The description of this variable is:  count    5198.000000\n",
      "mean        0.995819\n",
      "std         0.062193\n",
      "min         0.987110\n",
      "25%         0.992300\n",
      "50%         0.994800\n",
      "75%         0.996908\n",
      "max         5.000000\n",
      "Name: density, dtype: float64\n"
     ]
    },
    {
     "data": {
      "image/png": "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\n",
      "text/plain": [
       "<Figure size 432x288 with 1 Axes>"
      ]
     },
     "metadata": {
      "needs_background": "light"
     },
     "output_type": "display_data"
    },
    {
     "name": "stdout",
     "output_type": "stream",
     "text": [
      "AxesSubplot(0.125,0.125;0.775x0.755)\n"
     ]
    },
    {
     "data": {
      "image/png": "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\n",
      "text/plain": [
       "<Figure size 432x288 with 1 Axes>"
      ]
     },
     "metadata": {
      "needs_background": "light"
     },
     "output_type": "display_data"
    }
   ],
   "source": [
    "description('density')"
   ]
  },
  {
   "cell_type": "code",
   "execution_count": 147,
   "metadata": {},
   "outputs": [
    {
     "data": {
      "text/html": [
       "<div>\n",
       "<style scoped>\n",
       "    .dataframe tbody tr th:only-of-type {\n",
       "        vertical-align: middle;\n",
       "    }\n",
       "\n",
       "    .dataframe tbody tr th {\n",
       "        vertical-align: top;\n",
       "    }\n",
       "\n",
       "    .dataframe thead th {\n",
       "        text-align: right;\n",
       "    }\n",
       "</style>\n",
       "<table border=\"1\" class=\"dataframe\">\n",
       "  <thead>\n",
       "    <tr style=\"text-align: right;\">\n",
       "      <th></th>\n",
       "      <th>sugar to flour ratio</th>\n",
       "      <th>sugar index</th>\n",
       "      <th>bake temp</th>\n",
       "      <th>chill time</th>\n",
       "      <th>calories</th>\n",
       "      <th>density</th>\n",
       "      <th>pH</th>\n",
       "      <th>grams baking soda</th>\n",
       "      <th>bake time</th>\n",
       "      <th>quality</th>\n",
       "      <th>butter type</th>\n",
       "      <th>weight</th>\n",
       "      <th>diameter</th>\n",
       "      <th>mixins</th>\n",
       "      <th>crunch factor</th>\n",
       "      <th>aesthetic appeal</th>\n",
       "    </tr>\n",
       "  </thead>\n",
       "  <tbody>\n",
       "    <tr>\n",
       "      <th>16</th>\n",
       "      <td>0.02</td>\n",
       "      <td>NaN</td>\n",
       "      <td>670</td>\n",
       "      <td>9.0</td>\n",
       "      <td>23.0</td>\n",
       "      <td>3.0</td>\n",
       "      <td>8.47</td>\n",
       "      <td>0.67</td>\n",
       "      <td>9.4</td>\n",
       "      <td>6</td>\n",
       "      <td>cubed</td>\n",
       "      <td>14.0</td>\n",
       "      <td>7</td>\n",
       "      <td>nuts, oats, chocolate</td>\n",
       "      <td>1.95</td>\n",
       "      <td>3</td>\n",
       "    </tr>\n",
       "    <tr>\n",
       "      <th>3990</th>\n",
       "      <td>0.24</td>\n",
       "      <td>6.8</td>\n",
       "      <td>570</td>\n",
       "      <td>41.0</td>\n",
       "      <td>163.0</td>\n",
       "      <td>5.0</td>\n",
       "      <td>8.20</td>\n",
       "      <td>0.41</td>\n",
       "      <td>9.9</td>\n",
       "      <td>8</td>\n",
       "      <td>melted</td>\n",
       "      <td>14.6</td>\n",
       "      <td>7</td>\n",
       "      <td>nuts, chocolate</td>\n",
       "      <td>1.24</td>\n",
       "      <td>3</td>\n",
       "    </tr>\n",
       "  </tbody>\n",
       "</table>\n",
       "</div>"
      ],
      "text/plain": [
       "      sugar to flour ratio  sugar index  bake temp  chill time  calories  \\\n",
       "16                    0.02          NaN        670         9.0      23.0   \n",
       "3990                  0.24          6.8        570        41.0     163.0   \n",
       "\n",
       "      density    pH  grams baking soda  bake time  quality butter type  \\\n",
       "16        3.0  8.47               0.67        9.4        6       cubed   \n",
       "3990      5.0  8.20               0.41        9.9        8      melted   \n",
       "\n",
       "      weight  diameter                 mixins  crunch factor  aesthetic appeal  \n",
       "16      14.0         7  nuts, oats, chocolate           1.95                 3  \n",
       "3990    14.6         7        nuts, chocolate           1.24                 3  "
      ]
     },
     "execution_count": 147,
     "metadata": {},
     "output_type": "execute_result"
    }
   ],
   "source": [
    "data[data['density'] > 2]"
   ]
  },
  {
   "cell_type": "markdown",
   "metadata": {},
   "source": [
    "Esto son outliers que habrá que eliminar, porque la densidad es exageradamente grande en comparación con el resto, y no se ve relacionada con la calidad (6 y 8)"
   ]
  },
  {
   "cell_type": "markdown",
   "metadata": {},
   "source": [
    "#### Describing 'pH'"
   ]
  },
  {
   "cell_type": "code",
   "execution_count": 149,
   "metadata": {},
   "outputs": [
    {
     "name": "stdout",
     "output_type": "stream",
     "text": [
      "Numbers of Nulls:  0\n",
      "The description of this variable is:  count    5198.000000\n",
      "mean        8.222020\n",
      "std         0.283323\n",
      "min         7.720000\n",
      "25%         8.110000\n",
      "50%         8.210000\n",
      "75%         8.320000\n",
      "max        25.000000\n",
      "Name: pH, dtype: float64\n"
     ]
    },
    {
     "data": {
      "image/png": "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\n",
      "text/plain": [
       "<Figure size 432x288 with 1 Axes>"
      ]
     },
     "metadata": {
      "needs_background": "light"
     },
     "output_type": "display_data"
    },
    {
     "name": "stdout",
     "output_type": "stream",
     "text": [
      "AxesSubplot(0.125,0.125;0.775x0.755)\n"
     ]
    },
    {
     "data": {
      "image/png": "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\n",
      "text/plain": [
       "<Figure size 432x288 with 1 Axes>"
      ]
     },
     "metadata": {
      "needs_background": "light"
     },
     "output_type": "display_data"
    }
   ],
   "source": [
    "description('pH')"
   ]
  },
  {
   "cell_type": "markdown",
   "metadata": {},
   "source": [
    "#### Describing 'grams baking soda'"
   ]
  },
  {
   "cell_type": "code",
   "execution_count": 150,
   "metadata": {},
   "outputs": [
    {
     "name": "stdout",
     "output_type": "stream",
     "text": [
      "Numbers of Nulls:  0\n",
      "The description of this variable is:  count    5198.000000\n",
      "mean        0.530864\n",
      "std         0.150886\n",
      "min         0.220000\n",
      "25%         0.430000\n",
      "50%         0.505000\n",
      "75%         0.600000\n",
      "max         2.000000\n",
      "Name: grams baking soda, dtype: float64\n"
     ]
    },
    {
     "data": {
      "image/png": "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\n",
      "text/plain": [
       "<Figure size 432x288 with 1 Axes>"
      ]
     },
     "metadata": {
      "needs_background": "light"
     },
     "output_type": "display_data"
    },
    {
     "name": "stdout",
     "output_type": "stream",
     "text": [
      "AxesSubplot(0.125,0.125;0.775x0.755)\n"
     ]
    },
    {
     "data": {
      "image/png": "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\n",
      "text/plain": [
       "<Figure size 432x288 with 1 Axes>"
      ]
     },
     "metadata": {
      "needs_background": "light"
     },
     "output_type": "display_data"
    }
   ],
   "source": [
    "description('grams baking soda')"
   ]
  },
  {
   "cell_type": "markdown",
   "metadata": {},
   "source": [
    "#### Describing 'sugar to flour ratio'\n"
   ]
  },
  {
   "cell_type": "code",
   "execution_count": 156,
   "metadata": {},
   "outputs": [
    {
     "name": "stdout",
     "output_type": "stream",
     "text": [
      "Numbers of Nulls:  0\n",
      "The description of this variable is:  count    5198.000000\n",
      "mean        0.318049\n",
      "std         0.150036\n",
      "min         0.000000\n",
      "25%         0.240000\n",
      "50%         0.310000\n",
      "75%         0.390000\n",
      "max         3.000000\n",
      "Name: sugar to flour ratio, dtype: float64\n"
     ]
    },
    {
     "data": {
      "image/png": "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\n",
      "text/plain": [
       "<Figure size 432x288 with 1 Axes>"
      ]
     },
     "metadata": {
      "needs_background": "light"
     },
     "output_type": "display_data"
    },
    {
     "name": "stdout",
     "output_type": "stream",
     "text": [
      "AxesSubplot(0.125,0.125;0.775x0.755)\n"
     ]
    },
    {
     "data": {
      "image/png": "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\n",
      "text/plain": [
       "<Figure size 432x288 with 1 Axes>"
      ]
     },
     "metadata": {
      "needs_background": "light"
     },
     "output_type": "display_data"
    }
   ],
   "source": [
    "description(\"sugar to flour ratio\")"
   ]
  },
  {
   "cell_type": "code",
   "execution_count": 157,
   "metadata": {},
   "outputs": [
    {
     "data": {
      "text/plain": [
       "0"
      ]
     },
     "execution_count": 157,
     "metadata": {},
     "output_type": "execute_result"
    }
   ],
   "source": [
    "data[\"sugar to flour ratio\"].isnull().sum()"
   ]
  },
  {
   "cell_type": "markdown",
   "metadata": {},
   "source": [
    "#### Describing 'chill time'"
   ]
  },
  {
   "cell_type": "code",
   "execution_count": 158,
   "metadata": {},
   "outputs": [
    {
     "name": "stdout",
     "output_type": "stream",
     "text": [
      "Numbers of Nulls:  0\n",
      "The description of this variable is:  count    5198.000000\n",
      "mean       30.390246\n",
      "std        17.268403\n",
      "min         0.000000\n",
      "25%        17.000000\n",
      "50%        29.000000\n",
      "75%        41.000000\n",
      "max       146.500000\n",
      "Name: chill time, dtype: float64\n"
     ]
    },
    {
     "data": {
      "image/png": "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\n",
      "text/plain": [
       "<Figure size 432x288 with 1 Axes>"
      ]
     },
     "metadata": {
      "needs_background": "light"
     },
     "output_type": "display_data"
    },
    {
     "name": "stdout",
     "output_type": "stream",
     "text": [
      "AxesSubplot(0.125,0.125;0.775x0.755)\n"
     ]
    },
    {
     "data": {
      "image/png": "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\n",
      "text/plain": [
       "<Figure size 432x288 with 1 Axes>"
      ]
     },
     "metadata": {
      "needs_background": "light"
     },
     "output_type": "display_data"
    }
   ],
   "source": [
    "description(\"chill time\")"
   ]
  },
  {
   "cell_type": "markdown",
   "metadata": {},
   "source": [
    "#### Describing 'weight'"
   ]
  },
  {
   "cell_type": "code",
   "execution_count": 163,
   "metadata": {},
   "outputs": [
    {
     "name": "stdout",
     "output_type": "stream",
     "text": [
      "Numbers of Nulls:  0\n",
      "The description of this variable is:  count    5198.000000\n",
      "mean       14.381935\n",
      "std         3.023740\n",
      "min       -99.000000\n",
      "25%        12.800000\n",
      "50%        14.000000\n",
      "75%        15.400000\n",
      "max        31.800000\n",
      "Name: weight, dtype: float64\n"
     ]
    },
    {
     "data": {
      "image/png": "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\n",
      "text/plain": [
       "<Figure size 432x288 with 1 Axes>"
      ]
     },
     "metadata": {
      "needs_background": "light"
     },
     "output_type": "display_data"
    },
    {
     "name": "stdout",
     "output_type": "stream",
     "text": [
      "AxesSubplot(0.125,0.125;0.775x0.755)\n"
     ]
    },
    {
     "data": {
      "image/png": "iVBORw0KGgoAAAANSUhEUgAAAWQAAAEKCAYAAAAl5S8KAAAABHNCSVQICAgIfAhkiAAAAAlwSFlzAAALEgAACxIB0t1+/AAAADl0RVh0U29mdHdhcmUAbWF0cGxvdGxpYiB2ZXJzaW9uIDMuMC4zLCBodHRwOi8vbWF0cGxvdGxpYi5vcmcvnQurowAADn1JREFUeJzt3X+slfV9wPH3By7gjzvXcqFMkXglt64jIemUmiatq7XaIWnq5n6k2x/QbMuy/oG3zrlYxQCRaH8sM8qWLK5txs3MmprWaiLQyjY70/qjXAbYYbVHtHFULUJiwR/UC9/98TywK9zL5cL58Tn4fiU3Pvc5557ncx+5b577nHMeopSCJKnzpnR6AElSxSBLUhIGWZKSMMiSlIRBlqQkDLIkJWGQJSkJgyxJSRhkSUqiZzJ3njVrVunv72/RKJJ0ehoeHn61lDJ7ovtNKsj9/f1s3rz55KeSpHehiPjZidzPUxaSlIRBlqQkDLIkJWGQJSkJgyxJSRhkSUrCIEtSEgZZkpIwyJKUhEGWpCQMsiQlYZAlKQmDLElJGGRJSsIgS1ISBlmSkjDIkpSEQZakJAyyJCUxqX9TT5JO1dq1a2k0GgDs2rULgLlz5wIwMDDA8uXLOzZbpxlkSW3VaDTY+uOnOXjWTKa+8RoALx/oYeobezs8Wed5ykJS2x08ayZvfmAJB8/q4+BZffXyzE6P1XEGWZKSMMiSlIRBlqQkDLIkJWGQJSkJgyxJSRhkSUrCIEtSEgZZkpIwyJKUhEGWpCQMsiQlYZAlKQmDLElJGGRJSsIgS1ISBlmSkjDIkpSEQZakJAyyJCVhkCUpCYMsSUkYZElKwiBLUhIGWZKSMMiSlIRBlqQkDLIkJWGQJSkJgyxJSRhkSUrCIEtSEgZZkpIwyJKUhEGWpCQMsiQlYZAlKQmDLElJGGRJSsIgS1ISBlmSkjDIkppm7dq1rF27tmsfv9N6Oj2ApNNHo9Ho6sfvNI+QJSkJgyxJSRhkSUrCIEtSEgZZkpIwyJKUhEGWpCQMsiQlYZAlKQmDLElJGGRJSsIgS1ISBlmSkjDIkpSEQZakJAyyJCVhkCUpCYMsSUkYZElKwiBLUhIGWZKSMMiSlIRBlqQkDLIkJWGQJSkJgyxJSRhkSUrCIEtSEgZZkpIwyJKUhEGWpCQMsiQlYZAlKQmDLElJGGRJSsIgS1ISBlmSkjDIkpRETzs2smfPHlavXs3KlSvp6+trxyYltUmj0WBwcJAbbriB7du3U0pheHiYSy65pOnbevHFF9m7dy+XX375KT/W7Nmz2bdvH+eddx5Tpkxh+vTp3HbbbQCsXr2apUuXcuutt3Lo0CEuuOAC7rjjjpb3qy1HyOvWreOpp55iaGioHZuT1EZr1qzh9ddf5/bbb6eUAsDKlStbsq29e/c27bF2797NW2+9xc6dO2k0GuzYsYOhoaEjvVq1ahVvvvkmBw4c4Nlnn21Lv1oe5D179rBx40ZKKWzcuJE9e/a0epOS2qTRaPDCCy8AMDIycmT9/v37GR4ebuq27r777qY+3ljWr1/Phg0bKKWwf//+Y25rdb9afspi3bp1HDp0CICDBw8yNDTE9ddf3+rNSmqDNWvWjHvbjTfeyMKFC49Z32g0mPKrcsz6KW/9kkZjH4ODg2M+3rZt205+0BP09ttvExHj3tbqfk14hBwRfxkRmyNi8+7duye9gU2bNh35m3NkZISHH3548lNKSunw0fFYDh+IdZvDp13G0up+TXiEXEq5B7gHYNGiReNPOo4rr7yS9evXMzIyQk9PD1ddddVJjCkpo/7+/nGj3Nvby1133XXM+sHBQYZ3vnLM+kNnnMPA/Dljfg3QlCfyTkREjBvlVver5eeQly1bxpQp1WamTp3K0qVLW71JSW2yYsWKcW9bvXp1U7d17bXXNvXxxjJt2jR6esY+Tp02bVrL+9XyIPf19bF48WIigsWLF/uyN+k0MjAwQH9/P8A7Qtbb29v0l71dd911TX28sSxZsoSrr76aiKC3t/eY206Ll70tW7aMhQsXenQsnYZWrFjB2Wefzc0333zkCbFmHx0fNnPmzKY91uzZsznjjDOYP38+AwMDLFiwgKVLlx7p1apVqzjzzDOZMWMGF110UVv61ZY3hvT19bXlJSuS2m9gYICHHnoIgAceeACgJW8KAZg3bx7z5s0b9zxzsxzu1YYNG1q6naP51mlJSsIgS1ISBlmSkjDIkpSEQZakJAyyJCVhkCUpCYMsSUkYZElKwiBLUhIGWZKSMMiSlIRBlqQkDLIkJWGQJSkJgyxJSRhkSUrCIEtSEgZZkpIwyJKUhEGWpCQMsiQlYZAlKQmDLElJGGRJSsIgS1ISBlmSkjDIkpSEQZakJAyyJCVhkCUpCYMsSUkYZElKwiBLUhIGWZKSMMiSlIRBlqQkDLIkJdHT6QEknT4GBga6+vE7zSBLaprly5d39eN3mqcsJCkJgyxJSRhkSUrCIEtSEgZZkpIwyJKUhEGWpCQMsiQlYZAlKQmDLElJGGRJSsIgS1ISBlmSkjDIkpSEQZakJAyyJCVhkCUpCYMsSUkYZElKwiBLUhIGWZKSMMiSlIRBlqQkDLIkJWGQJSkJgyxJSRhkSUrCIEtSEgZZkpIwyJKUhEGWpCQMsiQlYZAlKQmDLElJGGRJSsIgS1ISBlmSkjDIkpSEQZakJAyyJCXR0+kBJL37TH1jL2f+ZD1T39gDUC/vBeZ0drAOM8iS2mpgYODI8q5dIwDMnTsHmPOO296NDLKktlq+fHmnR0jLc8iSlIRBlqQkDLIkJWGQJSkJgyxJSRhkSUrCIEtSEgZZkpIwyJKUhEGWpCQMsiQlYZAlKQmDLElJGGRJSsIgS1ISBlmSkjDIkpSEQZakJAyyJCVhkCUpiSilnPidI3YDP5vkNmYBr07yazLo1rmhe2fv1rmhe2fv1rmhu2a/oJQye6I7TSrIJyMiNpdSFrV0Iy3QrXND987erXND987erXNDd88+Hk9ZSFISBlmSkmhHkO9pwzZaoVvnhu6dvVvnhu6dvVvnhu6efUwtP4csSToxnrKQpCSaFuSI+KOI+J+IOBQRi4667QsR0YiIZyLid0etX1yva0TETc2a5VRExAcj4vGI2BoRmyPi0np9RMTd9azbI+LiTs96tIhYHhE/qf8/fHnU+jH3fzYRcUNElIiYVX+eep9HxFfq/b09Iu6PiPeMui39Ps/48zeWiJgXEf8ZETvqP9uD9fqZEfFwRPy0/u97Oz3rKSulNOUD+C3gN4FHgEWj1i8AtgEzgAuB54Cp9cdzwHxgen2fBc2a5xS+j+8BV9fLS4BHRi1vAAL4MPBEp2c9au6PA5uAGfXn7zve/u/0vGPMPw/4LtXr3Gd1yT7/JNBTL38J+FK37POsP3/jzHoucHG9/GvAs/U+/jJwU73+psP7v5s/mnaEXEp5upTyzBg3XQN8o5RyoJTyPNAALq0/GqWUnaWUXwHfqO/baQU4p17+deDn9fI1wFCpPA68JyLO7cSA4/gc8MVSygGAUsov6vXj7f9s7gT+lmr/H5Z6n5dSvldKGak/fRw4v17uhn2e9efvGKWUl0opW+rlfcDTwFyqedfVd1sH/F5nJmyedpxDngu8OOrz/63Xjbe+0z4PfCUiXgT+DvhCvT7rvIddBFwWEU9ExPcj4kP1+uxzExHXALtKKduOuin97KP8GdXRPHTH3N0w4zEioh/4beAJYE4p5aX6ppeBOR0aq2l6JnPniNgE/MYYN91SSnmgOSO13vG+D+ATwPWllG9FxB8DXwOubOd845lg7h5gJtWv9h8CvhkR89s43nFNMPvNVL/+p3Mif+Yj4hZgBLi3nbO920REL/At4POllF9GxJHbSiklIrr+JWOTCnIp5WTCtIvq/OBh59frOM76ljre9xERQ8Bg/el9wFfr5eN9H20xwdyfA75dqhNqT0bEIar3+nd8bhh/9ohYSHWedVv9A3Y+sKV+MrXjs0/0Zz4iPgt8CvhEve8hwdwnoBtmPCIiplHF+N5Syrfr1a9ExLmllJfqU1m/GP8RukM7Tlk8CHwmImZExIXA+4EngR8B74+ICyNiOvCZ+r6d9nPgY/XyFcBP6+UHgaX1M/8fBl4b9etSBt+hemKPiLiI6omaVxl//6dQSnmqlPK+Ukp/KaWf6lfni0spL5N8n0fEYqrz3p8upbwx6qbU+7yW9efvGFH9Tf014OlSyt+PuulBYFm9vAzomt/Sx9XEZ0J/n+qH6QDwCvDdUbfdQvWM7jPUr2Co1y+hesb0OapfATv+LCfwUWCY6lnnJ4BL6vUB/GM961OMeiVJhg+qAP8r8GNgC3DFRPs/4wfwAv//Kovs+7xBdR52a/3xT920zzP+/I0z50epnuzdPmpfLwH6gH+nOmjaBMzs9Kyn+uE79SQpCd+pJ0lJGGRJSsIgS1ISBlmSkjDIkpSEQVZXi4ivRsSCCe7zLxHxh2Os74+IP23ddNLkGGR1tVLKX5RSdpzkl/cDBllpGGSlEBE3RsR19fKdEfEf9fIVEXFvRHwyIh6LiC0RcV99XQMi4pGor78dEX8eEc9GxJMR8c8R8Q+jNvE7EfHDiNg56mj5i1QXZNoaEde38duVxmSQlcWjwGX18iKgt75+wWVU79BaAVxZSrkY2Az89egvjojzgFupLq70EeADRz3+uVTv+PoUVYihuobuo6WUD5ZS7mz6dyRN0qQuLiS10DBwSUScQ/X2+y1UYb6M6poFC4Af1Bcgmg48dtTXXwp8v5SyFyAi7qO6JOlh3ymlHAJ2RETXX6ZRpyeDrBRKKW9HxPPAZ4EfUh0VfxwYAJ4HHi6l/MkpbOLAqOUY915SB3nKQpk8CvwN8F/18l8B/031r3F8JCIGACLi7PqKdqP9CPhYRLw3InqAPziB7e2j+ieBpBQMsjJ5lOpc72OllFeAt6jO8e6mOnL+t4jYTnW64h3niEspu4DbqS5z+QOqq8a9NsH2tgMHI2KbT+opA6/2ptNGRPSWUvbXR8j3A18vpdzf6bmkE+URsk4nqyJiK9U1oZ+numi/1DU8QpakJDxClqQkDLIkJWGQJSkJgyxJSRhkSUrCIEtSEv8HPEdWFoUXIfgAAAAASUVORK5CYII=\n",
      "text/plain": [
       "<Figure size 432x288 with 1 Axes>"
      ]
     },
     "metadata": {
      "needs_background": "light"
     },
     "output_type": "display_data"
    }
   ],
   "source": [
    "description('weight')"
   ]
  },
  {
   "cell_type": "markdown",
   "metadata": {},
   "source": [
    "#### Describing 'crunch factor'"
   ]
  },
  {
   "cell_type": "code",
   "execution_count": 164,
   "metadata": {},
   "outputs": [
    {
     "name": "stdout",
     "output_type": "stream",
     "text": [
      "Numbers of Nulls:  0\n",
      "The description of this variable is:  count    5198.000000\n",
      "mean        1.499367\n",
      "std         0.289205\n",
      "min         1.000000\n",
      "25%         1.250000\n",
      "50%         1.500000\n",
      "75%         1.750000\n",
      "max         2.000000\n",
      "Name: crunch factor, dtype: float64\n"
     ]
    },
    {
     "data": {
      "image/png": "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\n",
      "text/plain": [
       "<Figure size 432x288 with 1 Axes>"
      ]
     },
     "metadata": {
      "needs_background": "light"
     },
     "output_type": "display_data"
    },
    {
     "name": "stdout",
     "output_type": "stream",
     "text": [
      "AxesSubplot(0.125,0.125;0.775x0.755)\n"
     ]
    },
    {
     "data": {
      "image/png": "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\n",
      "text/plain": [
       "<Figure size 432x288 with 1 Axes>"
      ]
     },
     "metadata": {
      "needs_background": "light"
     },
     "output_type": "display_data"
    }
   ],
   "source": [
    "description('crunch factor')"
   ]
  },
  {
   "cell_type": "markdown",
   "metadata": {},
   "source": [
    "#### Describing 'bake temp'"
   ]
  },
  {
   "cell_type": "code",
   "execution_count": 165,
   "metadata": {},
   "outputs": [
    {
     "name": "stdout",
     "output_type": "stream",
     "text": [
      "Numbers of Nulls:  0\n",
      "The description of this variable is:  count    5198.000000\n",
      "mean      559.638322\n",
      "std       353.274062\n",
      "min        90.000000\n",
      "25%       380.000000\n",
      "50%       470.000000\n",
      "75%       640.000000\n",
      "max      6110.000000\n",
      "Name: bake temp, dtype: float64\n"
     ]
    },
    {
     "data": {
      "image/png": "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\n",
      "text/plain": [
       "<Figure size 432x288 with 1 Axes>"
      ]
     },
     "metadata": {
      "needs_background": "light"
     },
     "output_type": "display_data"
    },
    {
     "name": "stdout",
     "output_type": "stream",
     "text": [
      "AxesSubplot(0.125,0.125;0.775x0.755)\n"
     ]
    },
    {
     "data": {
      "image/png": "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\n",
      "text/plain": [
       "<Figure size 432x288 with 1 Axes>"
      ]
     },
     "metadata": {
      "needs_background": "light"
     },
     "output_type": "display_data"
    }
   ],
   "source": [
    "description('bake temp')"
   ]
  },
  {
   "cell_type": "markdown",
   "metadata": {},
   "source": [
    "#### Describing 'diameter'"
   ]
  },
  {
   "cell_type": "code",
   "execution_count": 166,
   "metadata": {},
   "outputs": [
    {
     "name": "stdout",
     "output_type": "stream",
     "text": [
      "Numbers of Nulls:  0\n",
      "The description of this variable is:  count    5198.0\n",
      "mean        7.0\n",
      "std         0.0\n",
      "min         7.0\n",
      "25%         7.0\n",
      "50%         7.0\n",
      "75%         7.0\n",
      "max         7.0\n",
      "Name: diameter, dtype: float64\n"
     ]
    },
    {
     "data": {
      "image/png": "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\n",
      "text/plain": [
       "<Figure size 432x288 with 1 Axes>"
      ]
     },
     "metadata": {
      "needs_background": "light"
     },
     "output_type": "display_data"
    },
    {
     "name": "stdout",
     "output_type": "stream",
     "text": [
      "AxesSubplot(0.125,0.125;0.775x0.755)\n"
     ]
    },
    {
     "data": {
      "image/png": "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\n",
      "text/plain": [
       "<Figure size 432x288 with 1 Axes>"
      ]
     },
     "metadata": {
      "needs_background": "light"
     },
     "output_type": "display_data"
    }
   ],
   "source": [
    "description('diameter')"
   ]
  },
  {
   "cell_type": "markdown",
   "metadata": {},
   "source": [
    "#### Describing 'bake time'"
   ]
  },
  {
   "cell_type": "code",
   "execution_count": 159,
   "metadata": {},
   "outputs": [
    {
     "name": "stdout",
     "output_type": "stream",
     "text": [
      "Numbers of Nulls:  10\n",
      "The description of this variable is:  count    5188.000000\n",
      "mean       10.494758\n",
      "std         1.194584\n",
      "min         8.000000\n",
      "25%         9.500000\n",
      "50%        10.300000\n",
      "75%        11.300000\n",
      "max        14.900000\n",
      "Name: bake time, dtype: float64\n"
     ]
    },
    {
     "data": {
      "image/png": "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\n",
      "text/plain": [
       "<Figure size 432x288 with 1 Axes>"
      ]
     },
     "metadata": {
      "needs_background": "light"
     },
     "output_type": "display_data"
    },
    {
     "name": "stdout",
     "output_type": "stream",
     "text": [
      "AxesSubplot(0.125,0.125;0.775x0.755)\n"
     ]
    },
    {
     "data": {
      "image/png": "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\n",
      "text/plain": [
       "<Figure size 432x288 with 1 Axes>"
      ]
     },
     "metadata": {
      "needs_background": "light"
     },
     "output_type": "display_data"
    }
   ],
   "source": [
    "description(\"bake time\")"
   ]
  },
  {
   "cell_type": "markdown",
   "metadata": {},
   "source": [
    "#### Look for correlations"
   ]
  },
  {
   "cell_type": "code",
   "execution_count": 160,
   "metadata": {},
   "outputs": [
    {
     "data": {
      "image/png": "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\n",
      "text/plain": [
       "<Figure size 432x288 with 1 Axes>"
      ]
     },
     "metadata": {
      "needs_background": "light"
     },
     "output_type": "display_data"
    }
   ],
   "source": [
    "sns.scatterplot(x=\"bake time\",y=\"chill time\",hue=\"quality\", data=data, palette=\"Set1\")\n",
    "plt.show()"
   ]
  },
  {
   "cell_type": "code",
   "execution_count": 161,
   "metadata": {},
   "outputs": [
    {
     "data": {
      "image/png": "iVBORw0KGgoAAAANSUhEUgAAAoIAAAGICAYAAADVg4HuAAAABHNCSVQICAgIfAhkiAAAAAlwSFlzAAALEgAACxIB0t1+/AAAADl0RVh0U29mdHdhcmUAbWF0cGxvdGxpYiB2ZXJzaW9uIDMuMC4zLCBodHRwOi8vbWF0cGxvdGxpYi5vcmcvnQurowAAIABJREFUeJzsnXd4VEXbh+/ZTUhPSCUJNfQOCS30BAglCiKggEgR/EAElK4UQWmCIihFQFEBpSmiggTpAaSXEAkIoQUIKaQX0rPz/bGbZNPIhhZ5Ofd15crumWfOb86cmbPPmSqklCgoKCgoKCgoKLx4qMo6AQoKCgoKCgoKCmWD4ggqKCgoKCgoKLygKI6ggoKCgoKCgsILiuIIKigoKCgoKCi8oCiOoIKCgoKCgoLCC4riCCooKCgoKCgovKAojqCCgoKCgoKCwjNACPG9EOK+ECKomHAhhFgmhLguhPhHCOGhFzZUCHFN9zf0SaVJcQQVFBQUFBQUFJ4N64DuDwnvAdTS/Y0EVgEIIeyA2UAroCUwWwhh+yQSpDiCCgoKCgoKCgrPACnlESD2ISavABuklpNAeSGEC9AN2CeljJVSxgH7eLhDaTCKI6igoKCgoKCg8N+gInBX73uo7lhxxx8boydxEoVnjsyMvllm4sYO1dnsOqhMtAeGbQRgcZU3y0R/8p2fAMr8+vdWGFAm+l0jtwAwo9obZaI/P2QTAL5VfMtE3++OH1+UUdkDmHTnJ2aWUd4DzAvZxK4KA8tM/6XIzZyp+GqZaLe491uZ6BakrO7/PF3dm1WtbJ59c0I2AohnqZkZfbPUe/CWc6wxCm2Xbg7fSCm/eXKpevIojqCCgoKCgoKCQkE02aWOonP6HsfxuwdU1vteSXfsHuBV4Lj/Y+jkonQNKygoKCgoKCgURGpK//f47ACG6GYPewIJUspwYA/QVQhhq5sk0lV37LFRWgQVFBQUFBQUFAqieSKOXT6EEJvRtuw5CCFC0c4ENgaQUq4G/ABf4DqQArylC4sVQswFzuhONUdK+bBJJwajOIIKCgoKCgoKCgWQT6aFr8A55UMH2UopJTCmmLDvge+fdJoUR/AFYuaCJRw5dho72/L8/tPqp6Lh4tUYj7mDESoVNzb78++KnfnCHVvVxWPOm5SvV4Xjo1dwd9fpfOFGlma85P8ZoXvOcm7GeoM0q3VsTKePByPUKi5u8ef01/k11eWM6LH0HSo0ciMtLomdY1aQGBqdG27las9bBxZxfOl2zn7jh9rEmAG/zERdzgiVkZpgv9McX7L9qV6/eUUH2n8/HqFSaTW/38v1Hw8YpFkc9t5NqDtvKEKtInTjQUKW78gXXnWULxUHdUJmZ5MRk8Sl8atJ08sXQ3lp9hDqeDclMzWDXyevJuxSSCEb14Zu9F08CmPTclw9dIFdn2wAoKFvKzqN74tjTVdWv/IR9y7eAqB8JQfG719M9M0wAO4GXOePGSU//0Z9MooW3i1IT01nyaQl3Ai6UchmyJQhdO7bGUsbS/rW65t73KmiE+MXj8fGzoak+CQ+f/9zYiJiHqpXrWNjvHVlL+ghZc9JV/b+LKLsDTuwiBO6smdb3YWXV47NDbep4sTxJds4/13xPUAvzR5Cbb38Dy8m//vo8j9YL/8bFMj/MF3+m5W3ZOCq96nYuAYB247w5+x1D80HAEfvJtSfNwShVnF34yFuFChvdp51qT93CFb1qxAwahkRf+bV/bofvYFTF3eEShB15CKXDaz7+lh7uVNlzgiESkXU5v1ErMxfZyuM7IXjwC7IrGyyYhO5NXEFGfeiACjn6kC1xWMo5+oAUhI8eC4ZoVGlTsOz4HHut5mNBf1XvEf5So7Eh0axZcwy0hIf4OZZj0HfTCIu9D4Al/86w6Flv+FQ3YX+K8blO/fwrR9hVaE8makZ/DZ5TZH6Lg2r0WfxOxiZGnPtUCB+evqvrxiXq791zDLSElNwqOHCq5+PwqVBNQ4s/plj3/rlnqv1iO406++d83Uz2haytMfMRgU9nosxgkKIYUII11LGqSuEuCCECBBC1BBCJD+t9BmYnqZCCF+9772EEB8+yzT09vVh9ZJ5T+38QiVotmAY/oM+w89rKlVfaY11rfyz21PuRXNq/Bpu/3a8yHM0ntqP+6eulEqzy7yh/Dr0M37oPJW6vTyxr5W/qDTq70VawgO+6zCJs2v/osO0/DNuvWcN4pZ/YO737PRMfh6wgA3dZ7Ch+wzcOjbGxb2GQWl51OtPux/Hvp4f85fPdPa+NIt6Y3tiVqG8wflQCJWg3sLhnH9jIcfaT8Ll1bZY1M6flsSgEE52m84J7w+I3HmK2rNKPxuwtldTHNycWeI1kd+nr6XX/OFF2r0ybzi/T1vLEq+JOLg5U9urCQCRV++y6Z2lhJwufM9jb0eywnc6K3ynG+QENvduTsVqFXm7w9ss+3AZY+ePLdLu1P5TjO81vtDxETNHcODXA4zpNobNX23mrQ/feqieUAk6zxvK9qGfsa7zVOr08sSuQNlrqCt733eYxLkiyp5XgbIXdzOcH3vM4MceM/jppZlkpaZz7a+zxaahtldT7N2cWVpC/vfS5f9Sr4nYuzlTS5f/96/eZfM7S7ldIP+z0jM58MU2/lqw8aF5kItK0GDhW5x+YxGH20/G9dU2WBYob6n3ogl8fzVh24/lO27bvBa2LWtzxHsqhztOoXzT6ti1qWeYbq6+iqrzR3LtzbkEeb+Hfe92mNaqlM8kJegml3tM5pLPBGJ3HafyzCG5YW5fvU/Eqt8J8hrH5ZemkhWdUDr9Z8jj3O8Oo3tx83gQX3pP5ObxIDq82zM3TsiZK6z0nc5K3+kcWqadIR19Mzz3WA5So+Err0nsmP4dPecXXUd6zhvOH9PW8pXXpHz67Uf34ubxS3zlPYmbxy/R/t1eAKTGP2DXxxs49u2ufOexqmCL57BurO45M+eQGnh2SyZoNKX/ew75TzqCQgh1gUPDgFI5gkBvYJuU0l1KWbhZ4BEpIm36YQ9rYW2Ktt8fACnlDinlwieVLkNo3rQRNtZWT+38du41SA6J5MGdKDSZ2dz54ySVujXLZ/MgNJr4f+8iNYVn5ds2qoapow0Rhy8arOnctAZxIZEk6DSv7DxJja75NWt09eDStqMABPudpkrbBrlhNbs2I+FOFDHB9/LFyUxJB0BlpEZlZIQ0YBGBx7l+TWY2mowsraaJMUL1eKsk2HjUJOVWBKm37yMzs4n4/ThO3Zvns4k7dhlNagYACeeuYeJiV2qdel2bEbBdm7d3A65jamWOlWN+B9bKsTwmVmbcDbgOQMD2o9Trqk1L1I0wom+Gl1q3KDy7enLgV20r6tWAq1hYW2DrVHjh/asBV4m7H1foeJVaVQg8pnXKAo8H4unj+VA956Y1iNcre1d3nqRmgbJX8xHKXm562jYg/s59ku4V3ypZr2szLujyP1SX/5YF8t9Sl/+huvy/sP0o9UvI/8zUdG6fvUpWeuZD8yCH8gXKW9jvJ6hQoLyl3o0m6fKdQmVfAmoTY1TljLRl38iIjKjSOWIW7rVIDwkn/U4kMjOL2D/+xrZby3w2SceD0KRpy/uDc8EYu9gDYFqrEsJITeJR7b3XpKTl2v0XeZz7XdenGed15fH8tqPU88l/jwzh7OaDpdavq6sXdX08CNDpB2w7Sj0f7fEHMYmE/XMTTVbhWboqtRpj03I5X82BsFIn+lEpm8kizxyDHEEhhIUQYpcQIlAIESSE6K87HiKEcNB9bi6E8Nd9dhRC7BNCXBJCrBVC3Naz+10IcU4XNlJPI1kI8YUQIhBorXe8H9Ac2Khr4TMTQnTWtfRd1O3bZ1Igvb7AeGC0EOJQgTAhhPhcdx0X9a7FSwjxp57dCiHEML3rXCSEOA+8VuB864QQq4UQp4DPhBAthRAndOk7LoSoI4QoB8wB+uuuob+ulXOF7hzVhBAHdfsKHhBCVDHkvvzXMHe2IyUs70crJTwWMxcDd8ARAvfZgwiYs6lUmlbOtiSF5Y2XTQ6PxaqCbbE2MltDRlIKZraWGJub0HL0yxz/snC3r1AJhuyez7sBX3P774tEXCj5XeKxrh8wd7Wjx/5PeeXsMv5d+SepkfEGxy2IqbMdaXppSQuLxcS5eEev4hveRB+8UGod6wq2JOjlf2JELNbO+a/Z2tmWhPA8m4TwWKwrlJwvtpUdGbNrAW9v/YiqLeqUaO/g7EBUeF53XnRENA7ODoZcBgC3Lt+ibY+2ALTp3gZzK3Osyhf/4mRZoOwlhcdiWeC6LAuUvXS9stdi9MucKKLs5VC3V2uu/HHioWm2MjD/Ewvkf8E68riYOtuSmq+8xWDqbJhG/NlrxBy7TJd/VtHln1VE+weSfK10v/XlnO3ICMvrcs8Ij8HY2b5Ye4eBXUg4dF6b9uquZCc+oOa3H1B/zxdUmjkUVP/JNhKAx7rflo42JEdpnyvJUfFYOtrk2lXxqMWY3Z8yZN1UnGoVv05xgt59NkQ/MTwW6wraZ49FAX0LPf2iSIqM49i3u5h4fFmuPLD3oZGeJJrs0v89hxha2rsDYVLKJlLKhsBfJdjPBg5KKRsA2wB9x2a4lLIZWufuPSFETm21AE7pNP7OMZZSbgPOAoOklE3RvkCuA/pLKRuhHec4Wl9cSukHrAaWSim9yU8ftK1zTYAuwOe67VtKIkZK6SGl3FJEWCWgjZRyInAFaC+ldAdmAQuklBm6z1ullE2llFsLxF8OrJdSNgY2AssKhCOEGCmEOCuEOPvNN//ptSkfiVrDuhB+MJDU8CcyCcog2kzow7nv/spt/dNHaiQbesxgTav3cG5SA4falYo4w5MlJSyW3V2m8Webibi91h5TB+unrgng0rcd1k2rE7JyZ8nGz4ik+/F81uY9Vr40Hb+5P/H6V2MxsTR7qppr56+lYauGLPdbTiPPRkSHR6N5Sl09Dyt7ACpjNTV8PAjedeqp6P+XMK9WActaFTnQdAwHmryLfbsG2LYq2fF/VOz7dMSiSQ0iVv0OgDBSY9myHnfnruOy7xRMqlTA4fWCPxv/o+gaZ8OCQljc9j1W9pjGyXV7eeObSfnM1MbFdoQ9Ef3iMLU2p65PM5a2zx3KYQE8uxXdX5AWQUMni1wEvhBCLAL+lFIeLcG+HfAqgJTyLyGEfj/Me0KInKXhK6PdWDkGyAZ+NSAtdYBbUspg3ff1aGfYfGnQlWjTtllKmQ1ECiEOAy2AxBLiFXTe9PlFdz4AG2C9EKIW2mJubECaWqN1UAF+BD4raFBgkcoy3VmkOFIiYjF3zXsLN3exIzW8cBdcUTg0q4VjqzrUHNoFYwtTVMZGZD1II3DBw7IdkiLisHLNa+mydLEjKTKuSJvkiFiEWkU5K3NS45Jxca9Jbd+WdJg2ABNrc6SUZKdnErB+X27c9MQU7p64TDWvxkQHhz6169cnNTKehKt3cWxVt9BkGkNJi4jFVC8tpq52pEcUdrLtOjTEbfyrnH31E6Sua9oQxvotACA08CY2evlv7WxHYkT+a06MiMNGr9vZxsWOxMiH50t2RhapGdphvWFBt4i9E4mDm3Mhu5eHvEy3gd0AuPbPNRxdHHPDHJwdiI4wfPJLbGQs80fNB8DU3JS2PdryIPFBsfbJBcqelYsdyQWuK7lA2TPRlT1n95rUKlD2stIzuaAre25eTYgMCiEluvBjqdVgH5oP1Doq9wzMf+sC+V+wjjwuaRFxmOUrb/akRRim4ezbgrhz18jWOcX3DwRi27w2caeuGqyfERGrneiho5yLPZlFTPSxbt8Yl/f6caXvzNzynhEeQ8qlENLvRAIQv+cUFh51YMvjTdZ6WjzO/U6OSsDSsbyuNbA8ybqxkOnJqbn2wf4X6DnvLcxtrUiJS6LVYB/ajnxJTz/vPhuib+1iR2Kk9tnzoID+gxLGYtZo15C4u1GkxCblHNoOtAF+emjEJ8VzOuavtBjUIqhzujzQOoTzhBCzdEFZeucwLek8QggvtK1wraWUTYAAvXhpes5UWaB/LVD4eor/RcgfNhc4pGs57VnEef5nib1wEys3ZywqO6IyVlPlFU9C954zKO6JsV+zo8X77Gw1noA5m7i17WiJTiBAROBNbN2csdFp1u3pyY195/PZ3Nh3ngb92gNQ27cld49fBmBLv7l823YC37adwPnv93BqxQ4C1u/DzM4KE2tzAIxMjKnavhGxN0ruqnqc6zdzsUNtqn1nMLYxx6FFHRJvPPrYucSAG5hXd8asiiPCWI1z7zbc35M/LVYNq1H/8//jwpDPySjC4XgYOZM4/t17Fvc+2ryt7F6T9KRUkqLyd2knRcWTnpRKZfeaALj3ac+/JeSLuZ1V7jhJ28pOOFRzJvbO/UJ2f274k3E9xjGuxzhO7DlB576dAajjXocHSQ+KHAtYHNa21gih1Xx9zOvs3frwHqiIwJuUd3PGWne/6xhQ9u7oyt7WfnNZ23YCa3Vl7/SKHblOIEDdV4rvFj71477cAfyX956lqS7/K+nyP7lA/ifr8r+SLv+bGpD/pSUh4AYWeuXNtXdrIvcYppF6Lxr7NvUQahXCSI19m3okXyt63GRxPLhwDRM3F8pVdkIYG2H3Sjvi9p7JZ2PewI2qC0dz7a0FZMUk6MW9jpGNOUZ22hZ4q7aNSAu+y3+Vx7nfV/afx0NXHj36tefKPu1x/S7iik1qIIQgJU7rfJ36cR+hekNj9PXTDNS/oqfvrtN379eeKwXqS0ESwmKo7F5Tf4xgZ+Dfh+fQk0NKTan/nkcMahHUzdiNlVL+JISIB97WBYUAzYDdQF+9KMeA14FFQoiuQM4gAhsgTkqZIoSoCzx8NHYeSUDOYJ2rQDUhRE0p5XVgMHDYwPMAHAVGCSHWA3ZAB2AK2pa7+rrxhmZoC9zfxZ6leGzQbgUD2kkuRV1DQY6jnQn1IzBIl8YnzpTZCzkT8A/x8Yl07v0m744YTN+e3Z7Y+WW2hrMz1uG16QOEWsXNLYdJDL5Hoyl9iQ28xb2957FrUp32302gXHlzKvq402hyX/y8P3gszQMfrafvj1NRqVVc3HqYmOB7tJ3Yl4iLt7ix7zwXtx7G98t3GHHkC9Lik/lz7IqHntPCqTw9loxCpVYhVIKrf57i5oGSx889zvXb1HLFfdYgpJQIIbiyehcJVx79x0hma7gy7Qc8tkxHqFXc23yIB1dDqTH1NRIDbxK15xy1Zw9CbWFC47Xabpe0e9FcGLK4VDpXD12gtndTJh5eSmZqOtunrMkNG+u3gBW62YY7Pvqevovfwci0HNf8Awn21+Zn/W7NefnjoVjYWTPk+6mE/3ubdUMW4tayLp0nvoYmKwupkfwx43tSEx72LgZnDp6hhXcLvjv6Hemp6SydvDQ3bPnu5YzroV0GY/j04Xi94oWJmQkbTm1gz5Y9bFy6kUatGzHsg2EgIehUECs/WlliHh/UK3tBurLXZmJfIvXKXo8v32G4ruztKqHsARiZmVC1fUP2TSt5pnSwXv5nFMj/MX4Lcmd75uS/sWk5gvXyv14R+b9+iHYO26S/v8LE0gy1sRH1ujZj3eDi57bJbA1B09bRcss07XJFm/1JvhpK7an9iA+8xf0957BpWp1mP0zEuLwFFbp6UHvKaxzpOIXwnaewb9eADv6fIaUk6lAg9/c+3EEoRLaGOzO/pc6m2aBSEb31AGnBd3GdPJCUwOvE7ztDpY+GorYwpeaaKQCk34vi+lufgkbD3TnrqbP1ExCClIs3iNq0rwTBsiP2zv1Hvt9HVu1gwMr38Hjdm4R70WwZ8xUADXq0ouWbXdBkZ5OVlsHWcctzz2tsZkLNdg3z6Y8/vES7fIye/mi/BazS6f/50Q+8qlu+5pp/INd0M+OPrtpJ/5Xj8Hjdi/h70fw8RjsKytLRhlE75mFiaYaUGjyH92CFz1RCL9zg0u7TvLNrfo6Misfbvq10vCAtgkIaMB1SCNEN+BzQAJnAaCnlWSFEe+A7tN2q/kBzKaWXEMIJ7Xo/FYATwMtANd3pftd9vgqUBz6WUvoLIZKllJbF6PcFFgCpaLtR2wCL0TqyZ3TpSS8Q52MgWUq5WPc9WUppKbSv/J8BPdB23c7LGbMnhPgMbZf2LSAZ2CGlXCeECNFdW6F+JiHEOrTd5dt031uj7a5+AOwC3pRSVhNC2KHdDsYY+BSts9lcSjlWCFEV+AFwAKKAt6SUd4q+G0AZdw0bO1Rns2vZbDw+MEy7nMXiKs9umIg+k+9oeyTK+vr3Vnh2Kyjo0zVSO0R2RhltfD9ft/G9bxXfEiyfDn53/PiijMoewKQ7PzGzjPIeYF7IJnZVeOh6uE+VlyI3c6biqyUbPgVa3PutTHQLUlb3f56u7s2qVjbPvjkhGwEebzmFUpIe/LcB60Xkx6R2u2eaxieBQS2CUso9FLGnnW6sYO0ioiQA3aSUWTrHqIWeo9ajGI0inUBd2K/kHz94AHAvIc0fF3V+3ardU3R/BeNMBaYWcbzaQ3SGFfh+gvx5MlN3PBbtWER91unCbgOditNQUFBQUFBQeMY8p7OAS8vT2lmkCvCzEEIFZAD/95R0FBQUFBQUFBSePM/pmL/S8lQcQSnlNUposVNQUFBQUFBQ+M/ygowRVPYaVlBQUFBQUFAoyAvSImjQZBGF/xzKTVNQUFBQeNF4tpNF/tlT+skijbv9b04WUVBQUFBQUFB4kSjbpY2fHYoj+JxSVsuXgHYJk7JavsbYoToAb1QtmyUkNt3WLiER6d2xTPQrHNIumZkwuHOZ6Nv8qN1tYWHVsllC5cPb2uV7Xq3Ss0z0f7uzkx6Vi1z44Jmw++5uKtk1LNnwKREaG4R/hddKNnxKeEX+wtBqfUs2fAqsDzFk46unT1kvH1PW+s+UF6RrWHEEFRQUFBQUFBQK8oJMFjFoizkFBQUFBQUFBYX/PZQWQQUFBQUFBQWFgihdwwrPIy5ejfGYOxihUnFjsz//rtiZL9yxVV085rxJ+XpVOD56BXd3nc4XbmRpxkv+nxG65yznZqx/ommbuWAJR46dxs62PL//tPqJnlufIR+PoKl3MzJS01k9eTkhQYXHM74+ZRDt+3hhYWPB8Pp5Y146D+qGz5AeaLI1pKeksXba19y7FmqwdrkWLbEaOw7UKlJ37SJlc9HjWkw6dKD8J3OJGTWSrOCrlGvWHMuRI8HIGLIySVq9isyAgNJfvB5GjVpgOngMqFRk+vuR/ueWfOHG7bthOmAkMk67c2L6vj/IPOxXKg23jo3pMnswKrWKwC3+nFyVv7ypyxnx8pJ3cG7kRmpcEn+MXUFCaDQuTarT/dMRAAgBf3/5G8F7zmLlYsfLS9/BwsEGKSWBmw5x9odCmxoVy4hPRtLMuxnpqeksn/QVN4NuFLIZNGUwXn29sbCx5I16r+cLa/NyOwZMGIiUEHL5FkvfK93ey+988g4tOrUgPTWdLyZ+wY0i9IdOHUrnvp2xtLGkT90+ucedKjoxYfEEbOxtSIpP4vP3Pic6otCulg9lzqfT6OTTntTUNCaMmUHQP/8Wsvnpl9U4VXBEbaTm9InzzJgyD42uC+yt/3uDoSMGkK3RcHDvEeZ/vMRgbTvvptSc9xZCrSJ84wHuLP89X3ilUS/jMqgzMjubzJhEroz/mvTQaCwbVKPWZ/+HkaUZUqPh9pfbifrjeKmuO4dBs4fTxNuDjNQMvp28nNuXbhWy6Tv5Ddr26YiFjQWjGuSNda3Tsj5vzHqLynWr8vW4JZzdffKR0vC0eWn2EGp7NyUzNYNfJ68m/FJIIRvXhm700e31G3zoArs+2QCAmY0F/Ve8R/lKjsSHRrFlzDLSEh9gam1Bn89HYlelAlnpmWyfuob7waHYuNjRd8loLB1snqq+iZUZry0dg01Fe1RqNce+3cX5X7Tjobt9OJDanXKXJV4GvM+zWjnjBdlZROkaLgVCiDlCiC6ljBMihHB4WmnKp6USNFswDP9Bn+HnNZWqr7TGulbFfDYp96I5NX4Nt38r+kHbeGo/7p+68lTS19vXh9VL5j2Vc+fQ1NsDZzdXJnZ8l7XTVjF83qgi7c7vP8NHrxTaTZDjfxzhw27jme47kZ2rf+PNmW8ZLq5SYfX+eOI/nErMsKGYdu6MumrVQmbCzAzzPv3IuHwp95gmIYH46dOIHfEWCZ9+is20GYbrFoVQYTr0PR58Po3kD4Zj3LoTKtfCack85U/yzFEkzxxVaidQqARd5w7l56Gf8W2XqdTv5Yl9Ldd8No37e5GW8IA1HSdx5ru/8PpQu0dy1NVQ1vX8iB98Z7B16Od0W6B1IDTZGg7O28TaLh/wY++P8RjSpdA5i8PDuxmu1Vx5t8MoVn24klHzRxdpd2b/aab2mlTouEs1F/q+249pfabyfpcxfP/Jt6XKjxbeLXB1c2VE+xEs+2AZYxeMLdLu1L5TvN/z/ULH3575Ngd+PcC7Xd9l05ebGPbhsFLpd+rSHrcaVWjX3JcPJnzMp198VKTdO8Mn0bVDXzq36Y29gy0v9+4GQJt2Lejawzs3bPWKdYaLq1TUWjiCf96Yz+n2E3B6tS3mtSvlM0kOusW5bh9w1nsyUTtPUmPWYACyU9O5MnY5ZzpO5J8B86k5dxhG1ualunaAxl4eOLu5MNVrLD9MX8XQ+SOLtLtw4AyfvPJBoeMxYVGsnbyCk38cLbX2s8TezZmlXhP5ffpaes0fXqRNr3nD+X3aWpZ6TcTezZlaXk0A6DC6FzePB/Gl90RuHg+iw7vaSVcdx7xC+OXbrOjxIdsmreKl2UMAyM7SsHveRpb55D0rXRpUe+L6noO7cv96KCt7TOO7AXPpPmMQamM1lT1qUaV5bVZ0z71fLYBnN1NPakr/9xyiOIIPQQih1v8upZwlpdxfVukpCTv3GiSHRPLgThSazGzu/HGSSt2a5bN5EBpN/L93kZrCL1S2japh6mhDxOGLTyV9zZs2wsba6qmcO4dmPi05+ushAK4HBGNubUF5J9tCdtcDgom/H1foeGpyau5nE3OTUr12GtetR3bYPbLDwyEri7SDBzFp266QncXwETzYsgkyMnKPZV2/hiYmBoDskFsIExMwNi6Fen7UNeqiibyspuFrAAAgAElEQVSHjAqH7CwyTx7CuFmbRz5fUbg0rUFcSCQJd7Xl7fLOk9TyyV/eavl4cPFX7Q/rFb/TVG3bAICstAxktvahaWRinPt+/+B+PJFBIQBkPEgj5noYVhXsDEpPy66eHPr1IADBAVexsLbAtoh7Hxxwlbgi7r3PG93YvcGPBwkPAEiISTBINwfPrp4c+FU7q/pKwBUsrS2L1L8ScKVI/Sq1qnDh2AUAAo8H0rpr61Lpd/X1ZtuWHQCcP/sP1tZWOFUo/A6anKS9PiMjI4yNjclZS3bw8P6s/Oo7MjIyAYiJjjVY29qjJqm3Iki7fR+ZmcX934/h0L15Ppv4Y5fQpGrLfOK5YExctPc19WY4qbciAMiIjCMzOgFje+vSXDoAHl1bcGy7thXpRsA1zK0ssHEsX8juRsA1EqLiCx2PDo3i7pXbaP7ja+te2K6tT6EB1zG1MseywDVaOpbHxMqM0IDrufb1u2rvRV2fZpzfpo1/fttR6vlojzvVqsjN49oX0+gbYdhWcsTCwZrkqPhCLX4hZ648cX2JxMTCDAATc1NS45PRZOU8H8qhNs7tvDQGIkufa4+IRlP6v+eQ58oRFEJYCCF2CSEChRBBQoj+uuO5rW5CiOZCCH/dZ0chxD4hxCUhxFohxG09u9+FEOd0YSP1NJKFEF8IIQKB1gX01wkh+ulpfiKEOC+EuCiEqKs7bi+E2Jujid4CmEKIN4UQp4UQF4QQa4QQaiFEVSHENSGEgxBCJYQ4KoTo+ij5Y+5sR0pYTO73lPBYzFwK/xAViRC4zx5EwJwymKL/BLF1tidWLw9iI2KwNdCRyMFnSA+WHlnFG9OGsmH2WoPjqRwc0Ny/n/tdExWF2iH/D7FRrVqonZzIOFl8t5NJh45kXguGzMxSpVsfYeuAjI3KS0tsFMK2sFNg3KI9lvO/xXzcbISdY6k0rJxtSQrPcxaSwmOxcrYtbBOmtZHZGtKTUjCztQS0juSIfQsZsedT9sz4IdcxzMGmkgNODaoSdqFw92pR2DvbExOe15UaExGDnbO9wdfj6lYR1+quLNi+iIW/f457Rw+D4+boR4fl6UeHR+PgbHhnwM1/b9K2R1sA2nRvg7mVOVblDX9xcnapQNi9iNzv4WGROLtUKNL2p21ruBB8mAfJD9j1x14AqteoRqvWzdi5bxPbdv5AE3fDl6kxcbYjXa/epYfFYvKQvHd5ozOxBwsPfbByr4kwNiI1pPS/9bYV7IjRy//YiBhsS3H/nxcSwvLqXGJELNYF6py1sy2JevUyITwWqwpaG0tHG5J1TnByVDyWjtou34h/71C/ewsAKjapgU1FB2yKybuQk3nDDZ6U/sn1e3Gs6coHp1cyds8idn2yASkld89f49aJS3xw5uuc0+0BCo93eFooLYL/SboDYVLKJlLKhsBfJdjPBg5KKRsA24AqemHDpZTNgObAe0KInFJvAZzSafxdwvmjpZQewCpgsp7m3zrN33I0hRD1gP5AWyllUyAbGCSlvA0s0p1jEnBZSrm3BN0nTq1hXQg/GEhquOGtAP+r7NuwmwkdRrN54QZ6j3uCa6YJgdW7Y0j6+utiTdTVqmE5chRJS754crrFkBVwgqQJg0ie8X9kBZ3DfFTh7rKnSfiFG3zn8yHre83C892eqE3yWkCNzU14dfX7HJjzExl6rbRPE7WRGpdqrnz0+nSWjFvMu4vGYm5t8Uy0AdbOW0sjz0as2L2CRp6NiA6Pzh2796R5s98omtXzppxJOdp2aAVor798eWt6+rzBvNlfsOr70o2PNJQKfdtj1bQ6d1buyHe8nFN56q0Yx9XxX8N/vFXufwZdNh9ZtQMzawvG+C2g9dCuhF8KyVf2ypmb5H7OTM0oeJbH1q/VoTHhl2+zqOUYVvpOo+ecYZhYmmFXtQKONSvyuWfuMItOQPsnl4ASeEFaBJ+3ySIXgS+EEIuAP6WUJQ3maAe8CiCl/EsIod8f854QImdV4spALSAGrYNm6Mqh23X/zwE5o7475HyWUu7S0+wMNAPOCCEAzID7Oru1QojXgHeApkUJ6VotRwKsWbOGotoJUiJiMXfNe4szd7EjNbxwF1RRODSrhWOrOtQc2gVjC1NUxkZkPUgjcMFWg+KXJT5DeuA9wAeAm/9cx04vD+yc7YmLfDTn9sSOv4sdY1gUmuhoVE5Oud9Vjo5kR+e1UAhzc4zc3LD78kttuJ0d5ecvIH7GdLKCr6JycKT8nHkkLlxAdljYI6U5BxkXna+FT2XnmDspJNcmOTH3c4a/H6YD/q9UGkkRcVi55LW2WrnYkRQRV9jG1Y6kiFiEWoWJlTmpccn5bGKuh5GZkoZj7UpEXLyFykjNq6vf59Lvxwn+6+xD09BjiC8+A7Vj3K7/cw17l7wWOHtne2IjYoqLWoiY8GiCA66SnZXN/buRhN0Kw7WaK9f/uVZsnJeHvkz3gd0BCA4MxsE1T9/BxaFUkz1iI2OZN1I7htbU3JR2vu14kPjgoXGGjhjAG0P6ARAYEIRrRefcMBfXCkSEF9+ylp6ewR6/Q3Tr4c1R/xNEhEWy+0/tyJcL54PQaCR29rbExpT8DEmPiMVEr96ZuNqRXkTe23ZoRJXxfbjw6mxkRlbucbWlGY02TuPWp5tJPFd8fhek8+DudByoHbZ9K/A69q4O5MS2c7YnrhT3/3nBxjWvzlk725FYoM4lRsRhrVcvbVzsSIrU2iRHJWDpWF7XGlee5Gjt8If05FS2T1mTG2fS318Rd0fbu+E5rBs+k/MmVT0NfY/XOnJklfbFIPZ2JHF3o3Co4Ypbq3rcDbhORkp6zul2o+2pezYDOZ9Tx660PFctglLKYMADrUM4TwgxSxeURd61mJZ0HiGEF9AFaC2lbAIE6MVLk4bvK5NTOrMp2akWwHopZVPdXx0p5ce69JgDOSOrLYuKLKX8RkrZXErZfOTIogdBx164iZWbMxaVHVEZq6nyiiehe88ZdCEnxn7Njhbvs7PVeALmbOLWtqPPhRMI2ha86b4Tme47kbN7T9G+rzcANd1rk5qUUuRYwOJwruaS+9m9UzMiQsINjpt55QrqipVQOTuDkRGmnTqRfvxYbrh88ICo3q8QPXAA0QMHkHn5cq4TKCwsKb9wIcnfriEzKMhgzeLIvnkFtXNFhKMzqI0w9vQm83z+CULCJu9hbeTRmuywO6XSCA+8iZ2bMza68la/pyfX953PZ3N9/3ka9dW+wNf1bcnt45cBsKnsiFBrq6x1RXvsariSEKrtyvb97G1irodxZu3uEtOwe4MfE3u8z8Qe73Nqz0m8+3YCoLZ7HVKSUooci1ccp/acpGHrRgBY2Vrj6uZK5J2Ih8b5c/2fjO0+lrHdx3Jizwk699Xu+FLXvS4Pkh6USt/a1hrdSyL9x/Zn79aSOwbWf7eFbh370a1jP/7adZB+A3oB4NG8MUmJydyPzO+ImluY5Y4bVKvVdO7agevXtDNr/9p1kDbtWwLgVqMq5coZG+QEAiQFXMesugumVZwQxkY49W5L9J78Trxlw2rU/nwkQUMWkRmd9xIijI1ouG4Kkb8cJurP0s3UPfDjX8zyncws38mc33uatn208whquNciNSmlyLGAzztN+2jrUyX3mqQnpeZ2teaQHBVPelIqldxr5tr/q/sduLL/PB79tPE9+rXnyj7tcVNrc9TG2iHxzQd4E3LqCum6lviKjapz7mf/p6ofHxZDjbbaoQgWDtY4VHch7s594sOicWtVD5U611XpyDPsGpYyu9R/zyPPVYugEMIViJVS/iSEiAfe1gWFoG1t2w3o7z90DHgdWKQbd5czmMEGiJNSpujG9nk+wWQeAd5A66j20NM8APwhhFgqpbwvhLADrPS6hjcCt4FvgZcfRVhmazg7Yx1emz5AqFXc3HKYxOB7NJrSl9jAW9zbex67JtVp/90EypU3p6KPO40m98XP+9l0CU6ZvZAzAf8QH59I595v8u6IwfTt2e2Jalw4eI6m3s1YemQV6anprJm8PDdsgd8SpvtOBGDgtCG0eaU95cxMWH7yW/y37OfXL7fSdagvDds1JiszmweJyayauMxwcU02Scu+xPazxaBSkbbbj+yQECzeGk7W1SukHy9+SQzzV1/FyLUiFkOGYjFkKABxUyYj4x/xh0yjIXXDciymLNIuH3NkN5p7tzHpM4zsW1fJCjhBuW6vYuzeBjTZyOQkUr/5rFQSMlvD3lnr6b9hKkKt4p+fDxN97R7tJ/Yl/J9bXN9/nsCth+m59B1GHf6C1Phk/hi7AoBKzWvj+W5PNJnZSCnZO3MdqXHJVGpem4Z923P/3zu85TcfgMOf/8zNQ4ElpufcwbM0827OqqPfaJePmfxVbtiS3V8xsYd2pu6Q6cNo/0pHTMxM+PbUD+zfspetSzcTcPg8TTu4s+zASjTZGtbP/4Gk+CSD8+PMwTO06NSC7//+nrTUNJZOWpobtuKvFYztru3eGj59ON69vTExM+HH0z/y1+a/2Lh0I41bN2bYh8OQUhJ0KoivZxY/hKAoDu47Qief9vx9bjdpqalMHJs3a3jP4W1069gPc3Nzvt+4AhOTcgiV4MTR0/z4w88AbN24nS+Wz2P/sd/IzMhk/LvTDdaW2RquTfuOxltmaJeP2XyIlKuhVJvan6TAG8TsOUuN2YNRW5jSYK12xnbavWiChizCqVdrbDzrYWxrhXN/7UvclfdWklzEsiQPI/DQeRp7e/D54ZWkp6azdsrK3LA5fouZ5asdvfP6h4Nprav7S098w+Gt+/n9y59xa1yD99Z8gIWNBe6dm9NnwgCmdx1fqjQ8C2Lv3Gfi4aVkpKbna8Ub47eAlb7ae7bjo+/pu/gd7fIt/oEE+2snIR1ZtYMBK9/D43VvEu5Fs2WMto441qxI38XvIKXk/rVQfpuqnTFftXkd3Pu2J+LfvJdETbbmiev7L9tO38XvMPavhQgh2LNwMylxSVzyO0WNNg0Yu2dRjkwgkH+NqqfJC9IiKORzNBZDCNEN+BzQAJnAaCnlWSFEe+A7IBHwB5pLKb2EEE7AZqACcAKtg1VNd7rfdZ+vAuWBj6WU/kKIZCllka1yQoh1aLuktwkhQnQ60UKI5sBinaa9TrMicBzoCjTT2fUHpqFtvcwExgAmaB3BtlLKbCHEdmCnlPKHh2SFVPYaVvYaLguUvYaVvYaVvYbLlrLe67eM9UVJdk+S1ENrS+0gmXm//UzT+CR4rloEpZR70M4aKnj8KFC7iCgJQDcpZZYQojXQQkqZ051b5NO8OCdQFzZM73M1vc9nAS/d5xi0zl9R8bcCRfW3eurZ9CkiXEFBQUFBQeFZ8oK0CD5XjuAjUAX4WQihAjKA0o2GV1BQUFBQUHgxeU6Xgykt/9OOoJTyGuBeoqGCgoKCgoKCgj5Ki6CCgoKCgoKCwguK0iKooKCgoKCgoPCC8oK0CD5Xs4YVclFumoKCgoLCi8aznTW868vSzxp+abwya1jh2bC4Stks3wEw+c5PZb58S1kvX9OtjJYQ2XNXu8hyc5dnt8uSPmfDtQv6z69aNssXzbi9EYC5ZaT/0e2NRHTwKhNtAOcj/ni6lp3+yTB/jMpVLDP9rIx7nKlYNs+eFvd+KxPdgnxcRmX/Y13dm1NG+rN0+gpPHsURVFBQUFBQUFAoiDJGUEFBQUFBQUHhBeUFGSP4XO01rKCgoKCgoKDwTJCa0v8ZgBCiuxDiqhDiuhDiwyLClwohLuj+gnVb6uaEZeuF7XgSl6m0CCooKCgoKCgoFOQptAgKIdTASsAHCAXOCCF2SCkv59hIKSfo2Y8j/3rIqVLKpk8yTYoj+D9AtY6N6fTxYIRaxcUt/pz+Ov+e3OpyRvRY+g4VGrmRFpfEzjErSAyNzg23crXnrQOLOL50O2e/8UNtYsyAX2aiLmeEykhNsN9pji/ZbnB6hnw8gqbezchITWf15OWEBBWe2PH6lEG07+OFhY0Fw+vn7V3ZeVA3fIb0QJOtIT0ljbXTvubetdBHyJXCzFywhCPHTmNnW57ff1r9RM5ZEqM/eYeWnVqQlprOFxO/4HrQjXzhJqYmzFg9HdeqLmiyNZzcf4rvFz5sm+mHM3nu+7Tt7Elaajofj1/A1YvB+fXMTFj0zVwqVXMlO1vD0b3HWLFAu3H8xE/G0ayN9nljamaKnUN5vOv6GqxdvWNjus7WlsMLW/w5sapwOey1ZDTOjaqRGpfMb2OXkxAajVu7hnh/OAC1sRHZmVkcWLCJ28cvF6OSnxodG9NNpxmwxZ/jRWi+smQ0LjrNX3WaZuUt6bf6fVwbVydw2xH+mrW+0Ln7r51I+SpOrOla6IW9RMq1bIn1e2NBpSZ11y4ebNxUpJ1Jxw7Yzp1D9P+NIuvq1VLrFGTi3HG07uRJemoacycs5OrFa/n1zExYsOZjKlariCY7m7/3neDrBd8A8NLr3Rn70TtERWifDdt++I0dm3aVSn/pkjn06N6JlNRURoyYQMCFoGJtf9v+A25uVWjqrt03e9PGVdSuXQOA8jbWxCck0rxFkbt1Fom1lztV5oxAqFREbd5PxMr8z6wKI3vhOLALMiubrNhEbk1cQca9KADKuTpQbfEYyrk6gJQED55LRmhUqa69LKjZsTHdZw9GpVZxfos/fxdR/l9dMhrXRtVIiUtm29jlxOue/e3e7YVH/45osjXs/ngDN45cxMjEmLd+/ij32X/Z7zT+S4veYzmn7ql0de9YEdq99ereNr2695qu7l3Qq3tGpuV4bdV72FapgEaj4dr+8xxYVNSOrM+QpzNGsCVwXUp5E0AIsQV4BSjuoTcQmP00EpLD/4QjKISoBvwppTR4N3YhhD8wWbdPcGn1hgF7pZRhpY37pBEqQZd5Q/ll0EKSwmN5c+ccbuw7R8y1vKQ16u9FWsIDvuswiTo9PekwbQB/jlmRG+49axC3/ANzv2enZ/LzgAVkpqSjMlIz8NePuHUokPCA/E5MUTT19sDZzZWJHd+lpntths8bxazeHxSyO7//DHvX+7HEf2W+48f/OMKBjdrtpD26tODNmW+xaOjcUudLUfT29eGNvr2YPnfxEzlfSbTwbkFFN1feaj+Cuu51GbdgLO/3mlDI7tc1vxJ44h+MjI1YtOVTmns156x/qYslbTt5Url6JV5tM5CGHvWZtnASw14aVcjux1WbOXc8ACNjI1b98iVtOrXi+MFTLJm9PNem//C+1GlYy2BtoRJ0nzuMTYM+JTEiluE75nJt/3mir93LtWmqK4erOk6ifk9POn04kN/GLiclLomfhy8m+X48jrUrMfDHD1jWapzBmht1mm/vmEtwMZorO06iQU9POn84kO1jl5OVnon/4l9wrFMZpzqVCp27bvfmZKSkFzpuECoV1hPeJ27iZLKjorD/ZjVpfx8j+/bt/Ok3M8OiX18yLhnm9JZE606tqOxWidfaDqKBR32mfjqBES+/W8hu4+qtnD9+ASNjI1b8vITW3i05ceg0APt3HOKLGV89kn6P7p2oVdONuvXb0aqlBytXfEqbdj2LtO3duwfJyQ/yHXtj0Ojcz58vmkVCYqLh4ioVVeePJHjgx2SEx1Df7zPi954mTe8lMiXoJpd7TEaTloHjkG5UnjmEG6O/AMDtq/cJX7aNxKOBqMxNn4uxYUIl8J07jB915f//dszl6v7zROmVfw9d+V/WcRINe3rS5cOBbBu7HMdaFWnY05OVPh9gVcGWIRunsdxrElnpmawfOJ8M3bN/+LZZXPcPJDTgeiHtHnOH8ZNe3btaoO659/ciNeEBK3R1r8uHA/lVV/cOLf4FpzqVcSxQ905840fIicuojNUM2TSdml5NuK732/TMeTrloCJwV+97KNCqKEMhRFXADTiod9hUCHEWyAIWSil/f9wEKWMEH41hgGtZJwLAuWkN4kIiSbgThSYzmys7T1Kja7N8NjW6enBpm3bZj2C/01Rp2yA3rGbXZiTciSIm+F6+OJm6H0GVkRqVkRGGLjfZzKclR389BMD1gGDMrS0o72RbyO56QDDx9+MKHU9NTs39bGJu8kQXTGzetBE21lZP8IwPp3VXT/b/egCAKwFXsLC2xK5AXqSnpRN44h8AsjKzuHbxOo4uDo+k17F7O/x++QuAoPOXsbK2xN7JPr9eajrnjgfk6l25GIyTi1Ohc3Xt3Zk9v+83WNu1aQ1iQyKJv6sth5d3nqS2T/5yWMunGf/8egSAf/1OU01XDiMv3Sb5vnYITFRwKEam5VCXK/kd1VVX9nM0L+08SZ0CmnV8mhGo07zsdxo3nWZmajp3zwaTlZ5Z6LzG5ia0etuXo8sf7flqXK8u2ffukR0eDllZpB04iGm7toXsLN8ewYONmyEj45F0CtKhW1v8tmlfoi6dv4yljSX2Tnb5bNJT0zl//AKgvf9XLwbj5OL4RPR79uzGjxu3AXDq9Hlsytvg7Fy4bFlYmDPh/ZEs+LR4h7Nfv55s2fqHwdoW7rVIDwkn/U4kMjOL2D/+xrZby3w2SceD0KRp8/rBuWCMXbR1w7RWJYSRmsSjWodDk5KWa/dfpqKuzsXdjSI7M5ugYsr/Bb3yX11X/uv4NCNo50myM7KIvxtFbEgkFZtqW2NzXoDURmrUxmqKWmu4ooF1759S1L2stAxCTmhfijSZ2YQHhWDlnL/8PnM0mlL/CSFGCiHO6v2NfIwUDAC2SSmz9Y5VlVI2B94AvhRC1Hisa+R/yxE0EkJsFEL8K4TYJoQwBxBCzBJCnBFCBAkhvhFC5FvsUQihEkKsE0LM033vKoQ4IYQ4L4T4RQhhWcC+H9Ac2KgbrGkmhGgmhDgshDgnhNgjhHDR2frrBn2e1aWrhRBiuxDimp5eNSHElaLSbghWzrYkhcXmfk8Oj8Wqgm2xNjJbQ0ZSCma2lhibm9By9Msc/7Jwt69QCYbsns+7AV9z+++LRFwouTUQwNbZntiwmNzvsREx2FYoXWX2GdKDpUdW8ca0oWyYvbZUcf9LODjbExWW1wUfHR6NvXPxTp6FtQWeXVoRcOzCI+k5OjsSEXY/93tkeBROD3EqLa0tae/TljNH87c+OleqQMUqrpz5+7zB2lbOdiSF5933xPBYrJwLl8NEvXKYriuH+tT1bUlEUAjZGVklalo725FYSs20IjQL4jXpNU5+60dm6qO1CKocHMm+n9etmB0Vhcoxv7NlVLsWaidH0k+efCSNonB0duR+WJ7u/bAoHJ2Ld/IsrS1p59Mm33329u3AT/u/Y8E3n+DkWjoHsaKrM6F383oi7oWGU9HVuZDdnI+nsuTLNaSkpBYKA2jfrhWR96O4fv2WwdrlnO3I0KtrGeExGDvbF2vvMLALCYe0121a3ZXsxAfU/PYD6u/5gkozh4Lqv//TWFT5ty5Q/q31yr9GV/7NbS21x/XjRsRirXO6hErwjt8CppxfxY2jQdwr4tlv5WxHggF1L6GUdS8HE2tzanfx4Nax4ocWPBOkLPWflPIbKWVzvb9vCpz1HlBZ73sl3bGiGABszp8keU/3/ybgT/7xg4/Ef7+0G04d4GspZT0gEcjpE1khpWyh6zY2A17Wi2MEbASuSSlnCiEcgJlAFymlB3AWmKgvIqXcpjs+SDdgMwtYDvSTUjYDvgfm60XJ0Hnvq4E/gDFAQ2CYECLnSVVc2nPRf8v45puC5erRaDOhD+e++yu39S/fdWokG3rMYE2r93BuUgOH2oW7z54W+zbsZkKH0WxeuIHe4157ZrpliUqtYtqKD/jjhx1E3Il46npqtZr5q2az9btt3LsTni+s2yudOfCnP5pn3D3mUKsinT4cgN+0756prj4V6lfFrqoTV/eUvmveYITAeswYklauenoaJaBWq5n79Uf8/N12wnT3/+i+47zaagBvdhnB6SNnmfXltCeu26RJA6rXqMoff/xVrE3//r3ZWorWwNJi36cjFk1qELFK2+IrjNRYtqzH3bnruOw7BZMqFXB43fup6f/XkRrJat/pLPEcR8WmNXB6hs9+AKFW0Xf5WE7/sIf4u2U8TvMRWgQN4AxQSwjhJoQoh9bZKzT7VwhRF7AFTugdsxVCmOg+OwBtKX5socH8T4wR1HFXSnlM9/kn4D1gMeAthJgKmAN2wCUgZ1TrGuBnKWWO4+YJ1AeO6RoOy6F3E4qhDlrHbp8ujhrQ/2XNucEXgUtSynAAIcRNtG8F8Q9Jey66t4ocD1Aunqdtck+KiMPKNa/FzdLFjqTI/F2uOTbJEbEItYpyVuakxiXj4l6T2r4t6TBtACbW5kgpyU7PJGD9vty46Ykp3D1xmWpejYkOLnrShs+QHngP8AHg5j/XsXPNexO3c7YnLjK2yHglcWLH3wyfV3iM23+ZnkNfpsfA7gAEBwbj6JrXIufg4kBMRHSR8cYvep97t8L47bvSdUe+NuxVeg/SjsO6HHgFZ1cnckbUVHBx5H540XozPp/C3ZuhbP72l0JhXV/pzKLpS0uVjqSIWKxc8u67tYsdSRGFy6G1qx1JunJooiuHoG1h6PfNBHZMXE38nfsYQmJELNal1DTV0yyKSh41cWlcnXF/f4nKSI2FvTWDt8zgxwHzi41TEE10FGqnvNY0taMjmqi8HzRhbo6Rmxt2X30JgMrODttP5xM3bUapJ4z0HdabVwZp323/vXAlXyuek6sjURFF/5B++Pkk7t4KZevabbnHEuPyxuTt2LSLsTNLrnuj3xnKiBHanSbOnr1Apcp5I2YqVnLhXlj+lxrPVs1o5tGY68EnMTIywsnJngP7fqGzj/aFT61W82rvHrT0LN3OPRkRsdqJHjrKudiTGRFTyM66fWNc3uvHlb4zkbpW54zwGFIuhZB+JxKA+D2nsPCoA1sOlCoNz5qiyn9igfKfqCv/iRGxqHTlPyUuWXtcP66z1kaftMQUQo5fpqZXY+4XePYnRcRiY0DdsylF3T3QfwIAACAASURBVMvh5YUjiLkVwanvi39ZeGY8hZdhKWWWEGIssAetv/C9lPKSEGIOcFZKmeMzDAC2yPx98/WANUIIDdqGvIX6s40flf+lFsGCAxmkEMIU+Bpta10j4FvAVM/mOFpHMeeYAPZJKZvq/upLKUeUoCvQOng5cRpJKfWnuuU0t2n0Pud8z3HEC6W9BM1cIgJvYuvmjE1lR1TGaur29OTGvvxdejf2nadBP+2WZLV9W3JXNyNzS7+5fNt2At+2ncD57/dwasUOAtbvw8zOChNrbe+0kYkxVds3IvZG8fNi9m3YzXTfiUz3ncjZvado31f7Nl3TvTapSSlFjgUsDudqLrmf3Ts1IyIk/CHW/z12rv+Td7uP5d3uYzm+5wRd+mpnRNZ1r0tK0gNii8iLoVOGYGFlzuqP15Ra75d1vzHIZziDfIbjv/sovq9pndCGHvVJTkom5n7hH8PRH7yNpbUFX8xaViisas0qWJW34p+zpeuSCQu8iZ1eOazf05Pgfefy2Vzbf57GfTsAUM+3JSH/z955h0VxvHH8M3cgvQoIqFGMXYxgxQ4qqPxiJYkxRrHFbmKNLWqMNWrU2DUmUaNGY4+9Y+9ij4BdBJQO0rnb3x93wtEUFCXG/TzPPXA7s/N9d27e3dmpp24Amm6gTr+P4MiP6wm+EJgj7ZdpWmo1q+WiGXjwEjW0mlV1NPPi4ppDzKs7iAWNhrDyk0lE3gstUCUQIO1WAMpSpVA62IOeHobNm5Fy8lRGuJSQwNO27Qjv9DnhnT4n7ebNV6oEAmxeuY1unr3p5tmbo3tP4P1JSwCq1azKs7gEIp/mfAnr+20vTM1MmDthYZbjuuMJG3s14H7Qw5fqL1m6itp1vKhdx4u//95H1y6fAFCvbk3iYuMIC8taqV+2fDUflK1F+YpuNPVoT2DQ3YxKIECL5o0JCLjN48cF8/uEy0EYODlQrLQdQl8P63aNiN5/Pksc42pOlJnRn6Ae00iPjNU59zZ6FsboWZsDYNawOsmBj/i3E3LlLsW15V+pr8S5jRsB2cp/wMFLuOiU/3va8h9w4CLObdxQFtPDsrQtxZ3seXz5DsbWZhjq3PvLNXYm4nbO3+JxPnwvQMffdbVfhMeITzE0M2bfpD8KniFvgje0jqAkSbslSaooSdKHzxuiJEmaoFMJRJKk7yVJGp3tvFPaOkYN7d9C6T75L7UIfiCEqC9J0mk0gyhPkFnpi9CO9fsE2KRzzq9AE+AvIURH4AywSAhRXpKk20IIE6CkJEnZn07xwPNZBwGA7XNtIYQ+UFGSpJeX+hfbni8klZpD41fh88e3KJQKrm04SmTgYxoO8yHs2j3uHLjEtQ1H8Z7Xj17HfiI55hk7By18YZomdpa0ntMXhVKBUAgCdp7l7qH8jVu7fPgiLh61mHtsCSlJKSwbkTkTddruOYz11vS0dx7TjQbtGlPMyIAFZ37Bb/1BNs/bgJevN86NPiI9TUVC3DOWDMtZWXlVRk6cwXn/q8TExNG8/ZcM6NUVnzYtCy397Jw7fJ46zerw+4nfSElK5qfhma1si/cuZECrQdjY2/DF1515GPSQRXs0efX3yh3sXb+vwHonD52mYXM3tp1eT3JSMpOGTs8IW3vgN7p49sTOwZZeQ3y5F3SfNfs195C/ft/C9nU7AU238P5tBW8JkVRq9k1YSefVo1AoFVz56ygRQY9pMsyH0Kv3CDp4icsb/Gg3tz/9j/5EckwCWwdprre2rxdWZUvQ+OuONP66IwDrus4gMfLFs0YllZq9E1byxepRCK1meNBjmmo1Aw9ewn+DH+3n9mfg0Z9Iiklgy6DM8jj4xDwMzIxQ6utRyas2a7vOyDLr8ZVRqYib9zNWs2eBQkHS7j2k37+Pac8epAUEZKkUFianDp2hQfN6bDq1luSkFKYM/TEjbPWBFXTz7I2tgy09hnTlftADVu3/BchcJuazXj409mqAKl1FXEw8k4fOKJD+7j2HaNWqGQH/nCQxKYnevTNH1Vw4vz9fS8F89lm7Ak0SyUCl5uF3v1Bp3URQKIjYcIjkwEc4juhM4pXbxBw4T6nxvihNDCm/bCQAKY/Dud1jOqjVPPphFZU2TAIhSLx2h/B1B14iWPSoVWp2T1hJV23599eWf49hPoRcvUeAtvx3mNufr7Xlf5O2/IcHPebGrrMMPDgTdbqKXeNXIqklzOwsaT+nHwqF5t5/Y+dZAg/759CWVGr2TFhJF632Za22u1Y7UEd7kFZ7s47vfa3je5W9arOm6wxS4pNoPLg94bcf02eX5uXr/Or9+K/3eyv5mSvvwOzxwkDkNiPoXUO7fMxeNGP3aqHpM+8qSVKidlJGZyAMCAQeSJL0ve7yMUKISUBFoAvgDvwIGGiT/063lq7V8wGmAUlAfTTdw/MBCzSV63mSJP2STcNd+//H2jT8gBFARF62v+CSpdkffFngfCosRjxcwxdlimbj93UPNBu/p0XkXJvwbaBvUw6AlqUL1nVVWOx7tAeA2g6Ni0T/Qqhm9vnUItp4fpx24/nJRaQ//sFawpq4F4k2gP0xP9wci07/TIgfesVKFpl+eupjzpcsmntPncdbi0Q3O98XUdn/Xut7PxSR/gSNvnhZvMIkadXoAleQjHxnvFUbC4P/RIugJEn3gcp5hH2HZgJI9uPuOv/rLtZ4GKjzEr3NgO4qm5fRtCy+SMMPzQyfLGHaSmy6JElFV7OTkZGRkZGRycp70iL4n6gIysjIyMjIyMgUKnJFUOZtoG3NzPeOKDIyMjIyMjJvgTezxdy/jv/SrGEZGRkZGRkZGZkC8J+YLPIeIv9oMjIyMjLvG291Ikbi8qEFftYa95krTxaRkZGRkZGRkXnnkccIyvyb+dOxaKbwA3QOWcsTj6ZFol3iyFGg6JdvKerla5JWjX5JzDeDka9mbbmiXsKib9mi2Xpw2f2NtC6isgew59Ee2nzw8csjviF2PNzJg5otiky/zKWDNC7ZvEi0jz/+d+w0UsTLtzCm7BdFoj/9/rq3L/qejBGUK4IyMjIyMjIyMtlRvx+jsOSKoIyMjIyMjIxMduSuYRkZGRkZGRmZ9xS5IijzLuLg/hE1J3dFKBTc+dOPfxbuyBJuW68yNX/4EssqH3Cq/0Ie7ToHgHFJGxr/NgShUKDQUxL4235u/1HwMTHF6tTFbNBgUCpI2rWLxD9zH9dh0KQJlpMmE9m3D+mBARSrVRvTPn1ATx/S04hfuoQ0/5x7XBaU/pP6UbdZHZKTUvhp2E/cvn4nqx2GBoxbOhbHMg6oVWrOHDzLbzN+f23d3Phu2hyOnTyHtZUl29YsLfT0T955wswDV1FLEh1qlKFng0pZwmcduMr5BxEAJKenE5WQyonhmvFmA9af5OrjaFxLW7PgswYv1Rp0eBYKpYJL6/04sSRrGVMW06PDnP44Vi9LYvQzNg1aQEywRrfRgLbU7NQUtUrNnu9Xc+fYNQDazfqKis1cSYiMY7FX5vhHz7GdqdS8Jqq0dKIePMnVlk4Te+DsUZPUpBRWjljEoxv3csT5wLkc3WcPRN+wGNePXGLDJM1vXKpqWbpM/Qp9g2Ko01WsG7+C+1duU8OzNm2HfY4kSajTVWz4YSV3Ltx6ab70m9SPOs3qkKItb3eylTcA3299ae7THFMLUzpW7phx3K6kHUNnD8WiuAXxMfHM+noWEWERL9XUpc+kPtTyqE1KUgo/D5+Xq37XkV3x8GmGqYUpn1XJHGvZe0Jvqtf/CAADIwMsilvQufrn+dY2bFAH6xEDQKng2dY9xK1cnyXc1OdjzD5rB2oV6sRkoqbMIe3eQwD0KzhRfNxQhIkxqCVCuw6A1LQCXTvANz8MxK1ZPVKSUpg2dCaB14OyhBsYGjB5+QQcyziiVqk5eeA0y6avyBKnqXdjpvzyPb1b9yfgavZt5oueAVrf81/vx8lcfK/9nP44VC9Lktb3YrW+13BAW1y1vrdPx/fq9WqF6+ceIEk8vfWI7SOXo0pJo2yDqniO+wKlvh6h13L6FECbid2o5OFCalIqm0YsJeTG/RxxHJ2d+HR2X/QNixFw5DI7Jq0GwNm7Hi2G+GBb3pHF7cbzWKuh0FPi8+NXOFYri0JPyaUtxzm6+O8c6b4V3pNVVd7bdQSFECuFEJ/kctxRCLFJ+7+7EGKn9v/uQoiFucR3F0I00PneTwjR7U3anhdCIag1rTt+XWay2/1byrSrj3mFrPuCJj6O4OyQZTzYmnXj++Sn0Rxo8z17Pcey/38TqDKoDUYlLAtmgEKB2TdDiBn9LZHdfTFs3hxlmTI57TQywrjjJ6TevJFxTB0bS8zYMUT16kHs9OlYjBlXMO1cqONRh5JOjvRo3IufR81n8LRBucbbvGwzvT36MKD1IKrVqUpt99qvrZ0b7b09WTpnyhtJW6WWmL7vCos6NWBLnxbsvRnMnfC4LHFGen7EX72b8VfvZnSu9SHNKzlkhPnWq8DUtrXyrbfWdyaLWnyLc9v62GYrYzU7uZMcm8D8psM58+seWozuDIBthZI4t3Fjkeco1vjO5H9TeiAUmpUWLm88zhrfmTl07h6/zmKvUSxpNYbIe2E5wp3dXbFzcmC8+2DWjF1Gl6lf5WrvF1O+4o8xSxnvPhg7JwequbsA4DP6S3b+vJEp3iP5e84GOo7R7PR46+R1JrcewRTvkaz6djHdfuz30jyp41EHRydHejXuxfxR8xmUR3k7e+As37T5Jsfx3t/15tDmQwzwGsC6eevoPrr7SzV1qeVRG8eyjvRt0odFoxfSf+qAXOOdO3iO4W2H5Ti+4ocVfNP6a75p/TU7V+7g9N7T+RdXKLAeNZing8cS4tMLk1Ye6Dt9kCVKwt7DhHb6itDO/YhbtQGr4f01AUoFNlPGEDl1HqGf9uZJn+GQrsq/tha3ZnUp5VSKzo26MXPUHIZPz5nHAH8u3ciXTXvQs2Vfqtdxpp5H3YwwIxMjPunVkRuXbhZY/22xzncmi1t8S7W29bHJ5nuundxJik1gYTbfs6lQkmpt3FjiOYp1vjNprfU9sxJW1O3RkhUff8dSr9EIpQLnNvVBCNr91I/Ngxay1Gs0sY9zvpBUcnehuJM9s92HsXXsCtpP7Zmrve2n9GTLmBXMdh9GcSd7KrrXAOBJwCPW9JvL/XNZX7Cqe9dDWUyfn1uNZuHH46j3RXMsS9kURtYVHLW64J93kPe2IpgXkiSFSJKUo4L4AtyBjIqgJElLJUlaXeiG5QNr1w95dv8JCQ/DUaepeLj9DKVaZn24JwRHEPPPI6Rsg2DVaSrUqekAKAz0Mx7QBUG/chVUIY9RhYZCejrJhw9j0LBRjngmPXuRsH4dpKZmHEu/HYQ6MhIA1f17CAMD0NcvsA261Pdy4+BmTavmLf9bmJibYm1nlSVOSnIKV05f1diQlk7QtdvYOryZm05tl+pYmJu9kbSvh0RR2sqEUlYm6CsVtKxaCr+g0Dzj77kZTKtqpTO+13Oyw7hY/jsIoh+Fo0pTcX3HGSp5Zi1jlTxrcXnzMQBu7j5HuYbVMo5f33EGVWo6MY/Cibr/hJIuHwLw4NwtkmKe5dC5c/waapXm5hrsfztHeA2vOpzZoplJfs8/CCMzE8xts77AmNtaYmRmxD1/TevQmS1HcfHSPPwlJIxMjQEwMjcm9kk0ACmJyRnnGxgbkp/1Vt283DikU95MzU2xylbenodFP43OcfyDCh9w+eRlAK6cukJ9r/ov1cyqX4/Dmw8DEOAfgIm5Sa76Af4Buerr0qRtU479fTTf2sWcK5EeHEL6Y43vJ+zzw8i9YZY4UkJixv/CyDCjtcXQrTapQXdJC9LMxFfHxr3SA7VRy4bs3bQfgJuX/sHUwpTidtZZ4qQkp+B/SpPH6WnpBF4Lwk7H33t/24N1i9eTmpzKv5WYR5r7+408fO+qju856fjeDR3fi9bxPYVSiZ5hMYRSgb6RAfFPojG2MtW0wmtfvu4ev57DjipetfDfchyAR/63MTQzxiyb75nZWmJgZsQjre/6bzlOVS/Ni3b4nRAi7uZ2j5IoZmSAQqlA37AYqtR0UuKTXjG3XhO1VPDPO8h7UREUQnQTQlwVQlwRQvyhE9RECHFKCHH3eeugEKKsECJnqc893bJAP2CoEOKyEKKxEOJ7IcQIbbifEGKuEOKCEOIfIUQdIcQWIUSQEGKKTjpfCiHOadNYJoRQvsp1GttbkxgSmfE9MTQKI4ecD4I8z3e0pvXB6bS7MJ9/Fu0k6UlMgfQVNjaonz7N+K4OD0dpk7VSpVehAko7O1LPnMkzHYMmTUkLCoS0gncN6WJjX5zwkMw32YjQCIrb513JMzE3wa1FPfy1D+N3iafxydibG2V8L2FmxNP45FzjhsQmEhKTQN0ytq+tGxcahbl91jJmbm9FXEgUAGqVmuT4RIytTDXHQzPLZ1xYFOb2WR/UL8L1s5xLFlmWsCZKp8zHhEVilS1NK3tronV0o0MjsSyhifPXpJX4jOnK9FNL8Bnbja0z12bEc2lZl0mH5jHotzGs/nbJS+0rbl+ciGzlzeYF5S07d/+5S8PWmspTg1YNMDYzxswy/y8Oxe2LExGaqR8ZFklx++L5Pv85tiVtKfFBCa6evJrvc/RsbUgPy/R91dNwlHY5tU0/a4vj9tVYffMVUTMXAaBfphRIEnaLZmC/dgnmvp8V2GYAW3sbnoaEZ3wPDw1/Yf6bmpvQ0NONCyc0Q1AqOlfAzsGW04fOvpL+2yYuNAqzbL5nZm9FrNb3JK3vGVmZYpaL75nZWxP/JJrTy3cx5PR8hp1fREp8InePXyMxKh6FUolDdScAqnjXJTsWJayI0WoBxIblcS8I1YkTGoVFiRc/k67tPkdqUgpjzi1m1Kn5HPtlF0mxCfnMlUJGUhf88w7yn68ICiGqAd8BzSRJqgHo9hc4AI2Aj4EZBU1bu0/wUmCuJEkukiQdzyVaqiRJtbXxtgMD0ewt3F0IUVwIUQXoBDSUJMkFUAFFslBUYkgUe1qMYWeDYTh92hhDG/PCFRACswEDiV+8OM8oyrJlMe3Tl/g5PxWu9ktQKBWMWTiK7b//TdjDnF2Q/yX23QymReWSKF+h1beoaDyoHepX6C58GU2/9OKvySsZ06A/GyevpNuP/TPCLu87x8TmQ1jSZyZth3UqdO3srJiygupu1Vm4ZyHV3aoTERqBugi6mpq0bcLJXSffiPazv/4mpF03ouevwKK35jYnlEoMXZyJGDeNJ72GYOzRCMO6roWurYtSqWDiou/Y9NtWQh+GIoRg0MR+LPqh8Mfu/psxNDemklct5jcawty6g9A3MqB6B83LyJbBC2g54Ut6bf+B1ITcXyrfBKVrfIikUjO93kBmNh5C497eWJW2e2v6WXhPWgTfh8kizYCNkiRFAEiSFKUTtk2SJDVwUwhR4g3pPx/leg24IUlSKIAQ4i5QGk1FtBZwXggBYAQ8zZ6IEKIP0Adg2bJl5NZOkBgWhbFj5lu4sYM1SaEv7gLKjaQnMcQGPMK2XuWMyST5QR0RgcIu02EVtraoIjJbKISxMXpOTljPm6cJt7bGcuo0YsaNJT0wAIWNLZY/TCFuxjRUISEFthugje/HtO7cCoDAK4HYOma2CNg42BCZx+D7IT9+w+N7IWz9ddsr6RY1dmaGhMVldp88iU/Czsww17h7bwYzpmWNQtE1d7AmLixrGYsLi8bc0Zq4sCgUSgWGZsYkRj/THHfILJ/m9po4L8PlkyZUbO7K6s7TGBegmeTx3e5ZANy/chtrx+I8nxJhaV+c6GxpRodFYaWja+VQnJgnmjj1fdwzJo5c3HWarjNyjgUMOvcPNh+UwMQqp9d97PsxrXTKm0228laQyR5RT6KY0kfTUWBobEgj70YkxL24JcS72/9o2bmlxs6rQdjodHMWty9OZFhkXqfmSeM2TVg6/uUtoLqkh0egZ5/p+0o7W1RP89ZO3HeE4mO+IRJIfxJO8qVrqGM0Y1qTTpylWOUKJJ97+WSxDr7taNPFG4BblwOwc8xs5bZ1sM0z/0fOHEbwvWA2rtgCgLGpMU6VnZi/aQ4A1rbWzPh9MqN7jP9XThgBje/FZ/O9+LBoLBytiQ+LQmh9Lyn6GfG5+F58WBROjZyJeRROYlQ8ALf2nqdUrQpc23qS4Eu3WfnpZADKNa5O48GacwfvngZA8JW7WDpa80CbpoV9HvcCh8wWegsH64zhF3lRo10DAo9eQZ2uIiEyjgcXAyn1kVOB86cwkN7RMX8F5T/fIvgSUnT+f1PNI8811Nn01Ggq4gJYpW1RdJEkqZIkSd9nT0SSpOWSJNWWJKl2nz59chWKunwXMyd7TErbotBX8kE7N4L3X8yXkUYO1igNNWPy9C2MsalTibg7eY8xy420W7dQliyFwt4e9PQwbNaMlFMnM68hIYHw9u2I6Pw5EZ0/J+3mzYxKoDAxxXLGDJ79soy06/nqmc+VHat2MqDVIAa0GsSpfadp4aPZhaCya2US4xOIymVslO/IbpiYGbP0+2WvrFvUVHO04mH0Mx7HJJCmUrPvZjBNKzjkiHcvIp645DRqlMx/l2xuWJa2RamvxLmNGwEHspaxgIOXcPFpAkBV77rcO6WZFBRw4CLObdxQFtPDsrQtxZ3seXw556xWXco3/YiG/T7mz14/kaYzbmuK90imeI/k8v7zuHXUdBk7uVYgKT6RuPCsQxriwmNIik/CybUCAG4dm3Jl/3kAYp5GUdGtKgCVGzjz9L6mNdi2jH3G+aWrOaFXTJ+E6Pgc9u1ctZNBrQYxqNUgTu87TXOd8pYQn/DSsXi6mFuZo30ZpNOgTuzfsP+l5+xevStjgseZfadp5tMMgEqulUiMTyyQPkCpD0thamHKrYsvnyGtS+qNAPRKl0TPUeP7Ji3dSTqadUKaXunMiQ1GjeuR9igYgOTTF9Av74QwNAClAoNaNUi7+4D8sHXVdnp69aWnV1+O7ztJq0+8AKhaswrP4hKIfJrzRaP3tz0wMTNh/sTMnomE+ATaVO/IZ25d+MytCzcv3fzXVgIttff3am3cCMzF9z7KxfcCD1ykmo7vWWt9Ly4kkpKu5dEzLAaAU8NqRNzWvIQbF9f0CCmL6dGwf+ZuNgu8x7LAeyw391/AtWNjAEq7lic5Pon4bL4XHx5DSnwSpV3LA+DasTH/vOSZFBMSSbkGmrGN+kYGlHYtT/idV2sYeG3kFsH/DIeBrUKIOZIkRQohrLO1Cr4u8cDr9KEeArYLIeZKkvRUCGENmEmSlL87oQ6SSs2FcStxXzcKoVRwd/1R4gIfU32kD1FX7vF4/yWsa5Sj8a9DKWZpTElPV6qP8GG3xygsKjjiOqELkiQhhODW0l3E3npUMAPUKuLnz8Nq5mxQKEjesxvV/fuY9OhJesAtUk6dyvNU4w4d0HMsiUk3X0y6+QIQPXIEUkzBxinqcu7weeo0q8PvJ34jJSmZn4bPzQhbvHchA1oNwsbehi++7szDoIcs2rMAgL9X7mDv+n2vrJsXIyfO4Lz/VWJi4mje/ksG9OqKT5uWhZK2nkLBaK8a9F9/ErUa2tUoQ3lbcxYfvUlVByvcK2oqhXtvBtOqasmMCsdzeqw+xv3IeBLT0vFasIfv/1eTBuXybiTvulpTxvz/Okp40GM8hvkQcvUeAQcv4b/Bjw5z+/P10Z9Iiklg0yBNvoYHPebGrrMMPDgTdbqKXeNXZkxa8pk/kLL1q2BsZcawMws4MncT/huO4v2DL8pi+nRbMyZXO64fuUR1D1emHF1AalIqq0Yuygj7bvcspniPBODP8b/gO3sgxQyLcd3vMtf9NK1Nf4xeRqeJPVDoKUhPSWPNGM3LQM3W9XDr2BRVuoq05FR+GTQ3p3g2zmvL228nfiM5KZm5OuVt4d6FDGqlmUXcc2xPPNp7YGBkwB/n/mDvn3tZO3ctH9X/iO6juyNJEtfPXmfxd3kPociNC4cvUNujNsuP/6JZPmbEvIywn/fM55vWXwPQfWwPmrZrioGRAb+fXcn+9fv5c65mmafGbZtwfMexAukCoFIT9eMC7BbNAIWCZ3/vJe3uAyz6+ZJ6M5CkY6cx69QOw3o1IT0dddwzIidoZomr458Rv3YT9n8sAkki6eQ5kk4UfJze6UNncWtWj/Un/yA5KZnpw2ZlhP22fxk9vfpi62CD7zdfcj/oAb/u03QDb/l9Ozv/3F3way4iumh977LW99y1vheo43uDtL63Wcf3bu46S3+t7+3R+t7jy3f4Z/c5+uyailqlIuzGAy6t00w4atD3f1Ro7ooQgotrDuHU0DmLHQFHLlPJw4URR+eSlpTCppGZL9KDd09jgfdYALaP/41PZvdD37AYgX5XCPDTjMGu2rI2bb/3xcTaHN/fviX0nwf83m0GZ1bv55NZ/RiyfyYIuLjxGGEFfRYVFu/omL+CIvIzG+5dRwjhC4xEM/7OX5Kk7kKIlcBOSZKeLxXzTJIkU+0EkJ2SJDkLIdyBEZIkfSyE6A7UliRpULa0KwKb0LTwDQaaA88kSZothPDTnn9BNy3tebphnYAxaFpo04CBkiTlPZsCJHmvYXmv4aJA3mtY3mtY3mu4aHnP9xp+qwObE37oUuAKksmEte/O4Gst70OLIJIkrQJWZTvWPdt3U+3f+2gmcyBJkh/gp/1/JbAyl7QDgY90Dh3XCXPX+T8jrVzCNgAb8ns9MjIyMjIyMm8YeYygjIyMjIyMjIzMf5n3okVQRkZGRkZGRqZAvKOTPwqKXBGUkZGRkZGRkcnOezJZRK4IysjIyMjIyMhk5z1pEXwvZg3/B5F/NBkZGRmZ9423OiP32RifAj9rTadvlmcNy7wd9pf4vMi0vZ6sJ7Zr0SzhYPGHZgmH2g6Ni0T/QqhmUnhRL99S1MvXFPXyMZ3LtC8S/T8fbCuysgea8lfXsWiWbgI4gp1A5gAAIABJREFUF3KUiNZFp2+z52iR+35RU9S+V8TLx7xd3pMWQbkiKCMjIyMjIyOTHbkiKCMjIyMjIyPzniJPFpGRkZGRkZGReU+RWwRlZGRkZGRkZN5PJLkiKPOuU9yjBpWn+CKUCoLXHub+gr+zhJfp603JLs2QVCpSI+O5MWQpycERhaavV70Ohl0HgkJBmt9uUnauzxKu37glhp/3QYrWaKYc2E7a0dff/H3E5G9o2NyN5KQUvh8yjYBrgVnCDYwM+HH5ZEqVdUSlUnN8/0kWTtNsmD5s0mBqNXAFwNDIEGsbSzwqe+db++SdJ8w8cBW1JNGhRhl6NqiUJXzWgaucf6C53uT0dKISUjkxXLN37ID1J7n6OBrX0tYs+KzBK19/Xnw3bQ7HTp7D2sqSbWuWvlZagw7PQqFUcGm9HyeW7MgSpiymR4c5/XGsXpbE6GdsGrSAGG25ajSgLTU7NUWtUrPn+9XcOXYNgHazvqJiM1cSIuNY7JU5Ece+ahk+ntoTPQN91CrVS+3y/b43Lh61SE1KYcmI+dy/nnNSzWcju9CkowcmFib0qNo5R3jd1vUZunQU4z4ezt1rdwqUL0VZ9gCGT/6aBs3qkZyUwg9DpxNwLSiH/vRlkyhV1hG1Ss3xA6dYNG15RniLNh70Ht4dJImgm3cYP3ByvrX1a9XFpN9ghEJB8t5dJG3MfXB/sYZNMP9uMjFf9yE9KCDjuMLWDqtlq0hcu5Kkza+242ZR5//boLB9z9DcmLY/foVdxVJISGwfuZzgS7ep6l0X96E+2JZ35Je2E/JlW5uJ3ajk4UJqUiqbRiwl5Mb9HHEcnZ34dHZf9A2LEXDkMjsmrQag9ZgvqNyiJqrUdKIePmHTyGUkxyW+Rk4VAnJFUCY7QojuQG1JkgYV4Jy2QFVJkma8McNyQyGoMqMnFz+bSnJIJG77phG+7yIJgY8zosRdv8+jlmNRJ6VSyteTihO6cLXPz4WjLxQY+n5Nwo/fIkWFY/rDYtIunUYd8iBLtLSzfiSvXlA4mkDDZm6ULleKDg0641yzKmNmDKf7//rmiPfHkj+5eMofPX09lmycR4Nm9Th1+CxzJmba0qmnD5WcK+RbW6WWmL7vCks7N6SEuRFdfj9C0woOfGhrnhFnpGfmttR/nr/DrScxGd9961UgOV3FJv97Bb3sfNHe25MvfNoydvLs105rre9M4sKi+OrvyQQcvER4UGa5qtnJneTYBOY3HY5zGzdajO7MpkELsK1QEuc2bizyHIVZCSu6rR3DAvfhSGqJyxuPc27VATrM6ZdFx3NMZ/x+3sJtvytU8KhBl5Xf5mmTi0ct7J0cGNq0P+VdK9JrSj/Gt88Z/9LB8+xftZu5fotzhBmaGNKqx8cEXQrIEfYyirLsATRoVo/STqXwadgF55pVGTV9GD0/7p8j3tqlGzL0F/81l/oe9Th95CylnUriO7gLX7UbSHzsM6yKW+ZfXKHAdOAQYscORx0RjuXPy0g9exLVw6z+LoyMMGr3CWm3buRIwqTPQFIvnCvQNetS1Pn/tihs32s1sSu3j17hr/4/o9RXom9kAMDTwGA29J1Hm2k982VXJXcXijvZM9t9GKVdy9N+ak8Wt89ZgWw/pSdbxqzgkf9tuq/8loruNQj0u8LtE9fYN3M9apWaVqM/x31AW/bOWJ+L0ltE3mtY5nURQuhJkvT3W68EAhY1y5N4L4ykB0+R0lSEbTuFXavaWeJEn7yJOikVgNiLQRg4WBeavvLDyqifPEYKDwVVOmlnjqBfq/BbubLTtFUjdm/cC8D1SzcxMzeluF3xLHFSklK4eMofgPS0dG5dC8TOwS5HWl7tm7Nv28F8a18PiaK0lQmlrEzQVypoWbUUfkGhecbfczOYVtVKZ3yv52SHcbE3925W26U6FuZmhZJW9KNwVGkqru84QyXPWlnCKnnW4vLmYwDc3H2Ocg2rZRy/vuMMqtR0Yh6FE3X/CSVdPgTgwblbJMU8y6EjSRIGpkYAGJgZv9CmWp51Ob7ZD4Db/oEYm5tgaWeVI95t/0BinkbnmsZnw7uwY+kW0lLSXqiVG0VZ9gCatGzE7k37MvUtTClul9Wnc9e3BaB9lzZsWrmV+FjN7xAdGUN+0atYBVXIY9RhoZCeTsrRwxRza5QjnnG3XiRuXAepqVmOF6vfCFVYKKoHr/4SVNT5/7YoTN8zMDOiTL3KXFrvB4AqTZXRChdxO4TIu3nfv7JTxasW/ls0S+w88r+NoZkxZrZZXybMbC0xMDPikf9tAPy3HKeql+a5FHT8GmqVpuL10P82FvZZf7siQS0V/PMOIlcEASFENyHEVSHEFSHEH0KINkKIs0IIfyHEQSFEiVzOKSuEOKw975AQ4gPt8ZVCiKVCiLPATCFEdyHEQm2YrRBisxDivPbTUHu8qRDisvbjL4R47ae1ob01ySGRGd+TQ6IwsM+7olfyCw8iDl9+XdkMhJUNUlR4xnd1VDjCyiZHPP06jTGd+gvGgycirG1fW9fW3pawkKcZ35+EhmPnkFP3OabmpjT2bMj54xeyHLcvVYKSHzhy/sSlfGs/jU/G3two43sJMyOexifnGjckNpGQmATqlnn9ay5K4kKjMLfPWtkyt7ciLiQKALVKTXJ8IsZWpprjoZllMi4sCvMXlEmAvT/8gdfYzgw9PR+vcS9ev8za3prIkMyhDVFhkViXyP/LTVnnclg72uB/+GK+z9GlKMsegJ29DU909J+GhGNnn3f50ug34PwJzfV+UK4UH5QrzS/bF/LrjsW4udfNt7bCxgZ1eKa2OiIcRfGs1678sAIKGzvSzp/JerKhEUaffkHi2lX51suNos7/t01h+J5VaTsSI+NpP7svfXdPpe2PvTNaBAuKRQkrYrTaALFhedgXqhMnNAqLEjlf1mp/6k6AX+E9j14ZuSL4fiCEqAZ8BzSTJKkG8A1wAnCTJMkVWA/k1h+1AFglSdJHwFpgvk5YKaCBJEnDsp3zMzBXkqQ6gA+wQnt8BDBQkiQXoDGQlIudfYQQF4QQF5YvX549+LVw8GmEuUs57i/a8fLIhUi6/2nih3bh2bivSL9+EeO+o96qvlKpZOqSiWz4dROPH2Z9823ZrjmHdvqhfkNdA/tuBtOickmUinduEfq3Sp0vW7B38hrm1v+afT+seWM6Qgi6fteTNVN+f2MauhRl2XuuP2XxBDb8upkQrb5SqaS0Uyn6+XzD+AE/MG72SEzNTQtHUAhM+wwk4Zec3fHGX3YnaetGSM5x23tjFHX+/1tQKBU4OJfl/JqDLPMeR2piCo0GtClSm9wHtkOtUnF528kitQM0PRIF/byLyGMEoRmwUZKkCABJkqKEENWBDUIIB6AYkFt/RX2go/b/P4CZOmEbJUnKbWR7C6CqEBkPf3MhhClwEpgjhFgLbJEkKTj7iZIkLQee1wCl/eMPv/CiksOiMHTMbFo3dLQmJSwqRzzrJs44DenAhQ6TkFLTX5hmQZCiI7K08CmsbTMmhWTEeRaX8X+q324MP//qlbQ+7d6B9l00N6+bV25h72jHFW1YCQdbnobmPgFm3KyRPLobzJ+/bMwR5tWuOT+OnVsgO+zMDAmLy3yYPYlPws7MMNe4e28GM6ZljQKl/2/E3MGauLCs3axxYdGYO1oTFxaFQqnA0MyYxOhnmuMOmWXS3F4T50XU8GnMnu81g8lv7DrLp9nCPbu1ptnnXgDcvRpEccfMFiBr++JEPXlx+s8xNDWidKUPmLB+CgAWtpaM+HUcs3tNfeGEkaIue590b0/7LprJRjcvB1DCMbOb087Rlqdh4bmeN2bWCB7dC2b9ik0Zx56GhnPd/x9U6SpCHoXx8M4jSjuV4p8rt15qhzoiAoVtprbCxhZ1ZOa1CyNjlGWcsJg5TxNuZY3ZxGnETxqLfqWqGDRqikmvvggTU5AkpNRUkndsfaluUed/UVIYvhcXFkVcaBSPL2vK+M3d5wpUEXTr6kmdzh4ABF+5i6WjNc9HhVrY52GfzhAkCwdrYp9kxqn5SROqNK/Jii+m5tuGN8o72sJXUN77FsE8WAAslCSpOtAXyP1pnjcJeRxXoGlpdNF+SkqS9Ew7hrA3YAScFEJUfmXLtcT538G4nD1GH9gi9JXYt2/A031Zu7zMnMtSddZXXO42i9SIuDxSejVUd2+htC+JsLUHpR76bh6kXTqVJY6wyLwh6NWsjyrk4StpbVy5lS6ePeni2RO/Pcfx/rQVAM41q/Is/hmRTyNznNN/VG9MzU34acL8HGFlyn+AmaUZVy9cL5Ad1RyteBj9jMcxCaSp1Oy7GUzTCg454t2LiCcuOY0aJQtvTObbxrK0LUp9Jc5t3Ag4kLVcBRy8hItPEwCqetfl3inNxICAAxdxbuOGspgelqVtKe5kn/EAyov4p9GUdasCgJN2vJMuB1bvYYz3UMZ4D+XC/rM09nEHoLxrRRLjE/IcC5idpPhE+rh24+tGffi6UR9u+we+tBIIRV/2Nq3cxpeevfnSszdH9x7H+5OWmfpxCUQ+zVkR7vdtL0zNTJgzIeskLb+9J6hV3wUAC2sLPviwNCEPQ/JlR3rgLZSOpVCUsAc9PQyaNiP1TGaLjpSYQNTn7Yju/jnR3T8n/dZN4ieNJT0ogNiRgzOOJ2/bRNKGNfmqBELR539RUJi+9yw8ltjQSIqX09ynyjWslmXyycs488cBFniPZYH3WG7uv4BrR832f6Vdy5Mcn0R8eNZxpvHhMaTEJ1HatTwArh0b889+zTVUbPoRTfp+zOres0lLzjqGtMh4Q13DQohWQogAIcRtIUSO/Uq1Q8rCdYaM9dYJ8xVCBGk/voVxmXKLIBwGtgoh5kiSFCmEsAYsgOfekFdGnwI+R9Ma2AXIz0aU+4HBwCwAIYSLJEmXhRAfSpJ0DbgmhKgDVAZe/hr+AiSVmltjfqfm+rEIpYLHfx4hISCYD7/9lLgrdwnfd5GKE7ugNDHgoxVDAEh+HMHlbq8/oxQAtZqk1QswGfmjZvmYY3tQP36AQcfuqO4FkO5/mmItO6Dv2gDUKqRn8SQtn/nydF/CyUOnadjcjW2n15OclMykodMzwtYe+I0unj2xc7Cl1xBf7gXdZ83+XwH46/ctbF+3E9B0De3fdqjA2noKBaO9atB//UnUamhXowzlbc1ZfPQmVR2scK+oudnuvRlMq6ol0WkZBqDH6mPcj4wnMS0drwV7+P5/NWlQLsfw1Fdm5MQZnPe/SkxMHM3bf8mAXl3xadPyldLqunoUQqnA/6+jhAc9xmOYDyFX7xFw8BL+G/zoMLc/Xx/9iaSYBDYN0lQ4woMec2PXWQYenIk6XcWu8Ssz1unymT+QsvWrYGxlxrAzCzgydxP+G46yY9QKWn3fDYVSQfpLJnD4H76Ii0ct5h1bSkpSCstGZD7op++eyxjvoQB8McaXBu0aU8zIgIVnVnBk/UE2z3v92YlFWfY0+mdo0NyNLafWkZyUwuShmXPU1hxYwZeevbFzsKXnkG7cC3rAH/t/AWDj71vZvm4XZ/zO4da0Duv9VqFWqZk/eQmx0fl8QVSreLZkHhZTZoNSQfL+3age3se4a0/SA2+RevbUy9N4TYo6/98Whe17eyauxufnASj19Yh++JRtIzTL6VRuWRvvSb4YW5vxxe8jX2pXwJHLVPJwYcTRuaQlpbBp5LKMsMG7p7HAeywA28f/xiez+6FvWIxAvysZYwHbTuqOspg+PdeMATQTTraN+63wMu4VeBPrCAohlMAiwBMIBs4LIf6WJOlmtqgbsq9Qoq2fTARqAxJwUXtu/t5487LpXe3TLky0teqRgArwB7YCc4FoNBXFOpIkuesuHyOEKAP8DtgA4UAPSZIeCiFWAjslSdqkTVv3HBs0BaAKmkr4MUmS+gkhFgAegBq4AXSXJCnlBSZL+0t8Xqh5UBC8nqwntmvzItG2+ENzky7qjeeTVuV4iXsrGPlqHu5pETnXx3sb6NuUA4p+4/vOZdoXif6fD7YVWdkDTfmr69i0yPTPhRwlonXR6dvsOVrkvl/UFLXvjSn74klbb4rp99cBvNVB1bE9WhS4gmTx+8EX2iiEqA98L0lSS+33MQCSJE3XidOdXJaqE0J0BtwlSeqr/b4M8JMk6c+C2qmL3CIISJK0Csg+ZW17LvFWAiu1/z9AM74we5zuLzgnAuiUyzmDX8FsGRkZGRkZmTfFK7QICiH6AH10Di3XjvF/Tkngkc73YKBeLkn5CCGaAIHAUEmSHuVxbskCG5kNuSIoIyMjIyMjI5OdV5g4nm1i56uyA/hTkqQUIURfNA1VORqeCgt5soiMjIyMjIyMTDYktVTgTz54DJTW+V6KzDkJGl1JitQZHrYCqJXfc18FuSIoIyMjIyMjI5OdNzNr+DxQQQjhJIQohmbS6d+6EbRL1z2nLfCP9v99gJcQwkoIYQV4aY+9FvJkkXcT+UeTkZGRkXnfeKuTRWI6eRT4WWu54chLbRRCeAPzACXwmyRJU4UQPwAXJEn6WwgxHU0FMB2IAvpLknRLe25PYKw2qamSJL32KvhyRfDdRP7RZGRkZGTeN95qRTD6U/cCP2utNvq9c9tFyZNF3lHGFdEUfoCp99cxo8yXRaI9+oFmm7GpRbSEwjjtEgpFvYRDUeu/z8vX/FBE2gATHqxlWNmiWzpqzv31RbZ8CGiWEClq3y9qJpQtmuv/4f7af4X+W+W/v8sgIFcEZWRkZGRkZGRy8CYWlP43IlcEZWRkZGRkZGSyI7cIysjIyMjIyMi8n0hyRVDmXeJ/E7tRycOFtKRUNo9YSsiN+zniODo74TO7L/qGxQg4cpldk1YD4Oxdj2ZDfLAt78jSduN5fO0eAJalbBhycDYRdzUbzz/yv832XPZ+dGr6ES0mdkWhVHBlvR9nluzIEq4spsfHc/phX92JpOh4tg9aSGxwBA41ytFqei8AhIAT87YSuO8CZg7WfDy3HyY2FkiSxJV1R7jwe/5myJdr+hFeE7silAour/fjdC62tJ3TH/vqZUmKfsbWQQuIDY7AqZEzHqM/R6mvhyotnUPT1vHgVPatHzMZdHgWCqWCS+v9OJGLRoc5/XGsXpbE6GdsGrSAmOAIABoNaEvNTk1Rq9Ts+X41d45dA6DdrK+o2MyVhMg4Fntlbl/nObYzlZrXRJWWTtSDJ29d375qGT6e2hM9A33UKlW+foO8+G7aHI6dPIe1lSXb1ix9rbQK+/oBhELQZ+cU4sOiWddTs+e2U8NqeI3tjBAKUhOTc9jxYdOPaKkt+/7r/TiZiy3t5/THQVveNmnLG0DDAW1x1dqyT8eWer1a4fq5B0gST289YvvI5ahesM9yh4m+VPFwJTUphT9HLOFxLr5fytmJzrP7o29YjH+O+LN1UtaNlJr2/h/tvuvKeNevSIiO50O3qvRcPoKo4KcAXNt7jv3zt+Sq30Z770lNSmXTC+49n+rce3Zo7z2tx3xB5RY1UaWmE/XwCZtGLiM5LpHyjZxpNaozSn0lqjQVu6et5e7pnP74qv5uZGlKx6Xf4PhROa5uOsa+CZn5UeVjNxoOaodCqSDokD9HZrz+PtRvEu+J3ajgUYO0pFS2jlhGaC757+Bclo6z+6FnqE/QkSvs1ua/kYUJny0cjGUpW2KCw9kwcD7JcYl81K4Bjfq1QQhBSkJShv8AOFQrWygaedluX7UMbab0wMDUCLVKzbFF27m+88xzmWbAbKAYcBHohWZm7ZvhPakIyusI5oEQ4nshxIhCTG+3EMJS+xlQWOkCVHR3wcbJnjnuw9g2dgVtp/bMNV67KT3ZNmYFc9yHYeNkT0X3GgA8CXjEun5zuX/uVo5zoh48YaH3WBZ6j821EigUAq/JvvzlO5NfWnxL1bZuFK/gmCXOR53cSY5NYFnT4Zz/dS/uozWD3cMDglnZZjy/e49jg+8sWk7rgVAqUKvUHJ6yjhUtRvFH+++p2a1FjjRzQygErSZ3Z73vTJa1+JZqbetjUyHr7jsuWluWNB3OuV/30Gx0ZwASo+P5q+dsfmk5mh3DltJubv8Xaq31ncmiFt/i3LY+ttk0amo15jcdzplf99BCq2FboSTObdxY5DmKNb4z+d+UHgiFZoLZ5Y3HWeM7M4fO3ePXWew1iiWtxhB5L+yt63uO6Yzfz1tY6j2WI3M2vTBPXkZ7b0+WzpnyWmk8p7CvH8CtZysibodkSevjKT3Y/M1ilnqP5dr2U1nChELQenJ31vnOZHEe5c21kztJsQkszGaLTYWSVGvjxhLPUazznUlrrS1mJayo26MlKz7+jqVeoxFKBc5t6ueZD1XcXbBxcmCa+xA2jv2FT6b2zjXeJ1N68deY5UxzH4KNkwOV3V0ywiwdilOpyUdEBYdnOefu+Vv85D2an7xH51kJrOTuQnEne2a7D2Pr2BW0z+Pe035KT7aMWcFs92EU17n33D5xjZ+9vmV+69FE3AvFfUBbABKi41nVaxY/txrNxuFL+Gxuzlvm6/h7ekoaR2dv5NDUdVniG1ma0nxsZ9Z9MY3lnqMwtbWgbMNquV7Tv4EK7jUo7mTPz+7D+Xvsr7SZ2iPXeG2m9GT7mBX87D6c4k72VNDmf+P+bbl76gY/ewzn7qkbNNbmf/SjcH7rNJlFrUYTdPQqFT1qZKZVSBp52Z6WlMLmYUtY6DWKP3x/pPWELzE0N34uswrNunvOwAPA93Xy72VI6oJ/3kXkiuBbQpIkb0mSYgBLoFArglW8auG/RbMh+iP/2xiaGWNma5kljpmtJQZmRjzyvw2A/5bjVPGqDUD4nRAi7oa+kraDy4dE339C7KNw1Gkqbu44QwXPWlniVPCsybXNGvtu7T5HGe2NNT05FUml8Rw9A/2MRXESnsbw5Pp9AFITkom8HYJZCeuX2uLo8iFR958Qo2NLxRy21OLq5mMA/LP7XMZN/smNBzx7GgNAeGAweobFUBbLu8E8+lE4qjQV13ecoVI2jUqetbis1bi5+xzltBqVPGtxfccZVKnpxDwKJ+r+E0q6fAjAg3O3SIp5lkPnzvFrqLV5FKz97d6mviRJGJgaAWBgZpwjvCDUdqmOhbnZa6XxnMK+fnN7ayo0c+HS+iNZ0nrR9ZfUlv3n5e1GHrZc1bHFSceWGzq2ROvYolAq0TMshlAq0DcyIP5JdJ754OxVmwtbNOk/8L+N0Qt8/4G2/FzYcozqWt8HaDe+Gzunv9qMzFe991TV6gfplO+H/rexsC8OQOiNB8Rr/fFJYDD6ufjj6/h7WlIKwRcCSc/W0mr5gR1R98NIjIoH4N6JG1RuXeeV8uZtUNmrFpe1+R+szX/TbPlvqs3/5/ePy1uOU9lLk0+VPWviv0lzvv+m41TR5t+jS0EZrXbWpW1R60yaKCyNvGyPvBdG1H1N70f80xgSIuMwts64b6Si2XsX4ADg8yr5lm/Ur/B5B5ErgjoIIcYJIQKFECeAStpjHwoh9gohLgohjgshKmuPrxRCzBdCnBJC3BVCfKI97iCEOCaEuCyEuC6EaKw9fl8IYQPMAD7Uhs8SQqwWQrTXsWGtEKJdQew2L2FFbEhUxve4sCjM7a2yxrG3IjY0M05saBTmJbLGyQ2r0rYM3DWN3hvGU6ZOpRzhZvZWxOukGx8ahVk2bTN7K+K19kkqNSnxiRhZmQKaimSvAzPotW86+8b9nlExfI5FKRvsqpUh5PKdl9pqZm9NfGhkxve4PGyJy8OW51T2rkvY9fuoUl/e4xAXmnteP9dQq9QkxydibGWqOa5rX1gU5vYvr+A+x/Wzpm9df+8Pf+A1tjNDT8/Ha1zRLRuSF4V1/a0mduXAtD9zzBL8e9QKuqwcybAzC6jRsVGWMDN7a2LzUd5idcpbsra8meVii5m9NfFPojm9fBdDTs9n2PlFpMQncvf4NfLCvIQ1MSGZ6cSERWGR7Te1sLfO4vsxoVGYa1+sqnnWIvZJFCH/PMyRdtmaFRix50e+WjmaEhVK5apvUcKKGJ17T2we9564bPcei1zuPbU/dSfA73KO486t6xKSiz8Wlr/rEn0/jOLlHLEoZYNQKqjUshbmDsXzjF/UmJewJjYke5l+cf7H6fz+JrYWPAvXVLifhcdgYmuRQ6OkS3keXgjMPL+QNPJje8ka5VDq6xH94OnzQ3rA87eYT8i63VqhI7cIvmcIIWqhaXJ2AbyB56+By4HBkiTVAkYAi3VOcwAaAR+jqeABfAHskyTJBagBZL+zjQbuSJLkIknSSOBXoLvWBgugAbCrUC/uFYl/GsPMBl+z6H9j2T15DZ/9PCijdaSwCL18h189R7Oq7QTcBrRBaaCfEaZvbECHpd9w6Ic1pD5LKlTdvLCpUJJmoz9n95hf34pefmk8qB3q9Ncbo/cq1PmyBXsnr2Fu/a/Z98Oat67/NtCMjYwlVNsKrUv93q1Z230Wc9wG47/x6Bu3xdDcmEpetZjfaAhz6w5C38iA6h0avhEtfcNitBjYgb1z/soRFnz9HpMbDmJ261GcWLmXnsuHvxEbnuM+sB1qlYrL205mOW5XoSStRndm69gVb1T/Oclxiewd9xsdFg6m26YJxARHZLRYvhdkWy3FqX5VLByLc37NwTemkRemtpb4zOnP1pHL0dn44nNgLnAOiAfe6E3xfakIypNFMmkMbJUkKRFACPE3YIimYrZRiIyxRAY652yTJEkN3BRClNAeOw/8JoTQ14bnfMXVQZKko0KIxUIIWzTN3JslScrRFCWE6AP0AVi2bBn1unpSp7MHAMFX7mLhmNkKYG5vTVxY1u6kuLBoLBwy41g4WBP3gi4nAFVqOkmpmu7CkOv3iHr4BBsn+yxx4sOiMdNJ18zBmvhs2vFh0Zg5WhMfFoVQKjAwMyYpOms3ZOTtENISk7GtWIqwa/dQ6CnpsPQbbmw7ReDeCy+0M1MnCjOdt3fzPGwxz8MeO8dWAAAgAElEQVQWM3trPlk+lL+HLSXm4VPyg7lD7nlt7mhNXFgUCqUCQzNjEqOfaY7r2mevifMyXD5pQsXmrqzuPI1xAVl3E3rT+jV8GrPne82g7xu7zvLpS619uxTG9VdqUYtKLWpRwd0FPQN9DMyM6DivP3t/WEOJKh/wWNsafWPHGbzGZraKxodFYZGP8mahU94MteUtPhdb4sOicGrkTMyj8IyuyVt7z1OqVgWubc2sIDXs6oVb52YAPLpyB0vHzHQs7a2JzfabxoZFZfF9Swdr4p5EYVOmBNalbBmxRzM21MLemmE7pzOv/Tjiw2Mz4v/jdxmfKb0wsdJ0z7llu/dYOlrzQBvXIo97j3m2e0+szr2n5idNqNK8Jiu+mJrlPHN7a7ouG8bGYUuIysUfX9ff8yLokD9Bh/wBcO3skaOXoqip29WTWtr8f3zlLhaO2cv0i/PfXPv7AySEx2Jqa8mz8BhMbS1JiIjN0HDr7oVlaVtu7b+oO0av0DTinkTlabuBqRFf/j6Cg7M3ZhkSA5xG86wGzT67FfOXa6/Gu1qxKyhyi+CLUQAx2ta7558qOuEpOv8LAEmSjgFNgMfASiFEt3zorAa+BHoAOWdkaNJdLklSbUmSavfp04ezfxzImMTxz/4LuHbU+EZp1/KkxCcRr22Kf058eAwp8UmUdi0PgGvHxvyz/+ILjTK2NssYTG9V2g6bsvY5bsihV+5i7WSPRWlbFPpKqrZx4/aBS1ni3D54ieo+Gvsqe9fNmI1rUdoWodQUQfOSxbH+0JFY7YB175m9ibwdwvkVe15ooy4hudgSeCDrNQYdvMRHPk0AqOJdl/unbgBgYG5Mp99HcOTH9QTrdIPkhWVpW5T6SpzbuBGQTSPg4KX/s3feYVEdXwN+hw7SESk20NhiA1uwgwoqPzvGEmvU2I3dqLFGLDH2Eks0McYYNWoSe+wldgV7L0RFUHoHgZ3vj11haQIWiJ/3fZ59YO89d86ZuXPunjsVF42Oj73r8FCj4/aBi1Rp7YaugR6WJW2xcbZPCzJy4qPG1ag/sBW/9Z1PcuKLAtcf8zwCJzd1lXf+Dw2af5v5PzR3MwvchrGowQi2DlvGw1M32D5iBYlRcRiZmWCjefkp07BKBj2BmvpmqalvlbOpb7e16pu2LXcOXKSyli3WGluin4ZR3PUj9IwMAHWZZ57AcvKX/WmTOK7uv0CtDur0S7t+RGJMfI6+X1rj+7U6NOLa/gsE3X7M1FoD8G0wDN8Gw4gKDmdBqwnEhERhptVFWKp6WYQQxEWog9MzvxxgqfdElnpP5EamZ09iPp895RtXo9GAVqzvNy9D/TYyN6H3T2PZ9+0m/r2YvT++ib+/ChMb8zQbavbw5FKmcaOFzblfDrDCeyIrvCdya/8FXDTlX0JT/rGZyj9WU/4lNOXv0qEhtzTlf+ugH64d1de7dmzILc2z+/YhP4SuDj91mcmlbSfSdABvT8cBv2xt19XXpeuqEVze/g839p7LnP1imr+GwFfAmy0/oAAoLYLaHEcduM1GXS6tgVXAQyHEp1LK34W6WbCalPJyTokIIUoDT6SUPwghDIEaqAO9l8QAmUfMr0Pd1B0spcx5zZIcuH3kEuU9XBh1bCHJCUlsH7sq7dzQPbNY5q3en3rH5B/xmTcQPSMD7h69zB3NeJyPm9ei1bReFLE2p+eP4wi6+S/res7BuU5Fmo76FFVKClIl+evrH0mIisugW6aq2D/lZzqvH4fQ1eHKlmOE3g2k4Sgfgq485N5BPy5vPkbrhQMZcGw+CZGx/DV0GQAlapXHbXBrVMmpSCnZP2kdCRGxlKhVnio+DXl+8xGf71G3Ehz7bgsPjuRY7Gm2/D1lHV3Xf6VeykZjSyONLXcP+nFp81HaLhzEoGPzSYyM44+hSwGo1csLKyc7Gn7ZgYZfdgBgY485xIdFZ6urx/qvELo6+G85RsjdQDxG+fD0ykNuH/TDf/NR2i8cxJfH5pMQGcdWjY6Qu4Fc332WIQfnokpJZffkdWlj0nyWDMGpbiVMrMwYdWYpRxZuxX/zMby/6YWugT49N0woFP07v1pDi2k90dHVyTKwPr+MnTqH8/5XiIyMpmm77gzu2wOf1s1fK623nf/sUKWq2DF+DZ1WjkCqVCRmU/f3TllHN40tlzS2uGtsuaNly1CNLdu0bLmx+yyDNLbs1dgSeOk+N/eco//umahSUwm+/i9+Gw/naOPNI/5U8nBh4rHFJCck8dvY9N/F0XvmMN9bvRTQ1sk/pi0fc+voJW5mMxZPm+ot3ajXvRmqVBXJiS/4ZdiSbOVuH7lEBQ8XxmiePVu1nj3D9sxiqebZ89fkH+k4byD6RgbcOXo5bSxgm+m90TXQp4+mfj/2v8efX/9I3Z5e2JS2o8nw9jQZ3h6AH3vMyaD7TfwdYMg/izA0M0ZXX4/yXrX4rcccQu8G4jW1B8U+Lg3AP4u3E641W/+/xp0jlyjn4cKIYwvUS7Bolf+gPbNYoSn/XZN/or1m+Z67Ry9z96j6WXpixU46Lx9GjU7uRAaGsmWI+j67f9keEyszWvmqZ/KaFUufHLJr8k9vRUdOtlf+nxul61TE2MoMl47qIP6PMWn5Got6KJYOsALI2TneBvK92zb4tRBafe8fPEKIr1FPR38OPAL8gG2oK5wDoA9sklJ+I4RYB+ySUm7VXBsrpTQVQvRCXVmTgVigp5TyoRAiAKglpQwVQmwEqgF7NeMEEULsQ92VnJc3HKnsNazsNVyY+pW9hgsHZa9hZa/hwt7rt5D1F2hkFtzIPd8Bkv3xo+9d9Ki0CGohpZwJzMzmVItsZHtn+m6q+fsz6rWOMss7af2f4UkqhDABygG/vYbZCgoKCgoKCm8ZqXrvYrrXQhkjWMgIIZoBN4GlUsqo3OQVFBQUFBQU3j3KrGGFAkFKeRAoXdh2KCgoKCgoKKQjP5AxgkogqKCgoKCgoKCQife1hS+/KJNF3k+Um6agoKCg8KFRoE10j2s3zfdvbcnzh967ZkSlRVBBQUFBQUFBIRMfSjuZEgi+p3iX8i403Xse7aF9qdaFovuPRzsBmFFIS0hM1iwhMcCpcPbYWBXwOwBdS7fLRfLd8Nu/fwIf9vI164sXztJJAD0DN7C4VOHpH/5oAz1Kdyg0/b/8u53uhaR/w7/bC0VvZgpr+aIp//4nlo8pUD6UWcNKIKigoKCgoKCgkAklEFRQUFBQUFBQ+EBRuoYVFBQUFBQUFD5QlBZBhfeWAdMHUNujNkkJSSwYvYD71+5nkek5tidNfZpiamGKTyWftOPFihdjxLwRWFhbEBMZw3fDvyMsOCxf+vtO709Nj5okJSSxdPRiHmSjv9vYHrj7eFDEwpTPKnXKcK5eqwZ0GdkVKSHgxkMWfjnvlfrKNq5G86k91HvPbjrKqRU7M5zXNdCj7YJBOFR1IiEilm1DlxL1JBRjS1M6rhyOY7UyXN56nH1TsmwIQ+c1o7AsVYxVXuNfaUPnqZ9TxaMGLxKSWDdmOY+vP8wiU6pKGXrPG4K+kQHXjvixebp6z84SHzvRbeYX6BsaoEpJZePkNQRcvkd1z1q0GdUFKSWqlFQ2f7PulTa8pNe0frh41ORFQhIrxiwh4FrW8XSdxnajUQcPilgU4fOPu2Y5X6dlXUau/IqvW43mwdWs92/o4e/Q0dXBb9NR/smmvNsvGIRjVSfiI2LZOnQpkU9CAWgwuA01OjdGlapi77T13D9+Ne06oSPov8uXmOAINvZR33Pn+pXxmtgVIXR4EZ+Yp/znxKRZCzh+8hzWVpb8ueHt71Xv6F6N2t/0QOjocO+3o1xbnrFcin1SgdrTe2BVqSTHBy/j0e7zAFhVLoXb7M/RNzVGpqq4uvQvAnaczZPO0o2r0Xiauu5f33SUC99nvRdeCwdSrKoziREx7BmyjBjNvShasSRNZvfBwMwYqZJsaj2F1KRk6o79lEo+DTC0KMKKSv3yVQY9pvWlukcNkhKSWD1mGf9mU/c6jv2MBh3cKWJRhC8+Th9vVqHOx3Sf2oeSFUuzfNgCzu85nS/dL/W7aOnPru5/qqW/n5b+lv1a496lGakpqcSER7N67HLCAkPybUNB8fK5p6N57p3Mxg/baT33tmo99z7VPPcuZXrueYz9lGodGmJsUYQ5H/fNVq/31J6U86iu3h94zCqCrgdkkXGo4kSHeQPRM9Ln7pHL7Jm+HgBjiyJ0WjYMyxK2RD4JYfOQJSRGx1O0rAPtvxuAQ2UnDs3bwskf9qSlZWRuQts5X7z8ehPoA+S/crwGH8o6gsrOIoWMEOKoEKKW1ncnIcS1102vlkctijsVp1+jfiwZv4ShM4dmK3f24FlGtBmR5XjfSX05tO0QQ5oP4bfFv/H5+M/zpb+GR00cnRwZ3GgAK8YvZ8DMQdnKnT94jnFtRmc57uDkgM/gjkzoMI7hzYbw4/QfXqlP6AhazOjNxl5zWdFsHFXa1KVoueIZZFw6u5MYFcfyxqM5u3YvTcerA5+UpGSOzvudAzM3Zpt2xRa1eBGflGueq7i7UszZgcnuw9gwcRXdZn6Rrdxnvl/wy4SVTHYfRjFnByq7uwDgM747uxb/jq/3WHYs2EyHCerJALdOXmNGyzH4eo/l53Hf0/Pbgbna4uJRE3tnB0Y2HsQPE76nr2/21/gdPM+ktmOzPWdUxIgWn7firt/tHPX82msuyzXlbZupvGtoyntJ49GcWbuXZpryti1XnCqt3Vju+RUbes3lf76fI3TSH7RufVoQeu9phrRa+X7OtuHfs9J7Ilf/OpVr/l9FO29PVi7wfaM0ckLoCD6Z2YtD3eeyw2McTu3csCjnmEEmLjCMkyNX8fDPjPlISXjBP8NXsqPJeA52n0utaT3QNzfJk05331782WsuvzQdR/k2blhn0lm5sztJUXH83Gg0/mv20WCCep9ioatD88WDODzxJzY0G8+2TjNRJacA8PCgH5vaTM13GVT3qIGdswNjGg/hxwkr+dy3f7Zy/gcvMLXtV1mOhz0NYfXopZz+60S+db/Ub+/swOjGQ1g7YSW9c9Dvl4P+gOsPmdxqLBNbjOLcntN0ndDztewoCISOoOUM9XPv+2bjqJzNc8+1szsJUXEsy+SHKUnJHMnhuXfnoD9r2055pW4bZ3sWu49mx8S1tJ6Z/e9Da98+/DVhDYvdR2PjbE859+oANBzUhgenrrPYYzQPTl2n4eA2ACRExrF72npO/rA7S1otp/bg7rHLL79WRx0MFggfys4iSiD4/ww3LzcObTsEwG3/2xQxL4JVMasscrf9bxPxPCLL8VLlSnH5pNrpLp+6jJunW7701/Fy48i2wwDceYX+Ozno9/ysOXvX7yEuKg6AqLBX77rn6FKWiIBnRD4OQZWcyvWdZ6jgWTODTAXPmlzedhyAG3vO4Vy/MgDJCUk8vnCHlKTkLOnqmxjyST9vTiz9M9c8V/eqzZntxwB46H8XY7MimNtaZpAxt7XE2MyYh/53ATiz/RguXnUAkEiMTdU//MbmJkQ9U5dLklYLmKGJEXlZ87OmZx1ObDsKwD3/O5iYF8Eym/K/53+HyGzKH6DT6G7sXLmd5GzK5SURj0NITU7lWg7lfUmrvMtoyruCZ02u7TxD6osUIh+HEB7wjOIuZQEwt7emXBMX/DYdyZCWlBJDU2N1GZjlHhy9ilouVbEwN3ujNHLCxrUsMQHPiH2krocBf52hZPOM5RL3JJTIm4+Rqoz3MeZBMDEPnwGQ8CySxLAojGxyt9POpSxRAc+I1ui8s/MMZbwy6izjVYMbW9WB1d095yipuRelG1Ul9OZjQm8+AiAxMjbNrmD/+8Q/j8x3GdTwrMM/mrp3X1P3LLKpe/f97xCVTd0LfRLC41v/IlWv92taM5P+IjnU/fs51P2bp6/xIvEFoPYPaweb17KjICiex+felXw+9wL97xGby72/tF1dn57438PIzATTTM86U1tLDM2MeeJ/L02+oqZeVvSsgb+mPvpvPUEljc1xYdE8vfIAVUpqhrQMzYxxqlMRv81HXx56AeS/cr4mKiny/XkfUQLBAkLT0ndLCPGrEOKmEGKrEOLNftmyoah9UUKC0rszQoNDKWpfNM/XP7zxkPot6wNQr0U9TMxMMLPM+4+njb0NYUGhad/DgsOwts/7A9XRuTiOZRyZtf1b5vz5Ha6Na7xS3tzemuig9K7r6KBwzOwzPvzN7K2IfhoOgExVkRgTj7GV6SvTdR/9KWd+2ENyQu4tgpZ21oQ/TbchMjgMK3vrDDJW9tZEaNkZERSGpZ1aZsv0dfhM6MHsUyvwmdiTP+amL5Pg0rwO0w8tYuiPE1g/bkWutljbWxP2NL38w4PDsLazfsUVGXGqUgZrx6L4H76YJ/nooHDMM5W3uVZ5qzTlbWJlqj6ufa+CwzHXlFOLqT04MOu3LEHSjq/W0G3dWEadWUr1Dg3ynI+CxsTeijhNngHig8Ixsc8ahOSGjUsZdPT1iAl4nqusqb0VMVo6Y4PCMbXLqLOIvRWxWnU/KSYeIytTLMvYI5G0+2UcXXf7UnPg//Jta2as7K0Jf4O69zb0Z677Vq+pv3Hnplw+6ve2THvrmNlbE5WH515UPp97eSHqaWYfzsb/g9LrZXRQOOaa+1DE1oLYEHUcFxsSSRFbi1fqsipZjLiwGNrPG/Dy0BqgyBtnIo9IKfL9eR9RAsGCpQLwvZSyEhANDNYc/1UIcUkIcQnYk+PVBcCamWuo8kkVlu5ZSlW3qoQGhaJ6zTf010FXTxcHJ0cmd5rIgmHzGPztUEzMC8zvAbD7uDTWpYtx++8LBaKvcXcvtsxYx4R6g/h9xjp6fpvenX7p73NMbTqCFf3n0mZU53dqhxCCHpP6sMH3p3eqJzPlm7gSFxZF0LWALOfq9mvJr72/Y4HbMPx/P1agdhU0xsUsabBkEKdGrX7n0xV1dHVxrFWefV9+z+8+31C2ea201sIPnfrtG1Gm6kfsXpV7b4DCG5JLNdfR1cGhihPnNxx8eSgOePWAbYV8o0wWKVgeSylPav7fAHyp+b+blPICqFsOgV2ZLxRC9Af6A6xatSrDuVY9W9G8a3MA7l65i62Dbdq5ovZFCQ0OJa+EPwtn5oCZABiZGFG/ZX3iouNeeU3Lnt54avTfu3IXG4f0FkgbexvC8zHZJCwolDv+t0lNSeX542c8ffgURydH7l25m618dHA45lpdOOYO1sQEZ+z2iQmOwNzRmpjgcISuDkZmJiRExOZoQ4kaH+FQrQzD/lmEjp4uRWzM6bHpa37pMjNNxr1Hcxp0bQZAwOV7WDva8HJKhaW9DRHB4RnSjAgOx0rLTisHGyKfqWXq+rinTRy5uPs0PeZkHdd399xNipayy9Zez54tadLFC4AHV+5i45he/tb2NoQ/C8/2uswYmRpTskIppmxSj6OzsLVkzNqvmdd3ZrYTRkBd3tGZyjtaU97RweHoaMo7PiJWfVz7XtmrZSo0q0mFZjUp5+6CnqE+hmbGdFg0iH3fbMCuUikCL6l1X995Bq+Jn+UpLwVNfHAERRzTW59MHKyJD86+6z079E2NabJ+DP7fbiHUL/uyzkxscARmWjpNHayJfZZRZ1xwBKaO1sRq6r6hmQmJEbHEBoUTeO42iRo/CDhyGdsqTjw+eT3PNgM069kC9y6eADy4cg/r16x7r0uzni3w0NKfue5H5FN/5frVaDO0IzM7TSblRcpbtfVtEhMcjkUennsW+Xju5UStnp7U6OKR9t3CMbMPZ+P/Dun10tzBmmjNfYgLicLU1pLYkEhMbS2JC3310J/o4HCig8N5cinNJ7ZSgIHghzJrWGkRLFgyv//k+bVfSrlaSllLSlmrf/+Mg6B3rd/FsJbDGNZyGKf/Pk1Tn6YAVHCtQFxMXLZj8XLC3MocIdSVv9OQTuzfvD/Xa/au38OolsMZ1XI4Z/8+g4dPEwDKu1YgPiY+X/rP/n2GKnWrAmBmZY6jsyPPHgXnKP/08gOsne2xLGmLjr4ulVu7cedAxm7NOwf9qO7TCICPvesQcOrVP3YXNxxiUZ2hLG0wgnUdpxP2MChDEAhw9Je/8fUei6/3WC7tP49bh8YAOLuWIyEmnuiQjMNYokMiSYhJwNm1HABuHRpzeb961mjk83DKu30MQMV6VXgeoM6vbWn7tOtLVnZGz0A/W3sPrN/LBO+RTPAeyYX9Z2no4w7AR67liY+Jy3EsYGYSYuLp79qTLxv058sG/bnnfyfHINCypC26+rpUae3G7UzlffugHy5a5f1QU963D1ykSms3dA30sCxpi42zPYGX7nNo7mYWuA1jUYMRbB22jIenbrB9xAoSo+IwMjPBxlldDmUaVslTPgqDsEsPMHO2x1RTD53auvF4f966FnX0dXFfO4IHW0+kzSTOC88uP8DS2R5zjc7yrd14cCCjzgcH/Pi4Y0MAynnX4fGpGwD8e/wKRSuURM/IAKGrQ3G3ioTfDcyz7pccXL+PSd6jmeQ9mov7z9FAU/fKupYnPiY+27GAb5OD6/fxtfdovs5Bf17rPkDpys70mT2QBX1nE53L2OTCJjAPz73bB/2olo0f5pcL6w+w2nti2neXDur6VML1IxJjEtK6el8SGxJJUkwCJVw/SpO/tV9t262Dfrhq6qNrx4bcOvBqH4kNiSL6aRg2ZRxeHmoK3HitjLwGUub/8z6itAgWLKWEEHWllKeBz4B/gLe6V9v5w+ep7VGbtSfWkpSQxMIxC9POLd27lGEthwHQZ2If3Nu6Y2hsyPqz6/l709/8uvBXqtatSu+veoOEa2evsXzy8nzpv3j4AjU9arHixGr18jFjFqedW7B3MaNaDgeg58TeNGzbGENjQ344+xMHN+1n88Lf8D/mh0sjV5YcWo4qVcXPM38iJjImR30yVcW+Kev4bP1XCF0dLm85RsjdQBqP8iHoykPuHPTDf/NR2i0cxJBj80mIjGP70KVp1w/7ZxGGZsbo6utRwasWv/aYQ2g+fxCvHfGjqocrvseW8iLhBT+PTS+zSXu+w9dbPTv3t8k/0GveEAyMDLh29BLXjvoD8Mv4VXSe+jk6ejqkJCWzYYK6xbdGy09w69CY1JRUkhNf8MPQhYzbOuOVtvgfvoiLR00WHV9JUkISq8YsSTs3e89CJniPBOCzCb2o17YhBsaGLDuzhiObDrJt0aY857mHprz9NeXtMcqHp1cecltT3u0XDuJLTXlv1ZR3yN1Aru8+y5CDc1GlpLJ78rosYwK1UaWq2DF+DZ1WjkCqVCRGvbplOjfGTp3Def8rREZG07Rddwb37YFP6+ZvlOZLZKqKc5N+ptnGcerlYzYfI+pOINXH+BB2+SFPDvhhU70M7mtHYGBhQklPV1xG+7CjyXhKt3bD7pMKGFqZUraT+of75MhVRFx/lKvOo5N/pt0v4xC6OtzYfIzwO4G4jfLh2dWHPDzgx/XNx2i+aCC9js8nMTKWvUOXAZAUFY/fmr102fUNUkoCjlwm4PAlAOpP7EKFtvXQNzagz9klXN90lLMLc99e7fLhi7h41GDe8e95kZDED2OWpZ3z3TOfSd7qVQK6TOhB3baNMDA2ZPGZHzi66SB/LNqMc7WPGLH6K4pYFMGlWW06jOzMBM+sKxvkxKXDF6nuUYP5Gv2rtfTP3DOfr7X019PoX6LRv33RZrpO7ImRiRFffj8GgLCnoSzoNzvP+gsSmapi75R1dNP44SWNH7pr/PCOlh8O1fjhNq3n3pdaz72KXrXYoHnuNZvQlSqaez/izFL8Nx3h2KKM9z780XNGHFugXj5mbHrv1KA9s1ihCRh3Tf6J9vMGoG9kwN2jl7l7VD0B8cSKnXRePowandyJDAxlyxD188nU1oIBO3wxNDVGShVufVqyzHMcSbEJ7J62no6LXo6iwgXI31IWb8CH0iIo8jITUeHN0XT57gMuADVRv9X0QD0mcEzmrmEp5auaP6Sy17Cy13BhoOw1rOw1rOw1XLh84HsNF2hkdq1Mq3wHSFUe7HrvokelRbBgSZFSZn6Ku2t/kVIGAP/dPjAFBQUFBYUPgPd1FnB+UQJBBQUFBQUFBYVMfCgdpkogWEAoLX0KCgoKCgrvD+/rAtH5RQkEFRQUFBQUFBQyoXQNKygoKCgoKCh8oHwoXcPKrOH3E+WmKSgoKCh8aBRoE92FEu3y/Vtb68mfudoohGgBLAZ0gTVSyjmZzo8C+gEpQAjQR0r5r+ZcKnBVI/pIStkmvzZmRmkRfE+ZX4hLSIx+tIGWJVsWiu69j/cCENzIvVD02x8/ClDo+a/l0LBQ9F8IUm8YX9hLWBTWEi49AzcU2tI1oF6+prCW7wD1Eh6V7T4pNP3Xn53lfPH2haK7duAfhaI3M4W9dFZh+35B8i66hoUQusBywBN4ApwXQuyQUmovlO0P1JJSxgshBgFzgZd7jCZIKV3epk3KziIKCgoKCgoKCplQSZHvTx6oA9yTUj6QUr4ANgFttQWklEeklPGar2eAEm81Y5lQAkEFBQUFBQUFhUzI1/gIIfoLIS5offpnSrY48Fjr+xPNsZzoC+zV+m6kSfeMEOKt7CygdA0rKCgoKCgoKGTidZaPkVKuBla/Df1CiO5ALaCx1uHSUspAIUQZ4LAQ4qqUMuuG8PlACQQVFBQUFBQUFDLxjpaPCQRKan0voTmWASFEM+BroLGUMindJhmo+ftACHEUcAWUQPBDx6lxNTym9UDo6nBt01HOfb8zw3ldAz1aLhxIsarOJEbEsGvIMqKfhKadN3O0ofehbzm9cDsXVu/BqowDrZYPTTtvUaoYpxZsxW/t33myZ+D0gdRuUpukhCTmj5rP/WtZ62ivcb1o6tMUUwtTOlRM3zu0WPFijJw3EgsbC2IiY/juy+8IDQ7Ncn1eMKhTB/Mvh4KOLgm7dxP368Zs5QwbN8JqxjeEfsV/uuUAACAASURBVDGAlNu3X0uXNoWZ/zEzhlO/qRuJCUlMGzGL21fvZDhvaGzIt6tnUMLJkdRUFSf2n2TZLPXG8aOmD6NmPVcAjIyNsC5qiUfFV+9pXbZxNZpP7YGOrg7+m45yckXWutduwSAcqjqREBHL1qFLidLUvfqD2+DauTGqVBV/T1vP/ePqiXCf9G2BaxcPkJLntx7z19jVpCYl55p3R/dq1P6mB0JHh3u/HeXa8oy2FPukArWn98CqUkmOD17Go93nAbCqXAq32Z+jb2qMTFVxdelfBOw4m6u+/DJp1gKOnzyHtZUlf25Y+dbS9Z7ak3Ie1UlOeMEfY1YRdD0gi4xDFSc6zBuInpE+d49cZs/09QAYWxSh07JhWJawJfJJCJuHLCExOp6iZR1o/90AHCo7cWjeFk7+sCdPtkyYOYpGTeuRkJDI11/O4ObVrP606rdF2NoVRVdXl4tnL+E7/jtUKhVerZswZMwXlCnvRJcWn3P98q18lYO5uyulvumL0NEh5LeDBC/PuDewXf822HZthkxJJSU8moejlvEiMAQAA8eiOM0bgoFjUZCSOz1m8OJJSL70FzQvfU9ofO9UNr7XVsv3tml8z9jSlI4rh+NYrQyXtx5n35Sf066p3KYuDYa0RUpJzLMI/hzxPQkRsRnSHXz4uwLxd6d6H+P59Wfo6usRdPXhuyjCXFG9m2TPA+WEEM6oA8AuwGfaAkIIV2AV0EJK+VzruBUQL6VMEkIUBeqjnkjyRrw3YwSFENOEEGPyIe8khLiWzfFaQoglb9e6/COEOCqEqPXG6egImvr2YnuvuaxrOo4KbdywLueYQaZKZ3cSo+L4sdFoLq7ZR6MJXTKcd5/SjYdHL6d9j3gQxC8tv+aXll+z4X+TSElI4u6+C3myp7ZHbRydHenbsC9LvlrC0FlDs5U7e+Asw1sPz3K836R+HNp2iMFeg9m4aCO9x/fOk94s6OhgPnI4EWO/IrRnL4yaNkG3dOksYsLYmCIdfXhx/UY2ieSfwsx//SZulCxTgvb1ujJz7FwmzBmdrdwvK36jY8PudPPsQ/U6VanXRD0LdMHUpXTz7EM3zz5s+XEbR/Ycf6U+oSNoOaM3G3vN5ftm46jcpi5Fy2Uc6uLa2Z2EqDiWNR7NmbV7aTa+KwBFyxWncms3Vnh+xcZec2np+zlCR2BmZ0Wdz5uzptUkVnqNR+jqUKV13VzzLnQEn8zsxaHuc9nhMQ6ndm5YZPKDuMAwTo5cxcM/T2U4npLwgn+Gr2RHk/Ec7D6XWtN6oG9ukqvO/NLO25OVC3zfaprl3Ktj42zPYvfR7Ji4ltYzP89WrrVvH/6asIbF7qOxcbannHt1ABoOasODU9dZ7DGaB6eu03CweiWKhMg4dk9bz8kfdufZloZN61HauSQt3Toybcwcpswdl63cqC++pkOT7rRt3BVrGyuat2kKwL1bDxje5ysunPbPTxGo0dGh9Mz+3O0+g2seX2LTrgFG5TKOr4+/9oAbLcdw3XMk4btPUXJSz7RzzouHE7ziT665D+PG/8aREhqVfxsKEKEjaDFD7Xsrmo2jSja+56J57i9vPJqza/fSVON7KUnJHJ33OwdmZnwxFro6NJ/ag/VdfFndYgLPbz2mdi+vLLoLxN+FoO38gWwbuoyVXuOJCny9xoD/IlLKFGAo8DdwE9gipbwuhPhGCPFyKZjvAFPgdyHEJSHEDs3xSsAFIcRl4AgwJ9Ns49firQSCQoj3pmVRSnlBSvllYdvxtrB3KUtkwDOiHoWgSk7l9s4zfORVM4PMR141uL5VvezHnT3nKFW/sta5mkQ9CiHsTpaWaQBK1a9M5KPnxASG5ckeNy83Dm07BMAt/1uYmptiVcwqi9wt/1tEPI/Iqq9cKS6dvATA5VOXqeuVexCQHfqVKpIaGEhqUBCkpJB46DBGDepnkTPt15e4X3+DFy9eS09mCjP/jVs0YM/v+wC45ncDM3NTbIrZZJBJSkji4in1D21Kcgq3rt6hmEOxLGl5tWvK338efKW+4i5liQh4RuRjdd27vvMMFTwz1r0KnjW5sk0dUN7Ycw5nTd2r4FmT6zvPkPoihcjHIUQEPKO4S1kAdHR10TMyQOjqoG9sSMyzrOWUGRvXssQEPCNW4wcBf52hZPOMtsQ9CSXy5mOkKuPSYDEPgol5+AyAhGeRJIZFYWRjlqvO/FLLpSoW5m833YpeNbm0Xe3bT/zvYWRmgqmtZQYZU1tLDM2MeeJ/D4BL209QUfOMqOhZA3/Ns8F/6wkqae5fXFg0T688QJWSmmdbmrRoxI7f1WPar1y8hpm5GUUz1T+AuNg4APT0dNE30OPlWrYP7gYQcP9RnvVpU8S1HEkBQSQ9eoZMTiH8r3+wal4ng0zMqWuoEtV+HnfxDvoOatuMypVA6OkSfUL9MqyKT0yT+6/imEffu5yN7yUnJPH4wh1SMrWyCyFACAxMjAAwNDXO1vcKwt9NrExJTU4h/GEwAA9OZGnTKRAkIt+fPKUr5R4pZXkpZVkp5UzNsSlSyh2a/5tJKe2klC6aTxvN8VNSyqpSyuqav2vfRj5zDQSFEJOFELeFEP8IIX572SqnadFaJIS4AAwXQrQWQpwVQvgLIQ4KIew0ctOEED8LIU4IIf4VQnQQQswVQlwVQuwTQuhr5OYIIW4IIa4IIeblYE51IcRpIcRdIcQXmutMhRCHhBB+mjTbZr5ICFFGY1dtIYS7EGKXlm0/avLyQAjxpdY12eY7U7qfCiGuCSEuCyGOa44ZCSF+0tjiL4Tw0Bw3FkJsEkLcFEL8ARhrpbNCMwvouhBiem73RBtTeytinoanfY8JCsfUzipHGZmqIikmHmMrU/RNDKk9qBWnF2XsQtGmYpu63PrrdJ7tsbG3IfRp+ttbaFAoRe2L5vn6BzcfUL+lOmCr16IeJmYmmFnm/8dTp6gtqc/Tu3ZSQ0LQsbXNIKNXvhy6xWxJOnMm3+nnRGHm39beluCnab0IPAsKoZhDzrpNzU1p6Fmf8ycytvbal7CjeClHzv/j90p9ZvbWRAWlvyBEB4VjZm+VScaKKK26l6ipe2b2VkRrXxscjpm9NTHPIji9ejcjTi9h1PnlJMXE8+DEVXLDxN6KOC0/iA8Kx8Q+awCeGzYuZdDR1yMm4Hnuwv8BzO2siXqasRzNM+Xb3N6K6KD0sokOCsfczhqAIrYWxIZEAhAbEkkRW4vXtqWYgy3Bgc/Svj8Leo6dg222sqs3Leb49X3Excazf+fh19b5EgN7a15o+d2LoDD07bMGoS8p2rUZUUfU9duojCOp0XF89MNXfPz3fEpM6gU6/+3OMnN764z+k4PvRWfjezmhSkll76SfGPD3HEacX0bRcsW5tPlojvLv0t/jw2PQ0dXFoaozAJW8Mwb1BYVK5v/zPvLK2i6EqA34ANWBlqhnr2hjIKWsJaWcD/wDuEkpXVGvi6PdL1AWaAK0ATYAR6SUVYEE4H9CCBugPVBZSlkNyKn/pJomnbrAFCGEI5AItJdS1gA8gPlCiLSwXAhRAdgG9JZSns8mzYpAc9Rr+0wVQujnId8vmQI0l1JW1+QNYAggNfnrCvwshDACBqHu268ETAW0X6W+llLW0uSvsRCiWmZF2lPSV69+KxOSqDeyAxfX7iM5Pinb8zr6upT1rMGd3W9/vFROrPFdQ1W3qizbu4yqblUJDQpFpXoHIzWEwHzIEGKWr3j7ab8BBZV/XV1dZq6Yyua1Wwl8FJThXPO2TTm06+i7KfdcMDI3oYJXTZY0GMHCOkPRNzakavusLbnvAuNiljRYMohTo1Z/OHtLZaaAst2/y3Dcq/0PAwMDPmnwxiNk8oVNh8YUqV6W4BV/AiD0dDGtU4nHM9Zxw3sshqXsKNrJo0Bt+i+go6dLze5N+cF7IotqD+X5rUfUH5KlXeWt8ip/3z5sKc2ndKfvX9/wIi7xndqREypEvj/vI7l16dYH/pJSJgKJQoidmc5v1vq/BLBZCOEAGADaozv3SimThRBXUW+psk9z/CrgBOxCHdCt1bTW7crBnr+klAlAghDiCOrgbTcwSwjRCPXYzuKAnUbeFvgL6PCKfvTdmhk5SUKI55prc8v3S04C64QQW4CXzWoNgKUAUspbQoh/gfJAI2CJ5vgVIcQVrXQ6adYa0gMcgI8B7fOZp6TL+b7q5vfY4AjMHK3T5MwcrInN1Jz/UiY2OByhq4OhmQkJEbHYu35EOe86NJrQBUNzE6SUpCQlc+nnAwA4u1fn2bUA4kOjc8i+mla9WtGiawsA7ly+Q1HH9Faoog5F8zXZIfxZOL791e8BRiZGNPBuQFx0XJ6vf4kqNATdYumtEbq2tqhC0lsIhYkJes7OWC9eBICOtTVWs2cSMeHrfE8YKcz8f9q7Pe26tQbgxuVb2DsW4+VoTzsHW54HZa/76+/G8vjBE3774fcs57zaNuXbiQtztTUmOBwLh/RWF3MHa2KCIzLJRGDhaE2Mpu4ZaepeTHAE5trX2qtlnBtUIfJxCPHhMQDc2neeEjXLcfWPk6+0JT44giJafmDiYE18cO5dyi/RNzWmyfox+H+7hVC/N5qA986p08OTml3VgUrg5QdYOGYsx+hM+Y4OjsDcIb1szB2siX6mbrWJC4nC1NaS2JBITG0ticvn2Liun3ekY3d1sHDt0g3si9ulnbNzKMazoJwnXLxIesHhfcdo0qIRp4+fy5feLGkFh6snemgwcLAhOTjrcBbzhtVw+LIjt3wmIV+kqK8NCiP+egBJj9StmZF/n6VIjQqw6dAb2fQuiQ4Oz+g/OfieeTa+lxN2H6vHUEc8UreG39h1lnqDW+co/679/YnfPdZ9OgOAMg2r0nBYXkrm7ZLXrt73nTdt/9b+hVoKLNO0hA0AjLTOJQFIKVVAskzf4FgF6GkGT9YBtgKtSA8UM5P5fVUC3VAHfDU1264809IdBTxCHZzlhHZzWCr5mEktpRwITEI9FfyipmUzX2hmDo0BmmpaQ3eTsexeSfDlB1g622Ne0hYdfV0qtHbj/oGMXXr3D/hRuaN6S7Ly3nV4dEodE2/uOIM19Ueypv5I/H78m3PLdqQFgQAV2+atW3jXz7sY2mIoQ1sM5fTfp2nqox78XdG1InExcdmOhcsJcytzXjbodh7amf2b9+f5Wm2Sb91Gt0QJdB3sQU8Po6ZNSDqZPklAxsXxvE1bQjp3IaRzF5Jv3HitIBAKN/+/r/sjbYLH0b0n8P5UHZBWqfExsTGxhD3P+mM46Kt+mJoXYf6UrHOmSn9UCjNLM65cyH1MTuDlB1g722OpqXuVW7tx58DFDDK3D/pRzacRAB971+HhqesA3Dlwkcqt3dA10MOypC3WzvYEXrpP9NMwirt+hJ6RAQDO9SsTeu9prraEXXqAmbM9phpbnNq68Xj/q7u2X6Kjr4v72hE82HoibSbxf5lzvxxghfdEVnhP5Nb+C7h0UPt2CdePSIxJSOvqfUlsSCRJMQmUcP0IAJcODbm1X32fbh30w1XzbHDt2JBbB/JWZi/57aet+DTtgU/THhzae5w2n6q3XqxWswqxMbGEZqp/JibGaeMGdXV1aeRZn4f3AvJXANkQd+kuhs4OGJQshtDXw7ptAyL2Z7yXJpWdKT1nEHc/n0VKWJTWtffQszBBz9ocALP6VUm885j/Mk/z4Ht3DvpRXcv3AjS+lxMxweEULVccE2v1UJQyDatk63sF5e8mNur7oWugR/1BrfJVPm8L1Wt83kdyC3pOAquEELM1sq3IeaFEC9LXwumVHyOEEKaAiZRyjxDiJJDTZp5tNbYUAdyB8cCnwHNNi6MHoD019AXqLue/hRCxUsrs1w/JSp7yLYQoK6U8C5wVQrREHRCeQB2cHhZClAdKAbeB46iniB8WQlRB3Q0MYI46oI7SjKtsCRzNo53IVBWHJ/+Mzy/j0NHV4drmY4TdCaTeKB+eXX3I/QN+XN18jJaLBtLn+HwSI2PZPXRZrunqGRtSumEVDkz4Ma+mAHD+8HlqN6nNj//8SGJCIgtHp7csLdu3jKEt1LNo+0zsg0c7DwyNDfnl3C/s+20fvy78lWp1q9F7fG+klFw7e43vJ32fL/1ppKYSvWgxVvO+Ax0dEvbsJSUgANM+n5N8+3aGoPBtUpj5P3noNPWbuvHn6U0kJiQyfeTstHO/HviRbp59KOZgS98RvXh4N4AN+9XjjLf8tJ2/Nqob4Zu3bcr+P/PWEiJTVeydso5u679C6OpwacsxQu4G4j7Kh6dXHnLnoB/+m4/SfuEghh6bT0JkHNuGLgUg5G4gN3afZdDBueqxSZPXIVWSwEv3ubnnHP13z0SVmkrw9X/x25j7GDKZquLcpJ9ptnGcevmYzceIuhNI9TE+hF1+yJMDfthUL4P72hEYWJhQ0tMVl9E+7GgyntKt3bD7pAKGVqaU7aT+ETs5chUR119v4kJOjJ06h/P+V4iMjKZpu+4M7tsDn9bN3yjNO0cuUc7DhRHHFqiXjxm7Ku3coD2zWOE9EYBdk3+i/bwB6BsZcPfoZe5qVgk4sWInnZcPo0YndyIDQ9kyRP1yYGprwYAdvhiaGiOlCrc+LVnmmf0s4JccP3iSRk3rsffsNhITEpk0fEbauW2HfsGnaQ+MixizfP089A310dHR4dzJi2z+Wb2Hb9OWjZk4awzWNpZ8/+tCbl+7Q/8uWWfWZ0uqikeTfqDCxqmgo0Po5kMk3nmM45iuxF++R+SB85SY3AvdIkZ8tGosAEmBIdz7fDaoVDz+5mcqbJ4OQhB/9T4hGw/korBwkakq9k1Zx2ca37us8b3Go3wI0vK9dgsHMUTje9s1vgcw7J9FGJoZo6uvRwWvWvzaYw6hdwM5vugPev0+mdTkVKICQ9kxelUW3QXl7/UG/I9yTV0RQnBxwyGc61cpmMLV4kNpERQyl7EwQohpqAOYZ8BzYJ+U8gehXshwjJTygkauLbAQiAAOA7WllO6a62OllPM0crFSSlOttGOBX1F34RoBApgnpUxf3ChdtgxQDigKzNXYURTYiXqq9QXADXUwBbBLSllFCGEJHABmANEau1tlY9s1oJWUMiCnfGeyabvGHgEcAkYAhsAK1OMKU4BRUsojQghj4CfU4w5vou7CHiKlvCCEWAfUQ73tTBSwQ0q57hW3Rc4v1f0Vp98tox9toGXJlrkLvgP2PlbPSgxu5F4o+u2PHwUo9PzXcmhYKPovBKlnmBb2xvPrixdO/e8ZuIHk0JzeU989+kXLMMWpcMoe4JuAX6ls90mh6b/+7Czni7cvFN21A/8oFL2ZmVFIvjdZ43uF7PsFGpnts+uS71GzLZ5teu+ix7x0g86TUk4TQpigbtW6CCCldNcWklL+hTqYI9PxaZm+m+Zw7pXTgjKno3U8FPXkkeyoopGJBGprHT+ag23arxzZ5juTfIfMx1CPdcyymJdmbGOXrOIgpeydg/0KCgoKCgoKhcD72tWbX/ISCK4WQnyMurXuZyll/gaRvL98qPlWUFBQUFD44PlQuoZzDQSllJ/lJvP/kQ813woKCgoKCgqg+jDiQGWvYQUFBQUFBQWFzLyv6wLml1wniyj8J1FumoKCgoLCh0aBRmZ/2n+W79/adsEb37voUWkRVFBQUFBQUFDIhDJZROE/zSSnwhvC6BuwkRLWBb+mE8CTcPVCx26O7oWi/8zTowC0LlU4C5zufKRe76+OY+NC0X/u6TEARjllOwH+nbMgYBMAiwtp+aThjzYU+vIthb18zc1y3oWmv9LdPQxw+rRQdK8KyLoLT2EwrZCWb5mmWT5mZiHp/1qjvyBRifeuce+1UAJBBQUFBQUFBYVMfChjsJRAUEFBQUFBQUEhEx9K1/Cb7jWsoKCgoKCgoKDwnqK0CP4/4X9Te1Lew4XkhBdsG7OSoOsBWWQcqzjTQbPf6J0jl9g9fT0Alb0/ockIH2w/cmRl28k8vfoQAGNLU7quGE7xamXx33qcXVPX5cmWb2ZPoIlnQxISEhk55GuuXbmZRWbD7yspZmeLrp4u50778fVYX1Qq9fvX5198Rq++XUhVqTi8/zgzpy3IV1mMmjGMuk3cSEpIZMbIOdy+ejfDeUNjQ2atmkZxp+KoUlP558Bpvp+l3kr6f51aMHTyQEKCQwHY+tMf7Ni4O1/6+0/vT02PWiQlJLF49CLuX7ufRabH2B54+DTB1MKUTpXSxzz1m9KPqnWrpdlpYWNB16p5H483esaX1GvyCYkJSXwzcna2eZ+9ajolnBxRpao4ceAUy2elb6PdrLUH/Ub3Bim5e+M+k4fMIDfaT+1FJQ9XXiQk8duYFQRmU/dKVHGm67xB6BsZcPOIP39Mz7CDJI37/Y+2k3ow2fUL4iJiKOv2MX1WjyH8yXMAru47x/4l27OkW7pxNRpP64HQ1eH6pqNc+H5nhvO6Bnp4LRxIsarOJEbEsGfIMmKeqO9t0YolaTK7DwZmxkiVZFPrKaQmJVN37KdU8mmAoUURVlTql2v+vaf2pJxHdfVev2NWZet7DlWc6DBvIHpG+tw9cpk9Gt8ztihCp2XDsCxhS+STEDYPWUJidDxFyzrQ/rsBOFR24tC8LZz8YU+udryKSbMWcPzkOaytLPlzw8o3SisnijSsid2kAQhdHSK3/E3Y6oxj6iy7emPVrRWoUlHFJRI0eQkv7j2mSH1XbMf0RujrI5OTef7tj8SfufxaNnSe+jlVPGrwIiGJdWOW8/j6wywypaqUofe8IegbGXDtiB+bp/8EQImPneg28wv0DQ1QpaSycfIaAi7fey073iVDD3+Hjq4OfpuO8s+KrPW9/YJBOFZ1Ij4ilq1DlxKpqe8NBrehRufGqFJV7J22nvvHr6ZdJ3QE/Xf5EhMcwcY+8wCo08sTtz4tsHayZ67LgCx2lGlcDa+pat+7tOkop7Oxpc2CQdhXdSIhIpY/hi4l6kkoxpamdFg5HMdqZbiy9Th/T0l/FlRq5Ub9oW3R0dXh7iF/jszZ9NbK7XX4UNYR/H/ZIiiEcNLsG5yfa44KIWq9pr7eQghHre9rNLuSFAjl3V2wcbZnofso/py4hjYz+2Qr18a3D39OWMNC91HYONtTzr06AM9vP+a3gQv599ytDPIpSckcmr+VfbPyPki3SbOGOJctRYNa3nw1chqz50/OVm5gn9F4NfKhab122BS1olW75gDUa1Abr5YeaedWLluXZ90AdZt8QknnEnxavxuzx81n3OyR2cr9unIzXRr1pKfXF1SrXYW6Huk7HB7ccYSenv3o6dkv30FgTY9aODo5MqBRf5aPX8agmYOzlTt38Byj24zKcnzNN2sY3vJLhrf8kl3rdnJ63+k8666nybtP/W7MHjePr2ZnTR/Uee/UqCfdvfpRvXZV6nqo944t6VycXsO68UXbIXTx6M2CKUuzvV6bSu4uFHV2YJb7CH6f+AMdZ2YfOHX07cuWCauZ5T6Cos4OVHR3STtn6WBDhUbVCH8SkuGaB+dvMd97PPO9x2cbBAodgbtvL/7sNZdfmo6jfBs3rMs5ZpCp3NmdpKg4fm40Gv81+2gwQR1UC10dmi8exOGJP7Gh2Xi2dZqJKjkFgIcH/djUZmqueQco514dG2d7FruPZsfEtbSemWV3SQBa+/bhrwlrWOw+OoPvNRzUhgenrrPYYzQPTl2n4eA2ACRExrF72npO/pC/+pcT7bw9WbnA962klS06OthPG8zjflO433Ig5q0aY/BRyQwi0TuP8LDVYB62GUbYD1uxm/AFACkRUTwZMJ2HrQYTNG4Bjt+Nfi0Tqri7UszZgcnuw9gwcRXdZn6Rrdxnvl/wy4SVTHYfRjFnBypr6qLP+O7sWvw7vt5j2bFgMx0mFN5+7q/i115zWd5sHFXa1MW2XPEM52p0dicxKo4ljUdzZu1emo3vCoBtueJUae3Gcs+v2NBrLv/z/Ryhkx7luPVpQei9pxnSenThDuu7zSbycUa/BLXvtZjRm0295rKq2Tgqt6lL0Uy2uGhsWdF4NOfW7qWJxpaUpGSOzfudQzM3ZpA3tjSl6cSubPxsFqs9v8LU1gKn+pVfu5zeBipEvj/vI/8vA8FCoDeQ9gskpewnpbxRUMoredXk0vYTADzxv4eRmQmmtpYZZExtLTE0M+aJv/oN99L2E3zspY57Q+4/JfRBUJZ0kxOS+PfCbVKSkvNsi5e3B1s37QDA78IVzM3NKGZXNItcbEwcAHp6eujr6/NyPcsefTqzfPFaXrxQ6wwLDc+zboBGzeuzZ+vfAFz3u4GphSk2xawzyCQlJOF36hIAKckp3L56h2IOtvnSkxNuXp9weNthAG7736aIeRGsilllkbvtf5uI5xGvTKtRm8Yc33Esz7obNW+QlvdrfjcwyyHvF0/5A+q839LKe7turdm67g9iomIBiAiLzFVnFa9aXNh+HIB//e9hbGaCWaa6Z6ape/9q6t6F7cep6pX+ztV2ck92zc7/jEA7l7JEBTwj+lEIquRU7uw8QxmvmhlkynjV4MZWtW/c3XOOkpofltKNqhJ68zGhNx8BkBgZi1Sp62Cw/33in+eed4CKr+l7FTV2VvSsgb/GPv+tJ6jkqT4eFxbN0ysPUKWk5q9QcqCWS1UszM3eSlrZYVytPC/+fUry42BITiF693HMmmbcAl4Vm5D2v46JUdpI/KQbD0h5rvbzpLv/omNkiDDIf2dVda/anNmu9peH/ncxNiuCeaZ7YW5ribGZMQ/91S3lZ7Yfw8VL/RIokRibmqjzY25C1LNX+2dhEfE4hNTkVK7tPEMFz4z1vYJnTS5tU/vjjT3nKKOp7xU8a3Jt5xlSX6QQ+TiE8IBnFHcpC4C5vTXlmrjgt+lIhrSCr/+b1pqYGUeXsoQHPCPysdr3buw8Q/lMtpTzrMkVjS0395xLC+qSE5J4cuFOlt8Vy1LFCA8IJj48d0DH2gAAIABJREFUBoCH/1ynYsva+S6ft4l8jc/7yP/nQFBPCPGrEOKmEGKrEMIEQAgxRQhxXghxTQixWoiM88OFEDpCiHVCCF/Ndy8hxGkhhJ8Q4nchhGkm+Y5ALeBXIcQlIYSxduuiECJWCPGdEOK6EOKgEKKO5vwDIUQbjYyuRua8EOKKECJrO/wrMLOzIuppesAUHRyOuX3G4MPc3orooHSZqKBwzOyyBihvir2DHU8Dg9O+Bz19hr2DXbayG7au4tKdY8TFxrH7r/0AlCnrxCd1a7LzwEa27vyJ6q75W6bG1t6W50/T32CfPw3B1j7nIM/U3JQGnvU4/0/6VtIe3o3YcHAts1ZPp5hj/gJEG3sbQoPSH55hwWHY2NvkKw0A2+K22JWy48rJK3m+pph9UZ49fZ72/fnTEIrlkveGnvU4/89FAEqVKUGpMiX54a9lrN35PW7udXK89iXmdtZEPg1L+x4ZHI6Ffcbg08LemiituhcZFI65nVqmsmdNop6F81QTkGnjVKMcY/Z+yxfrxmNXrkRW++2tiNGq97FB4ZhmqtNF7K2I1cjIVBVJMfEYWZliWcYeiaTdL+PoutuXmgP/l2tes8PczpoorfznxfeitfJfxNaC2BB10BkbEkkRW4vXsqOw0bO3IUWr3icHh6Jnl7XeW3VrRdlDayk2rg/BM7J2UZu1qE/i9XvIFyn5tsHSzprwDHUxDKtMddHK3pqIoHSZiKAwLDX3Ysv0dfhM6MHsUyvwmdiTP+YW/HIl+SE6KIe6pqnvqlQViTHxmFiZaupg5nqqzneLqT04MOu3tBehvGBmb02MdnpB4ZhlssVMy5aXvmdsleHnMwMRAcHYlHHEokRRhK4OFZrXxNwh/8/Ot4lK5P/zPvL/ORCsAHwvpawERAMv++iWSSlrSymrAMaA9oJwesCvwF0p5SQhRFFgEtBMSlkDuABk6G+TUm7VHO8mpXSRUiaQkSLAYSllZSAG8AU8gfbANxqZvkCUlLI2UBv4Qgjh/OZF8N+me8cB1KzkgYGhAfUbqbsndfV0sbQ0p7XnZ/hOnc+KH+e9M/26urrM+H4yW9Zu5+kjdYvoiQOnaP9JF7o368u54xeYsmjCO9P/Khq1acTJ3SfTxk2+bXR1dfH9fgqb125Ly7uuri4lnUsw0Gc4kwd/w9fzxmJqnvOD+03RNzKg2ZD27FuwJcu5J9ceMqP+UOa1/Ip/1u2jz+rX6y7MCR1dXRxrlWffl9/zu883lG1eK621sFB5X5sU8kjEr7u437Qvz7/7iaKDM459NfioFMXG9iEoD0MS3gWNu3uxZcY6JtQbxO8z1tHz20GFYkdBUr6JK3FhUQRdCyhsU0iMjmff/7F35vE1HW0Afube7KvsS6nEWks1lmqsSexSW1F7UPpRRRf7TltVVaUtaqmqUkopqrVTsdUeia0kSqxJhCSSyM0+3x/3yh4SRah58ru/nDvznnlnzpk59z0z886MX8Ibc4fSe+0k4q7dIjOjZP12Mx/i8yzyX3YWuSqlPGA4/gl4D5gJ+AkhRgEWgD1wBrg3y3Uh8IuU8lPDd2+gKnDA0HFoAhR90paeVGCr4fgUkCKlTBNCnAI8DOEtgBqG3kUAW6AikDXTWQgxABgAsHDhQl4LaE6d7n4AXA+5iK179puvjas98ZG5hzXiI2OxccuWsXWzJ+ERDX306d+NHr31WQ85cRr3F1yz4tzcXYiMiCr03JSUVLZt3k3L1n7sCzxI5I0otvyxE4DgoNNkZkrsHeyIuV14Xjv17UD7nnp7/u/gc7l68ZzdnYiOzD/HBWDMF8O5eukaqxevzQqLj43POt64chNDJjy4c9a/9+u07K6f4xh2MgxHt+yhcAdXB25H3i7s1EJp1LYxCybOf6Bc574d6GAo+9ng87i4O2fFObs7cbOQso/9YgRXL11jVY6y34yI5vSJv8lIz+DG1Uiu/HOVMp6l+TvkXL7zh2+eDsDVkH8o5Z791l7K1Z47kbmH8+9ExmCbo+6VcrMnPioGx7Iu2Jd2YsSWGYC+53DYH5/xVYfxJETfyZL/OzCYTlP7Y2mXe2gzMTIW6xz13srNnsQ8dfpuZCxW7vYkRsYgtBpMrS1Ijk0kMSKG60fOkxyrHwYP3x2CU3UPrh44U+D1ykndgObUztX2sstflLZnYyg/wN3oO1g5lSIxOg4rp1LcvXWHZ5H0yNsY5aj3xq6OpEcVXu/j/9iD60eDiRit/27k6kDpbydyY+SXpF2JLPS8vPgGtKRh92YAhIdcwN7dgXuuWaVcHYjNUxdjI2Owy9HLZOfmQJzhXtTr5JvlOHJ800ECpr9T5HyUBDZuhdQ1d3viI2PQaDWYWVuQFJtoqIN562kMlZvVpnKz2lT09cLI1BhTa3M6fjWIdR/c/9mTEBmDdc703OxJyJOXBENeEnK0PZ2hvRVG2K4ThO3ST12p2d0PWcKG4H/8vSyL/3KPYN57KIUQZsC3QGcp5cvAd4BZDpm/0BuK98IEsMPQ0+clpawqpexfzHykyewNnTOBFAApZSbZhrgAhubQ4yml3J4r81IuklLWkVLWGTBgAIeX72Ce/zjm+Y/j7PZjeHVsBEDpmhVISdBlDTfdIzE6jpQEHaVrVgDAq2Mj/t5+vJhFKZgfv19FS5/OtPTpzNZNf9K5m37Ce606NUiIT+RmVO55JhaW5lnzBrVaLU1bNOZCmN7m3brpT+o30g9JepYvi4mJ8X2NQIBfl27Icu7Ys3U//p31Rlm1WlVJjL/L7Zv55xkOHNUfK2tLZk+amys855y6Ri3qEx6Wf8gyL5uXbcpy8Di07SBNOjUBoHLNyiQlJD1wLmBeSpcvjZWtFeeO5zfA8rJ26QZ6NX+bXs3fZs/WfVllr36fsr9jKHteZ5DArfupXU8/cd7W3pYXy5fhxpUb+c4Hspw4Tm0/Rp2OjQEoW7MCyQlJJOSpewmGulfWUPfqdGzM6e3HiDh/lcl1BjK14VCmNhzKncgYZrUZS0L0HaxzDJG++Ep5hBDcjU3IlW5UyEVKebpiU8YJjbGWSm29ubgjKJfMxR1BVO2sbxsV/ety9S/91N3Le0/iWLkMRmYmCK2GF7xfIibs+n2udDZHlu9gvv845vuP41yetpdcxLZ3ztD2zu0MoqYhfzU7N+Jcnvw/K+hOhWLi4Y5xaRcwNsLm9cYk7DqUS8a4bLYjj5Xfq6SG6+uWxtqSMos+InrmD+iCije1OnD5Nqb6j2Sq/0iCtx/Fu6N+xx3PmhXRJSQRn+dexEfHoUvQ4VmzIgDeHX0I2X4UgLibMVTy1vv4vVS/OjfDi26QPklKlXFCa6yleltvzu/I/Qw/vzMIr0769ljVvy6X/tK/2JzfcZzqbb3RmhhRqowTDp6uXA/+h10zVjPLeyhfNfyAtUPncumvsw80AgFuhFzE3tMVW0Pbq9rWm9A8eQnbGUQNQ16q+Ncl/K8Hv2RZONgAYGZjQe2A5gTnmbf4pHlehob/yz2CLwoh6kkpDwI9gP1kG323DHP9OgNrc5zzPdAY+EUI0RE4BMwTQlSQUl4QQlgCL0gpQ/PoSgD+zUzsbcAgIcSfht7CSsB1KeXdopwcujuYSn5eDNszm1RdCutGLsyKG7x5GvP8xwGwceISOs18R798TGAIoYF6h4kqLevQZkofLO1t6L1kFBF/X+bH3voen+H7v8bUyhytsRFVWtRmacD0++blzx17adK8EfuPbyFZp2PYkGyv4W171tLSpzMWFhYsWTEXU1MThEZwcN8Rlv+gHx5cvWIdX86Zys4D60lLTeODd8cV+SIC/LXrEPWbvsbav1aQrEth6oefZ8Ut27GY3s3fxsnNibc+CCA87DI/bv8OyF4mpkv/TjRqUZ+M9Azi4xL45MP7lzcvx/48Rh2/Oiza951++ZgRX2XFfb3lG95v/R4Afce9hU97H0zNTfnh8FK2r9rOz7P1XnSN2jVm3+97i6UX4MCuQ9Rv6s26v1aSrEvJlfefdiymV/O3cXZzot8HvbkUdpnlhrKv+WE9v63cxKHAI3j7vMqqwB/JzMjkm0/mcydHD2lB/L37BFX8vBi352vSdCn8PDJ73tfwzdP50n8MAGsnLslaPuZcYDB/G+peYbzS2pv6vZqRmZFJWnIqy4d+k09GZmQSOPFHOiwfhdBqOLt6DzGh1/Ee1omoU5e4tCOIM6v30PKrd+iz90uS4xLZMkRv+KfcSSJo8Ra6/fExUkrCd4cQ/qc+Tw3GdaNy+/oYm5vQ7/A3nFkVyOHZ+b2WQd/2Kvp58cGeWfrlY3K0vUGbpzHf0Pb+mPgDbxiWbgoLDCEsUL88yr75v9N13lBqdfEl7votfhmsL6eVky0DN07F1MocKTPx7teauc1H3fea3Y+Rk6dz9MRJ4uLiadqhF+/2D6BT25YPnV4+MjKJ/Gg+ZZZM1S8fs3Y7qReu4Ph+L5JPhZH452HsA9piWd8LmZ5Oxp1Eboz6EgC7gLaYlHXHcUh3HIfoPUuv9J1ARkzxekdP7w7iZb+aTN0zh1RdKj+OnJcVN2HzF0z1HwnAzxO/o8/MwZiYmXA6MJjTgfoeqOVjFtJ18ltojDSkp6Tx09iFBeopaQKWjUZoNZz4ZQ/RYdfxG9aJGycvcX5nECdWB/LG7EG8t+dLdHF3WTtE/7IXHXadM5sOM3jnDDLTM9g0cekD5wS+1rclDd5pg5WTLYO25X4OyoxMtk1aSvdlo9FoNYT8sodbYddpPKwTEScvEbYziODVgbSfPYhBe74kOe4u64dkv3gO3v8Vptb635VKLerwc8B0boVdp8XkAJyrlgVg/9friLlUssb4szrUW1xEdmfVfwchhAf64dhjQG3gLBAgpUwyOIF0ByKBUOCylHKKECIQGCGlPCaE+AioBPQEfIHPAVND8hOklBvz6OsETAN0QD1gS460EqWUVga5KUCilHKm4XuilNJKCKFBP3ewLfrewWigg5SysCehVHsN+5aIfrXXsNprWO01rPYaLkme872Gn2if28LSvYptIA289tMz1y/4n+wRlFKGAy8VEjcBvQNI3nDfHMc5FxH7E70Dx/30/Qr8miMoZ1pWOY6n5DnPyvA/Exhn+CgUCoVCoShh5DNn0j0c/0lDUKFQKBQKheLf8LwMDStDUKFQKBQKhSIPyhBUKBQKhUKheE7573lQFIwyBBUKhUKhUCjy8KwuB1Nc/pNew88B6qYpFAqF4nnjiZpms18svtfwh1eU17DiCbHJpXuJ6X496mcCXUpmCQffKP0SDkYmL5SI/vRU/aLDl2s1KxH9ZYP0u67cal0yy8c4btEvHzO2hJYv+ixcv9ZiQNmOJaJ/+eV1VHN5rUR0A5yJOlziy7eU9PI1FZ1ql4jusOhHswD/v+XjElq+ZZJh+ZiSWj7p4/Anv/ezmiOoUCgUCoVC8ZzyvAy9/Ze3mFMoFAqFQqFQ3AfVI6hQKBQKhUKRh+fFWUQZggqFQqFQKBR5UHMEFc8kTn6vUHVqb4RWw9UVu/lnTq5tkbH3fomqn/TGuuqLnBj4DZF/HMmKe2liD5yb1URoBNF7T3F2/I/F1m/v50WFqW8htBoiVuziypwNueJLD2yDW8+myIwM0m7Hc+6Db0m5dgurah5UnPE/jKzMkZmZXP5qHdG//fVQ12D2rI9p3aoJSTod/ft/yIng04XKrl/3A56eL+JVsykAK1fMp1Kl8gCUsrUh7k48dV5tUWTdZvVfxX7Eu6DVkLh+C/FLV+WKt+rUBusu7SEzg8ykZGKmziLt0hUAjCt64jD+Q4SlBWRKIgLehdS0YpXduHZdLN8ZitBoSN66Cd2alQXKmTRojM2ET4h7bwDpYeezwjVOztgt/JGkFUvR/bq6SDrbTu5NZT8vUnWprB2xgBtnwvPJuFf35M2ZAzE2M+H87mB+/2gZAK3H9uClZrXISE0n5koUa0cuJDk+iQoNq9NqdHe0xloy0jLYPG0FFw+efWBeAqb05xW/WqToUlg0Yi6XT+d3bOg8sgcNO/piaWvJ/6pmT3yvXLcqvSb3o8xLZZk3dBZHNx8sUvlzMvbTYTRuWh+dLpnx733C36fO55NZ+PNXOLk4otVqOX44mKljviAzM5MWbZsweMT/KFfJg26t3uJMyLli6bZsVBuXCQMRWg1xv2zj9qLce+OW6u6PXc82+rp3N5mIid+QeuEqlg1q4jSiL8LYGJmWxs3Pl5B0KKTYZb8fE6bNYu+BI9jblWLDTwseado5mThtJD7NGqBLSmb0e1M4ezL/Nfx+9RycnB0xMtJy7NAJpoz+nMzMTD4YM4imrXyQMpPb0bGMHjqZm1G3HlteH5Z3//wCjVbDiVWBHJj/e644rYkRHWYNwu1lD3SxiawdMoc71/RlaPBuO2p29SEzI5NtU5bxz95TOJRzo9PcoVnn273oTOCstRxeshXf4Z2p3Lw2xhamWDmVKjQ/WhMjOs4ahHt1D3RxifwyZA5xBp2N3m1HrS4+yIxMNn+0jAt7TwFQwacG/pMCEFoNQasD2WcoR93ezanXrxUOHq5MrzmQpNhEADy8q9xTF2z4vw74+N9dyQej5ggq/jVCCA8hxGnDcR0hxDeGY18hRP1HrlAjqDb9LY70+Jw9jUbg/kZ9rCrl9q7VXb9FyPsLuLHuQK5wuzoVsatbib1+o9jjM5JSXuWwr1+FYqHRUHF6f072+JQjjT7E+Y0GWFQqnUsk8fQljrcczTG/EUT/fojykwIAyNClcG7IHI76DONkt0+p8ElfjGwsinsFaN2qCRUrePJS1YYMGjSaeXM/K1S2Q4fWJCbezRXWo+cg6rzagjqvtmD9+s1s2LC56Mo1GuxHD+Xm0HHc6NQfy1Z+GHu+mEvk7tY/iej6PyK6v0P8j6uxGz5IH6HV4Dh1LLc//YqIN98masBwSM8oum6DfqvBHxA/cRSxA/tg6tsU7Ytl84kJc3PM23cm7dyZfHGWAwaTeuxIvvDCqOzrhYOnKzN9h7F+3GI6fNqvQLkOU/uxbuxiZvoOw8HTlUq+rwBwYf8pvm4xim9aj+HWpQh8320HwN3YBH7s/wVftxrDmuHz6TL73Qfm5RW/Wrh4ujHCZzBLxi7grakDCpQ7sfMYk9uPzhd++0Y0i4bP4eBv+4pa/Fw0alqfsp5laO3dmSkjpjNpxqgC5Yb9bzwdm/SivU937B3saNlO/xJy4dxF3u83mmMHTxRfuUaD65R3ufr2JP5p/Q42bXwwqVAml0j877u51OZdLrUbyu3v1uIy9n8ApMfe4drAj7jU5l0iRs3C/Yvhxdf/ADr4N2fBrKmPPN2c+DRrQNlyZWhWtwMTh0/l4xljC5R7v/8Y2vl1x79RF+wd7WjdTr8CwOK5y2jr2412fj3YvWMfQ0b877Hm92FZ2WcG3zYbRbV29XCsmPv5XrOrL7o7d5nrM5xD32+h2Rj96hKOFV+gWltv5jcfzco+M2g99S2ERnD7YgSL/MexyH8c37UZT5ouhXPbjgHw18JNLPIfB8DBRZuydDhVyK2zVhdfku/c5Wvf4fz1/RaaG3Q6VXiBl9t6M7fFaJb1mUGbT/Q6hUbQ5uO+LO87g7nNR/Fyu3pZaV45HsqPvT4j9lp0YcX3MnweuxEIkIks9qcoCCFaCSHOCyEuCCHGFBBvKoRYbYg/LITwyBE31hB+XgjR8lGUUxmCTwgp5TEp5XuGr77AIzcES9WqQNKlSHSXbyLTMrix4SAurerkktFdvUXC2SvIzNwVVgJaU2M0JkZoTI0RRkakRt8pln6bWhXQXYok+fJNZFo6NzccwDGP/rgDZ8jUpQIQfzwUUzd7fb4uRqC7FAlAalQsabfuYOxgUyz9AG3btmT5irUAHD4ShG0pW1xdnfPJWVpa8OH7A5j22deFptW5c1tWrf6tyLpNqlcm/doN0q9HQHo6d7cFYu7bIJeMvJuUdSzMzcCwjqeZdx1Swy6SFqbvwcq8Ew+ZxRuYMKpUhYwb18mM1OtP2fMnJt4N88lZ9O5P0pqVkJqaO//1GpIRGUHG5UtF1lmlRW1OrNMbTldPXMDM2gLrPL0H1k6lMLU25+qJCwCcWLePqi309SJs3ykyM/TlvHLiArauDgBEnLlMws04AKJCr2FsZoLW5P4DGLWa12X/r4EA/HMiFAsbS2yd7fLJ/XMilDs3Y/OF37oWzdVzl5HFvO73aNKqMRvXbAHg5PHTWNtY4+jskE/uruHlw8hIi7GJEffWcr0YFk74P1ceSrd5jUqkXr5B2tVISEsnftNerJvWyyWTmajLOtZYmGV1d6ScvUj6zRj9cdhlNGamiAdc6+JSx+tlbG2sH2maeWnWyocNq/UGS/Dx01jbWuHk4phPLjHr+hthbGyMNFyInC+F5hbmPK1L7MZdjSYzLYMzvx+icvPcS+lUbl6bk7/uBeDs5iN4NqiWFX7m90NkpKYTdzWa2PAoXvAqn+tczwbVib1ykzvX9b15qYk6XvAqT2x4FOkp2SMTL7XIrbNKi9oE59BZrn61LLlT93ReiybmchSlvcpT2qs8MZejiL0aTUZaBqd+P5SVZuSZy1m9iU8DmQ/xeRBCCC0wD2gNVAW6CyGq5hHrD8RKKSsAs4HPDedWBboB1YBWwLeG9P4VyhAsBCHEeCFEqBBivxDiZyHECCFEoBCijiHeUQgRbjj2EELsE0IEGT75jDxDL+AfBsv+HeBDIUSwEKKREOKSEMLYIGeT83txMHO1Q3fjdtb35Bu3MXPN/0NYEHHHwrh94CzNTs6n2cn53AoMITHsRrH0m7rak5JDf8qNGExd8/8Q3sOtR1Ni/szf+2FdswLC2AhdeFSx9AO84O7KtavZ+b5+LYIX3F3zyX08ZRSzvlpIUpIuXxxAo4avEXUzmgsXim4UGTk5kh55M+t7xs1otAUYAlZd2uH+2zLs3v8fMTPmAWBctjRIifO86biumI9Nny5F1nsPjaMjmdHZ+jNvRaNxyP1DqC1fEY2jM2lHD+U+2cwc8zd7kLSieNMBbF3siLsRk/X9TmQMNnnqnI2rHfEROWQiYrB1yV8v67zpy/nA4Hzh1VvX5cbpcDJS0++bFztXe2JuZP+IxEText7Fvshl+bc4uzkReT27zkZF3MTFzalA2UWrvmbvma3cTUxi++9//mvdRq4OpEdklz0t8hZGLvnrnl3PNpTf9T3Oo/oR+Un+IVrrVg1IPnMB+YBr/TTi4uZMxI3s6x954yYurgVf/yW/zOXQ3zu4m5jE1o27ssI/HPcue4M30a5TK77+fP5jz/O/IT4iBus8bc3a1Y47hvYoMzJJTkjC3M4Ka1c74iOyn83xkTFYu+ZuG9XaeXN6Y+7pOPUGvE6ZOpV4uUP2T5pNnrZr7ZKtMzMjk5SEJCzsrLBxseNOjt+DOxExWLvYY+1inys8PiImX5r3IQTYgt4QeuzIh/gUgbrABSnlRSllKrAKaJ9Hpj1w72G8FmgqhBCG8FVSyhQp5SXggiG9f4UyBAtACFEbvdXtBfgDrz7glJtAcyllLaAr8E1hglLKcGABMFtK6SWl3AcEAq8bRLoB66SUuSaHCSEGCCGOCSGOLVq0qPiFegAWHi5YVXyBXV6D2fXKuzg0rIbda5UfuZ57uHRqhLVXOa7Myz2H0cS5FFXmDuX8B9/yuF7JX3mlGuXKl+W337YWKtO1awdWF6M3sDgk/rKRG+17E/vNYmzf1s9RE1otZl7VuTV+GlH9P8DCryFmdWs+WsVCYDVgMHe/+zZflEWvvujWr4Hkgg3jx43v4PZkZmQQvCH3lAXnii/Qakx31o9bXCL5elwM6PY+vjVex8TEhNca1nnwCY+I2BV/8E/T/tz84gcc3+2WK86kwos4j+xHxKQ5Tyw/JUW/LkOoX70lJqbG1GuU/XifPe1bGnu9zsZft9Krf9cSzOGTRWOspXKz2pzddDhX+OmNBzn9+0FObXi4+dqPiojT4fcOXwHmABsKFX6EPI4eQeAF4GqO79cMYQXKSCnTgTuAQxHPLTbKECyYRsB6KWWSlDIe2PgAeWPgOyHEKWAN+u7e4rAYeMtw/BbwQ14BKeUiKWUdKWWdAQMKnvuUHBmLuXt2L4CZuwPJkfmHwArC1f9VYo+HkZGUQkZSCjd3hWBXp1KxCpESGYNpDv2m7vakRN7OJ2fX+GVe/KAjp3p/nqvnQWtlzssrxnLps5+JPx5WZL2D3unDsaPbOXZ0OxGRUZQu454V90JpN67fiMwl7/1abWrXqsGF0EPs2b2BShXLsWtH9sR6rVbLGx1a88uaB9323KRH38IoxzC01tmJjJv5y3+PpG27sTAMHadHRZMcdIrMuHhkcgq6/YcxealisfRn3rqFxilbv8bRiczb2b1EwtwCbVlPbGd8hd3SVRi9VBXrydMwqlgZ48pVsew/ELulqzDr0Bnzrr0wa/tGobqGbp7G0M3TiL8ZRyn37J4FW1d74vPUufjIWGzccsi42XMnKlumVufGVGlai9Xvz8t1no2rPQELh7Fm2HxirtykIJr1bsXUzV8ydfOXxN2Mxd49uwfU3tWBmKiYAs97VHR/qzO/7lrOr7uWcyvqFq4vuGTFubg5ExVR6FwnUlNS+XPrHpq0avyv85EeeRsjt+yyG7s6kh5VeN2L/2MP1s2zh46NXB0o/e1Eboz8krQrkYWe97TRs9+bbNy9ko27V3Iz6hZu7tnX39XdmajI+1//nVv20LSAXXo2rt1CyzZNHkueHxU2bvYk5GlrCZGx2Brao9BqMLO2QBebSEJkLDZu2c9mG1d7EiKz20YFXy8iTodz91Z8nvRisHVz4FSOF7T4qDw6o7J1arQaTK0tSIpNJD4qFtscvwe2bvYkRMWQEBWTK9zGzT5fmnlJScz1groZ/W9u/nH/R0ymKP4nZ6eN4VPwD/ZThDIEi0c62dfMLEf4h0AU+reVOoBJcRKVUh5snwoGAAAgAElEQVQAPIQQvoBWSlm4m+t9uHPiHyzLuWL+ohPCWIt7h3pEbSvatki667dwqF8FodUgjLQ41K9CYtj1YulPOHEB83JumL3ojDA2wrlDA24ZJh7fw6q6B5W+GMDp3p+TluOhI4yNqL50JFFr9hD9x6G8Sd+X+Qt+zHLw2LhxGwE9OwPwWt1axN+JJzIytxGxcNEyXvSoTYVK3vj4dSA07CJNm2dvmdesaSPOn7/A9esRxcpH6pnzGJV5ASN3VzAywrKlL7o9ud+kjcpkv7yZN3qNtKvXAEg+eAzjCp4IM1PQajCt/QppFy8XS3966Dm07qXRuOj1m/o0IfVQ9gNcJt0lplt7Yvt2I7ZvN9LPnSXho3Gkh53nzsihWeHJG9aiW/0Tyb+vL1TXHP9xzPEfx9ntx6jZsREAZWpWIDlBR0J0XC7ZhOg4UhJ0lKlZAYCaHRvx93Z9vazkU4PGA9uw7O2ZpCVnz1k0s7Gg7w8j2fr5Ki4fDy00HzuXbWWC/3Am+A/n+PYjNOzkC0D5mpVISkgqcC7go+TnH9bSqWkAnZoGsGvLXtq92RqAGrWrk5iQyK08LwIWFuZZ8wa1Wi2Nmzfg0oXwf50P3alQTDzcMS7tAsZG2LzemIRduduRcdnsFyQrv1dJDddPodBYW1Jm0UdEz/wBXdCDPbOfJlYsWUM7vx608+vBzi2BdOiqH1jxql2dhPhEovN4/VpYmmfNG9Rqtfg2b8jFsHAAypbLdq5p1tqHi4/gvjwOSpVxQmOspVpbb0J35H6+n98ZRI1O+heLqv51ufSX3iEsdMdxqrX1RmtiRKkyTth7unI9+J+s86q3q5dvWNjew4XrIRex93TFq0u2sXwuj85zO4LwKkDnuR3HefmeztJO2Hu4ci34H32aHq6UKu2E1ljLy22986WZFysn25xf66L/HS78TecR8TDOIjk7bQyfvEN414GcnlylDWEFygghjABb9OUtyrnFRi0fUzB7gaVCiM/QX6O2wEIgHKgNHAE655C3Ba5JKTOFEH2AB03eTADyekIsA1YCnzxspmVGJqfHLqXuqrEIrYZrPweSeP4alUZ1Ji7kEje3HcfWqxy1fxiGcSlLXFrUotLIN9nrM5KI3w/j0LAajQNnIKUkencIN7cHFVt/2NjvqbFqvH75mJ93k3T+Gh6jupIQ8g+3tx2j/OQAtJZmVFus90xMvn6L070/x7ldPWy9q2BsZ41rVz8Azr03j8QCliK5H5u37KJVqyac//sASTodb789LCvu2NHtRVoKpkuX9sVyEskiI5OYz+fgPG86aDQkbtxK2sXL2L7Th9Szoej2HsS6a3vMXqsF6elkxidye9IMADITEklYsRbX5fNASnQHjqDbf/gBCvOQmUHi/K+wnToTtBqSt28m40o4FgH9SA89R+rhRz+8c353MJX9vBixZzZpuhTWjlyYFTd08zTmGLwOf5u4hM4z38HYzITQwJCsuYDtPuqL1sSYfj/pPTyvnrjAhvFLqNe7BQ5lXWjy/hs0eV/fM7kkYPp98xLy53G8/Goxc++3pOpS+G7E3Ky4qZu/ZIK/vs51GxtAvfaNMTE35etD3xG4aifrv1qNZ40KfLBoNJa2lng1e5WOH3ZlbPMPinwt9u48QOOm9dly+FeSdclMeD+7Kf+6azmdmgZgbmnOvGUzMTY1RqPRcOTAcVb/qDe4m7b2Ydy0Edg7lOLbFbM5fzqUAd3eL5ryjEwiP5pPmSVT9cvHrN1O6oUrOL7fi+RTYST+eRj7gLZY1vdCpqeTcSeRG6O+BMAuoC0mZd1xHNIdxyF6j88rfSeQEVM8Z7H7MXLydI6eOElcXDxNO/Ti3f4BdGr7SBweswjcsR+fZg3YdeQ3dLpkxrw3JStu4+6VtPPrgbmFOQuWz8LExASNRnDowDF+XvqrPo8Th+JZviyZmZIb1yKYNGLaI83fo6LnstEIrYbgX/YQHXYd32GduHHyEqE7gzixOpA3Zg9iyJ4v0cXd5dch+mH+6LDrnN10mEE7Z5CZnsGWiUuzHAaNzU0p16g6m8Z9n0tP0zHdcCjnBkD9Aa9nhUeHXafJh524fuoS53cGEfRLIB1nDeL9QL3ONUOzdZ7+4zBDd+h1bpqk1ymRbJq0lN7LRqPRaggylAPgtb4taTiwDVZOtry7dTphu4P5bcxiqrbOmgYXAujQT6F67O48j0nBUaCiEMITvRHXDci7eftGoA9wEL2t8aeUUgohNgIrhRCzAHegInp75F8h5NPqGlXCCCHGo78RN4ErQBDwB/ALkAFsAnpJKT2EEBWBX9HXm63AYCmllcEx5A8pZXVDb98IKWUbIUQl9BNAM4GhUsp9QghX4BLgJqXM3aWSH7nJpfujLXAxeD3qZwJd3nyw4GPAN0o/hGtk8q+nRTwU6an6B9blWs1KRH/ZoJ0A3CpgOOtJ4LhlDwBjPfI+t54Mn4Xr10UMKNuxRPQvv7yOai6vlYhugDNRh/m7on+J6a8Stpm0W/nXZnxSGDuWo6JT7QcLPgbCoos2uvK4+bhszwcLPQYmXV6h/+9RMvo/Dl8B8ET3+hjr0aPYBtJn4SsfmEchhD/wFfpOoyVSyk+FEB8Dx6SUG4UQZsByoCYQA3STUl40nDse6Id+hPIDKeWW4uYxL6pHsBCklJ8CnwIIIaYYws4BNXKITTCEh+UJH20IDweqG44D0TuFIKUMzSMP0BBYWwQjUKFQKBQKxWOmqOsCFhcp5Wb0cx1zhk3KcZwMFNjbktM2eVQoQ/ApQAgxB/2aQiX3qq9QKBQKhSKL52W8VBmCRUBKOeUxpz/0wVIKhUKhUCieFGqvYYVCoVAoFIrnlMc1NPy0oZxFnk3UTVMoFArF88YTdRb50KNbsX9rZ4eveqJ5fBSodQQVCoVCoVAonlPU0PAzytEXCt/14XHz6vX19PHoVCK6fwzXr/lVUuV/9bp+zbdGLzQtEf37ruv3Ra3j1qhE9B+L2AfApyW0hMV4wxIWvUpo+ZifLq8r8bY30KNklm4CWBi+psSWbwH9Ei4ltXyNsWO5EtGbl5Jeuumzsr1KRP/Yyz89cZ1qjqBCoVAoFArFc4p8TmZhKUNQoVAoFAqFIg+qR1ChUCgUCoXiOeV58RpWhuB/DBvfmrz4cX+ERkP0zzuJnLcuV7zLgHY4dW+GTM8gPSaeS8Pmkno9GgATd0c8Zg7GxN0RpCQ04BNSr0UXOw89J/fjFb9apOpS+W7EHC6fuZRPptOIHjTo6IOlrSUDq2XPOalctyo9Jr1FmZfK8u3QWRzbcuiZK//7Hw/Gu8lrpOhSmPbhDEJPh+WKNzUz5ZNFk3Av605mRiYHdhxk4WeLc8n4+Ddi6ndTeLv1IM6fDC2y7hGfvE+Dpt4k61KY8sE0zp/Kfa6puSmfL/qE0h7uZGRksm/7AeZO0+8PPOyjodSuXxMAM3Mz7B1L4ffS/dc4L+dTgxaTA/R7n64K5OD833PFa02MaDdrEK4ve6CLTWT9kDncuXYL81JWdFzwPu41ynFy7V62Tfox65wqbbxpMKQ9Gq2GsF0n2D19VZHLHzClP15+tUjRpbBoxFzCT+efT/bmyB407OiLpa0lb1fNnuvY+u22+HZrRkZ6Bgkx8SwaOY/b14t+/5+Gutd18ltU96tFqi6FpSPmcbWAtvdi9XL0nTkYYzMTTu8OYvVHPwBQuqoHPT/9H8amJmSmZ7By4mLCQy4US//EaSPxadYAXVIyo9+bwtmT5/LJfL96Dk7OjhgZaTl26ARTRn9OZmYmH4wZRNNWPkiZye3oWEYPnczNqFvFvgYFMWHaLPYeOIK9XSk2/LTgkaT5NNB2cm8q+3mRqktl7YgF3Chgb3b36p68OXMgxmYmnN8dzO8fLQOguv9rNPugE04V3Pm2/USun9LXFa/2DWg0MHtvYdeXXmRum/H50i3nU4NmkwPQGNr+oQLafptZ7+D2sie62AQ2DJnLnWu38GhYHd8xXdEaG5GRls7uaT9z+a+zAGiMtbT4uA9lvasgMyV7Zq7h/Jajj+pyFZvnwwxUXsOPFCHEYiFE1QfILBVCdC4g3EMI8e9mAWs0lP10AGG9PuG033s4dGiIWcXSuUSSTl/kbOsRnGn+ITGb/qLMhN5ZcZ5fv0/k/A2c9h3K2ddHkX6r+JvO1/CthaunG6N8h/DDuPn0+XRAgXLBu47yUfvR+cJv34hm8Yi5HPptX7F1Pw3l925Sl9KepenesDczRs9i+GfvFyj384I19PJ5i34tB/Lyq9V5zS9rU3XMLc3p3L8jZ4LOFkt3gybelClXmjfqd+fTkTMYO314gXLL5/9M50a96Nm8H6/UfZn6TfR7586aPIeezfvRs3k/flnyK7s3772vPqERtPqkL6v6zGBhs1FUa1cPx4q594D26upL8p27zPcZzpHvt9BkjH6P7PSUNPbMXMOuT1fmkjcvZUXTcd1Z2WMai5qPxsrJFo8G1YpU/lf89HVvuM9gvh+7gL5TC657QTuPMbmAuhd+5hIT24xkXKthHNl8kO5jexdwdiE8BXWvum9NnD3dmOg7lJ/GLaTnp/8rUK7H1P+xfOwCJvoOxdnTjWq+XgB0GtOLP75ew1T/kWyctZqOY4vnFODTrAFly5WhWd0OTBw+lY9njC1Q7v3+Y2jn1x3/Rl2wd7SjdTv9vt2L5y6jrW832vn1YPeOfQwZUXD+H4YO/s1ZMGvqI0vvaaCyrxcOnq7M9B3G+nGL6fBpvwLlOkztx7qxi5npOwwHT1cq+b4CQNT5q/z0zmzCj+Q21oN/O8Ac/3HM8R/HLx/OJ/ZqNBFnL+eSERpBi0/68EufGSxqNoqq7bxxqOieS+YVQ9tf4DOcI99vxXdMNwB0sQms7fcl37ccyx/DFtJ29jtZ5zQY0p6k2/Es9BvJomajuXLo7399nf4Nmchif55FlCH4CJFSvi2lLN6vdzYewL8yBC1rViQlPIKUK1HItHRiftuPXcu6uWQS/jpNZnIqAHePh2Ls5gCAWcXSCCMt8ftCAMhMSs6SKw61WrzKgXV7APjnRBgW1pbYOpXKJ/fPiTDuROffVvnWtWiunrtM5kOsb/k0lL9hywZsXbsdgLNBf2Nla4WDs30umZTkFE78FQxAelo6oafCcHZzzIp/e9RbrPx2FanF1O/TqiGb12wF4HTQWaxtrHBwdsitW5fC8b9OZOk+dyoUZzfnfGm16NCUbRt23lefu1d5YsKjiLsaTWZaBmd/P0Sl5rk9Sis2r83JX/UG5d+bj2QZdWm6FK4dCyU9JS2XfKkXnYkJjyQpJgGAS/vP8FLrV4tU/trN67L/10AA/jkRiqWNJaWc7fLJ/XMilLibsfnC/z54OuuaXzgRir2bQz6Zwnga6t4rLV7lkKHtXToRhrm1JTZ52p6NUynMrc25dELfS31o3R68WujzKZGYW1kAYG5jwZ2o/NfofjRr5cOG1ZsACD5+GmtbK5xcHPPJJSbeBcDIyAhjY+OsCfn3wgHMLcx5lEvc1vF6GVsb60eX4FNAlRa1ObFO/8J89cQFzKwtsM5zv62dSmFqbc7VE/qe3RPr9lG1RR0Aov+5wa2LEffV8Uq7+pz8/WC+cHev8sTmaPt/F9j2a3H6V33+zuVo+1FnLpN4U//svxV6DSMzE7Qm+sHJGl18ODjP0LMoJbrYxCJfj8dB5kN8nkWUIVgAQoiRQoj3DMezhRB/Go6bCCFWCCFaCCEOCiGChBBrhBBWhvhAIUQdw3F/IUSoEOKIEOI7IcTcHCoaCyH+EkJczNE7OB1oJIQIFkJ8+DD5NnG1J/VG9lBKasRtjF0L/zFz7N6MO7uDADAr505G/F0qfDeaqtu+pPSEPqApfvWwc7Hndo48xETexu4+eXiUPA3ld3J15OaN7CG96IhoHF3z/xjew8rGkgbNvTm2X2+cVapeEWc3Jw7uOvwQup2IvHEz63tURHQuAzO/bisaNW/A0X3HcoW7lnbhhRfdObo/6L76rF3tSYi4nfU9PiIGa1e7PDJ2xN+IAUBmZJKSkIS5nVWhacaGR+JQzh3b0o4IrYbKLWtjU0SDzM61gLrnYn+fMwrHp2tTQgLvX/6cPA11r5SLPTE3su9HXORt7Fxzl9/O1Z7YHPcsNuI2pQzX6JePltJpbACf/TWfTuN6s37GimLpd3FzJuJGVNb3yBs3cXF1KlB2yS9zOfT3Du4mJrF1466s8A/Hvcve4E2069SKrz+fXyz9zxu2LnbEGdoWwJ3IGGzytD8bVzviI3LIRMRg65L/5agwarTxJmTjX/nCrfKkm/CQbb+y/6tEng4nIzUdUxv9S0jjEZ15a9NUOnw7FAtHmyLn9XEgH+LvWUQZggWzD7i3UFsdwEoIYWwIOwlMAJpJKWsBx4BhOU8WQrgDEwFvoAHwUp703YCGQBv0BiDAGGCflNJLSjn7kZcoDw4dfbB8pTyR8zfo82ykxapuFa5+spSz/iMxfdEFxy5+jzsbJcbTUH6tVsPkeRNYu2Q9EVciEEIwZPI7zPv48c9h0mq1fDp/Mqu/X8v1K7l7BVq2b8quPwLJzHzy77fJ8UlsHb+EN+YOpffaScRdu0VmxpPNR4M3GlPu5QpsWrjhsaT/NNS9gvDp1YJfPlnK2PqDWPPJUnp/Puix6erXZQj1q7fExNSYeo2ye3xnT/uWxl6vs/HXrfTq3/Wx6Vc8mDJe5UnTpRAVeu2xpO9Y8QX8xnRj69glAGi0GmzcHbh2PJQfXp/A9aALNB1fMmsm3uN56RFUziIFcxyoLYSwAVKAIPQGYSNgI1AVOCCEADAB8vad1wX2SCljAIQQa4BKOeI3SCkzgbNCCJeiZEgIMQAYALBw4UJqFiCTGhmjn2xuwMTNgbTI2/nkbBrVwO29zpzrNAGZmq4/N+I2SWfCSbmif6OP23YYy1qVYdWufOfnpWlAK3y66+f5XAq5gIO7I/fcI+xdHYgtIA+Pg5Iq/xt92tO2p96p4lzweZzds3tBnNycuBVZ8IT3kTOGce3SNdYs1jsVWFhZ4PmSJ9+snQWAvZM903/4hDFvTSzUYeTNvm/QoWdbAM6GnMPV3ZkQQ5yLmxM3IwrWPf6LkVy9eI2fv1uTL65F+6Z8Pu7B7yIJkTFY5+its3GzJyEyNo9MLDbu9iRExiC0GkytLR443BO26wRhu/Q9pDW7+yHvYwg2690Kv27NAbh4Ul/37mHv6kBsVExhpxZItQY1aDekM592mUi6oW4UhZKqe74BLWloaHvhIRewd3fgH0NcKVcHYiNzlz82Mga7HPfMzs2BOMM1qtfJN8tx5PimgwRMf4cH0bPfm3QN0C+wffLEWdzcsx9nru7OREUW7vCSmpLKzi17aNrahwN7cveAb1y7hcU/f803MxY+MA/PG0M3TwPgWshFSrnbc2/2nq2rPfF52l98ZCw2btm9wrZu9kUe8q/Rth4hG/MPCwMk5knXupht39rVnk6LPuD3YQuIu6IfxdDFJpKalMz5LfoRinObDvNKV58i5fVx8az28BUX1SNYAFLKNOAS0Bf4C30PoR9QwRC+w9Bz5yWlrCql7F9MFSk5jou0L6GUcpGUso6Uss6AAQVPgr8bHIappxsmZZwRxkbYt29I7PbcHlcW1TwpO30QYW9NI/32nRznXsDI1gIje31XvHWDl0kOvVqkwuxavpVJ/iOY5D+CoO1HaNBR33jL16yILiGpwLmAj4OSKv/6H3+jX4uB9GsxkH3bDtCqcwsAqtaqQmL8XW7fzG+MvD3qLSytLflm8rfZeUi4S9uXO9LFuyddvHtyNujsfY1AgDVL12c5eARu2Yf/m60AqF6rKokJidy+md8YGTT6baxsLPly0jf54spWeBHrUtacPHb6geW+EXIRe09XbMs4oTHWUrWtN6E7jueSCdsZRI1OjQGo4l+X8L/OPDBdCwf9PTCzsaB2QHOCV+0uVHbnsq2M9x/OeP/hHN9+hIadfAEoX7MSSQlJBc4FLIyy1Tzp99k7zOr/GfG3i+esUVJ1L3D5Nqb6j2Sq/0iCtx/F29D2PA1tLz5P24uPjkOXoMOzZkUAvDv6EGLIZ9zNGCp5633dXqpfnZvhkQ/Uv2LJGtr59aCdXw92bgmkQ1e9t6lX7eokxCcSncfr18LSPGveoFarxbd5Qy6GhQNQtlyZLLlmrX24eCG8SNfgeeOeI8fZ7ceo2VE/cFWmZgWSE3Qk5LnfCdFxpCToKFOzAgA1Ozbi7+3H86WZFyEEL7/uTUgB8wNB3/btcrT9Km29CduReypF2M4gqnfS5+8l/7pZnsGmNha8+cNwdn++muvHcq+ocGHnCcrWqwKAR4Nq3Aq7/sC8Pk5Uj6BiHzAC6AecAmah7yk8BMwTQlSQUl4QQlgCL0gpc/5aHwW+EkLYAQlAJ0Ma9yMB+HezmTMyuTLhOyqvnAwaDbdW7yI59CruI7qTFHKBuB1HKT2xD1pLMyosHAlAyvVoLrz1GWRmcvXjH6m8+iMQgqRT/xC9ckexsxCyO4gafrX4Ys88UnQpLB45Lyvu480zmeQ/AoAuYwKo174RJuamzD64iD2rd7Lhq1/wrFGe9xaOxtLWkppN69Dxw26Ma/HBM1P+g7sO493kNVYdWE6yLpnPhn2RFbdk+0L6tRiIk5sjfd7vRXjYZb7fph8GXvfDb/zx8+Zi68vJgV0HadDUmw0HV5GsS+ajDz/LiluxYwk9m/fD2c2J/h/04VJYOD9t/x6AX35Yx28r/wD0w8LbNzy4Jwr08362TVpK92Wj0Wg1hPyyh1th12k8rBMRJy8RtjOI4NWBtJ89iEF7viQ57i7rh8zJOn/w/q8wtTZHa2xEpRZ1+DlgOrfCrtNicgDOVcsCsP/rdcRcerBBAhD853Fe8avFl3u/JdWwfMw9Pt38JeP99V7U3cYGUL99Y0zMTfnm0HcErtrJuq9W031cb8wszHjvW30dvX3jFrPe/qxAXfl4Cure6d1BvOxXk6l75pCqS+XHHG1vwuYvmOqv1/vzxO/oM3MwJmYmnA4M5nSgvvd1+ZiFdJ38FhojDekpafw0tni9cYE79uPTrAG7jvyGTpfMmPemZMVt3L2Sdn49MLcwZ8HyWZiYmKDRCA4dOMbPS/XbRo6cOBTP8mXJzJTcuBbBpBHTin0NCmPk5OkcPXGSuLh4mnboxbv9A+jUtuUjS78kOL87mMp+XozYM5s0XQprR2bfr6GbpzHHfxwAv01cQueZ72BsZkJoYAjnA/WOalVb1qHdlD5Y2tvQZ8koIv6+zA+99TOVPF57iTsRt4m9ejO/YvRtf8ekH+m2bBRCq+Gkoe03MrT9CzuDCFm9h7az3+GdPV+ii0vktyH69li7T3PsPFxo+N4bNHxP35u8KuBzkm7Hs3v6KtrOHkSzSb1Iiklg04hFj+36FYWHcVp8FhHyOSlocRFCNAW2AqWklHeFEKHAAinlLCFEE+BzwNQgPkFKuVEIEQiMkFIeMwzljgRigHPANSnleCHEUuAPKeVag55EKeW9OYjbAAdg6QPmCcqS3u9U7TWs9houCdRew2qvYbXX8HO913CRRtAeFb3Kdiy2gfTT5XVPNI+PAtUjWAhSyl2AcY7vlXIc/wnkW9NCSumb4+tKKeUiIYQRsB7YYJDpm+ccK8P/NKDJoyuBQqFQKBSKh+VZXRewuChD8PExRQjRDDADtmMwBBUKhUKhUDz9PC/OIsoQfExIKUeUdB4UCoVCoVA8HM+q80dxUV7DCoVCoVAoFM8pqkdQoVAoFAqFIg/PyxxB5TX8bKJumkKhUCieN56oR27nsu2K/Vu79vJG5TWsUCgUCoVC8azzvMwRVIagQqFQKBQKRR6elxFTZQgqFAqFQqFQ5OF5mSOoDEGFQqFQKBSKPKihYYVCoVAoFIrnFLWg9H8cIcQUIBGwAfZKKXc+Rl3jpJSPbgd1hUKhUCgUj5XnZWj4uV9QWko56XEagQbGFfcEIYT2cWREoVAoFArFg5FSFvvzLPJcGYJCiPFCiFAhxH6gsiFsqRCis+F4khDiqBDitBBikRBCGMIDhRCzhRDHhBB/CyFeFUKsE0KECSGm5ki/lxDiiBAiWAixUAihFUJMB8wNYSsKkzOEJwohvhRChAD1nvDlUSgUCoVCYSDzIT7PIs+NISiEqA10A7wAf+DVAsTmSilflVJWB8yBNjniUqWUdYAFwG/AYKA60FcI4SCEqAJ0BRpIKb2ADKCnlHIMoJNSekkpexYmZ9BhCRyWUr4ipdz/aK+AQqFQKBSKoiIf4u9Z5LkxBIFGwHopZZKUMh7YWICMnxDisBDiFNAEqJYj7p78KeCMlDJCSpkCXATKAE2B2sBRIUSw4Xu5AnTcTy4D+LWgzAshBhh6JI8tWrSo6KVWKBQKhUJRbDKRxf48izy3ziJ5EUKYAd8CdaSUVw3OJGY5RFIM/zNzHN/7boR+65sfpZRjH6TqPnLJUsqMgk6SUi4C7lmAz2ZtUygUCoXiGeFZnfNXXJ6nHsG9QAchhLkQwhpomyf+ntF3SwhhBXQuZvq7gM5CCGcAIYS9EKKsIS5NCGFcBDmFQqFQKBRPAapH8D+GlDJICLEaCAFuAkfzxMcJIb4DTgOReeOLkP5ZIcQEYLsQQgOkoZ9HeBl9T95JIUSQYZ5gYXIKhUKhUCieAp7VOX/FRTwvXZ//MdRNUygUCsXzhniSyhq/0LTYv7V7r+966DwKIeyB1YAHEA50kVLG5pHxAuajXwM5A/hUSrnaELcU8AHuGMT7SimDH6T3eRoaVigUCoVCoXhaGQPsklJWRD+NbEwBMklAbyllNaAV8JUQolSO+JGGVUq8imIEgjIEFQqFQqFQKPIhH+LzL2kP/Gg4/hHokC9PUoZKKcMMxzfQT3Vz+jdKlSGoUCgUCoVCkYcScBZxkVJGGI4jAZf7CQsh6gImwD85gj8VQhLHsDEAACAASURBVJw0bIJhWhSlz42ziEKhUCgUCkVReRjDTggxABiQI2iRYfm3e/E7AdcCTh2f84uUUgohCs2AEMINWA70kVLe29RkLHoD0gS9k+po4OMH5VkZggqFQqFQKBR5eBhn2jxr/hYU36ywOCFElBDCTUoZYTD0bhYiZwNsAsZLKQ/lSPteb2KKEOIHYERR8qwMwWeUCR49Skz31PCVJaZ/avhKAKaU7fkAycfDlMsrAPi4hPRPMugv6fJP8igZ/R+Hl/z1/6SEdANMvLyixO496O9/SV170F//sSX07PnM8OwpadJuXSwRvcaO+g2wSvrZ8yQpgXUBNwJ9gOmG/7/lFRBCmADrgWVSyrV54u4ZkQL9/MLTRVGq5ggqFAqFQqFQ5KEE9hqeDjQXQoQBzQzfEULUEUIsNsh0ARoDfYUQwYaPlyFuhWGL3FOAIzC1KEpVj6BCoVAoFApFHp70OstSyttA0wLCjwFvG45/An4q5PwmD6NXGYIKhUKhUCgUeXhWt4wrLsoQVCgUCoVCocjD87LzmjIEn2Fen9ybSn5epOlS+XXEAiLOhOeTca/uSceZAzE2MyF0dzCbPloGgLmtJV3nvkep0k7EXYtm1eBvSI6/i6d3FXouGk7sNb2z0tmtR9n9zXocy7nRde7QrHQnnFpMxNnL2LjYPVL9ZjaWdPxiAPYvupCeksa6UQu5GXoNWzd7Os0alJXua2+15PAP2wCo4FODVpMD0Gg1BK0KZP/833PlQWtixBuzBuH+sgdJsYmsHTKHuGu3AGj4bjtqdfUhMyOTLVOW8c/eUxiZGvPWLxPRmhihMdJydvMRAmf/mivNd//8Ao1Ww4lVgRwoQF+HWYNwe9kDnUHfHYO+Bu+2o6ZB3zaDPoDX+reiZjc/kJKb567y28hFZKSk4VG/Ks3H90BrbETEqUtZOoYY9D+K8gKY2VjQ7vP/4VypNBLJbyMXcS3oAlX96+L7YSecKrjzXbtJ+e4vgP/k3lT0e4U0XSrrRywssB64Vfeg48x3MDIzJmx3CJtz1IMuc4dm1YPVg78hOT6JGu3r0/CdtgghSLmr4/cJPxD195V86Zb3qUFLw70vzr0wL2XFmwvex71GOYLX7mXrpB+zzvEb+SY1OjbC3NaS6VX7F1jmvPqFQf9fBehvn0P/rzn0dzboD8mjv1q7ejQc3B4pJQlRsWz44Ft0sYlZ8Y+6vt9DaAQD/phKQmQsK/vNBKBun+Z492uFvYcrM7wG/qtrDgXXf4dybnTK8Wyxe9GZwFlrObxkK77DO1O5eW1kpuTu7fgC70Hbyb2p7OdFqi6VtSMWcKOQ59CbhufQ+d3B/G6of9X9X6PZB/r6/W37iVw3tDGv9g1oNPD1rPNdX3qxQN3PChOmzWLvgSPY25Viw08LinWuMDZHa+lQaPzD1LfC6rBng2q0GNcdITSkJiWzYfhCYi5HYeuepf8EoEW/48bm4l2F4vO89Ag+984iQghfIcQfRZB7yTAp84QQovxD6Kj/8LnMTyVfLxw8XZn9f/bOOzyKqvvjn5MQSiQBAkho0nsvIggIKEWQptgbWH4qAsqLooIKqIiKCNKkKHZ9LYigggV4aYJICUGKNCnSWyokBJKc3x93drPZbAJodjaQ+TxPnmRmZ+Z7Z+Zk9sy9557Tfghzh79Hz1cf9Lldz9EPMnfYe0xoP4SSVSKp0b4RANf178nuVZt5u8MQdq/azHWP93Dvs3ftNqZ2G87UbsNZMulbAE7sPuxeB5Ceng7pmuv67Qb04vDWfUzp+hyzn5rGTSPvByAtNZ0fR2fMGmtxfydK1yiPBAndXunHZ33HMrXjM9Tv2YrSNcpnakPTO9pzJv40k9o9xepZP9LxubsAKF2jPPV7tGRqp2f5tO9Ybhr9ABIkpKac46O7XmV61+FM7zqc6u0aUqFJ9UzH/LzvWN7p+Az1erailJdekzvakxx/mileeqVqlKdej5ZM6/Qsn/cdS1dLL6xMCVo80IX3ur/A9M7PIcFB1O/RCkTo9dZjfDNwCtM7P0f8wRNujdw8X4AbR97HrmUbmXLDUKbfOIwTuw4BcGzHAb589G32/b7N5/2t0b4RJatEMrH9U3w3fBY9Xn3A53Y9Rj/IvGHvMbH9U5nsoG3/nuxetYWJHZ5i96ottH28JwCx+4/z/h2vMPXG51g2eS69XsvqkEmQ0PWVfv/oXqSmnGPJuK9Z+GrWmaA7Fm1gVi/fTq+3/o2W/jTrXnjrN7buxdR2T/H7rB+5wUN/qQ99CQ6iy8j7+PjO0cy8cRjHtu3n6r6dM22T2/buouWDN7rvu4u/1+3g43teI27/cfe6f3rNs7P/k7sPM7PbcGZ2G8673Z/nXHIK235eB8CqGfOZceMwZnYbzs7FG7Lcg1rWc3Bc+yF8O/w9emfzHOo9+kHmDHuPcdZzqKZlf0e37+fTxyawd01m+46et5LJ3YYzudtwvvrPNGI9zv9SpHe3Tkwff0HzBrIQXLQUqQlH3Mv/1t5yemZ3H/0A3zz5DtO7DWfTvFVcN8gU1nD9BpoAdwLv/KOTuUgCMFkkIFySjqCIBKInszcwW1WbqOpf5906M+2Bi3IEz3eOdTo3I3rOCgAObNhF4bBQipYunmmboqWLUyisCAc27AIges4K6nZuDkDtTs2Imm32j5q9gjqdml9M80g7m8ra/y7Odf0ra5Rn96otAJz46xAlKpTmilLhnDoel6mn6fiuQ4SVKUH5xtWI2XuU2P3HSTuXxubvV1OrU7NM7ajVqRnR3ywHYOuCNVRtXc+9fvP3q0k7m0rc/uPE7D1K+cbGxz+blAJAcIFggkOCswwRxO0/Tvq5NLZko/eHh14VD70tHnqxHnpBwcEUKFwQCQ4ipEghEo/GElqiKGnnUonZYx7Cu1dkZALIzfMtFFaEStfUJuqLpebenkvjTEKSuQe7DnFy92Gyo/Y/tMPanU2ba3dqygbLDjbMXkEd61z2R+10t2F/1E7CIyOyaJdvXI3YvUf/0b04l5zC/nU7SE05l+W4Bzfs4tSxuGzP2UW5C9TfeBH6IgIiFAwtDEChokVIPJqp5rxf7D08MoIa1zcm6oslmY51ZMs+d++Oi396zXOyfxdVWtcn9u9j7pees6eS3Z+FhGYtklCnczM2WPa337K/MC/7C7Psb79lfxs8nkPH/zrEiRzsG6BRz2v54/vfctwmr9O8cQOKhYdd9H5SoBCadg7SU93r/q295fTMVlUKFS0CQKGwULftez1/iwGZ31j8RLrqRf9ciuRJR1BE7rdKpGwUkU+sdR+KyHQR+R0YKyKjRORpj302i0hl6+dPEXlXRLaIyC8iUsTaprqILLKOG+XRs1dURGaLyDYR+czKwePZnm7AYKC/iCyx1s0VkfWWxiMe295oHXujiCwWkcrAY8B/rB7FtlYb/2ed42IRucrXOeZ0jcLKlCD+UIx7OeFIDOGRJTJtEx5ZgoTDGdvEH44hrIzZpmjpYpw6br7sTh2Po2jpYu7trmpagwE/vsb9Hz7DlV5vfy6SYhL9on/kz7+pe+PVAJRvVI1i5UtRLDLrsETZepU4GP0X4ZERJBw+mdGOw9m0w2prelo6ZxKTCC1R1Gqfx75HYtwOhwQJjy0Yw9Coafy1YjMHo337/gmHYwjz0guLzLg3aukVKVGUMB96YZERJB6N5beZ8xn82ySGrJ1KSmISu1dsIikmkaDgYMo2qAJAnW4tfOr/2/MtUfFKkk4m0nvcozy64FV6vvEwIUUuqDIR4WUiiD/kfcyc7SDhcAzhZcx1vsLLDq7wsEMXze5oz86lG7OsD4uMIN7r3l/ovcgNfNmeL/2Ei9BPT03jxxc+4NGfX2fw2imUqlGe6C+XZtrGH/Z+48j7WDjmv2j6+b/I/uk1z87+PanXsyWbv1uVaV2Hobfx5G+TaNA767t0sTIliPN4DsVf4HOoWJnM2+REw+4t2ejVpnxDUIFMTiDwr+0tp2f2d8++xz0fDmXI6sk0uqWNe8h46dtzXJsfwAwJZ8QS+BGnRzBAiEg94AXgelVtBDzp8XEF4FpVHXKew9QApqpqPSAO6GOt/8xa3wjTQ+d6FWyCcfTqAlWB1p4HU9UFwHRggqp2sFY/qKrNgObAEyJSUkRKA+8CfSyN21R1r8e+jVV1BTAZ+EhVG1ptmnS+cxSRR0RknYismzkz26Tl/xzLfg9t3su41k8wteswVn/4C3fPfCrTZsEhwQAkHov1PkKu6C+f9h1Fwq9gwIIxtOrbmcNb9pphaC9+evkTUjx6C3IbTVemdxvO+JaDKN+4GlfWrOA3rcLhodTq3IxJbQYzocVAQooUosHNxgTnDJpMlxH38tC8lzl7+oxf9IOCgyhbvzJrP13EjG7PczYphTYeoQK24vUcrdKqLk3vaM8vr38RmPbYTFCBYJrdewPvdhvO21cP5Ni2v2k9oJdfNWte34TTJ+M5vHmvX3XOR1BIMLU6NmPr/N8zrV/y5tdMbPUEm+ba74xVbFyNc8kpHN1xwHbt/Eirh7vyWb83Gd9yEBu+XkaXF03y6gY9W7k2qQB0w5RW87v/4vQIBo7rga9V9QSAqsZ4fPa1qqZdwDH2qGq09fd6oLKIhAHlVfVb67hnVDXJ2maNqh6w6vVFA5UvQOMJEdkIrAYqYpzPlsByVd3jo+2etAJcwUGfAG3Od46qOlNVP1DVAo888ginjsVRrFzG23R4ZAQJRzI7ZwlHYgkvm7FNsbIR7q72U8fj3UN4RUsX59SJeABSTiW7h0V3LI0mOCSY0BJmSOGa+zrx5P/eAiDuwAm/6c8ZOoOp3YYze8g0rigZTuzfZuJKUIFg97H+/GmdpRFDeNmMHsPwstm0w2prUHAQhcNCSYo9ZbXPY9/ICBKOZL5lZxKS2LtqK9XbN8QX4WUjSPTSSzwS6742Yuklx54i0Yde4pEYqrSpT9z+4yTFJJKemsa2n9ZSoVkNAA5E7eLD215hVq8RPuP0cuN8E47EkHA4xt3ruXXBGsrWr+zzfF30XzCG/gvGkHgszjOQ+4LsILxsBAlHzXU+7WUHpy07AChTuyK9Xn+Yz/9vPMlxp/Am8UgMxbzu/YXei9zAl+350g+/CP0ydSsBuG1+6w+/u20hQyd37b1i85rU6tiMwb++za2TB1Ll2rrc8nZ/suOfXvPs7N9F9faNObx5L6dP+J4UsmnuSgBa3teJQQvGMGjBGBKOxVHc4zlU7AKfQ/FHL+xFtmGPVmz87tIeFv5XpKeaXkEPcuN548uGQyPCKFPnKvdzaMv3q6nYrCZg4k49+A0ojEmY7FecHsG8yWmPv1PJ3P7CHn+nePydxvlnR1/U9iLSHpP1u5XV87fBS//fcDqHz6YCjQG2/rKOxre0BaBCk+qkJCa7h9hcnDoeR0pisnuiQ+Nb2vLnL+sB2LYoiqa3mv2b3tqWbQvNes8h4vKNqiEiJMUmAvD7Jws54HIW/KRfODzU3evY/M4O7P19m7vn7+Y3HsGbQxt3U7JKJMUrliY4JJj6PVqy3TqWi+2Lomjc5zoA6nZrwR4rBnH7wvXU79GS4IIFKF6xNCWrRHIw+i9CI8IoHB4KQIFCIVRtW58TuzLHERWvWJqgkGDq9WjJDh96DX3o7Vi4nnoeehGWXsKhk5RvUp0ChQsCZuacK2g/tGQ4YGbmte7fPZN+bp3vqePxxB8+ScmqZQGo2roex3cezHKtPZnWbTjTug1nm5cdnLlAO9jmYQdNLDtocmtbti2MAqBYuZLcOX0w3/xnGif3HMEXBzfuJsK69xd7L3KDQxegv2NRFI089PeeRz/xSAylapQnNMK8fBnbyxwOldv2vnjsl4xvOYi32wxm9qAp7Fm1lTmDp2Xbxn96zbOzfxf1e7bKMiwcUbmM++9aVlzp6k8WuidybP1lHU0s+6to2V+il/0lWvZX0bK/Jh7PoZwQERrc1JKNl3h84L9BU1OQ4JBMzuC/tbfsntln4k9TOCyUklUiAWP7x3eZ55Bn+AlQB/N96/cZPPmlRzAvpo/5H/CtiIxX1ZMiEpFNz9peoDuAiDQFquR0UFVNFJEDItJbVeeKSCHMNPR/QjEgVlWTRKQ2picQTO/gOyJSRVX3eLQ9EQj32H8VZubTJ8A9wIqLbcCOJdHU7NCYIcsmcDY5hTlDZ7g/G7BgjHt273cvvk+fcY+Z9C1LN7JjqekoXT7tO+6c+gRNb+9A/METfDFgIgD1ul5Di3s7kp6WRuqZs3w5aLL7uCFFClG9TX2/6peuXp4+4x5DVTm28wDfPvMuAJWa16JJn7ZujccWjGHxm1+aVCQjPuS+j581KTy+WsbxnQfpMKQPh/7Yw/ZFUWz4cik3T+jPE8veIjnuNLMHmnM6vvMgW+b/zoBFY0lPTWP+ix+i6UrYlcXpPf4xgoKCkCBhyw+/s+N/mWcs3mPpRVt67S29HR56Ay29bzz0ts7/nf6W3o+W3sHov/hzwRoemf8q6WlpHNmyj6jP/wfAtY/eRI0bmiAirP90MVVam+ufm+cL8OPIj+kz8XGCQwoQ+/cx5j5t7mftLs3p9lJfQiPCuPuDoT7tsEaHxgxeNt6kj/Gwg/4LxjDNsoMfXvyAm630HTuXbnTH/K2Y9j13TB1E09vbE3fwBF8NMFES7Z+4mdASYXQfbWYhp6emMaPni5m0NS2dH0d8+I/uBcATv75NobAiBIcUoHbn5nx63+uc2HmQjsPuon6vawkpUpDBqyez4YslLMuIUcqk/9OID7nb0t9o6bcb0ofDHvq9J/RngKU/x0N/kId+rc7N+czSX/72t/T9+kXSzqURf/AE3z01I5Nubtt7TlzTrwutH+tO0dLF6P/z68ZW/uE1z87+wTxbqratz/zhszLp3/DcnZSsWhZN10yz5l1sXxJNrQ6NeXrZBM4lpzDbw/4GLRjDZMv+5r34Prd6PIe2W8+hul2a03NUX66ICKfv+89w+M99fHC/Oc/K19Qm/vBJYvcfy/EaXQoMHfk6azf8QVxcAjf0vpfHH7qPPj26XNC+aadOUKBYpHv539qboj5tGOC7597j9umD0fR0zsSfZt5QEwb1y+jPXJkGNmICSPqRJZDE4Z8ieTFhooj0BYZieuc2qGo/EfkQ+MFVZNmaADIPKA/8jhlu7Wod4gdVrW9t9zRQVFVHiUgNYAamS/kccBtwFfC0qrqcyinAOlX90KtNo4BTqjrOciLnYoaQtwPFgVGqulREugJjML2Vx1S1k4jUBGYD6Zgg17+BD6x2HAceUNW/vc8xB/SFABVeBxi993MCpT/aKvwe6MLnLwdIf4SlH+jzH1E5MPov7w389X8lQNoAL+77LGD3Hsz9D9S1B3P9hwXo2fPa3qyphgLBuRO7A6IbUqoqEPBnj5xvu9ykRulmF+0g7Ty+3tY25gZ5sUcQVf0I+MhrXT+v5WQgc4KtDOp7bDfO4++dmBhET3YDSz22GZhNm0Z5/J1ChtPpvd2PwI9e63YA3kFmWWoCep+jg4ODg4ODQ2C4VId6L5Y86Qg6ODg4ODg4OASSS3Xyx8XiOIIODg4ODg4ODl6YRCKXP44j6ODg4ODg4ODgRX6pNZwnJ4s4nBfnpjk4ODg45DdsnYhxVUSDi/6u/TtmkzNZxMHBwcHBwcHhUie/9Ag6juAlSqDSd4BJ4RHo9DGBTt8S6BQWgdYPdPqYQOoHOn3KqwHUf37fZwF/9rxW6d6AaA/b92lAdL0JdOqoQKevsZP8MmLqOIIODg4ODg4ODl446WMcHBwcHBwcHPIpTvoYBwcHBwcHB4d8ijM07JDn6Tbyfmp0aGRqvD49g8Nb9mbZpmz9ytwy7jEKFA4xdXlf+hiAIsWu4PYpgyheoTRxB47z5YBJnElIolS1stz85qOUrVeZxeO+YuW7C9zHavXQjTS7owMAt08aSHLcKapf15BzyWf55unpPvXL1a/CLVaN2R1LopnvoX/HlCfc+l8MmMSZhNMUCivCbRMGUKx8SYKCg1n57nyivl4GQJfn7nIft8uo+/l5lDlWtXYN6TLyPoKCg9jwxVJWTvs+UxuCCxag9/j+lG1QmeTYU8weOJn4AycoUrwot01/knINqxI9ezk/jTDFbAoULsht056gxFVlSE9PZ+eiKBa/8WWO96LHyPup1aExZ5PPMvvp6RzK5lrcZl2L7Uui+d66FvW7XUPHwX0oXb0c7/R6kYOb9gAQVCCYPm/8H+XqVSaoQDBRcy6sJPW/aUvXYXdTu2NT0s6mEvP3UWYPncGZhCT3cV2UrVc5V+wNfNtxZN1K9Bj9AIWKFiE9LZ3lU+ex+YfVbp1n1r9D4bBQziWn8PF9r3Pwjz3/ui052X7h8FB6vf5/ADzx20REIe1c6kXZG0Drx3vS5I52pKel8/Ooj/lr+SYArnnoRprc2QFUObZtP/OGziQt5RyVr61Lp+fvJjikAIc3ZT3Hqu0a0nnkfabu7xdL+c1HW3qO70+k1ZZvPWz/Fsv2/5i9nJ9HZBRyqtO9Ja0H9iIoOIidizew77etbg1fBBcswC3j+1OufmWS407x1cDJxFnn2/bxnjS9vR2als6Clz5ml3W+1ds1pNsIc8yoL5eywmp3i/s70erBGylZOZLXmzxKUuwpACq3rMPdM4cA8OCCV9n+01pWTppL1XYN6Wj970d/sZTVPs6/+/jHKNugCsmxicwdOIX4Ayeo3KY+7Z+7g+CQAqSdS2XJmP+yb9VWAIJCgun8cl8qtayDpivLxn3N9h/X+jz3vEBwwQLcPL4/5RpUJsmyN9f1b/N4T5pa9vajh71Vb9eQG63rFvXFUn61rluV1vXoPPwuRII4m3SGuU/NIGbfUYqVK+nWK1C8PGmnY9BzyRfcxhfGjGf5yjVElCjO3E+n5+LZ+5f8MlnE9392gBGR3iJS12N5qYg0v4j9K4vI3R7LzUVkUm630x+IyF4RKXW+7Wq0b0TJKpFMbP8U3w2fRY9XH/C5XY/RDzJv2HtMbP8UJatEugp307Z/T3av2sLEDk+xe9UW2j7eE4DkuNPMH/UxK9+dn+k4YWVK0LJfF6b3eAGA8MgIKrWozYT2Q5g7/D16vvqgT/2eox9k7rD3mNB+SCb96/r3ZPeqzbzdYQi7V23musd7ANDyvs4c23WAqV2HMevOV7jx+XsIDgmmYtMaXNW8pvu45RtVpVLLOkiQ0PWVfnzedyzvdHyGej1bUapG+UxtaHJHe5LjTzOl3VOsnvUjHS2HMjXlHEvGfc3CV7PWEP1t5gLeuWEoM7sNp2LzmlS32u2LWu0bU7JKJOPaD+Hb4e/RO5tr0Xv0g8wZ9h7jrGtR0zrm0e37+fSxCexdsy3T9g26XUNwwRAm3vgcU7o/zzV335BtG3KrLbt+3cTEzs8wqetznNhzmPaWXbiO6yK37C07Oz6XnMI3Q6YxpfOzfNL3DbqOuJfC4aFunRO7DvFyzX78+dNabpvyRK60JTvbB+g68j52LtsIgKam8d+H37poeytVozz1erRkWqdn+bzvWLqOfgAJEsLKlKDFA114r/sLTO/8HBIcRP0erUCEXm89xjcDpzC983PEHzyRSUeChBtf6ccXfccyI5u2NL6jPWfiTzOt3VOsmfUj13vY/rJxX7PYy/aLFC/KDcPv4vO7xzCz07MULV2M7m8+4tYAKF09s0bT243GxPZPsWrWj3SyNEpXL0+DHi2Z0vlZPu47lu6vmPOVIKH7y/34pN9YpnR6hgY9W7mP+ff6HXx072vEHjie5R7sW7sdgPe7Pc/KSXORIKHzK335qu9YZnZ8hro9W1KyRrlM+zSyzn96u6dYM+sn2j93p7nXsYnMfvAtZnUZxg9DZtBjwmPufVoP7EXSyQRmdBjKzI7P8vfqP7O0JZCU9rrHTa1znORlb6VrlKd+j5ZM7fQsn/Ydy02jM65/t1f68VnfsUzt+Az1e7ZyH7P76Af45sl3mN5tOJvmreK6Qb0B3L8BUhOPEVz0vF9RmejdrRPTx4/+F2cdGFT1on8uRfKkIwj0Buqed6vsqQy4HUFVXaeqvr8tLlFqd25GtNVDdGDDLgqHhVK0dPFM2xQtXZxCYUU4sGEXANFzVlC7czOzf6embJht9t8wewV1Opn1p08mcOiP3aSnpmXRDAoOJqRwQQCKlS/J9sUbLlq/bufmln4zoiz9qNkrqNPJrFeUQlcUAaBQaGGS406RnmqyuxcoVDCjLQWCOX0invKNqxG79yhx+4+Tfi6NLd+vppZ1Li5qdWrGH98sB2DrgjVUaV0PMM7G/nU7SE05l2n71DNn2fub6R1IP5fG4c17CYuMyHI9XNTp3IwN1r3Yb12LMK9rEWZdi/3WtdjgcS2O/3WIE7sP+ziyUrBIIYKCgwgpXJC0s6nZtiG32rJzxSbS08z1/nvDLopFlsxyXCDX7C07Oz655wgxe48CkHgsjtMnEwiNCHNrrf1ssftYRUuF+9X2C4UVoXKL2kR9uRSAmD1HObb174u2t1qdmrHl+9WknU0lbv9xYvcepXzjaoD53ypQuCASHERIkUIkHo0ltERR0s6lErPnCAC7V2zOpFOucTViPGx/6/erqenVlhoebflzwRoqe9j+AR+2X/yqK4nZe4SkmEQA4g6cID0tza3humee1OncjGiP8616bT33dptc53vgODH7jlKhcTUqNK5GzL6jxO4/Ttq5NDZ9v9p9zCNb9rl7s85HOa///T99nn9TNn9j7vU2j/M/umUfp47FAXBixwEKFC5IcEEzQNbw9nb8NtXqWVQl2eqVzCv4srdM19/D3jZ72FuMZW/lLbtxXf/NHjasqhQqaj1/w0JJPBrrXu9CJAhNz/r9kBPNGzegWHjY+TfMY6SrXvTPpUiuO4IiMldE1ovIFhF5xGN9ZxH5TUSiRORrESlqrX9dRLaKyB8iMk5ErgV6Am+KSLSIVLMOen2ojwAAIABJREFUcZuIrBGRHSLS1to3WETeFJG11v6PWtu+DrS19v+PiLQXkR+sfYqKyAcissnap4+PcxhhHXOziMwUEbHWLxWRidZxN4tIC2v9KBH5xDq/nSLyfx7HGurRvpfOd50ulPAyEcQfOuleTjgSQ3hkiczbRJYg4XBMxjaHYwgvYxyaK0oX49Rx8yA8dTyOK0oXy1Ev8WgsK9+dz5BVpmM1ODiYHUuiL0o//nAMYWXMNkW99Ita+qs/+oXS1cvx7JqpDPz5Dea/9DGqyv6onez5bYv7WH8t/4MTuw4RFhlB/GGP63A4hjCvdoRFliD+kGmHpqVzJjGJIiWK5ni+LgqFh1KzY1P2rNyc7TbFypQg7pDHeV7gtShWJvM23mxasIazySkMW/MOz66axHIfPVX+bEvz29qzfWm0z+Pmlr1diB2Xb1SV4JACxO475l4XUqQQAHW7tUAVv9p+iYpXcvpkIjePM4+XYhVKufUvxt7CIkuQcDjzuYZFRpB4NJbfZs5n8G+TGLJ2KimJSexesYmkmESCgoMp26AKAHW6tfDSiSDxAmw/waMtKeex/di9RyhZtRzFKpRCgoOo1q5BlvT14V62ElYm43zTLY3QEkUJL1Mi0701//8RhHnf88MxWY7pi4pNqwNw+0dDKVWjPEW97nHiPzz/Wt2u5sjmvaSdTaWQ1et83dO38sD80fR+ZxChpcLP2zY78WnrHtf/jOv6+7C38MgIwiMjMq8/nPE/992z73HPh0MZsnoyjW5p4x4yXvr2HPf2weGRpJ26MGf9UsfpEfznPKiqzYDmwBMiUtIa6nwB6KiqTYF1wBARKQncDNRT1YbAaFVdBXwHDFXVxqr6l3XcAqraAhgMjLTWPQTEq+rVwNXA/4lIFeA5YIW1/wSv9r1o7dPA0vyfj3OYoqpXq2p9oAjQ3eOzUFVtDDwOvO+xviFwPdAKGCEi5USkM1ADaAE0BpqJyHXZXafzX1o/ch77LRweSu1OzZjQdjCA+ZJo2yDX9Wtc15DDW/fxRosBTO02jB4v96NQ0SJEVCqTaUiqyrX1uOrqWrmn7wMJDqLP5IGs+eBn4vZnHaryNxUbVUPT0nntmgGMbTuYtg93s027/YBepKelET13pX8ELvB5WbR0cfqM78+3Q2dmesi27NuZR+a+zNlTZy78YP+wLUHBQZStX5m1ny4CID01jdZWKENuUDg8lFqdmzGpzWAmtBhISJFCNLi5NQBzBk2my4h7eWjey5w9fSbXNLPjTEISPz3/PjdPGcT9s0dw+mRinvhyO7x5L+NbPwnA+g9/oc+7/8mV45aqUZ4Oz93JT8PMozwoOIjwciU5sH4HH9z0AgejdnHD84HJ2RkIWj3clc/6vcn4loPY8PUyurxochY26NnKvU1awhEKhF0ZqCbaSjp60T+XIv5wBJ8QkY3AaqAixhFqiRnqXSki0UBfoBIQD5wBZonILUBSDsd1vZKsxwz9AnQG7reO+TtQ0tLLiY7AVNeCqsb62KaDiPwuIpswzl09j8/+a+23HAgXEdeY1DxVTVbVE8ASjPPX2frZAEQBtT3a5+s6ZYuIPDJs2LB927ZtSzpx4gSJx+IyBfCGR0aQcCTzqSQciSW8bMaQZnjZCBKOmjfH08fj3cNpRUsX5/SJ+JzkqdamPgUKhdD302GAGc68qmlGky9Ev1jZCPdQwykv/VOWftPb2rH1JxOY7Ro+KlWtHHW7XO0eygTYtWQjFZrWIPFIDMXKelyHshEkerUj8UgsxcqZdkhwEIXDQi9ouKf76w9xcs8Rfn//pyyftbyvE4MWjGHQgjEkHIujeDmP87zAaxF/1JfpZdCo17XsWLaR9NQ0Tp9MYN/6HT63y+22NL31Ourc0JQ9v2/L9ri5ZW8JR2OyteNCRYtw7wdPs2jc15SrX4X+C8a4t1sx/Xtm9h5h4ioVv9p+wpEYEo7EcCDavJOeSz5L2fqV3ce9UHtLPBJLeNnM55p4JIYqbeoTt/84STGJpKemse2ntVRoZv63DkTt4sPbXmFWrxHs+32bl04MYRdg++EebSl0Aba/c/EGPuw9ko9uHsWJHQfAyxFM8LLbxKMZ5xtkaSTFniLhaGyme2v+/2NI9L7nZSOyHNOblFPJnE1KAeCvJRsJKhDMudNnMt3jsIs8/7DICPrMHMz3Q6YT97fpbU6OPcXZpDNs/3EdANvm/04Z617nFXzausf1L+y6/j7szWXL4V52k3AkltCIMMrUuYqDlp1v+X41FZuZuOwmd7R3b6+pKSACklcjy3IPp0fwHyAi7TGOVitVbYRxgApj6gMutHroGqtqXVV9SFVTMQ7TbEyvW9Zv3AxSrN9pZMx2FmCQx3GrqOov//IcCgPvALeqagPgXescXHjfac1hvQCvebSvuqrOyuE6ZYuqznzttdcq1a5dO7RUqVJs+2UdjW9pC0CFJtU5k5jsHu5ycep4HCmJyVRoYoZUGt/Slm2/rAdg26Iomtxq9m9ya1u2LYzK8brEHzpJ4bBQ3rtllGlPWrp7OKFCk+qkXKD+nx76TS39pre2ZdtCsz7u0Emqta4PwBWlwilVtSyxfx8j7tAJqlxTx33sSi1rc2LXQQ5u3E1ElUiKVyxNUEgw9Xq0ZId1LBfbF0XRsI/piK3brQV7Vm3hfHR4+jYKh4Xy80uf+Px89ScLmdxtOJO7DWfrL+toYt2Lita9SPS6FonWtahoXYsmHtciO+IOnXTHW4UUKeTe159tqdmuIdc92p2PHx7Hyvd/9HlcINfsbfvCKJ92HBwSzF0zBrNxzq9s/XENaz5ZyLRuw91ajW9pS3DBAnR8+jYSjsT61fZPHY8n4dBJSlYtC0BElUgSjsRctL3tWLieej1aElywAMUrliaiSiQHo/8i4dBJyjepTgEr/rZK63qc2HUIgNCSZlgyuGABWvfvnknnkGX7xSzbr+ujLTs92lKnWwv2XoDtuzQLh4dSrV0jgoKD3RqA+3/VxbaFUTT2cb7bFq6nget8K5QmonIkB6L/Mv+zlSMpXqE0wSHBNOjRMssxvSnqMXxftlFVJEjY8+sWSnicf50eLdnpdS93Loqifh9zr2t3a+GeGVwoPJTbPniKJW98ycF1OzPts2vRBiq1Ms+ayq3rcWLnwfNeMzvZ7sPefF3/7QvXU9/D3kpa9nZo425KWs/M4JBg6vdoyfaF6zkTf5rCYaHuSWFV29bn+C5z7p5D+QSHAAKa7v+TdbAFyU0PVkR6AQ+rag8RqQ1EAzcCWzA9eder6i4RuQIoDxzCDLUeE5FiwG5VLSkik4EoVf3AOu5S4GlVXWcNM69T1cpWbF034DZVPSciNYGDmJ638araztq/vbV/dxF5HSisqoOtz0p49gpaPXzbMb2OwZgeu9mqOspqxzZVfUxE2gDTVLWBiIzCTHBpCVyBcexaAvWBV4AbVPWUiJQHzmGGj7NcJ1VdKiJ7geZWz2J26IjK93DTy/2o0c6kb/l26AwOWekl+i8Y4/7SLNegCjdbaUJ2Lt3I/JEmTUSR4kW5Y+ogipUrRdzBE3w1YBLJ8acpWroYj343mkJFi6CaztnTKUzp9Awpp5Lp8J8+1O/ektLVyhE9ZwVnk1Oo3qYBZ5NTmOOhP2DBGKZ66PcZ95hJH7N0Iz+M/NCtf+fUJyhWrhTxB0/wxYCJJMefJuzK4vQZ9xhFryyOiLB82ndsnLsSCRJ6jn6Qq62Zs6vfW8Avr5iSR9U7NKKLlYoi+qtl/DplHu2H9OHQH3vYsSiK4EIh3DyhP5H1KpEcd5pvBk52D/U+8evbFAorQnBIAc4kJPHpfa+TkpjMf36fzPFdB0lLMRM01n78Cxu+WJptibmeL/ejZrtGnEtOYfbQGe4UMIMWjGGydS3KN6jCrR7X4jvrWtTt0pyeo/pyRUQ4yQlJHP5zHx/c/zoFQwtx65uPcWWN8iCw/uvldBt+t0/93GrL00vHE1wwhKQ4M1lg/4ZdzH3+ffdxW93fGYDpPV7IFXsDfNpxw96tufnNRzjm8SX87dMzeNzqFUyOO0XBKwqTFJPIZw+/5Xfbj6xbiV6vP0z5hlXZv34nV5QMB+Gi7a3NwF40vr0d6alp/PLyp+xaamYit/tPH+p1b0l6WhpHtuzj+2ffJe1sKh2H30WNG5ogIqz/dDFdRt6XqcRctQ6N6DTCpAHZ+NUyVk6Zx3VD+nD4jz3stNrSa0J/ytSrxJm403zr0ZYBXrb/3/te58TOg/SeNIAr61YC4NeJc0g5lezWKFGpDCMq38P1/+nDwU172L4oigKFQrhlfH/KWuf79aDJxFoa1w3oRVPrfH985VN2Wudbo30julrHjPpqGcunzgPgmn5daPNod4qWLsbpkwnsXBLNvOfeo8X9nWhxb0eurFmBg1G7WDz6Mw6u30m1Do3oOOJeJDiIP75axqop39HWOv9d1vn3mPAYkfVMapt5A6cQt/841w7qRavHexC756j7Wn5x3xsknUwgvHxJekzoT+HwUJJiEpn/9EwSDp3MUyXmOlj25rr+N0/IuP6zB2Zc/7YDe9HEuv4/edhbjQ6NuNF6Zm74ahkrppjrX7tLczoMuRVNT+dM/GnmDZ1J7P7jlK5RngGLxgKmR/Bi08cMHfk6azf8QVxcAiUjivP4Q/fRp0eXizpvq8ScXNRO/5KioVUu2kE6lbTH1jbmBrntCBYC5mKcqO1AcWCU5eBcD7wBFLI2fwFYC8wjo9dwnKp+JCKtMT1xKcCtwCx8O4JBwGigh7X/cYxDlgT8jBkq/hDjmLkcwaKYoeFmmN7Fl1Q1IxLWnMdo4C7gCLAD2OfhCEYD7YAQTJzfGssRrIoZ3i0FjFXVd61jPQk8bB36FHAvcCCH67SXC3QEA4VTazjwtX4Dre/UGg4MTq1hp9ZwPq81bKuTdUVo5Yt2kE4n7b3kHMFcTSitqilA12w++x9mQoc3LXxsu5LM6WPae3x2AitGUFXTgeHWjzfXey0vtfY5hYlRzBZVfQHjqPriU1dvohd/qOr93itVdSIw0cf22V2nyjm1zcHBwcHBwcH/XKrpYC4Wp7KIg4ODg4ODg4MXl+rkj4vFcQQvAlVtn836Ufa2xMHBwcHBwcGf6CWaDuZicRxBBwcHBwcHBwcvnB5BBwcHBwcHB4d8Sn5xBHN11rCDbTg3zcHBwcEhv2HrjNwCBctf9Hdt6tmDl9ys4cs/NfjlifybH6sm8786hqPv6Dv6l55+fj53R/+y0LeV1LMH5WJ/7G5jbuA4gvmTRxx9R9/Rz5f6+fncHX1H38EHjiPo4ODg4ODg4JBPcRxBBwcHBwcHB4d8iuMI5k9mOvqOvqOfL/Xz87k7+o6+gw+cWcMODg4ODg4ODvkUp0fQwcHBwcHBwSGf4jiCDg4ODg4ODg75FMcRdPA7ItLRx7q+NuoXFpEhIjJHRL4Rkf+ISGEb9UVE7hWREdbyVSLSwi59h8AjIvVF5HYRud/1Y6N2Jdf/oIgUEZEwu7QtzWA79fISIhIkItcGSDtYRMYFSDsip59AtMkhexxHMB8gIhVE5FsROS4ixyxnqIKNTRghItNE5AoRKSMi3wM9bNT/GKgHTAamAHWBT2zUfwdoBdxlLScCU+0St657kPV3TRHpKSIhNur3cOnnR0RkJMb2JgMdgLFAT5u0/w+YDcywVlUA5tqh7cFOEXlTROrarAuAiDx5Iev8gaqmY+P/upd2GtAmENrAemCd9dv7Z12A2uSQDc5kkXyAiCwEPifD+bkXuEdVO9mkL8BTwKPWqhGq+l87tC39rapa93zr/KgfpapNRWSDqjax1m1U1UY26a8H2gIlgJXAWuCsqt5jk/6nGEf4G+B9Vd1mh66lvQnfJRkFUFVtaFMbGgEbVLWRiJQBPrXj/09EooEWwO8etrdJVRv4W9ujDWHAncADmM6H94EvVDXBJv0oVW3qtc79v2iD/jjgN2CO2vyFKyLTgPLA18Bp13pVnWNnOxzyNgUC3QAHWyitqh94LH8oIoNt1C+B+TL6C9MjUUlExMaHYpSItFTV1QAicg32vpWes4bH1NIvDaTbqC+qmiQiDwHvqOpYy0GwBVW9V0TCMT2iH4qIAh8A/1XVRD/Ld7d+CzAf6OZnPV8kq2q6iKRa1+EYUNEm7RRVPWvexUBECmBzrXLrHr8LvCsi7TAvpRNEZDbwiqru8oeuiNwF3A1UEZHvPD4KA2L8oZkNjwJDgDQRSSbjJSTcBu3CwEngeo91CtjmCIpICaCG1RbTANXlduk7nB/HEcwfnBSRewFXL9xdmIeDXawGXlfV90WkCPAGpmfKrtiZZsAqEfnbWr4K2O7qLbKhV2gS8C1wpYi8CtwKvOBnTU9ERFoB9wAPWetsjdtS1QTri78IMBi4GRgqIpNUdbIfdfe5/haRFM9lG1knIsUxztB64BSmh8gOlonIcKCIiHQCHge+t0kbcMcI3oTpEawMvAV8humlXgDU9JP0KuAwUMrSdJEI/OEnzSyoqq0xmV7aDwRKG0BEHgaexHQARAMtMbZ/fU77OdiLMzScDxCRSpj4pFaYt8FVwBOq+neOO+ae/lXeWiJynV1vhdb5Z4sdzoGI1AZuwPQGLFbVP/2t6aHdDjM0v1JV3xCRqsBgVX3CJv1eQD+gOiZe8yNVPSYiocBWVa1sUzuyDBHajYhUBsJV1RZHxIrNfAjojLG9n4H37ByiFJHdwBJglqqu8vpskl12GCis0Jh7gCqq+oqIVATKquoaG7QrYJ79ra1VK4AnVfWAv7Ut/U3A1cBqVW1sPQfHqOotdug7XBiOI+jgdzwehFVV9WURuQqItONB6NGGEpjhOHcvuKpG5Rd9qw2hqppkp6al+xHGCcji+IvIDaq62I/ano7fZxg7dOPPe+ClnQW773+gEJE2qvqr17rWqrrSJv1bMKMQV2KcYTuHZl1xeunA9apax3oW/KKqV9ugHej48LWqerUVinKNqqaIyBZVrWeHvsOF4TiClzEi8owVDzYZH3FBNvYIBexBaOm/gumR+ouM66CqasvwRB7QbwXMAoqq6lUi0gh4VFUft0n/DVV99nzr/KS9xGuV6/q7nAG/3QMP7cJAc2CjpdsQWKeqrfyl7dGG7sArQCXMS4itTpDVBl+TNWzrnRWRXUAPO3vhvfQDNllMRKJVtfH51vlR/1tMSMBgzHBwLBCiqoGI1XXIBidG8PLG9eAL9HT9a1wPQgBVjRWRgjbq3w5UU9WzNmrmJf23gS7AdwCqulFErrNRvxPg7fR19bEu11HVDmDy52Hi49pgnMEVwDSbtOcATVV1k7VcHxjlT20P3gZuATYFYMZqK0wccGkRGeLxUTj2xqgeDZQTaBHIyWIBjQ9X1ZutP0dZL0bFgJ/s0ne4MBxH8DJGVV1B4Umq+rXnZyJym41NCfSs2c1AccxszUAQaH1Udb9r5qhFmr81RaQ/xvmqJiKeMXFhmMlCdvIRkICZuANmNunHGCfd39RyOYEAqrpZROrYoAuwH9hstxNoURAoivme8ZwwkYCZMOVXrCFhMJN1vsTkT0xxfW5jChVfk8VetEn7QUyM4AQy4sP72aQNmNAAoIaqfmA9+8sDe+xsg0POOEPD+YA8MDRzD3AH0BTzhXwr8IK3c+pH/ebAPIxD5vlFYFdS30DrzwbGY5JpX4OZxddcVe/0s24xTOqg14DnPD5KVFU703cENJekiPwXk8PtU2vVPZhh+ruy3yvXtK/GDA0vI7Ptjfe3tkcbKgVitraIfJDDx6qqD9rYloBMFvMVi2lzfOZITFhELVWtKSLlgK9VtfV5dnWwEccRvIwRka6YvGm3A196fBQO1FVV28qcBXjW7BZMZYVNePREquqyfKJfCpgIdMRc/18wMwf9OkQkIuFW2hifJaXsdAbFJLWeoplzSQ5QVb+XehNTzrA/4BqOXw5MU9UzNmj/gklX4217L9mg/baqDhZTSchXjLItL0KBRkQ+UdX7zrfOT9qB7gSIBpoAUR7xkX+oDYncHS4cZ2j48uYQJj6wJyZ/mYtE4D/+FvdyAI6REaeCiETY6Agkqeqk8292eeqr6gm8ZsvaxOeYhM7rMY6A59i0AlVtbEvAckmq6hkRmQoswpz3dlU95y89L8qpan2btLxxzVQNSL1bFyLi638vHjNhZ54NTcg0Q9YKk2nmT8E8FJ95VlVVTBJ5ROQKG7UdLhDHEbyMUdWNwEYR+dzGLx5PPB2AqzAzxgQTL/c3UMWmdqwQkdcwkyU8h8fsSt8REP1AzxpX1e7Wb7vuc07cGChhEWmPCYnYi7H/iiLS11c6HT+wQEQ6q+ovNmhlQlXXW79t6fnOgcJAbUyZNYA+mBi1RiLSQVX9UmVJRIYBrmTeCWS8CJ0FZvpD04OAxmd68JWIzACKi6l7/SAmsbpDHsIZGs4HiEgNTJxWXTKX+bGlR0ZE3gW+VdUF1nJXoLeqPprznrmm751CBOxN3xIQfRHpoarfi0hfX5+r6kf+1PdoR2sgWlVPWzMYmwJvq00JzQONmFrPd6vqdmu5Jqa8nl97hSytROAKzAvIOWxMHyPZ13kG0whbhgdFZDXQWlXTrOUCmFnjbTCzqf0aJyoir6nqMH9q5KAdkPhMrzZ0wiQ0B5M2bGEg2+OQFccRzAeIyK/ASMzMsR5Yxd9VdYRN+lmK3Pta55D7WMNQb6jq0wFswx9AI0z+vA+B94DbVbVdoNpkJ75iovJDnJTkgYo+Vju2Ay1UNd5aLgasUdVanrn9/KgfhFXzWO2vLLIQuE1V46zlEsAXqtrF39oebYjE1JpXYK2qHrFL2+HCcIaG8wdFVHWxiIj18B1l9VLY4ggCh0TkBTLPmjxkkzYiUgYYg4mX6ioidYFWqjrLz7r3quqnXjE6buyYuamqaVaPXCBJteKEemEmbMwSkYfOu9flwzoReY8M+78XP+f2FJHaqrpNsqluYkdYRKB7ojwYC0SLyFJMj+h1wBgrXm2RDfpTsRLqY2Zwn7LW2ZFQv5TLCQR3DtcrbdAFQEyt4RHA/zDXfrKIvKyq79vVBofz4ziC+YMU6610p4gMBA5i4kfs4i5Mj+S31vJya51dfAh8ADxvLe/AzKL2qyOIGZKDzDE6Luzsio8Wke8wMVKn3Q2wL49aohUvdS9wnWWLITZp5wX6AwMAV0zmCuAdP2sOAR4B3vLxmWKcElsQkZaYXHZ1MLFrwcBpO4anAawXjwWYXimA4arqehEdakMTAplQP108ar1bvbR2PnuGAk1cGQpEpCQml6HjCOYhHEcwf/AkEIr5InoF6AD4jBvzB9bs4Cft0vNBKVX9ynJGUNVUEfF7QmVVnWH9uchXLi9/63tQGFNNwPPLXwG7HME7MENjD6nqETG1pt+0STvgqGoKJo/jeGsmfQVrnT81H7H+7OqdpsZKZ2MnU4A7MS8izYH7gZr+FvXRK7rf+h0pIpE2ThYLZEL954FfRWQZpkeuLeYFwS5OYrJUuEjExsomDheGEyN4mZNHYsRqAk8DlfF4+bBxssZSzEzBhdabeUvMNbElRi3QubwcAotlfz0xtr8ek0pplarakcIp4LYnIutUtblnXKRNsXkzVfWRPDBZLNAJ9UsBLa3F1VY6KVsQkY+BBpiE+gr0Av6wfmxNbO6QPU6P4GWOFSPWJsDN+BqYjpkk4PeeOB8MwaRuqSYiK4HSgN9L7OWVXF4iUgEzNOfqhVyBSSh9wCb9W4A3gCsxvRK2zVzNIxRTk1j7YeBjVR0pmUvu5TpWgH55TOqSJmSkLgnHjA7YSZI1FBotImOBw0CQv0VdvaJq1XwOFKr6mRWT7Uqo31vtrX2chnn5KAzUFRFsSl0E8Jf148KVt9FXuIxDgHAcwfzBhgDHiKWq6jSbtHyxBWgH1MI8iLdjwxcReSeX1weY5M4u5/dea10nm/THAj1s/vLLSxQQkbKYCj/Pn2/jXKILpqZsBUycoMsRTMDktrOT+zAvPgMxiewrYnrobUFEQjEvg1dZPYQ1MCXPfrCrDcBRzAtYAYxz3tSOoWnr5eNJjB1EY3oGf8OmGFG1KtiISLhZ1MTz7OIQAJyh4XyA+K65qWpTrU0RGYV5I/2WzAmVbaksEujhsUDn8hKRaFVtfL51ftRfqfm4tqiI3Aa8CPyqqo+LSFXgTVX1uzMkIn1U9Rt/6+RlRORLzJD8/apa33IMV9lo/69gnPK/yJioYcvQtJXL8WrMkHBjMaU+x6jqLf7WtvSbY146XS/C8cCDaiUbd8gbOI6gg98RkT0+Vqv6OaG1x/DYp5jJCp7DY9NVtbY/9fMKIrIY8zB2lfi7C3hAVW+wSX8iEAnMJfOLgF090g4BxPr/91XZxq6E9q4YRXdcoohsVNVGNulvBxqo6lk79Ly016rq1WJq/l6jqikiskVV651359zR/wNT03uFtdwGeOdyz6F5qeEMDTv4HQ1cibG8NDwWSB7ExAhOwHwhr8IkFbeLcCCJjOoCYO+sZYfA0tzj78KYEIWIbLb1B2dFpAgZs3ar4fFCYgObMWU1j9mo6eKAiBTHvIQtFJFYwM7RiTSXEwigqr+KSKqN+g4XgNMj6OA3ROR6Vf2fNVkgC3b1CDnDYw4OeQsRWa82lNiztDoBL2BKbP6CmTTVT1WX2qTfHDNJYjOZe8R7+lGziqru8VrXDigG/GRX76SIvA0UwYxGKGb29Bms5Oo2pvBxyAHHEbzMsZL33qqqXwVA+yVrhmRAYxQDhYhMJudaq09k99nloO/RjprANKCMFaPVEOipqqPt0M/PWPFwT2EmSvxfICZKeFU3CcL0EPa3cWj2U0y6kmRgN/C7zSlUtgAzgE145A9U1WV+1Fyvqs1EZLFdISDZtMNX6h4XtqXwccgZxxHMB7hiZALdjvyGiOSYtFtVP7qc9T3asQxTYWCGR4zWZlWtb4d+oBHfJQbjgfWqGu1AIfG8AAAS6klEQVRn7YBOlLDasISMF5JUYC8wTlV32KTfAZNIuS1QDdgALFfViTbpr1VVO8rJeWpuwGSJ6I8JCcmEk7/PwRMnRjB/sEhEnsaUVfNMH2PLrN38il2OVl7V9yBUVdeIiOe6/BQn1Nz6+d5a7o7poXpMRL5W1bF+1K6mqneIyF0AqpokXjfCBn7AOIIuXQW6u5rhb6dEVZeIyHLM7NkOwGNAPcAWRxBYISKvYXKZeg4N+3NY9E6gN1lTV9mOiNyEud7uijaq+nLgWuTgjeMI5g/usH4P8FingC2z9gJNoIbHROR7ch6a9VuMkFc7SgPPYmKkPB/Gdg3LnLAC9F3B+rdikgrnFyoATVX1FICIjATmA9dheuv86QgGeqIEQDOMEzYP4wz2ANYAO+0Qt2bNX4HJn7cCuFpV7Zy44aqg0tJjnV/rPavqduANq5rLj/7SOR8iMh2TwLwDpqDArZh775CHcBzBfEAAZ+26YhRbquqqQLUBkzplPdDKWj6IGTbxd5zUOD8f/0L5DNMbfBOmN6QvcNxG/QHATKC2iBwE9gD32KgfaK4ks/N1DhMvmSwi/nbKRgI/ARVF5DOsiRJ+1vTG5Qgngjuv6HxVvdcm/T8wzmh9zJB8nIj8pqrJdogHsrJJIJ1Ai2tVtaHlkL4kIm8BgW6TgxeOI5gPEJH7fa1X1Y/9ra2q6SIylYy34kAQkOExfwaDXyQlVXWWiDxptWmZiKz1t6hXbNwCYAlmssBpTGWJ/BKn9Bnwu4i4ymv1AD4XkSuArf4UVtWFIhKF6Y0STGlB2yZKWJQBPGepnrXW2YJaNZ1FJAzjBH+AyWtZyK425OPhUZeznSQi5YCTQNkAtsfBB44jmD/wDFQujKl5GQX43RG0WCwifYA5GpjZSQEZHhORr1T1diu7v6+EunYlVT1n/T5sfSEdwp48bq7YpFpkHhq8j3w0PKSqr4jIT5i60wCPqeo662+/9oyKyMuqOgIzFI2IBInIZ6pqZ4/sx8AaEfnWWu4NfGiXuIgMxEwUaYaZqPI+ZojYLv38PDz6g5XH8E3Md44C7wa2SQ7eOLOG8yHWP+YXqnqjTXqJmBidVEwOKcGkDgi3ST8gecREpKyqHhaRSr4+t6vsnIh0x3zxVcQklg4HRqnq9znumHv6y4GbPIYGwzBDg9fZoZ8XEJFgTC+Y++VbVf+2QfcDYIeqviYihYCvgA2qOsrf2l7taIpxxsDM2N1go/bTGPtfr6q2T1KyhkUbevwuCvyoqm3Pu3Pu6F8LVCaz7dnVCeDZjkJAYVWNt1vbIWccRzAfIiIhwGZVrRXottiFiJQkY3hsdQCGxwKGiHyEGRKMs5YjMOk77Ko1vR1oqKop1nIh4I/8Yn8iMggTq3cUSCPjRcjvPcJWCMRnmBx2HTAOSJZ0Ig7+Q0R+V9VrRGQ1cAtmeHSLqla3QfsTTMqcaIztgbE9W3KIOlwaOEPD+QCv2avBQB1Mz4CdbSgB1CBzjMxym7QDOjwmprLKG5hJA4LNPaIYJyzOtaCqMSJiZ8xmQIcG8wBPYmapn7RL0CuJ80RMQuOVmPjQpk5FB1vxNTz6nk3azYG6AQrJcbhEcHoE8wFiSgu5SAX2qeoBG/UfxnwZVsC8mbYEfrMrfUmgh8dEZBfQQ1X/tEPPh/5GoL2qxlrLEcAyVW1gYxsCNjQYaKyEyp3sHJZ0KjrkTeweHhWRr4EnVDU/pWtyuEgcRzCfICJlyJg0ssbOPFrWZImrMUOyjUWkNjBGVX3WIPaDfkCHx0Rkpaq2tkvPh/79wHBMyhyA24BXVfWTQLUpPyEiszATZuaTOaFwfpk1nS+RANZa9xgFCgMaYyan2FLn2KsdNwP/czm+Vs9oe1Wda4e+w4XhOIL5ABG5HTMssRQzLNkWGKqqs23SX6uqV4tINHCNqqaIyBZVrednXc/hsRAyhsdmgf8Lnnt8AbTDpKuYS+aHsd++CHy0pS4ZCWz/p6p+TVvikIGVQDoLqvqSTfr5NXVJQBGRUao6yhqR8PyidYWG+C1G12sUKAt2pbYSkWj1KmcoIhvUKjXpkDdwHMF8gDU02MnVCyim0sQita/o+7fAA8BgjDMSC4Soajc/6wZ0eMz6AshJ35bJGg75l+xSl6jqQwFtWD5ARJ4io7Sed4k9W3qERaQKcFhVz1jLRTDJzPf6W9vS+8N7UpSIbLIzLMXh/DiOYD7A+x9PTLWPjYH4Z7TeVIsBP6nq2fNt7+BwqSIib6vqYMmm1KAdw3OBTl2Sn/HoCfbOo9kD44z7vbKKiKzDVPc4ay0XBFaq6tU575lr+u8DccBUa9UAIEJV+9mh73BhOLOG8wc/icjPwH+t5TswlR5swZqc4GKT9dvWN5BADo/5SN9SAnjL6RG87HHFYAay1KBT2SFAuIb+rTyaWUrs2dSMAp4v3Kp61nIG7WIQ8CKmxCXAQjLXvHfIAziOYD5AVYdalT1cExZmquq3Oe2Ty0RhkhnHYt6IiwNHROQo8H+qut6f4nkgs793+pZYm9O3OAQAD7s+5W3jVpJvO3AqOwSeQJbYOy4iPVX1OwAR6QXYlkNVVU8Dz9ml5/DPcIaGHfyOiLwLzFbVn63lzphasx8AE1X1Gj/rBzqzf8DTtzgEDjG1fu9X1c3W8l3AYH/bvY92OJUdAoCIPA/cDnjm0fxSVV+zQbsaJmNCOcxL+H6MLe7ys27AwyIcLhzHEbyMEVPazTNY2f0R9pZ4yxIc7OGUZZlV5gf9gGX2t/Sd9C35GBGpCswG7sbM2L8f6G6HQyYihYHHgTaYZ8CvwDTX5AEHewh0Hk3r5RdVPWWTXjNVXZ/d7GW7Zi07XBjO0PDlTSNV3R3oRgCHReRZ4Atr+Q7gqJj6q+k26Ad0eExVP7aCtl2zlG9x0rfkH1R1t4jciUkf9DfQWVWTz7NbbvExkIipMQ3GGf0E8zLiYBNWqirbq7lYvcB9sGoNm5Sq/o+P9giFaKyqE73a9CTgOIJ5CKdH8DJGRNarajMRWayqNwSwHaUwtVbbWKtWAi8B8cBV/h6m8GqLMzzmYAtWInXPB+yVGJtPAfBOq+GnNmxV1brnW+dweSIiP2Fsbj0ZtYZR1bds0o9S1aZe65w8gnkMp0fw8iZIRIbz/+3deaxdVRXH8e+vlLFpQVAUqFQoCIGAHRCKEJBEKgTRUAIanAgBFIwhMpkoomA1kQhxwDCraGpiUARkVkRAoAglhcZaYmQwIrOUNkihlJ9/nPPs7aW0aHrPvr79+yQnr+fc97JX0tx319vDWvBuSSf3v9hVZwPbz9KcHludgSeBq1sek5TlsRi0rg6ErMn9kmbYngsgaS/gvsIxRXcm2j6o60HbfbBHAdtJuqbnpfHAP7uOJ9YsieDo9jGajcljad6ARbSFnVe3YbirfqdZHovO2X6s917SlvSULxqkntnI9YG7JP2tvZ8ELOoihhgKd0nazfaCtX/ruh0XeAJ4K9A7+7gUeLDjWGItsjRcAUkH276h4PjTe243otmz8qrt0zsaP8tjUYykD9N8GG4NPE2TjP15kC0WJU1a0+v9SWqMTpIWAjsAj9BsSRg5KDjwbQk9MUwCdrT927azydiRmooxHDIjWIGSSWA7fn+dwDsldVnHL8tjUdLXgRk0bR2nSjoAGGhXiSR60Tq45OCSjgOOBzYHJgMTgQuBYnvW4/WSCMbA9XUWGQNMp2kzN+hxszwWw2C57eckjZE0xvatkr5TOqioQuklv88BewL3ANj+S7tFIoZIEsHowjxW1jN8lWaZooum98OwWT9icVvH7Q5gjqSngRcLxxR1uI6Vv3s3ArYDHqJpt9mFl9u2dgBIGkv55DT6ZI9gBSStD5wA7Nc+ug240PbyclFF1EHSOGAZzYfxx2lmw+fYfq5oYFGdtrD1ibaP7Wi8c4DFNEXUP09TvWGh7S93MX68OUkEKyDpUprl0cvbR58EVnT4y+AI4EbbSyWdAUwDZrdFViNGPUnvoFkiM3Cv7ScLhxSVWl2npwGONYZm9WcmzR9CNwGXOonHUEkiWAFJD9h+z9qeDXD8kXZy+wKzaTp8nNl1r9WIEiQdC5wJ/I7mw3B/4GzbPywaWIx6ffVjx9D8Eb6F7Q8WCimGUPYI1mGFpMm2/wr/6X26Yi0/s07Hb78eAlxs+zpJszscP6Kk04CpI0vBkragqbOWRDAGrbd+7Ks0ewZ/2dXgkvYBvkZzQG8sK8vXbN9VDLF2SQTrcBpwq6SHad6Ik4BjOhz/cUkXAQcC32rbvI3pcPyIkp6jKaQ7Ymn7LGJg2l7u422fWjCMy4Av0NfiLoZLloYr0CZeADu1Xx8CsP1yR+NvAhwELGjLB2wF7Gb75i7GjyihZ1luCrAbcDXNHsGPAA/aPrpQaFEJSXfb3rvg+PdkC9DwSyJYgTdo/P26ZxGx7kj66ppet31WV7FEnSRdAGwDXEFPySLbVw543JHPliOB9YAraTqbjIyfg4JDJEvDo1h7UnEbYGNJU2mWhQEmAJsUCyyiAkn0YghsRLMNobevu2kSs0E6t+9+j77xu+ozH29CZgRHMUmfBo6meRPey8pEcAlw+aD/KoyIiHpJ2t72w2t7FmUlEayApMNtd3ZSLCIiypN0OXCS7cXt/VuAc213cljwDbYlzbM9vYvx483J0nAFkgRGRFRp95EkEMD28+02oYGStDNNG7tNJc3qeWkCzXJ1DJGU8IiIGCBJ50iaIGl9SbdIekbSJ0rHFVUY084CAiBpc7qZANqJptf7ZsChPdc04LgOxo//QpaGR7m2xc8M23eVjiWiRpLm254i6TCaD8eTgdu76uwT9ZL0KeBLNKeGAY4AvmH7px2Nv7ftu7sYK/53mREc5Wy/BvygdBwRFRuZgTkEuML2CyWDiXrY/gkwC3iqvWZ1lQS2Dsts+PBLIliHWyQdLklr/9aIWMeulbQImE7zXnwbsKxwTFEJ2wttn99eCzsefqbtJTQz4Y8CO9B0uoohkqXhCkhaCoyj6TW5jJX9HicUDSyiEu3erBdsr2g77Uyw/WTpuCIGSdKfbO8q6VLgF7ZvlPRAtkUMl5waroDt8Wv/rogYhLbn677AuyT1/s49r1BIEV35dTsb/hJwQmbDh1NmBCvRnhzbkZ6j+7ZvLxdRRB0kXU/z4bcAeG3keTqPRA36ZsPHAeMzGz5cMiNYAUnHAicBE4H5wAzgbtLmJ6ILE23vXjqIiK612yBOBLYFjge2piktc23JuGJVOSxSh5OA9wKP2T4AmAosXvOPRMQ6coOkmaWDiCjgR8ArwPva+8eB2eXCidVJIliHZbaXAUja0PYimr/KImLw5gK/kvSSpCWSlkpaUjqoiA5Mtn0OsBzA9r9Y2fM+hkSWhuvwd0mbAVcBv5H0PPBY4ZgianEesDewwNmUHXV5RdLGgAEkTQZeLhtS9MthkcpI2h/YFLjR9iul44kY7STdDry/Le4eUQ1JBwJnALsANwP7AEfb/n3JuGJVSQQr0J7a6rfU9vLOg4mojKQfA9sDN9AzG2I75WNi1JO0Bc0BRQFzbT9bOKTok6XhOtwPvBN4nubNuBnwpKSngONszysZXMQo90h7bdBeETV5DXiGpnTZLpJSumzIZEawApIuoanqflN7PxM4nOZE13dt71UyvoiIGH3eqHSZ7ZQuGyJJBCsgaYHt3fqePWh7d0nzbU8pFVvEaNd2Uzgd2JVVC7rnwzBGNUkLaEqXzbU9RdLOwDdtzyocWvRI+Zg6PCHpi5ImtdfpwFNt66tsYI8YrDnAImA74CzgUeDekgFFdCSly/4PJBGsw1E0U/NXtde27bP1gCMLxhVRgy1sXwYst32b7WNIV5+oQ3/psqtJ6bKhk6XhiIgBkjTX9gxJNwHfA/5Bs2d3cuHQIjqT0mXDK4lgBSTdSlvQs1f2KEUMnqQPAXfQnNz/PjABOMv2NUUDi4gg5WNqcWrPvzeiOTH8aqFYIqrR7sPd0fa1wAvAAYVDiohYRWYEKyXpj7b3LB1HxGiX91pEDLPMCFagr7PIGGA6zV6NiBi8OyWdD/wceHHkoe37y4UUEdHIjGAFJD1Cs0dQNEvCjwBn2/5D0cAiKtDu0e3n7NGNiGGQRDAiIiKiUlkaroCkI2iO7C+VdAYwDZidpamIwZN08moevwDMsz2/63giInqloHQdvtImgfsCHwAuAy4oHFNELfYAPgts016fAQ4CLmm7/EREFJNEsA4r2q+HABfbvg7YoGA8ETWZCEyzfYrtU2gOa20J7AccXTKwiIgkgnV4XNJFwEeB6yVtSP7vI7qyJfByz/1y4O22X+p7HhHRuewRrMORNEtR37a9WNJWwGmFY4qoxRzgnrbPKsChwM8kjQMWlgsrIiKnhiMiBk7SHsA+7e2dtu8rGU9ExIgkghERERGVyj6xiIiIiEolEYyIiIioVBLBiIiIiEolEYyIiIioVBLBiIiIiEr9Gw2LmE+Rw0bhAAAAAElFTkSuQmCC\n",
      "text/plain": [
       "<Figure size 720x360 with 2 Axes>"
      ]
     },
     "metadata": {
      "needs_background": "light"
     },
     "output_type": "display_data"
    }
   ],
   "source": [
    "fig, ax = plt.subplots(figsize=(10,5))         # Sample figsize in inches\n",
    "sns.heatmap(data.corr(), annot=True, linewidths=.5, ax=ax)\n",
    "plt.show()"
   ]
  },
  {
   "cell_type": "markdown",
   "metadata": {},
   "source": [
    "There are no high linear correlation. \n",
    "The only remarcable one is calories and chill time, 0.71"
   ]
  },
  {
   "cell_type": "code",
   "execution_count": null,
   "metadata": {},
   "outputs": [],
   "source": []
  }
 ],
 "metadata": {
  "kernelspec": {
   "display_name": "Python 3",
   "language": "python",
   "name": "python3"
  },
  "language_info": {
   "codemirror_mode": {
    "name": "ipython",
    "version": 3
   },
   "file_extension": ".py",
   "mimetype": "text/x-python",
   "name": "python",
   "nbconvert_exporter": "python",
   "pygments_lexer": "ipython3",
   "version": "3.7.3"
  },
  "toc": {
   "base_numbering": "0",
   "nav_menu": {},
   "number_sections": true,
   "sideBar": true,
   "skip_h1_title": true,
   "title_cell": "Table of Contents",
   "title_sidebar": "Contents",
   "toc_cell": false,
   "toc_position": {},
   "toc_section_display": true,
   "toc_window_display": false
  },
  "varInspector": {
   "cols": {
    "lenName": 16,
    "lenType": 16,
    "lenVar": 40
   },
   "kernels_config": {
    "python": {
     "delete_cmd_postfix": "",
     "delete_cmd_prefix": "del ",
     "library": "var_list.py",
     "varRefreshCmd": "print(var_dic_list())"
    },
    "r": {
     "delete_cmd_postfix": ") ",
     "delete_cmd_prefix": "rm(",
     "library": "var_list.r",
     "varRefreshCmd": "cat(var_dic_list()) "
    }
   },
   "types_to_exclude": [
    "module",
    "function",
    "builtin_function_or_method",
    "instance",
    "_Feature"
   ],
   "window_display": false
  }
 },
 "nbformat": 4,
 "nbformat_minor": 2
}
