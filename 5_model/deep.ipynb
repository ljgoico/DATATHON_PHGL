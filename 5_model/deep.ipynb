{
 "cells": [
  {
   "cell_type": "code",
   "execution_count": 65,
   "metadata": {},
   "outputs": [],
   "source": [
    "import pandas as pd\n",
    "import numpy as np\n",
    "\n",
    "import numpy as np\n",
    "import matplotlib as mpl\n",
    "import matplotlib.pyplot as plt\n",
    "%matplotlib inline"
   ]
  },
  {
   "cell_type": "code",
   "execution_count": 66,
   "metadata": {},
   "outputs": [],
   "source": [
    "data3 = pd.read_csv('../data/data_3.csv')"
   ]
  },
  {
   "cell_type": "code",
   "execution_count": 67,
   "metadata": {},
   "outputs": [],
   "source": [
    "data31 = data3[['sugar to flour ratio', 'chill time',\n",
    "       'calories', 'density', 'pH', 'grams baking soda', 'bake temp',\n",
    "        'weight', 'crunch factor',\n",
    "       'aesthetic appeal', 'sugar index full', 'bake time full', 'raisins',\n",
    "       'nuts', 'chocolate', 'peanut', 'oats', 'manufacture']]"
   ]
  },
  {
   "cell_type": "code",
   "execution_count": 7,
   "metadata": {},
   "outputs": [],
   "source": [
    "X = data31.iloc[:,:-1]\n",
    "y = data31.iloc[:,-1:]"
   ]
  },
  {
   "cell_type": "code",
   "execution_count": 8,
   "metadata": {},
   "outputs": [],
   "source": [
    "from sklearn.model_selection import train_test_split\n",
    "\n",
    "# Split the data up in train and test sets\n",
    "X_train, X_test, y_train, y_test = train_test_split(X, y, test_size=0.30, random_state=42)"
   ]
  },
  {
   "cell_type": "code",
   "execution_count": 11,
   "metadata": {},
   "outputs": [
    {
     "name": "stdout",
     "output_type": "stream",
     "text": [
      "(3630, 17) (1557, 17)\n"
     ]
    }
   ],
   "source": [
    "print(X_train.shape,X_test.shape)"
   ]
  },
  {
   "cell_type": "code",
   "execution_count": 9,
   "metadata": {},
   "outputs": [],
   "source": [
    "from sklearn.preprocessing import StandardScaler\n",
    "\n",
    "# Define the scaler \n",
    "scaler = StandardScaler().fit(X_train)\n",
    "\n",
    "# Scale the train set\n",
    "X_train = scaler.transform(X_train)\n",
    "\n",
    "# Scale the test set\n",
    "X_test = scaler.transform(X_test)"
   ]
  },
  {
   "cell_type": "code",
   "execution_count": 38,
   "metadata": {},
   "outputs": [],
   "source": [
    "from keras.models import Sequential\n",
    "\n",
    "# Import `Dense` from `keras.layers`\n",
    "from keras.layers import Dense\n",
    "\n",
    "# Initialize the constructor\n",
    "model = Sequential()"
   ]
  },
  {
   "cell_type": "code",
   "execution_count": 39,
   "metadata": {},
   "outputs": [],
   "source": [
    "model.add(Dense(18, activation='relu', input_shape=(17,)))"
   ]
  },
  {
   "cell_type": "code",
   "execution_count": 40,
   "metadata": {},
   "outputs": [],
   "source": [
    "# Add one hidden layer \n",
    "model.add(Dense(8, activation='relu'))"
   ]
  },
  {
   "cell_type": "code",
   "execution_count": 41,
   "metadata": {},
   "outputs": [],
   "source": [
    "# Add one hidden layer \n",
    "model.add(Dense(8, activation='relu'))"
   ]
  },
  {
   "cell_type": "code",
   "execution_count": 42,
   "metadata": {},
   "outputs": [],
   "source": [
    "# Add an output layer \n",
    "model.add(Dense(1, activation='sigmoid'))"
   ]
  },
  {
   "cell_type": "code",
   "execution_count": 43,
   "metadata": {},
   "outputs": [
    {
     "name": "stdout",
     "output_type": "stream",
     "text": [
      "Model: \"sequential_3\"\n",
      "_________________________________________________________________\n",
      "Layer (type)                 Output Shape              Param #   \n",
      "=================================================================\n",
      "dense_8 (Dense)              (None, 18)                324       \n",
      "_________________________________________________________________\n",
      "dense_9 (Dense)              (None, 8)                 152       \n",
      "_________________________________________________________________\n",
      "dense_10 (Dense)             (None, 8)                 72        \n",
      "_________________________________________________________________\n",
      "dense_11 (Dense)             (None, 1)                 9         \n",
      "=================================================================\n",
      "Total params: 557\n",
      "Trainable params: 557\n",
      "Non-trainable params: 0\n",
      "_________________________________________________________________\n"
     ]
    },
    {
     "data": {
      "text/plain": [
       "[array([[ 0.21357682,  0.00728208,  0.09317306,  0.33868322, -0.06148541,\n",
       "         -0.05219468, -0.11638638, -0.4114687 , -0.1074141 , -0.2836209 ,\n",
       "          0.09466836,  0.1703662 , -0.16815956,  0.12335101, -0.2066183 ,\n",
       "         -0.39009243, -0.25361615,  0.24719772],\n",
       "        [ 0.2839202 ,  0.40337577,  0.31748614, -0.39902604, -0.06725153,\n",
       "         -0.18501666,  0.29447505, -0.37208128, -0.2459025 ,  0.38848576,\n",
       "          0.14806548,  0.14229593, -0.37145138, -0.37335587,  0.22364774,\n",
       "          0.07043755, -0.19302134,  0.00668675],\n",
       "        [-0.00269285,  0.16592255, -0.34700358,  0.10628906,  0.32357606,\n",
       "          0.11485186,  0.3674083 ,  0.14425889,  0.13166383, -0.39204118,\n",
       "         -0.27675498,  0.04776624, -0.21431725, -0.05048209, -0.21097773,\n",
       "          0.3027579 ,  0.38120505,  0.40283778],\n",
       "        [ 0.26569518, -0.15389103, -0.03714475,  0.36331394,  0.32939258,\n",
       "         -0.36291778, -0.30946675,  0.321466  , -0.22845942, -0.24019293,\n",
       "         -0.06860185,  0.4063767 , -0.40916976,  0.25833538, -0.14218122,\n",
       "          0.12123004, -0.03606984, -0.3323417 ],\n",
       "        [ 0.35851827, -0.3964169 ,  0.14714816,  0.34562632,  0.07343176,\n",
       "          0.2938802 , -0.09360185, -0.06762242, -0.19590716, -0.3987673 ,\n",
       "         -0.271883  ,  0.26160446,  0.3216807 ,  0.11659834,  0.38042542,\n",
       "         -0.11590821,  0.37120983, -0.25014526],\n",
       "        [ 0.11663929, -0.09750423, -0.25753158, -0.18887167,  0.211651  ,\n",
       "          0.05759341, -0.1163379 ,  0.15672049, -0.13359216,  0.40294972,\n",
       "          0.3159975 , -0.39772013,  0.27350625, -0.25636783,  0.06477371,\n",
       "         -0.16012982, -0.1913738 ,  0.14058945],\n",
       "        [-0.1644239 , -0.04867905,  0.31372687, -0.278965  , -0.18637073,\n",
       "         -0.39975178, -0.32603532, -0.24518315, -0.02710587,  0.01145583,\n",
       "          0.07409751, -0.26488128,  0.22946385,  0.16131702,  0.16291097,\n",
       "          0.06545493,  0.27737036,  0.34333614],\n",
       "        [ 0.00417483, -0.15424818,  0.2765771 ,  0.09406129,  0.01232561,\n",
       "         -0.04009947,  0.13587096,  0.3159074 ,  0.20567617, -0.12678775,\n",
       "         -0.07215765,  0.37034544, -0.329023  , -0.24603112,  0.0435704 ,\n",
       "         -0.39598995,  0.02140105, -0.1401853 ],\n",
       "        [-0.2573985 ,  0.27168766,  0.3947269 ,  0.37698844,  0.15633324,\n",
       "         -0.2381984 ,  0.16847375, -0.31759757, -0.39603123,  0.08973429,\n",
       "          0.1898283 ,  0.31352916,  0.18341687, -0.34219825,  0.01923701,\n",
       "         -0.05776507, -0.15910476,  0.29440537],\n",
       "        [-0.29304042, -0.2861899 ,  0.00041372, -0.20994794, -0.20046274,\n",
       "          0.1483548 ,  0.10435405,  0.0260599 ,  0.04786459,  0.41214094,\n",
       "          0.30460986, -0.1295399 ,  0.01097035, -0.02350515,  0.00385687,\n",
       "         -0.18725127,  0.12115452, -0.03930008],\n",
       "        [-0.06258085, -0.2564396 , -0.1424436 , -0.01935449,  0.36369666,\n",
       "          0.03577754,  0.36690882, -0.40861803, -0.15826017,  0.08547872,\n",
       "         -0.21815035,  0.1119214 ,  0.22012821,  0.27420697,  0.09926078,\n",
       "         -0.27172792,  0.40314165,  0.18695709],\n",
       "        [ 0.284633  ,  0.03087717, -0.28103742, -0.30784714,  0.36476108,\n",
       "         -0.15243894,  0.11218181,  0.14723685, -0.17981766,  0.29927078,\n",
       "         -0.33515555, -0.05465713, -0.02396357,  0.24280772,  0.01782095,\n",
       "          0.23449847, -0.35043946, -0.41287854],\n",
       "        [-0.34468576, -0.27384347,  0.15347752, -0.07999915,  0.36015305,\n",
       "          0.0738509 , -0.19413504, -0.01506582,  0.06859553,  0.28786817,\n",
       "         -0.17630707, -0.35298145, -0.35394362, -0.15206295,  0.18189302,\n",
       "         -0.38054132,  0.11065015,  0.11026904],\n",
       "        [ 0.24712071,  0.16555241, -0.24236298,  0.19475093,  0.05199587,\n",
       "         -0.25283572,  0.07261333, -0.11675301, -0.38269645, -0.40681806,\n",
       "          0.11095509, -0.36301017,  0.16574618,  0.31174508,  0.3895903 ,\n",
       "          0.0984033 , -0.39692035,  0.11260304],\n",
       "        [-0.36891222, -0.34135908,  0.16052637, -0.23810166, -0.4001721 ,\n",
       "          0.23688284,  0.21370879, -0.23008099,  0.19981804,  0.35582915,\n",
       "          0.2922965 , -0.16996248, -0.0983983 , -0.19616984,  0.36906663,\n",
       "          0.3265052 ,  0.03074428, -0.21944657],\n",
       "        [ 0.32093087, -0.28961217,  0.33179316,  0.1885688 , -0.34030598,\n",
       "          0.37881747,  0.18482503, -0.00712621, -0.28495944,  0.07788894,\n",
       "          0.08000499,  0.24871883,  0.04822686, -0.41228065, -0.00821641,\n",
       "          0.20219174, -0.11363262, -0.19145158],\n",
       "        [ 0.21367899,  0.13904092, -0.1413447 , -0.15298384,  0.06680694,\n",
       "         -0.38811836, -0.06226656,  0.18018445, -0.25876164,  0.0528689 ,\n",
       "         -0.12388444, -0.30115566,  0.13219276,  0.33087185, -0.36196786,\n",
       "         -0.16921708,  0.19011244,  0.16854057]], dtype=float32),\n",
       " array([0., 0., 0., 0., 0., 0., 0., 0., 0., 0., 0., 0., 0., 0., 0., 0., 0.,\n",
       "        0.], dtype=float32),\n",
       " array([[-0.16204506,  0.20862156,  0.13115126, -0.2681044 ,  0.1388492 ,\n",
       "          0.1671018 , -0.08380258,  0.38129193],\n",
       "        [ 0.37601334,  0.4211694 ,  0.17385072,  0.4419281 , -0.15812951,\n",
       "         -0.46262756,  0.39763993,  0.42558533],\n",
       "        [ 0.4057799 , -0.23158522, -0.07492286,  0.10724211,  0.02612394,\n",
       "          0.29683846, -0.0911583 , -0.11779299],\n",
       "        [ 0.40955418,  0.19458431,  0.07869112, -0.45944744,  0.04771954,\n",
       "         -0.10179806, -0.22396457, -0.2339588 ],\n",
       "        [-0.4351592 ,  0.3047468 , -0.29746115, -0.10113558,  0.15830028,\n",
       "          0.44366086,  0.38557428,  0.01631275],\n",
       "        [-0.16829085, -0.0757744 ,  0.12217534, -0.2126697 , -0.23398629,\n",
       "          0.3673424 , -0.08230895,  0.2945662 ],\n",
       "        [ 0.26432574,  0.44770592,  0.29262137,  0.23396945, -0.27582023,\n",
       "          0.37999654,  0.4744572 ,  0.2911541 ],\n",
       "        [-0.05816674,  0.09232163,  0.01857066, -0.38243908,  0.21061373,\n",
       "         -0.4256601 , -0.27434367,  0.36842358],\n",
       "        [-0.11934146,  0.27156502, -0.14523202,  0.10223937, -0.24795629,\n",
       "          0.01693478, -0.00670999,  0.14631778],\n",
       "        [ 0.29042244, -0.34000647,  0.1575231 ,  0.34103853,  0.16332656,\n",
       "         -0.42986575,  0.25244105,  0.2757911 ],\n",
       "        [-0.21471846,  0.38339573, -0.27644637,  0.45886767,  0.46320158,\n",
       "         -0.28429747, -0.2481779 ,  0.04349262],\n",
       "        [ 0.27282655,  0.23492062,  0.29663903,  0.31940788, -0.13546914,\n",
       "         -0.46078348, -0.32851428,  0.03426105],\n",
       "        [-0.43457717,  0.1437785 ,  0.00353563,  0.42466336,  0.12370926,\n",
       "         -0.15680793, -0.25872523,  0.16527236],\n",
       "        [-0.08902273, -0.14417532, -0.19579539, -0.24351047,  0.46848637,\n",
       "         -0.2820428 ,  0.28474987,  0.08721519],\n",
       "        [ 0.08240026,  0.0442484 , -0.37831268,  0.43559766,  0.4436559 ,\n",
       "          0.07669592, -0.03385469, -0.0214366 ],\n",
       "        [-0.23129398, -0.21278632, -0.00187755, -0.16182756,  0.3931601 ,\n",
       "          0.42888784,  0.46835923,  0.16342723],\n",
       "        [-0.13230461, -0.35177812, -0.3317883 ,  0.0796842 , -0.11075485,\n",
       "         -0.13988999,  0.36715037, -0.23381242],\n",
       "        [ 0.41526973, -0.15279219,  0.2631178 ,  0.30676633, -0.01868519,\n",
       "          0.2506438 ,  0.14795089, -0.25861722]], dtype=float32),\n",
       " array([0., 0., 0., 0., 0., 0., 0., 0.], dtype=float32),\n",
       " array([[ 5.99461973e-01,  2.84693241e-02,  1.07985556e-01,\n",
       "          2.33941615e-01,  3.92572105e-01, -1.82854533e-01,\n",
       "         -6.01147294e-01,  3.34277749e-02],\n",
       "        [ 6.02226794e-01,  5.98602831e-01, -5.71352005e-01,\n",
       "          4.70321774e-02,  4.06456530e-01,  3.03127944e-01,\n",
       "          8.03297162e-02,  2.72220850e-01],\n",
       "        [-1.74514532e-01,  1.75284982e-01, -3.13677698e-01,\n",
       "         -1.97391868e-01,  4.35074627e-01, -1.08963311e-01,\n",
       "         -5.25115252e-01, -3.45549852e-01],\n",
       "        [ 7.79165030e-02, -2.77710944e-01, -5.71341515e-01,\n",
       "          5.61709702e-01, -1.18107915e-01, -5.74563146e-01,\n",
       "          3.56899500e-01,  4.21046674e-01],\n",
       "        [ 4.55384195e-01,  5.06213486e-01, -1.05867922e-01,\n",
       "          1.11354768e-01, -6.95143938e-02, -4.43564087e-01,\n",
       "          3.56359005e-01,  4.91887748e-01],\n",
       "        [ 8.01158547e-02,  1.95281088e-01, -9.27901864e-02,\n",
       "          3.36255252e-01,  5.31420767e-01,  5.22856295e-01,\n",
       "         -5.55168092e-01,  1.28962338e-01],\n",
       "        [ 8.54516029e-03, -3.71702999e-01,  5.33640385e-04,\n",
       "         -3.87695432e-02,  5.01092851e-01, -2.59264588e-01,\n",
       "          3.09250474e-01,  6.01475537e-01],\n",
       "        [ 4.99354303e-01, -2.30351269e-01, -1.96682870e-01,\n",
       "          5.26433527e-01, -9.74134803e-02,  4.16088104e-03,\n",
       "          2.84334838e-01, -5.87246537e-01]], dtype=float32),\n",
       " array([0., 0., 0., 0., 0., 0., 0., 0.], dtype=float32),\n",
       " array([[ 0.34158468],\n",
       "        [-0.7746241 ],\n",
       "        [-0.51138145],\n",
       "        [-0.6741591 ],\n",
       "        [-0.19553387],\n",
       "        [-0.349107  ],\n",
       "        [-0.45716953],\n",
       "        [-0.5093223 ]], dtype=float32),\n",
       " array([0.], dtype=float32)]"
      ]
     },
     "execution_count": 43,
     "metadata": {},
     "output_type": "execute_result"
    }
   ],
   "source": [
    "# Model summary\n",
    "model.summary()\n",
    "\n",
    "# Model config\n",
    "model.get_config()\n",
    "\n",
    "# List all weight tensors \n",
    "model.get_weights()"
   ]
  },
  {
   "cell_type": "code",
   "execution_count": 44,
   "metadata": {},
   "outputs": [],
   "source": [
    "import keras\n",
    "from keras.models import Sequential\n",
    "from keras.layers import Dense"
   ]
  },
  {
   "cell_type": "code",
   "execution_count": 52,
   "metadata": {},
   "outputs": [
    {
     "name": "stdout",
     "output_type": "stream",
     "text": [
      "Epoch 1/25\n",
      "3630/3630 [==============================] - 6s 2ms/step - loss: 0.3588 - accuracy: 0.8405\n",
      "Epoch 2/25\n",
      "3630/3630 [==============================] - 6s 2ms/step - loss: 0.3542 - accuracy: 0.8430\n",
      "Epoch 3/25\n",
      "3630/3630 [==============================] - 5s 1ms/step - loss: 0.3509 - accuracy: 0.8397\n",
      "Epoch 4/25\n",
      "3630/3630 [==============================] - 4s 1ms/step - loss: 0.3486 - accuracy: 0.8416\n",
      "Epoch 5/25\n",
      "3630/3630 [==============================] - 5s 1ms/step - loss: 0.3450 - accuracy: 0.8399\n",
      "Epoch 6/25\n",
      "3630/3630 [==============================] - 5s 1ms/step - loss: 0.3468 - accuracy: 0.8490: \n",
      "Epoch 7/25\n",
      "3630/3630 [==============================] - 5s 1ms/step - loss: 0.3410 - accuracy: 0.8463\n",
      "Epoch 8/25\n",
      "3630/3630 [==============================] - 6s 2ms/step - loss: 0.3407 - accuracy: 0.8485\n",
      "Epoch 9/25\n",
      "3630/3630 [==============================] - 5s 1ms/step - loss: 0.3389 - accuracy: 0.8427\n",
      "Epoch 10/25\n",
      "3630/3630 [==============================] - 5s 1ms/step - loss: 0.3327 - accuracy: 0.8499: \n",
      "Epoch 11/25\n",
      "3630/3630 [==============================] - 5s 1ms/step - loss: 0.3346 - accuracy: 0.8474\n",
      "Epoch 12/25\n",
      "3630/3630 [==============================] - 6s 2ms/step - loss: 0.3356 - accuracy: 0.8471\n",
      "Epoch 13/25\n",
      "3630/3630 [==============================] - 8s 2ms/step - loss: 0.3298 - accuracy: 0.8532\n",
      "Epoch 14/25\n",
      "3630/3630 [==============================] - 6s 2ms/step - loss: 0.3291 - accuracy: 0.8534\n",
      "Epoch 15/25\n",
      "3630/3630 [==============================] - 6s 2ms/step - loss: 0.3275 - accuracy: 0.8529\n",
      "Epoch 16/25\n",
      "3630/3630 [==============================] - 7s 2ms/step - loss: 0.3269 - accuracy: 0.8534\n",
      "Epoch 17/25\n",
      "3630/3630 [==============================] - 5s 1ms/step - loss: 0.3216 - accuracy: 0.8601\n",
      "Epoch 18/25\n",
      "3630/3630 [==============================] - 5s 2ms/step - loss: 0.3228 - accuracy: 0.8579\n",
      "Epoch 19/25\n",
      "3630/3630 [==============================] - 6s 2ms/step - loss: 0.3172 - accuracy: 0.8645: 0s - los - ETA: 0s - loss: 0.3187 \n",
      "Epoch 20/25\n",
      "3630/3630 [==============================] - 6s 2ms/step - loss: 0.3200 - accuracy: 0.8612\n",
      "Epoch 21/25\n",
      "3630/3630 [==============================] - 7s 2ms/step - loss: 0.3186 - accuracy: 0.8598\n",
      "Epoch 22/25\n",
      "3630/3630 [==============================] - 6s 2ms/step - loss: 0.3159 - accuracy: 0.8584\n",
      "Epoch 23/25\n",
      "3630/3630 [==============================] - 5s 1ms/step - loss: 0.3154 - accuracy: 0.8579\n",
      "Epoch 24/25\n",
      "3630/3630 [==============================] - 5s 2ms/step - loss: 0.3156 - accuracy: 0.8639\n",
      "Epoch 25/25\n",
      "3630/3630 [==============================] - 5s 1ms/step - loss: 0.3121 - accuracy: 0.8642\n"
     ]
    },
    {
     "data": {
      "text/plain": [
       "<keras.callbacks.callbacks.History at 0x135a7a320>"
      ]
     },
     "execution_count": 52,
     "metadata": {},
     "output_type": "execute_result"
    }
   ],
   "source": [
    "model.compile(loss='binary_crossentropy',\n",
    "              optimizer='adam',\n",
    "              metrics=['accuracy'])\n",
    "                   \n",
    "model.fit(X_train, y_train,epochs=25, batch_size=1, verbose=1)\n",
    "\n",
    "#One epoch is when an entire dataset is passed both forward and backward through the neural network only once"
   ]
  },
  {
   "cell_type": "code",
   "execution_count": 53,
   "metadata": {},
   "outputs": [],
   "source": [
    "y_pred = model.predict(X_test)"
   ]
  },
  {
   "cell_type": "code",
   "execution_count": 54,
   "metadata": {},
   "outputs": [
    {
     "name": "stdout",
     "output_type": "stream",
     "text": [
      "1557/1557 [==============================] - 0s 36us/step\n",
      "[0.3933596824060745, 0.8336544632911682]\n"
     ]
    }
   ],
   "source": [
    "score = model.evaluate(X_test, y_test,verbose=1)\n",
    "\n",
    "print(score)"
   ]
  },
  {
   "cell_type": "code",
   "execution_count": 55,
   "metadata": {},
   "outputs": [
    {
     "data": {
      "text/plain": [
       "array([[614, 157],\n",
       "       [102, 684]])"
      ]
     },
     "execution_count": 55,
     "metadata": {},
     "output_type": "execute_result"
    }
   ],
   "source": [
    "# Import the modules from `sklearn.metrics`\n",
    "from sklearn.metrics import confusion_matrix, precision_score, recall_score, f1_score, cohen_kappa_score\n",
    "\n",
    "# Confusion matrix\n",
    "confusion_matrix(y_test,y_pred.round())"
   ]
  },
  {
   "cell_type": "code",
   "execution_count": 56,
   "metadata": {},
   "outputs": [
    {
     "data": {
      "text/plain": [
       "0.8133174791914387"
      ]
     },
     "execution_count": 56,
     "metadata": {},
     "output_type": "execute_result"
    }
   ],
   "source": [
    "precision_score(y_test, y_pred.round())"
   ]
  },
  {
   "cell_type": "code",
   "execution_count": 57,
   "metadata": {},
   "outputs": [
    {
     "data": {
      "text/plain": [
       "0.8702290076335878"
      ]
     },
     "execution_count": 57,
     "metadata": {},
     "output_type": "execute_result"
    }
   ],
   "source": [
    "recall_score(y_test, y_pred.round())"
   ]
  },
  {
   "cell_type": "code",
   "execution_count": 58,
   "metadata": {},
   "outputs": [
    {
     "data": {
      "text/plain": [
       "0.8408113091579594"
      ]
     },
     "execution_count": 58,
     "metadata": {},
     "output_type": "execute_result"
    }
   ],
   "source": [
    "f1_score(y_test,y_pred.round())"
   ]
  },
  {
   "cell_type": "code",
   "execution_count": 60,
   "metadata": {},
   "outputs": [],
   "source": [
    "from sklearn.metrics import roc_auc_score\n",
    "from sklearn.metrics import roc_curve"
   ]
  },
  {
   "cell_type": "code",
   "execution_count": 63,
   "metadata": {},
   "outputs": [
    {
     "data": {
      "text/plain": [
       "0.9068936611188668"
      ]
     },
     "execution_count": 63,
     "metadata": {},
     "output_type": "execute_result"
    }
   ],
   "source": [
    "roc_auc_score(y_test, y_pred)"
   ]
  },
  {
   "cell_type": "code",
   "execution_count": 68,
   "metadata": {},
   "outputs": [
    {
     "data": {
      "image/png": "[encoded data removed]",
      "text/plain": [
       "<Figure size 576x432 with 1 Axes>"
      ]
     },
     "metadata": {
      "needs_background": "light"
     },
     "output_type": "display_data"
    }
   ],
   "source": [
    "\n",
    "logit_roc_auc = roc_auc_score(y_test, y_pred)\n",
    "fpr, tpr, thresholds = roc_curve(y_test, y_pred)\n",
    "plt.figure(figsize=(8,6))\n",
    "plt.plot(fpr, tpr, label='Logistic Regression (area = %0.2f)' % logit_roc_auc)\n",
    "plt.plot([0, 1], [0, 1],'r--')\n",
    "plt.xlim([0.0, 1.0])\n",
    "plt.ylim([0.0, 1.05])\n",
    "plt.xlabel('False Positive Rate')\n",
    "plt.ylabel('True Positive Rate')\n",
    "plt.title('Receiver operating characteristic')\n",
    "plt.legend(loc=\"lower right\")\n",
    "plt.savefig('RF_AgeBins_ROC')\n",
    "plt.show()"
   ]
  },
  {
   "cell_type": "code",
   "execution_count": null,
   "metadata": {},
   "outputs": [],
   "source": []
  }
 ],
 "metadata": {
  "kernelspec": {
   "display_name": "Python 3",
   "language": "python",
   "name": "python3"
  },
  "language_info": {
   "codemirror_mode": {
    "name": "ipython",
    "version": 3
   },
   "file_extension": ".py",
   "mimetype": "text/x-python",
   "name": "python",
   "nbconvert_exporter": "python",
   "pygments_lexer": "ipython3",
   "version": "3.7.3"
  },
  "toc": {
   "base_numbering": 1,
   "nav_menu": {},
   "number_sections": true,
   "sideBar": true,
   "skip_h1_title": false,
   "title_cell": "Table of Contents",
   "title_sidebar": "Contents",
   "toc_cell": false,
   "toc_position": {},
   "toc_section_display": true,
   "toc_window_display": false
  },
  "varInspector": {
   "cols": {
    "lenName": 16,
    "lenType": 16,
    "lenVar": 40
   },
   "kernels_config": {
    "python": {
     "delete_cmd_postfix": "",
     "delete_cmd_prefix": "del ",
     "library": "var_list.py",
     "varRefreshCmd": "print(var_dic_list())"
    },
    "r": {
     "delete_cmd_postfix": ") ",
     "delete_cmd_prefix": "rm(",
     "library": "var_list.r",
     "varRefreshCmd": "cat(var_dic_list()) "
    }
   },
   "types_to_exclude": [
    "module",
    "function",
    "builtin_function_or_method",
    "instance",
    "_Feature"
   ],
   "window_display": false
  }
 },
 "nbformat": 4,
 "nbformat_minor": 2
}
