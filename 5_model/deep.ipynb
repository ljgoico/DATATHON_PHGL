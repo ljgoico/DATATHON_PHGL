{
 "cells": [
  {
   "cell_type": "code",
   "execution_count": 65,
   "metadata": {},
   "outputs": [],
   "source": [
    "import pandas as pd\n",
    "import numpy as np\n",
    "\n",
    "import numpy as np\n",
    "import matplotlib as mpl\n",
    "import matplotlib.pyplot as plt\n",
    "%matplotlib inline"
   ]
  },
  {
   "cell_type": "code",
   "execution_count": 66,
   "metadata": {},
   "outputs": [],
   "source": [
    "data3 = pd.read_csv('../data/data_3.csv')"
   ]
  },
  {
   "cell_type": "code",
   "execution_count": 67,
   "metadata": {},
   "outputs": [],
   "source": [
    "data31 = data3[['sugar to flour ratio', 'chill time',\n",
    "       'calories', 'density', 'pH', 'grams baking soda', 'bake temp',\n",
    "        'weight', 'crunch factor',\n",
    "       'aesthetic appeal', 'sugar index full', 'bake time full', 'raisins',\n",
    "       'nuts', 'chocolate', 'peanut', 'oats', 'manufacture']]"
   ]
  },
  {
   "cell_type": "code",
   "execution_count": 7,
   "metadata": {},
   "outputs": [],
   "source": [
    "X = data31.iloc[:,:-1]\n",
    "y = data31.iloc[:,-1:]"
   ]
  },
  {
   "cell_type": "code",
   "execution_count": 8,
   "metadata": {},
   "outputs": [],
   "source": [
    "from sklearn.model_selection import train_test_split\n",
    "\n",
    "# Split the data up in train and test sets\n",
    "X_train, X_test, y_train, y_test = train_test_split(X, y, test_size=0.30, random_state=42)"
   ]
  },
  {
   "cell_type": "code",
   "execution_count": 11,
   "metadata": {},
   "outputs": [
    {
     "name": "stdout",
     "output_type": "stream",
     "text": [
      "(3630, 17) (1557, 17)\n"
     ]
    }
   ],
   "source": [
    "print(X_train.shape,X_test.shape)"
   ]
  },
  {
   "cell_type": "code",
   "execution_count": 69,
   "metadata": {},
   "outputs": [],
   "source": [
    "from sklearn.preprocessing import StandardScaler\n",
    "\n",
    "# Define the scaler \n",
    "scaler = StandardScaler().fit(X_train)\n",
    "\n",
    "# Scale the train set\n",
    "X_train = scaler.transform(X_train)\n",
    "\n",
    "# Scale the test set\n",
    "X_test = scaler.transform(X_test)"
   ]
  },
  {
   "cell_type": "code",
   "execution_count": 70,
   "metadata": {},
   "outputs": [],
   "source": [
    "from keras.models import Sequential\n",
    "\n",
    "# Import `Dense` from `keras.layers`\n",
    "from keras.layers import Dense\n",
    "\n",
    "# Initialize the constructor\n",
    "model = Sequential()"
   ]
  },
  {
   "cell_type": "code",
   "execution_count": 71,
   "metadata": {},
   "outputs": [],
   "source": [
    "model.add(Dense(18, activation='relu', input_shape=(17,)))"
   ]
  },
  {
   "cell_type": "code",
   "execution_count": 72,
   "metadata": {},
   "outputs": [],
   "source": [
    "# Add one hidden layer \n",
    "model.add(Dense(8, activation='relu'))"
   ]
  },
  {
   "cell_type": "code",
   "execution_count": 73,
   "metadata": {},
   "outputs": [],
   "source": [
    "# Add one hidden layer \n",
    "model.add(Dense(8, activation='relu'))"
   ]
  },
  {
   "cell_type": "code",
   "execution_count": 74,
   "metadata": {},
   "outputs": [],
   "source": [
    "# Add one hidden layer \n",
    "model.add(Dense(8, activation='relu'))"
   ]
  },
  {
   "cell_type": "code",
   "execution_count": 75,
   "metadata": {},
   "outputs": [],
   "source": [
    "# Add an output layer \n",
    "model.add(Dense(1, activation='sigmoid'))"
   ]
  },
  {
   "cell_type": "code",
   "execution_count": 76,
   "metadata": {},
   "outputs": [
    {
     "name": "stdout",
     "output_type": "stream",
     "text": [
      "Model: \"sequential_4\"\n",
      "_________________________________________________________________\n",
      "Layer (type)                 Output Shape              Param #   \n",
      "=================================================================\n",
      "dense_12 (Dense)             (None, 18)                324       \n",
      "_________________________________________________________________\n",
      "dense_13 (Dense)             (None, 8)                 152       \n",
      "_________________________________________________________________\n",
      "dense_14 (Dense)             (None, 8)                 72        \n",
      "_________________________________________________________________\n",
      "dense_15 (Dense)             (None, 8)                 72        \n",
      "_________________________________________________________________\n",
      "dense_16 (Dense)             (None, 1)                 9         \n",
      "=================================================================\n",
      "Total params: 629\n",
      "Trainable params: 629\n",
      "Non-trainable params: 0\n",
      "_________________________________________________________________\n"
     ]
    },
    {
     "data": {
      "text/plain": [
       "[array([[ 0.2665628 , -0.39935088, -0.27405384, -0.22172697, -0.3986284 ,\n",
       "         -0.00772798,  0.02311957, -0.39010766,  0.13833717, -0.28795534,\n",
       "          0.27168706,  0.0257754 ,  0.34461018, -0.2423377 ,  0.05311134,\n",
       "          0.26171413,  0.03475812, -0.05654398],\n",
       "        [ 0.19372627, -0.20903592, -0.1232129 , -0.06116095,  0.37260535,\n",
       "         -0.22248402, -0.2736193 ,  0.08265093,  0.3860486 , -0.21327907,\n",
       "          0.30950245, -0.24345921, -0.16815294,  0.2169005 , -0.10695645,\n",
       "         -0.32892755, -0.36641297, -0.03893328],\n",
       "        [-0.15738338, -0.33902517, -0.2333909 ,  0.2498863 ,  0.15823624,\n",
       "         -0.3587606 ,  0.36972752, -0.07903147, -0.02410337, -0.36512533,\n",
       "          0.13372895, -0.13767883, -0.11799571, -0.13688853, -0.0580616 ,\n",
       "         -0.24611858,  0.16222325,  0.19507512],\n",
       "        [-0.33110482,  0.0601576 ,  0.14269343,  0.34185234,  0.04562396,\n",
       "         -0.2112714 , -0.00314   ,  0.39716706, -0.3289315 ,  0.37546745,\n",
       "         -0.07579589,  0.1023517 ,  0.31295565, -0.31887355, -0.1290262 ,\n",
       "         -0.11745408, -0.30204606, -0.14316067],\n",
       "        [ 0.04663754,  0.14017406,  0.06293544,  0.34653202, -0.3401068 ,\n",
       "         -0.13906282,  0.27352938,  0.2127237 ,  0.11043534,  0.4080678 ,\n",
       "          0.31105164, -0.07607368,  0.03554243, -0.0006232 ,  0.33864918,\n",
       "         -0.02492228, -0.31579217, -0.35944876],\n",
       "        [ 0.17329225,  0.0758788 ,  0.20494607, -0.4003334 ,  0.37611774,\n",
       "         -0.40902603,  0.23779419,  0.02222908,  0.10085186, -0.13358927,\n",
       "         -0.06380275, -0.11281714, -0.15853074,  0.2863275 ,  0.08747491,\n",
       "         -0.14841169,  0.4116707 ,  0.18662068],\n",
       "        [-0.19056769, -0.3362263 , -0.10359788,  0.36347207, -0.3714025 ,\n",
       "         -0.40249467,  0.2194831 ,  0.18526116,  0.35149994,  0.01974648,\n",
       "          0.01432261, -0.08616114,  0.38524094,  0.10203996,  0.21939108,\n",
       "          0.3000869 ,  0.29091242, -0.19739854],\n",
       "        [-0.21963294, -0.14350122, -0.04637378, -0.1689623 ,  0.32150587,\n",
       "          0.18442073,  0.15737012, -0.38592353,  0.05585977, -0.25556242,\n",
       "          0.17518786,  0.3708941 , -0.04027075, -0.10382819,  0.06522939,\n",
       "         -0.39023647,  0.30564883,  0.34514412],\n",
       "        [ 0.11546013,  0.02729213, -0.31836212,  0.2436525 , -0.31566277,\n",
       "         -0.21665107, -0.06004634, -0.0597198 , -0.09181985, -0.36513174,\n",
       "         -0.24064623, -0.08892021, -0.27319938, -0.3810655 , -0.06307244,\n",
       "         -0.0566715 , -0.39459473, -0.2164711 ],\n",
       "        [ 0.26722053,  0.27371475, -0.40606725,  0.12799165, -0.01576462,\n",
       "          0.26154134, -0.29243895,  0.0635671 ,  0.35508904, -0.28607354,\n",
       "          0.3222508 ,  0.10650495, -0.29986042, -0.16051468, -0.20514706,\n",
       "         -0.15974689,  0.11373344, -0.3268114 ],\n",
       "        [ 0.18113193,  0.37211946,  0.22263297,  0.17184713,  0.04447758,\n",
       "          0.30014434, -0.21218866, -0.05442652, -0.1763428 ,  0.3304377 ,\n",
       "          0.1312463 ,  0.32235423,  0.10633162, -0.24050349, -0.02019691,\n",
       "          0.09240362,  0.40248892, -0.1178664 ],\n",
       "        [ 0.13528243,  0.13443181, -0.0675998 ,  0.35420856,  0.2227374 ,\n",
       "         -0.39141896, -0.32247922,  0.39075986, -0.2199896 , -0.17642829,\n",
       "         -0.13608667, -0.1143333 ,  0.36528298, -0.20505337,  0.3878918 ,\n",
       "         -0.21946868, -0.12795791,  0.13357762],\n",
       "        [ 0.34712186, -0.18740131, -0.08771372, -0.02133825,  0.20158324,\n",
       "         -0.26903856, -0.10603398, -0.23503844, -0.409011  , -0.21804836,\n",
       "         -0.38624138,  0.19400701,  0.32720843, -0.27335107,  0.02813959,\n",
       "          0.22426471, -0.27813512,  0.04964569],\n",
       "        [-0.16089484,  0.40871397,  0.05540213,  0.07316622,  0.3558273 ,\n",
       "          0.18516484,  0.26524505, -0.2507606 , -0.40222627,  0.02067569,\n",
       "          0.39364597, -0.07640287,  0.09940657, -0.34032387,  0.09136823,\n",
       "         -0.01760605, -0.06209883,  0.10194144],\n",
       "        [ 0.15648577,  0.28505322,  0.11207089,  0.08715054, -0.32602683,\n",
       "         -0.29939568, -0.21925882,  0.05542138,  0.09441385, -0.14886123,\n",
       "          0.35626778, -0.36720556,  0.04738641, -0.10069478, -0.06401399,\n",
       "          0.37430188,  0.22475842,  0.24843994],\n",
       "        [ 0.32468626,  0.3269247 , -0.11068878, -0.0156216 ,  0.2322183 ,\n",
       "          0.1615077 ,  0.30253056, -0.15260428, -0.18709914, -0.19986552,\n",
       "          0.07783002, -0.03500423,  0.25791565,  0.04181811,  0.313911  ,\n",
       "          0.05877757,  0.11051008, -0.28047472],\n",
       "        [-0.19905339, -0.32056978,  0.10895732,  0.12737843, -0.26889127,\n",
       "          0.1350396 ,  0.0885196 , -0.33173156, -0.23584801, -0.26410973,\n",
       "         -0.38685945,  0.07662836, -0.35012624,  0.41260412,  0.39328054,\n",
       "          0.30004612, -0.41046172, -0.07108235]], dtype=float32),\n",
       " array([0., 0., 0., 0., 0., 0., 0., 0., 0., 0., 0., 0., 0., 0., 0., 0., 0.,\n",
       "        0.], dtype=float32),\n",
       " array([[-0.47394922,  0.20230877,  0.26841807,  0.16054374, -0.09160465,\n",
       "         -0.25882325,  0.15844917, -0.24620302],\n",
       "        [ 0.21289867,  0.31409246, -0.3268934 , -0.28952086,  0.15484303,\n",
       "          0.3881703 , -0.26675737,  0.17646766],\n",
       "        [ 0.4243644 ,  0.23547202,  0.16127163,  0.38364553, -0.39392132,\n",
       "          0.47436672,  0.01867524, -0.07843307],\n",
       "        [ 0.11964417,  0.08072728,  0.46027428,  0.15853727,  0.28755742,\n",
       "         -0.46110395,  0.4182518 , -0.07768688],\n",
       "        [-0.03329393, -0.06397802, -0.02744213, -0.31077385, -0.19527543,\n",
       "          0.11746383,  0.2386772 ,  0.3889568 ],\n",
       "        [ 0.10134071,  0.03824449,  0.21303403, -0.26777452, -0.34765977,\n",
       "         -0.15788293, -0.19005525, -0.04685724],\n",
       "        [-0.00803468,  0.12607539, -0.4291922 , -0.2604559 ,  0.14721996,\n",
       "         -0.03790045,  0.04717803,  0.28083974],\n",
       "        [ 0.4362868 ,  0.33852214,  0.06108445, -0.46429643, -0.39714688,\n",
       "          0.3943147 , -0.37333703,  0.45515305],\n",
       "        [ 0.22039253, -0.3093596 , -0.36483485,  0.15744346, -0.33663645,\n",
       "         -0.17400947, -0.07262877, -0.17915621],\n",
       "        [-0.04779112, -0.08521339,  0.43873078,  0.14990646,  0.29236573,\n",
       "          0.46879035, -0.03693491,  0.24429077],\n",
       "        [ 0.3416264 , -0.20389366,  0.07940978,  0.21011299, -0.0740971 ,\n",
       "          0.38032436,  0.47572106,  0.0870378 ],\n",
       "        [ 0.27968854,  0.45309675, -0.38756463, -0.20971215, -0.12509272,\n",
       "          0.10076362,  0.10363376,  0.10089666],\n",
       "        [ 0.2941072 ,  0.15530056,  0.31494248, -0.474857  , -0.14112648,\n",
       "          0.12171608, -0.15647602, -0.24239744],\n",
       "        [-0.22448683,  0.17189711,  0.1688869 , -0.22396204, -0.3931143 ,\n",
       "          0.06174886,  0.23535115, -0.0795179 ],\n",
       "        [ 0.13593769, -0.22718361,  0.1159569 ,  0.401178  ,  0.07952249,\n",
       "          0.29530632,  0.31334078,  0.20580602],\n",
       "        [ 0.29761738,  0.14806509,  0.04394317, -0.35660818, -0.0180327 ,\n",
       "          0.3034417 ,  0.10380411,  0.21780229],\n",
       "        [ 0.14592278,  0.19326401,  0.04796451, -0.27430415,  0.22484523,\n",
       "         -0.3342598 , -0.08110854, -0.05088213],\n",
       "        [-0.0939205 , -0.1898492 , -0.30521446, -0.45535588,  0.02227163,\n",
       "          0.31405318, -0.22493649,  0.261351  ]], dtype=float32),\n",
       " array([0., 0., 0., 0., 0., 0., 0., 0.], dtype=float32),\n",
       " array([[ 0.37422937,  0.2692989 ,  0.57982737,  0.5388339 ,  0.08136052,\n",
       "         -0.4490584 ,  0.00217789, -0.07787651],\n",
       "        [-0.20699698, -0.6088387 ,  0.32938975,  0.00293303,  0.48318726,\n",
       "          0.45150346,  0.31061077,  0.01436311],\n",
       "        [ 0.4656523 , -0.22661439,  0.18838316, -0.4232644 , -0.18220308,\n",
       "         -0.48352265, -0.5716205 ,  0.02610672],\n",
       "        [-0.37344843,  0.16448486, -0.3765105 , -0.21406108, -0.09039313,\n",
       "         -0.5668412 , -0.08018726,  0.04516655],\n",
       "        [-0.38598058,  0.30178034, -0.11720037, -0.03125095,  0.07109576,\n",
       "         -0.05163616, -0.58818024, -0.288522  ],\n",
       "        [ 0.12682182,  0.32058018, -0.07305205,  0.1322059 ,  0.17917311,\n",
       "          0.3045671 , -0.43253955, -0.3156979 ],\n",
       "        [-0.6109911 , -0.47188535, -0.53859264,  0.01029205,  0.4273649 ,\n",
       "          0.00887597, -0.01348245,  0.40670997],\n",
       "        [-0.52415895, -0.05742204, -0.23310193,  0.08140808, -0.41239566,\n",
       "         -0.58759665,  0.58157164,  0.3031513 ]], dtype=float32),\n",
       " array([0., 0., 0., 0., 0., 0., 0., 0.], dtype=float32),\n",
       " array([[-0.40202957,  0.53561085, -0.00835854, -0.52909684,  0.60304767,\n",
       "         -0.14644116,  0.27828634, -0.49908432],\n",
       "        [ 0.59410816,  0.48250622, -0.4605024 , -0.40167278,  0.22361916,\n",
       "         -0.16925117, -0.18015307,  0.19586617],\n",
       "        [-0.44477662, -0.21847862,  0.02351815,  0.33331352, -0.05029601,\n",
       "         -0.41797948,  0.19286847,  0.36094946],\n",
       "        [-0.37772322,  0.26878226, -0.22583401, -0.5382031 , -0.54628175,\n",
       "          0.16992909, -0.14029145,  0.5352548 ],\n",
       "        [ 0.3635766 , -0.3808199 , -0.2431722 , -0.51171863, -0.01039076,\n",
       "         -0.05162638, -0.44877076, -0.5970705 ],\n",
       "        [ 0.55945665, -0.11785036, -0.11198902, -0.3574168 ,  0.31246895,\n",
       "          0.38534778, -0.30928963,  0.0024972 ],\n",
       "        [ 0.59029   ,  0.33277696, -0.11050975, -0.2442199 ,  0.1265338 ,\n",
       "         -0.2830324 ,  0.5614752 ,  0.38546473],\n",
       "        [ 0.25521308, -0.3592278 , -0.5756722 , -0.31412226,  0.32850528,\n",
       "         -0.23355702, -0.57154024,  0.12100691]], dtype=float32),\n",
       " array([0., 0., 0., 0., 0., 0., 0., 0.], dtype=float32),\n",
       " array([[ 0.35946417],\n",
       "        [-0.615476  ],\n",
       "        [-0.15781146],\n",
       "        [-0.45537916],\n",
       "        [-0.7124701 ],\n",
       "        [-0.415058  ],\n",
       "        [-0.06950289],\n",
       "        [-0.5769851 ]], dtype=float32),\n",
       " array([0.], dtype=float32)]"
      ]
     },
     "execution_count": 76,
     "metadata": {},
     "output_type": "execute_result"
    }
   ],
   "source": [
    "# Model summary\n",
    "model.summary()\n",
    "\n",
    "# Model config\n",
    "model.get_config()\n",
    "\n",
    "# List all weight tensors \n",
    "model.get_weights()"
   ]
  },
  {
   "cell_type": "code",
   "execution_count": 77,
   "metadata": {},
   "outputs": [],
   "source": [
    "import keras\n",
    "from keras.models import Sequential\n",
    "from keras.layers import Dense"
   ]
  },
  {
   "cell_type": "code",
   "execution_count": 78,
   "metadata": {},
   "outputs": [
    {
     "name": "stdout",
     "output_type": "stream",
     "text": [
      "Epoch 1/50\n",
      "3630/3630 [==============================] - 8s 2ms/step - loss: 0.4560 - accuracy: 0.7760\n",
      "Epoch 2/50\n",
      "3630/3630 [==============================] - 8s 2ms/step - loss: 0.4103 - accuracy: 0.8036: 0s - loss: 0.4124 - accu\n",
      "Epoch 3/50\n",
      "3630/3630 [==============================] - 8s 2ms/step - loss: 0.3979 - accuracy: 0.8105\n",
      "Epoch 4/50\n",
      "3630/3630 [==============================] - 8s 2ms/step - loss: 0.3880 - accuracy: 0.8143\n",
      "Epoch 5/50\n",
      "3630/3630 [==============================] - 8s 2ms/step - loss: 0.3831 - accuracy: 0.8176\n",
      "Epoch 6/50\n",
      "3630/3630 [==============================] - 8s 2ms/step - loss: 0.3790 - accuracy: 0.8193\n",
      "Epoch 7/50\n",
      "3630/3630 [==============================] - 8s 2ms/step - loss: 0.3732 - accuracy: 0.8198\n",
      "Epoch 8/50\n",
      "3630/3630 [==============================] - 10s 3ms/step - loss: 0.3718 - accuracy: 0.8234\n",
      "Epoch 9/50\n",
      "3630/3630 [==============================] - 10s 3ms/step - loss: 0.3670 - accuracy: 0.8264\n",
      "Epoch 10/50\n",
      "3630/3630 [==============================] - 10s 3ms/step - loss: 0.3623 - accuracy: 0.8245\n",
      "Epoch 11/50\n",
      "3630/3630 [==============================] - 7s 2ms/step - loss: 0.3637 - accuracy: 0.8259\n",
      "Epoch 12/50\n",
      "3630/3630 [==============================] - 9s 3ms/step - loss: 0.3574 - accuracy: 0.8306\n",
      "Epoch 13/50\n",
      "3630/3630 [==============================] - 9s 2ms/step - loss: 0.3560 - accuracy: 0.8292\n",
      "Epoch 14/50\n",
      "3630/3630 [==============================] - 10s 3ms/step - loss: 0.3565 - accuracy: 0.8284\n",
      "Epoch 15/50\n",
      "3630/3630 [==============================] - 6s 2ms/step - loss: 0.3515 - accuracy: 0.8336\n",
      "Epoch 16/50\n",
      "3630/3630 [==============================] - 7s 2ms/step - loss: 0.3497 - accuracy: 0.8317\n",
      "Epoch 17/50\n",
      "3630/3630 [==============================] - 5s 1ms/step - loss: 0.3487 - accuracy: 0.8397\n",
      "Epoch 18/50\n",
      "3630/3630 [==============================] - 5s 1ms/step - loss: 0.3451 - accuracy: 0.8386\n",
      "Epoch 19/50\n",
      "3630/3630 [==============================] - 5s 1ms/step - loss: 0.3412 - accuracy: 0.8408\n",
      "Epoch 20/50\n",
      "3630/3630 [==============================] - 5s 1ms/step - loss: 0.3450 - accuracy: 0.8364\n",
      "Epoch 21/50\n",
      "3630/3630 [==============================] - 5s 1ms/step - loss: 0.3412 - accuracy: 0.8444\n",
      "Epoch 22/50\n",
      "3630/3630 [==============================] - 6s 2ms/step - loss: 0.3406 - accuracy: 0.8366\n",
      "Epoch 23/50\n",
      "3630/3630 [==============================] - 9s 2ms/step - loss: 0.3377 - accuracy: 0.8427\n",
      "Epoch 24/50\n",
      "3630/3630 [==============================] - 13s 4ms/step - loss: 0.3371 - accuracy: 0.8485\n",
      "Epoch 25/50\n",
      "3630/3630 [==============================] - 13s 4ms/step - loss: 0.3344 - accuracy: 0.8383\n",
      "Epoch 26/50\n",
      "3630/3630 [==============================] - 6s 2ms/step - loss: 0.3339 - accuracy: 0.8444\n",
      "Epoch 27/50\n",
      "3630/3630 [==============================] - 5s 1ms/step - loss: 0.3323 - accuracy: 0.8421\n",
      "Epoch 28/50\n",
      "3630/3630 [==============================] - 5s 1ms/step - loss: 0.3327 - accuracy: 0.8499\n",
      "Epoch 29/50\n",
      "3630/3630 [==============================] - 6s 2ms/step - loss: 0.3299 - accuracy: 0.8493: 0s - loss: 0\n",
      "Epoch 30/50\n",
      "3630/3630 [==============================] - 6s 2ms/step - loss: 0.3281 - accuracy: 0.8457\n",
      "Epoch 31/50\n",
      "3630/3630 [==============================] - 6s 2ms/step - loss: 0.3279 - accuracy: 0.8466\n",
      "Epoch 32/50\n",
      "3630/3630 [==============================] - 7s 2ms/step - loss: 0.3275 - accuracy: 0.8521\n",
      "Epoch 33/50\n",
      "3630/3630 [==============================] - 7s 2ms/step - loss: 0.3215 - accuracy: 0.8496\n",
      "Epoch 34/50\n",
      "3630/3630 [==============================] - 7s 2ms/step - loss: 0.3255 - accuracy: 0.8455\n",
      "Epoch 35/50\n",
      "3630/3630 [==============================] - 6s 2ms/step - loss: 0.3236 - accuracy: 0.8512\n",
      "Epoch 36/50\n",
      "3630/3630 [==============================] - 6s 2ms/step - loss: 0.3230 - accuracy: 0.8526\n",
      "Epoch 37/50\n",
      "3630/3630 [==============================] - 7s 2ms/step - loss: 0.3201 - accuracy: 0.8551\n",
      "Epoch 38/50\n",
      "3630/3630 [==============================] - 7s 2ms/step - loss: 0.3190 - accuracy: 0.8532: 0s - loss: 0.3204 \n",
      "Epoch 39/50\n",
      "3630/3630 [==============================] - 6s 2ms/step - loss: 0.3179 - accuracy: 0.8548\n",
      "Epoch 40/50\n",
      "3630/3630 [==============================] - 6s 2ms/step - loss: 0.3162 - accuracy: 0.8562\n",
      "Epoch 41/50\n",
      "3630/3630 [==============================] - 6s 2ms/step - loss: 0.3125 - accuracy: 0.8540\n",
      "Epoch 42/50\n",
      "3630/3630 [==============================] - 6s 2ms/step - loss: 0.3120 - accuracy: 0.8631\n",
      "Epoch 43/50\n",
      "3630/3630 [==============================] - 5s 1ms/step - loss: 0.3135 - accuracy: 0.8562\n",
      "Epoch 44/50\n",
      "3630/3630 [==============================] - 6s 2ms/step - loss: 0.3110 - accuracy: 0.8614\n",
      "Epoch 45/50\n",
      "3630/3630 [==============================] - 7s 2ms/step - loss: 0.3095 - accuracy: 0.8606\n",
      "Epoch 46/50\n",
      "3630/3630 [==============================] - 6s 2ms/step - loss: 0.3115 - accuracy: 0.8576\n",
      "Epoch 47/50\n",
      "3630/3630 [==============================] - 6s 2ms/step - loss: 0.3071 - accuracy: 0.8609\n",
      "Epoch 48/50\n",
      "3630/3630 [==============================] - 5s 1ms/step - loss: 0.3054 - accuracy: 0.8587\n",
      "Epoch 49/50\n",
      "3630/3630 [==============================] - 5s 2ms/step - loss: 0.3112 - accuracy: 0.8609\n",
      "Epoch 50/50\n",
      "3630/3630 [==============================] - 6s 2ms/step - loss: 0.3039 - accuracy: 0.8639\n"
     ]
    },
    {
     "data": {
      "text/plain": [
       "<keras.callbacks.callbacks.History at 0x1370c2fd0>"
      ]
     },
     "execution_count": 78,
     "metadata": {},
     "output_type": "execute_result"
    }
   ],
   "source": [
    "model.compile(loss='binary_crossentropy',\n",
    "              optimizer='adam',\n",
    "              metrics=['accuracy'])\n",
    "                   \n",
    "model.fit(X_train, y_train,epochs=50, batch_size=1, verbose=1)\n",
    "\n",
    "#One epoch is when an entire dataset is passed both forward and backward through the neural network only once"
   ]
  },
  {
   "cell_type": "code",
   "execution_count": 79,
   "metadata": {},
   "outputs": [],
   "source": [
    "y_pred = model.predict(X_test)"
   ]
  },
  {
   "cell_type": "code",
   "execution_count": 80,
   "metadata": {},
   "outputs": [
    {
     "name": "stdout",
     "output_type": "stream",
     "text": [
      "1557/1557 [==============================] - 0s 42us/step\n",
      "[0.40467536449432373, 0.8053950071334839]\n"
     ]
    }
   ],
   "source": [
    "score = model.evaluate(X_test, y_test,verbose=1)\n",
    "\n",
    "print(score)"
   ]
  },
  {
   "cell_type": "code",
   "execution_count": 81,
   "metadata": {},
   "outputs": [
    {
     "data": {
      "text/plain": [
       "array([[591, 180],\n",
       "       [123, 663]])"
      ]
     },
     "execution_count": 81,
     "metadata": {},
     "output_type": "execute_result"
    }
   ],
   "source": [
    "# Import the modules from `sklearn.metrics`\n",
    "from sklearn.metrics import confusion_matrix, precision_score, recall_score, f1_score, cohen_kappa_score\n",
    "\n",
    "# Confusion matrix\n",
    "confusion_matrix(y_test,y_pred.round())"
   ]
  },
  {
   "cell_type": "code",
   "execution_count": 82,
   "metadata": {},
   "outputs": [
    {
     "data": {
      "text/plain": [
       "0.7864768683274022"
      ]
     },
     "execution_count": 82,
     "metadata": {},
     "output_type": "execute_result"
    }
   ],
   "source": [
    "precision_score(y_test, y_pred.round())"
   ]
  },
  {
   "cell_type": "code",
   "execution_count": 83,
   "metadata": {},
   "outputs": [
    {
     "data": {
      "text/plain": [
       "0.8435114503816794"
      ]
     },
     "execution_count": 83,
     "metadata": {},
     "output_type": "execute_result"
    }
   ],
   "source": [
    "recall_score(y_test, y_pred.round())"
   ]
  },
  {
   "cell_type": "code",
   "execution_count": 84,
   "metadata": {},
   "outputs": [
    {
     "data": {
      "text/plain": [
       "0.8139963167587477"
      ]
     },
     "execution_count": 84,
     "metadata": {},
     "output_type": "execute_result"
    }
   ],
   "source": [
    "f1_score(y_test,y_pred.round())"
   ]
  },
  {
   "cell_type": "code",
   "execution_count": 85,
   "metadata": {},
   "outputs": [],
   "source": [
    "from sklearn.metrics import roc_auc_score\n",
    "from sklearn.metrics import roc_curve"
   ]
  },
  {
   "cell_type": "code",
   "execution_count": 86,
   "metadata": {},
   "outputs": [
    {
     "data": {
      "text/plain": [
       "0.8969119117632499"
      ]
     },
     "execution_count": 86,
     "metadata": {},
     "output_type": "execute_result"
    }
   ],
   "source": [
    "roc_auc_score(y_test, y_pred)"
   ]
  },
  {
   "cell_type": "code",
   "execution_count": 87,
   "metadata": {},
   "outputs": [
    {
     "data": {
      "image/png": "[encoded data removed]",
      "text/plain": [
       "<Figure size 576x432 with 1 Axes>"
      ]
     },
     "metadata": {
      "needs_background": "light"
     },
     "output_type": "display_data"
    }
   ],
   "source": [
    "\n",
    "logit_roc_auc = roc_auc_score(y_test, y_pred)\n",
    "fpr, tpr, thresholds = roc_curve(y_test, y_pred)\n",
    "plt.figure(figsize=(8,6))\n",
    "plt.plot(fpr, tpr, label='Logistic Regression (area = %0.2f)' % logit_roc_auc)\n",
    "plt.plot([0, 1], [0, 1],'r--')\n",
    "plt.xlim([0.0, 1.0])\n",
    "plt.ylim([0.0, 1.05])\n",
    "plt.xlabel('False Positive Rate')\n",
    "plt.ylabel('True Positive Rate')\n",
    "plt.title('Receiver operating characteristic')\n",
    "plt.legend(loc=\"lower right\")\n",
    "plt.savefig('RF_AgeBins_ROC')\n",
    "plt.show()"
   ]
  },
  {
   "cell_type": "code",
   "execution_count": null,
   "metadata": {},
   "outputs": [],
   "source": []
  }
 ],
 "metadata": {
  "kernelspec": {
   "display_name": "Python 3",
   "language": "python",
   "name": "python3"
  },
  "language_info": {
   "codemirror_mode": {
    "name": "ipython",
    "version": 3
   },
   "file_extension": ".py",
   "mimetype": "text/x-python",
   "name": "python",
   "nbconvert_exporter": "python",
   "pygments_lexer": "ipython3",
   "version": "3.7.3"
  },
  "toc": {
   "base_numbering": 1,
   "nav_menu": {},
   "number_sections": true,
   "sideBar": true,
   "skip_h1_title": false,
   "title_cell": "Table of Contents",
   "title_sidebar": "Contents",
   "toc_cell": false,
   "toc_position": {},
   "toc_section_display": true,
   "toc_window_display": false
  },
  "varInspector": {
   "cols": {
    "lenName": 16,
    "lenType": 16,
    "lenVar": 40
   },
   "kernels_config": {
    "python": {
     "delete_cmd_postfix": "",
     "delete_cmd_prefix": "del ",
     "library": "var_list.py",
     "varRefreshCmd": "print(var_dic_list())"
    },
    "r": {
     "delete_cmd_postfix": ") ",
     "delete_cmd_prefix": "rm(",
     "library": "var_list.r",
     "varRefreshCmd": "cat(var_dic_list()) "
    }
   },
   "types_to_exclude": [
    "module",
    "function",
    "builtin_function_or_method",
    "instance",
    "_Feature"
   ],
   "window_display": false
  }
 },
 "nbformat": 4,
 "nbformat_minor": 2
}
